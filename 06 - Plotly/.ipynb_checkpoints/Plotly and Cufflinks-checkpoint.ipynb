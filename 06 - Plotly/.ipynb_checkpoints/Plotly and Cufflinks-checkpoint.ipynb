{
 "cells": [
  {
   "cell_type": "code",
   "execution_count": 14,
   "metadata": {},
   "outputs": [],
   "source": [
    "import chart_studio.plotly as py\n",
    "import pandas as pd\n",
    "import numpy as np\n",
    "%matplotlib inline"
   ]
  },
  {
   "cell_type": "code",
   "execution_count": 2,
   "metadata": {},
   "outputs": [],
   "source": [
    "from plotly import __version__"
   ]
  },
  {
   "cell_type": "code",
   "execution_count": 3,
   "metadata": {},
   "outputs": [
    {
     "name": "stdout",
     "output_type": "stream",
     "text": [
      "4.14.1\n"
     ]
    }
   ],
   "source": [
    "print(__version__)"
   ]
  },
  {
   "cell_type": "code",
   "execution_count": 4,
   "metadata": {},
   "outputs": [],
   "source": [
    "import cufflinks as cf"
   ]
  },
  {
   "cell_type": "code",
   "execution_count": 5,
   "metadata": {},
   "outputs": [],
   "source": [
    "from plotly.offline import download_plotlyjs, init_notebook_mode, plot, iplot"
   ]
  },
  {
   "cell_type": "code",
   "execution_count": 6,
   "metadata": {},
   "outputs": [
    {
     "data": {
      "text/html": [
       "        <script type=\"text/javascript\">\n",
       "        window.PlotlyConfig = {MathJaxConfig: 'local'};\n",
       "        if (window.MathJax) {MathJax.Hub.Config({SVG: {font: \"STIX-Web\"}});}\n",
       "        if (typeof require !== 'undefined') {\n",
       "        require.undef(\"plotly\");\n",
       "        requirejs.config({\n",
       "            paths: {\n",
       "                'plotly': ['https://cdn.plot.ly/plotly-latest.min']\n",
       "            }\n",
       "        });\n",
       "        require(['plotly'], function(Plotly) {\n",
       "            window._Plotly = Plotly;\n",
       "        });\n",
       "        }\n",
       "        </script>\n",
       "        "
      ]
     },
     "metadata": {},
     "output_type": "display_data"
    }
   ],
   "source": [
    "init_notebook_mode(connected=True)"
   ]
  },
  {
   "cell_type": "code",
   "execution_count": 8,
   "metadata": {},
   "outputs": [
    {
     "data": {
      "text/html": [
       "        <script type=\"text/javascript\">\n",
       "        window.PlotlyConfig = {MathJaxConfig: 'local'};\n",
       "        if (window.MathJax) {MathJax.Hub.Config({SVG: {font: \"STIX-Web\"}});}\n",
       "        if (typeof require !== 'undefined') {\n",
       "        require.undef(\"plotly\");\n",
       "        requirejs.config({\n",
       "            paths: {\n",
       "                'plotly': ['https://cdn.plot.ly/plotly-latest.min']\n",
       "            }\n",
       "        });\n",
       "        require(['plotly'], function(Plotly) {\n",
       "            window._Plotly = Plotly;\n",
       "        });\n",
       "        }\n",
       "        </script>\n",
       "        "
      ]
     },
     "metadata": {},
     "output_type": "display_data"
    }
   ],
   "source": [
    "cf.go_offline()"
   ]
  },
  {
   "cell_type": "code",
   "execution_count": 12,
   "metadata": {},
   "outputs": [
    {
     "data": {
      "text/html": [
       "<div>\n",
       "<style scoped>\n",
       "    .dataframe tbody tr th:only-of-type {\n",
       "        vertical-align: middle;\n",
       "    }\n",
       "\n",
       "    .dataframe tbody tr th {\n",
       "        vertical-align: top;\n",
       "    }\n",
       "\n",
       "    .dataframe thead th {\n",
       "        text-align: right;\n",
       "    }\n",
       "</style>\n",
       "<table border=\"1\" class=\"dataframe\">\n",
       "  <thead>\n",
       "    <tr style=\"text-align: right;\">\n",
       "      <th></th>\n",
       "      <th>A</th>\n",
       "      <th>B</th>\n",
       "      <th>C</th>\n",
       "      <th>D</th>\n",
       "    </tr>\n",
       "  </thead>\n",
       "  <tbody>\n",
       "    <tr>\n",
       "      <th>0</th>\n",
       "      <td>1.504707</td>\n",
       "      <td>0.478525</td>\n",
       "      <td>-0.600006</td>\n",
       "      <td>-0.808240</td>\n",
       "    </tr>\n",
       "    <tr>\n",
       "      <th>1</th>\n",
       "      <td>-1.230644</td>\n",
       "      <td>0.479537</td>\n",
       "      <td>1.385133</td>\n",
       "      <td>-0.515045</td>\n",
       "    </tr>\n",
       "    <tr>\n",
       "      <th>2</th>\n",
       "      <td>0.605020</td>\n",
       "      <td>-0.441481</td>\n",
       "      <td>-0.841661</td>\n",
       "      <td>-1.087746</td>\n",
       "    </tr>\n",
       "    <tr>\n",
       "      <th>3</th>\n",
       "      <td>-0.117307</td>\n",
       "      <td>1.798604</td>\n",
       "      <td>1.515489</td>\n",
       "      <td>-0.804818</td>\n",
       "    </tr>\n",
       "    <tr>\n",
       "      <th>4</th>\n",
       "      <td>-0.509449</td>\n",
       "      <td>1.388799</td>\n",
       "      <td>0.354900</td>\n",
       "      <td>0.608700</td>\n",
       "    </tr>\n",
       "  </tbody>\n",
       "</table>\n",
       "</div>"
      ],
      "text/plain": [
       "          A         B         C         D\n",
       "0  1.504707  0.478525 -0.600006 -0.808240\n",
       "1 -1.230644  0.479537  1.385133 -0.515045\n",
       "2  0.605020 -0.441481 -0.841661 -1.087746\n",
       "3 -0.117307  1.798604  1.515489 -0.804818\n",
       "4 -0.509449  1.388799  0.354900  0.608700"
      ]
     },
     "execution_count": 12,
     "metadata": {},
     "output_type": "execute_result"
    }
   ],
   "source": [
    "#data\n",
    "df = pd.DataFrame(np.random.randn(100, 4), columns='A B C D'.split())\n",
    "df.head()"
   ]
  },
  {
   "cell_type": "code",
   "execution_count": 13,
   "metadata": {},
   "outputs": [
    {
     "data": {
      "text/html": [
       "<div>\n",
       "<style scoped>\n",
       "    .dataframe tbody tr th:only-of-type {\n",
       "        vertical-align: middle;\n",
       "    }\n",
       "\n",
       "    .dataframe tbody tr th {\n",
       "        vertical-align: top;\n",
       "    }\n",
       "\n",
       "    .dataframe thead th {\n",
       "        text-align: right;\n",
       "    }\n",
       "</style>\n",
       "<table border=\"1\" class=\"dataframe\">\n",
       "  <thead>\n",
       "    <tr style=\"text-align: right;\">\n",
       "      <th></th>\n",
       "      <th>Category</th>\n",
       "      <th>Values</th>\n",
       "    </tr>\n",
       "  </thead>\n",
       "  <tbody>\n",
       "    <tr>\n",
       "      <th>0</th>\n",
       "      <td>A</td>\n",
       "      <td>32</td>\n",
       "    </tr>\n",
       "    <tr>\n",
       "      <th>1</th>\n",
       "      <td>B</td>\n",
       "      <td>43</td>\n",
       "    </tr>\n",
       "    <tr>\n",
       "      <th>2</th>\n",
       "      <td>C</td>\n",
       "      <td>50</td>\n",
       "    </tr>\n",
       "  </tbody>\n",
       "</table>\n",
       "</div>"
      ],
      "text/plain": [
       "  Category  Values\n",
       "0        A      32\n",
       "1        B      43\n",
       "2        C      50"
      ]
     },
     "execution_count": 13,
     "metadata": {},
     "output_type": "execute_result"
    }
   ],
   "source": [
    "df2 = pd.DataFrame({'Category':'A B C'.split(), 'Values':[32, 43, 50]})\n",
    "df2"
   ]
  },
  {
   "cell_type": "code",
   "execution_count": 15,
   "metadata": {},
   "outputs": [
    {
     "data": {
      "text/plain": [
       "<AxesSubplot:>"
      ]
     },
     "execution_count": 15,
     "metadata": {},
     "output_type": "execute_result"
    },
    {
     "data": {
      "image/png": "[encoded data removed]",
      "text/plain": [
       "<Figure size 432x288 with 1 Axes>"
      ]
     },
     "metadata": {
      "needs_background": "light"
     },
     "output_type": "display_data"
    }
   ],
   "source": [
    "df.plot()"
   ]
  },
  {
   "cell_type": "code",
   "execution_count": 16,
   "metadata": {},
   "outputs": [
    {
     "data": {
      "application/vnd.plotly.v1+json": {
       "config": {
        "linkText": "Export to plot.ly",
        "plotlyServerURL": "https://plot.ly",
        "showLink": true
       },
       "data": [
        {
         "line": {
          "color": "rgba(255, 153, 51, 1.0)",
          "dash": "solid",
          "shape": "linear",
          "width": 1.3
         },
         "mode": "lines",
         "name": "A",
         "text": "",
         "type": "scatter",
         "x": [
          0,
          1,
          2,
          3,
          4,
          5,
          6,
          7,
          8,
          9,
          10,
          11,
          12,
          13,
          14,
          15,
          16,
          17,
          18,
          19,
          20,
          21,
          22,
          23,
          24,
          25,
          26,
          27,
          28,
          29,
          30,
          31,
          32,
          33,
          34,
          35,
          36,
          37,
          38,
          39,
          40,
          41,
          42,
          43,
          44,
          45,
          46,
          47,
          48,
          49,
          50,
          51,
          52,
          53,
          54,
          55,
          56,
          57,
          58,
          59,
          60,
          61,
          62,
          63,
          64,
          65,
          66,
          67,
          68,
          69,
          70,
          71,
          72,
          73,
          74,
          75,
          76,
          77,
          78,
          79,
          80,
          81,
          82,
          83,
          84,
          85,
          86,
          87,
          88,
          89,
          90,
          91,
          92,
          93,
          94,
          95,
          96,
          97,
          98,
          99
         ],
         "y": [
          1.5047071858675904,
          -1.2306437730366853,
          0.605020350239587,
          -0.11730722559215549,
          -0.5094486400300653,
          -0.03247951610040798,
          0.9731351835823545,
          -1.472511340085507,
          -0.23083304464393553,
          0.5787834027566838,
          -0.3156316458899452,
          -0.37854491314669936,
          -1.578313375563011,
          -0.7431436030597717,
          0.5630177560101443,
          -1.3333242685734497,
          -0.4812889971321455,
          0.46635368545417594,
          -0.09920746060052134,
          1.0140120472191738,
          -0.9225221157990605,
          1.4196106846836412,
          0.1952712362569279,
          -0.8168745709151536,
          -0.13975493326855662,
          0.5823845164628724,
          -0.04996888900130543,
          0.013820356133013887,
          -0.06830081283978562,
          0.19215684436051617,
          1.286435464479053,
          -0.33541662466852057,
          -2.8587717658377443,
          0.006416985094558975,
          1.2961166888011706,
          -0.08942228467851332,
          1.587406402848416,
          0.25947535251631904,
          -0.8048768802234534,
          -0.8419192982284646,
          -1.6039443064270875,
          0.10466270748776571,
          0.02998318674242047,
          -0.006862251689929032,
          -0.7660788034000553,
          1.1726861103538202,
          -0.27001683146847616,
          0.020866604645267316,
          -1.5500723287323086,
          -0.1353630979441134,
          0.10043734262022548,
          0.26824564753711505,
          0.12819938986961066,
          -1.17819730023147,
          0.43825107894139315,
          -0.8922617953366131,
          -0.1304564737507755,
          -0.712627526372936,
          -0.21148412951738027,
          -0.803660466757645,
          -0.2795304432141383,
          -0.7656507457744494,
          -1.2247199589979165,
          -0.16498458992525863,
          0.923653188973336,
          0.13764563658951204,
          0.043849382884496906,
          0.607314473420084,
          0.7462893879083348,
          0.18665312051788513,
          -1.4497989583537694,
          1.528431628745062,
          0.3712893622551243,
          0.47187897031748005,
          0.8177302430660359,
          -0.09631945740607714,
          0.2046001019962186,
          1.5632968046193618,
          0.28173247195427,
          -0.4990349917914575,
          0.4880662332937979,
          -1.6313543113852154,
          0.4398737132524965,
          0.22985411660186864,
          1.2996791563457732,
          -0.0015933251060393399,
          0.48577287679867154,
          -0.7611622677031836,
          -0.9177847234627884,
          0.31360597655689065,
          0.8504935212248734,
          -0.5321453076085406,
          -0.44651013637870907,
          -0.8221181957042193,
          1.8611329510653556,
          -1.9200683591650554,
          0.2640173821523596,
          -0.012626231690431604,
          3.152977471906116,
          0.3884525520079316
         ]
        },
        {
         "line": {
          "color": "rgba(55, 128, 191, 1.0)",
          "dash": "solid",
          "shape": "linear",
          "width": 1.3
         },
         "mode": "lines",
         "name": "B",
         "text": "",
         "type": "scatter",
         "x": [
          0,
          1,
          2,
          3,
          4,
          5,
          6,
          7,
          8,
          9,
          10,
          11,
          12,
          13,
          14,
          15,
          16,
          17,
          18,
          19,
          20,
          21,
          22,
          23,
          24,
          25,
          26,
          27,
          28,
          29,
          30,
          31,
          32,
          33,
          34,
          35,
          36,
          37,
          38,
          39,
          40,
          41,
          42,
          43,
          44,
          45,
          46,
          47,
          48,
          49,
          50,
          51,
          52,
          53,
          54,
          55,
          56,
          57,
          58,
          59,
          60,
          61,
          62,
          63,
          64,
          65,
          66,
          67,
          68,
          69,
          70,
          71,
          72,
          73,
          74,
          75,
          76,
          77,
          78,
          79,
          80,
          81,
          82,
          83,
          84,
          85,
          86,
          87,
          88,
          89,
          90,
          91,
          92,
          93,
          94,
          95,
          96,
          97,
          98,
          99
         ],
         "y": [
          0.47852473764124553,
          0.47953723587996805,
          -0.44148143458663514,
          1.7986040640014305,
          1.3887987421628392,
          1.597757985723844,
          0.5877999356373035,
          1.5808007026584723,
          -0.33360175851415325,
          -0.13122522278994106,
          0.3224781441878215,
          0.8496592084762307,
          -1.150154786050836,
          -0.03636065930498414,
          -0.5208283778493646,
          1.0938755117779735,
          0.15407640392163835,
          0.569679081793052,
          0.03260012363032162,
          0.9945392624370553,
          1.3904827907721824,
          1.775213217496774,
          -0.5429998873307663,
          0.0915471721012884,
          -0.09519693387176657,
          -1.5963958081570286,
          2.4465606576364927,
          1.5731633274545442,
          -0.08560470104480285,
          0.2580248761829393,
          1.539166024904185,
          0.5416302736813118,
          -0.6303030028201453,
          -0.20719439088977545,
          0.4791532829966961,
          0.6345908134255359,
          -1.4310301356276192,
          -1.3401692846786348,
          0.12938500637423184,
          0.8697464546388674,
          -1.233469614258414,
          2.266394093414955,
          0.4095157714369962,
          0.3129562945885272,
          0.6875159516001128,
          0.43742266506028393,
          -0.9548174472407832,
          0.07014485793751564,
          -0.20394038833768505,
          1.3440227943161343,
          -0.4211541610746663,
          1.1778831515862733,
          -0.20884700147291713,
          -0.6287794998087359,
          -0.7877323616235364,
          -1.2186019438648847,
          1.1458611752078418,
          -0.38447865902786865,
          -0.5223514043098862,
          0.8604521332601345,
          -0.29850097445053136,
          -1.0125124820836118,
          -0.13931808941227639,
          0.24397113215543434,
          1.7129575541024467,
          -0.3046189015886152,
          -2.304212940366996,
          0.9750048983151226,
          0.1917996277566565,
          1.7150797955986141,
          -0.6669591370086811,
          -0.8584067440066807,
          1.0979784717067602,
          -1.4142753213911983,
          -0.14952157401637756,
          -1.7533683614377518,
          0.12616412568399893,
          0.4011261217165389,
          -1.528023749999498,
          -2.447037347680574,
          -1.889348744499366,
          -0.9452629996802178,
          0.05039114426983621,
          1.1675519258374532,
          0.1295374021492559,
          0.3296377092381601,
          1.7544282508147742,
          -0.9871840427773075,
          -0.49209018295214213,
          -0.9434878688187036,
          1.6166091978251167,
          -0.23609503635320464,
          0.9761194029838546,
          0.7307775163820062,
          1.3621691942697398,
          0.4874710586315161,
          -2.211347382211482,
          0.24820113797038115,
          -7.074984288589023e-05,
          -0.9973009933770731
         ]
        },
        {
         "line": {
          "color": "rgba(50, 171, 96, 1.0)",
          "dash": "solid",
          "shape": "linear",
          "width": 1.3
         },
         "mode": "lines",
         "name": "C",
         "text": "",
         "type": "scatter",
         "x": [
          0,
          1,
          2,
          3,
          4,
          5,
          6,
          7,
          8,
          9,
          10,
          11,
          12,
          13,
          14,
          15,
          16,
          17,
          18,
          19,
          20,
          21,
          22,
          23,
          24,
          25,
          26,
          27,
          28,
          29,
          30,
          31,
          32,
          33,
          34,
          35,
          36,
          37,
          38,
          39,
          40,
          41,
          42,
          43,
          44,
          45,
          46,
          47,
          48,
          49,
          50,
          51,
          52,
          53,
          54,
          55,
          56,
          57,
          58,
          59,
          60,
          61,
          62,
          63,
          64,
          65,
          66,
          67,
          68,
          69,
          70,
          71,
          72,
          73,
          74,
          75,
          76,
          77,
          78,
          79,
          80,
          81,
          82,
          83,
          84,
          85,
          86,
          87,
          88,
          89,
          90,
          91,
          92,
          93,
          94,
          95,
          96,
          97,
          98,
          99
         ],
         "y": [
          -0.6000059072918577,
          1.3851327831240583,
          -0.8416605212960638,
          1.5154885208090547,
          0.35490000189417265,
          1.6908051929618615,
          -1.5287201794917664,
          -0.7349423678365664,
          -0.6913427780487162,
          -0.48028684240557384,
          -0.8194308330776271,
          -0.29106481926234773,
          -0.44013318857028755,
          -0.20308347702726706,
          0.35361926604476035,
          0.9088141438825913,
          -0.12621126330418034,
          0.2713276194712512,
          0.6134881669524676,
          -0.6779439897805137,
          0.24950517621334753,
          -2.2745063234013974,
          -0.7245357611636806,
          -0.6894443833026974,
          -0.1264702313571285,
          -1.7171240171463795,
          0.4649639516968302,
          0.28032078841628816,
          0.8187312513948517,
          1.8356694161971212,
          0.07111938776697482,
          0.5280542526634601,
          -0.16806824844991317,
          0.3000210389712474,
          -0.12397057872547237,
          -1.7083423879575599,
          1.00021666547896,
          -1.638137045671358,
          0.9357959636309474,
          0.05029229480271856,
          -0.07831195145744159,
          -0.23370643955925763,
          -0.5993775703744221,
          0.37675039193732496,
          0.24028123734389664,
          0.3093358333892805,
          -0.5924220763938935,
          0.7335935351551006,
          -0.44891339165705907,
          -0.35530507838316644,
          -0.4944060862732866,
          0.38313420932443837,
          1.1715219237750232,
          1.3121080758510824,
          0.809296311973692,
          0.44223568422499776,
          -1.0144546947415045,
          -2.0963256155813,
          0.8303089376644729,
          0.20727530570372368,
          0.6809398714532137,
          -0.20313700975503854,
          -0.8683297955457224,
          -0.8967516788430234,
          -2.890614614986278,
          -0.09993955098456375,
          -0.14383529393879205,
          -1.0973057711218217,
          -0.7504335408709724,
          0.9180133479107283,
          -0.5666948674783646,
          -1.9763329181438785,
          0.9938517046204264,
          0.23372817565574658,
          -0.30996996483053013,
          -0.7952300157721142,
          -0.5982382641896878,
          2.019467960329815,
          -1.2598852398508364,
          -2.3605648504641117,
          0.2688239708057861,
          0.3341326209586924,
          0.5781274307848184,
          -1.126794432746841,
          1.8186529196083057,
          -0.2257175946243995,
          -0.7327823203159495,
          -0.04215232447181377,
          0.35468065583520547,
          0.7529400572744188,
          -0.9070666616628649,
          -2.7491636513888267,
          -0.158765905268466,
          -1.5942636877571497,
          -0.034178501622841355,
          1.644502105606857,
          1.2278338376015379,
          0.22311899274343086,
          2.0926505853158326,
          0.14481317662602947
         ]
        },
        {
         "line": {
          "color": "rgba(128, 0, 128, 1.0)",
          "dash": "solid",
          "shape": "linear",
          "width": 1.3
         },
         "mode": "lines",
         "name": "D",
         "text": "",
         "type": "scatter",
         "x": [
          0,
          1,
          2,
          3,
          4,
          5,
          6,
          7,
          8,
          9,
          10,
          11,
          12,
          13,
          14,
          15,
          16,
          17,
          18,
          19,
          20,
          21,
          22,
          23,
          24,
          25,
          26,
          27,
          28,
          29,
          30,
          31,
          32,
          33,
          34,
          35,
          36,
          37,
          38,
          39,
          40,
          41,
          42,
          43,
          44,
          45,
          46,
          47,
          48,
          49,
          50,
          51,
          52,
          53,
          54,
          55,
          56,
          57,
          58,
          59,
          60,
          61,
          62,
          63,
          64,
          65,
          66,
          67,
          68,
          69,
          70,
          71,
          72,
          73,
          74,
          75,
          76,
          77,
          78,
          79,
          80,
          81,
          82,
          83,
          84,
          85,
          86,
          87,
          88,
          89,
          90,
          91,
          92,
          93,
          94,
          95,
          96,
          97,
          98,
          99
         ],
         "y": [
          -0.8082398228533931,
          -0.5150448150176067,
          -1.0877456219922552,
          -0.8048179509408832,
          0.6086999215692537,
          -0.5757069764316959,
          0.47345421556973416,
          -0.20836536589757984,
          -1.530474829093293,
          0.4219608143606672,
          -1.3598569545767323,
          0.26771371003290845,
          0.5983985813921551,
          -0.07616351426305064,
          -0.030391020270419882,
          1.001390782205427,
          0.9369229701129356,
          -0.356238064328411,
          -0.727088551183532,
          1.7896490382744903,
          -0.24431409954433136,
          0.2237147309778499,
          0.20738917270660667,
          -0.46228323064267396,
          2.0312627382663093,
          0.507205686431814,
          -1.1004206781437917,
          -0.40716791218137677,
          0.4903848006304384,
          -0.7918357006951539,
          1.9658079569926246,
          -0.6457999436135241,
          1.0614383133641743,
          0.27377992781923305,
          0.10701923381201559,
          -0.4000061087739593,
          -1.837251657679469,
          0.4880101965671579,
          0.6911914823146007,
          1.746647766580847,
          2.4730610128976025,
          0.6872374464358818,
          1.0732008846959473,
          -0.48774677137980743,
          -0.8095131203630446,
          -1.1453972995580883,
          0.6745284104776471,
          -0.7089344921988175,
          1.080404970897654,
          0.654933864788666,
          0.5993501954136305,
          0.6335112551331462,
          -0.3589185468179479,
          -1.404924418265637,
          0.013247846568394272,
          0.49121042562949946,
          -1.781961301376952,
          -0.3461391298088473,
          0.7079203769362604,
          -0.4845337136107974,
          2.2121393861141807,
          -1.2069802115680754,
          0.49389803836683593,
          -1.0011033326444534,
          0.004752979140422849,
          -0.8451778958184031,
          -0.6643597024318079,
          -0.40229732951149305,
          -0.7377438349276196,
          0.7143190164674909,
          3.2165361910584975,
          -0.2990466181868432,
          0.5983848199307756,
          -0.6547230911032215,
          -1.3508232926668085,
          -0.30203008713704566,
          0.8222645436335331,
          0.7683362411825844,
          0.20502092967846014,
          -1.3032276841045292,
          -1.9480148669781658,
          0.49509145239623104,
          0.6957201739268423,
          -0.6099904097456169,
          1.055965324015916,
          0.006084384263107051,
          1.4515849407547137,
          -0.4514929498138888,
          -0.2807620187625043,
          -0.4223488763697073,
          -1.017141859337329,
          0.6388544156437523,
          0.2593832599300954,
          -0.24507572484234003,
          -0.48759006253485254,
          -1.7667005971711343,
          -0.035067253089737994,
          -1.256620895729348,
          -0.13091364656474716,
          2.1494704847322295
         ]
        }
       ],
       "layout": {
        "legend": {
         "bgcolor": "#F5F6F9",
         "font": {
          "color": "#4D5663"
         }
        },
        "paper_bgcolor": "#F5F6F9",
        "plot_bgcolor": "#F5F6F9",
        "template": {
         "data": {
          "bar": [
           {
            "error_x": {
             "color": "#2a3f5f"
            },
            "error_y": {
             "color": "#2a3f5f"
            },
            "marker": {
             "line": {
              "color": "#E5ECF6",
              "width": 0.5
             }
            },
            "type": "bar"
           }
          ],
          "barpolar": [
           {
            "marker": {
             "line": {
              "color": "#E5ECF6",
              "width": 0.5
             }
            },
            "type": "barpolar"
           }
          ],
          "carpet": [
           {
            "aaxis": {
             "endlinecolor": "#2a3f5f",
             "gridcolor": "white",
             "linecolor": "white",
             "minorgridcolor": "white",
             "startlinecolor": "#2a3f5f"
            },
            "baxis": {
             "endlinecolor": "#2a3f5f",
             "gridcolor": "white",
             "linecolor": "white",
             "minorgridcolor": "white",
             "startlinecolor": "#2a3f5f"
            },
            "type": "carpet"
           }
          ],
          "choropleth": [
           {
            "colorbar": {
             "outlinewidth": 0,
             "ticks": ""
            },
            "type": "choropleth"
           }
          ],
          "contour": [
           {
            "colorbar": {
             "outlinewidth": 0,
             "ticks": ""
            },
            "colorscale": [
             [
              0,
              "#0d0887"
             ],
             [
              0.1111111111111111,
              "#46039f"
             ],
             [
              0.2222222222222222,
              "#7201a8"
             ],
             [
              0.3333333333333333,
              "#9c179e"
             ],
             [
              0.4444444444444444,
              "#bd3786"
             ],
             [
              0.5555555555555556,
              "#d8576b"
             ],
             [
              0.6666666666666666,
              "#ed7953"
             ],
             [
              0.7777777777777778,
              "#fb9f3a"
             ],
             [
              0.8888888888888888,
              "#fdca26"
             ],
             [
              1,
              "#f0f921"
             ]
            ],
            "type": "contour"
           }
          ],
          "contourcarpet": [
           {
            "colorbar": {
             "outlinewidth": 0,
             "ticks": ""
            },
            "type": "contourcarpet"
           }
          ],
          "heatmap": [
           {
            "colorbar": {
             "outlinewidth": 0,
             "ticks": ""
            },
            "colorscale": [
             [
              0,
              "#0d0887"
             ],
             [
              0.1111111111111111,
              "#46039f"
             ],
             [
              0.2222222222222222,
              "#7201a8"
             ],
             [
              0.3333333333333333,
              "#9c179e"
             ],
             [
              0.4444444444444444,
              "#bd3786"
             ],
             [
              0.5555555555555556,
              "#d8576b"
             ],
             [
              0.6666666666666666,
              "#ed7953"
             ],
             [
              0.7777777777777778,
              "#fb9f3a"
             ],
             [
              0.8888888888888888,
              "#fdca26"
             ],
             [
              1,
              "#f0f921"
             ]
            ],
            "type": "heatmap"
           }
          ],
          "heatmapgl": [
           {
            "colorbar": {
             "outlinewidth": 0,
             "ticks": ""
            },
            "colorscale": [
             [
              0,
              "#0d0887"
             ],
             [
              0.1111111111111111,
              "#46039f"
             ],
             [
              0.2222222222222222,
              "#7201a8"
             ],
             [
              0.3333333333333333,
              "#9c179e"
             ],
             [
              0.4444444444444444,
              "#bd3786"
             ],
             [
              0.5555555555555556,
              "#d8576b"
             ],
             [
              0.6666666666666666,
              "#ed7953"
             ],
             [
              0.7777777777777778,
              "#fb9f3a"
             ],
             [
              0.8888888888888888,
              "#fdca26"
             ],
             [
              1,
              "#f0f921"
             ]
            ],
            "type": "heatmapgl"
           }
          ],
          "histogram": [
           {
            "marker": {
             "colorbar": {
              "outlinewidth": 0,
              "ticks": ""
             }
            },
            "type": "histogram"
           }
          ],
          "histogram2d": [
           {
            "colorbar": {
             "outlinewidth": 0,
             "ticks": ""
            },
            "colorscale": [
             [
              0,
              "#0d0887"
             ],
             [
              0.1111111111111111,
              "#46039f"
             ],
             [
              0.2222222222222222,
              "#7201a8"
             ],
             [
              0.3333333333333333,
              "#9c179e"
             ],
             [
              0.4444444444444444,
              "#bd3786"
             ],
             [
              0.5555555555555556,
              "#d8576b"
             ],
             [
              0.6666666666666666,
              "#ed7953"
             ],
             [
              0.7777777777777778,
              "#fb9f3a"
             ],
             [
              0.8888888888888888,
              "#fdca26"
             ],
             [
              1,
              "#f0f921"
             ]
            ],
            "type": "histogram2d"
           }
          ],
          "histogram2dcontour": [
           {
            "colorbar": {
             "outlinewidth": 0,
             "ticks": ""
            },
            "colorscale": [
             [
              0,
              "#0d0887"
             ],
             [
              0.1111111111111111,
              "#46039f"
             ],
             [
              0.2222222222222222,
              "#7201a8"
             ],
             [
              0.3333333333333333,
              "#9c179e"
             ],
             [
              0.4444444444444444,
              "#bd3786"
             ],
             [
              0.5555555555555556,
              "#d8576b"
             ],
             [
              0.6666666666666666,
              "#ed7953"
             ],
             [
              0.7777777777777778,
              "#fb9f3a"
             ],
             [
              0.8888888888888888,
              "#fdca26"
             ],
             [
              1,
              "#f0f921"
             ]
            ],
            "type": "histogram2dcontour"
           }
          ],
          "mesh3d": [
           {
            "colorbar": {
             "outlinewidth": 0,
             "ticks": ""
            },
            "type": "mesh3d"
           }
          ],
          "parcoords": [
           {
            "line": {
             "colorbar": {
              "outlinewidth": 0,
              "ticks": ""
             }
            },
            "type": "parcoords"
           }
          ],
          "pie": [
           {
            "automargin": true,
            "type": "pie"
           }
          ],
          "scatter": [
           {
            "marker": {
             "colorbar": {
              "outlinewidth": 0,
              "ticks": ""
             }
            },
            "type": "scatter"
           }
          ],
          "scatter3d": [
           {
            "line": {
             "colorbar": {
              "outlinewidth": 0,
              "ticks": ""
             }
            },
            "marker": {
             "colorbar": {
              "outlinewidth": 0,
              "ticks": ""
             }
            },
            "type": "scatter3d"
           }
          ],
          "scattercarpet": [
           {
            "marker": {
             "colorbar": {
              "outlinewidth": 0,
              "ticks": ""
             }
            },
            "type": "scattercarpet"
           }
          ],
          "scattergeo": [
           {
            "marker": {
             "colorbar": {
              "outlinewidth": 0,
              "ticks": ""
             }
            },
            "type": "scattergeo"
           }
          ],
          "scattergl": [
           {
            "marker": {
             "colorbar": {
              "outlinewidth": 0,
              "ticks": ""
             }
            },
            "type": "scattergl"
           }
          ],
          "scattermapbox": [
           {
            "marker": {
             "colorbar": {
              "outlinewidth": 0,
              "ticks": ""
             }
            },
            "type": "scattermapbox"
           }
          ],
          "scatterpolar": [
           {
            "marker": {
             "colorbar": {
              "outlinewidth": 0,
              "ticks": ""
             }
            },
            "type": "scatterpolar"
           }
          ],
          "scatterpolargl": [
           {
            "marker": {
             "colorbar": {
              "outlinewidth": 0,
              "ticks": ""
             }
            },
            "type": "scatterpolargl"
           }
          ],
          "scatterternary": [
           {
            "marker": {
             "colorbar": {
              "outlinewidth": 0,
              "ticks": ""
             }
            },
            "type": "scatterternary"
           }
          ],
          "surface": [
           {
            "colorbar": {
             "outlinewidth": 0,
             "ticks": ""
            },
            "colorscale": [
             [
              0,
              "#0d0887"
             ],
             [
              0.1111111111111111,
              "#46039f"
             ],
             [
              0.2222222222222222,
              "#7201a8"
             ],
             [
              0.3333333333333333,
              "#9c179e"
             ],
             [
              0.4444444444444444,
              "#bd3786"
             ],
             [
              0.5555555555555556,
              "#d8576b"
             ],
             [
              0.6666666666666666,
              "#ed7953"
             ],
             [
              0.7777777777777778,
              "#fb9f3a"
             ],
             [
              0.8888888888888888,
              "#fdca26"
             ],
             [
              1,
              "#f0f921"
             ]
            ],
            "type": "surface"
           }
          ],
          "table": [
           {
            "cells": {
             "fill": {
              "color": "#EBF0F8"
             },
             "line": {
              "color": "white"
             }
            },
            "header": {
             "fill": {
              "color": "#C8D4E3"
             },
             "line": {
              "color": "white"
             }
            },
            "type": "table"
           }
          ]
         },
         "layout": {
          "annotationdefaults": {
           "arrowcolor": "#2a3f5f",
           "arrowhead": 0,
           "arrowwidth": 1
          },
          "autotypenumbers": "strict",
          "coloraxis": {
           "colorbar": {
            "outlinewidth": 0,
            "ticks": ""
           }
          },
          "colorscale": {
           "diverging": [
            [
             0,
             "#8e0152"
            ],
            [
             0.1,
             "#c51b7d"
            ],
            [
             0.2,
             "#de77ae"
            ],
            [
             0.3,
             "#f1b6da"
            ],
            [
             0.4,
             "#fde0ef"
            ],
            [
             0.5,
             "#f7f7f7"
            ],
            [
             0.6,
             "#e6f5d0"
            ],
            [
             0.7,
             "#b8e186"
            ],
            [
             0.8,
             "#7fbc41"
            ],
            [
             0.9,
             "#4d9221"
            ],
            [
             1,
             "#276419"
            ]
           ],
           "sequential": [
            [
             0,
             "#0d0887"
            ],
            [
             0.1111111111111111,
             "#46039f"
            ],
            [
             0.2222222222222222,
             "#7201a8"
            ],
            [
             0.3333333333333333,
             "#9c179e"
            ],
            [
             0.4444444444444444,
             "#bd3786"
            ],
            [
             0.5555555555555556,
             "#d8576b"
            ],
            [
             0.6666666666666666,
             "#ed7953"
            ],
            [
             0.7777777777777778,
             "#fb9f3a"
            ],
            [
             0.8888888888888888,
             "#fdca26"
            ],
            [
             1,
             "#f0f921"
            ]
           ],
           "sequentialminus": [
            [
             0,
             "#0d0887"
            ],
            [
             0.1111111111111111,
             "#46039f"
            ],
            [
             0.2222222222222222,
             "#7201a8"
            ],
            [
             0.3333333333333333,
             "#9c179e"
            ],
            [
             0.4444444444444444,
             "#bd3786"
            ],
            [
             0.5555555555555556,
             "#d8576b"
            ],
            [
             0.6666666666666666,
             "#ed7953"
            ],
            [
             0.7777777777777778,
             "#fb9f3a"
            ],
            [
             0.8888888888888888,
             "#fdca26"
            ],
            [
             1,
             "#f0f921"
            ]
           ]
          },
          "colorway": [
           "#636efa",
           "#EF553B",
           "#00cc96",
           "#ab63fa",
           "#FFA15A",
           "#19d3f3",
           "#FF6692",
           "#B6E880",
           "#FF97FF",
           "#FECB52"
          ],
          "font": {
           "color": "#2a3f5f"
          },
          "geo": {
           "bgcolor": "white",
           "lakecolor": "white",
           "landcolor": "#E5ECF6",
           "showlakes": true,
           "showland": true,
           "subunitcolor": "white"
          },
          "hoverlabel": {
           "align": "left"
          },
          "hovermode": "closest",
          "mapbox": {
           "style": "light"
          },
          "paper_bgcolor": "white",
          "plot_bgcolor": "#E5ECF6",
          "polar": {
           "angularaxis": {
            "gridcolor": "white",
            "linecolor": "white",
            "ticks": ""
           },
           "bgcolor": "#E5ECF6",
           "radialaxis": {
            "gridcolor": "white",
            "linecolor": "white",
            "ticks": ""
           }
          },
          "scene": {
           "xaxis": {
            "backgroundcolor": "#E5ECF6",
            "gridcolor": "white",
            "gridwidth": 2,
            "linecolor": "white",
            "showbackground": true,
            "ticks": "",
            "zerolinecolor": "white"
           },
           "yaxis": {
            "backgroundcolor": "#E5ECF6",
            "gridcolor": "white",
            "gridwidth": 2,
            "linecolor": "white",
            "showbackground": true,
            "ticks": "",
            "zerolinecolor": "white"
           },
           "zaxis": {
            "backgroundcolor": "#E5ECF6",
            "gridcolor": "white",
            "gridwidth": 2,
            "linecolor": "white",
            "showbackground": true,
            "ticks": "",
            "zerolinecolor": "white"
           }
          },
          "shapedefaults": {
           "line": {
            "color": "#2a3f5f"
           }
          },
          "ternary": {
           "aaxis": {
            "gridcolor": "white",
            "linecolor": "white",
            "ticks": ""
           },
           "baxis": {
            "gridcolor": "white",
            "linecolor": "white",
            "ticks": ""
           },
           "bgcolor": "#E5ECF6",
           "caxis": {
            "gridcolor": "white",
            "linecolor": "white",
            "ticks": ""
           }
          },
          "title": {
           "x": 0.05
          },
          "xaxis": {
           "automargin": true,
           "gridcolor": "white",
           "linecolor": "white",
           "ticks": "",
           "title": {
            "standoff": 15
           },
           "zerolinecolor": "white",
           "zerolinewidth": 2
          },
          "yaxis": {
           "automargin": true,
           "gridcolor": "white",
           "linecolor": "white",
           "ticks": "",
           "title": {
            "standoff": 15
           },
           "zerolinecolor": "white",
           "zerolinewidth": 2
          }
         }
        },
        "title": {
         "font": {
          "color": "#4D5663"
         }
        },
        "xaxis": {
         "gridcolor": "#E1E5ED",
         "showgrid": true,
         "tickfont": {
          "color": "#4D5663"
         },
         "title": {
          "font": {
           "color": "#4D5663"
          },
          "text": ""
         },
         "zerolinecolor": "#E1E5ED"
        },
        "yaxis": {
         "gridcolor": "#E1E5ED",
         "showgrid": true,
         "tickfont": {
          "color": "#4D5663"
         },
         "title": {
          "font": {
           "color": "#4D5663"
          },
          "text": ""
         },
         "zerolinecolor": "#E1E5ED"
        }
       }
      },
      "text/html": [
       "<div>                            <div id=\"ae459e86-dfcb-49ac-9f56-a66050166333\" class=\"plotly-graph-div\" style=\"height:525px; width:100%;\"></div>            <script type=\"text/javascript\">                require([\"plotly\"], function(Plotly) {                    window.PLOTLYENV=window.PLOTLYENV || {};\n",
       "                    window.PLOTLYENV.BASE_URL='https://plot.ly';                                    if (document.getElementById(\"ae459e86-dfcb-49ac-9f56-a66050166333\")) {                    Plotly.newPlot(                        \"ae459e86-dfcb-49ac-9f56-a66050166333\",                        [{\"line\": {\"color\": \"rgba(255, 153, 51, 1.0)\", \"dash\": \"solid\", \"shape\": \"linear\", \"width\": 1.3}, \"mode\": \"lines\", \"name\": \"A\", \"text\": \"\", \"type\": \"scatter\", \"x\": [0, 1, 2, 3, 4, 5, 6, 7, 8, 9, 10, 11, 12, 13, 14, 15, 16, 17, 18, 19, 20, 21, 22, 23, 24, 25, 26, 27, 28, 29, 30, 31, 32, 33, 34, 35, 36, 37, 38, 39, 40, 41, 42, 43, 44, 45, 46, 47, 48, 49, 50, 51, 52, 53, 54, 55, 56, 57, 58, 59, 60, 61, 62, 63, 64, 65, 66, 67, 68, 69, 70, 71, 72, 73, 74, 75, 76, 77, 78, 79, 80, 81, 82, 83, 84, 85, 86, 87, 88, 89, 90, 91, 92, 93, 94, 95, 96, 97, 98, 99], \"y\": [1.5047071858675904, -1.2306437730366853, 0.605020350239587, -0.11730722559215549, -0.5094486400300653, -0.03247951610040798, 0.9731351835823545, -1.472511340085507, -0.23083304464393553, 0.5787834027566838, -0.3156316458899452, -0.37854491314669936, -1.578313375563011, -0.7431436030597717, 0.5630177560101443, -1.3333242685734497, -0.4812889971321455, 0.46635368545417594, -0.09920746060052134, 1.0140120472191738, -0.9225221157990605, 1.4196106846836412, 0.1952712362569279, -0.8168745709151536, -0.13975493326855662, 0.5823845164628724, -0.04996888900130543, 0.013820356133013887, -0.06830081283978562, 0.19215684436051617, 1.286435464479053, -0.33541662466852057, -2.8587717658377443, 0.006416985094558975, 1.2961166888011706, -0.08942228467851332, 1.587406402848416, 0.25947535251631904, -0.8048768802234534, -0.8419192982284646, -1.6039443064270875, 0.10466270748776571, 0.02998318674242047, -0.006862251689929032, -0.7660788034000553, 1.1726861103538202, -0.27001683146847616, 0.020866604645267316, -1.5500723287323086, -0.1353630979441134, 0.10043734262022548, 0.26824564753711505, 0.12819938986961066, -1.17819730023147, 0.43825107894139315, -0.8922617953366131, -0.1304564737507755, -0.712627526372936, -0.21148412951738027, -0.803660466757645, -0.2795304432141383, -0.7656507457744494, -1.2247199589979165, -0.16498458992525863, 0.923653188973336, 0.13764563658951204, 0.043849382884496906, 0.607314473420084, 0.7462893879083348, 0.18665312051788513, -1.4497989583537694, 1.528431628745062, 0.3712893622551243, 0.47187897031748005, 0.8177302430660359, -0.09631945740607714, 0.2046001019962186, 1.5632968046193618, 0.28173247195427, -0.4990349917914575, 0.4880662332937979, -1.6313543113852154, 0.4398737132524965, 0.22985411660186864, 1.2996791563457732, -0.0015933251060393399, 0.48577287679867154, -0.7611622677031836, -0.9177847234627884, 0.31360597655689065, 0.8504935212248734, -0.5321453076085406, -0.44651013637870907, -0.8221181957042193, 1.8611329510653556, -1.9200683591650554, 0.2640173821523596, -0.012626231690431604, 3.152977471906116, 0.3884525520079316]}, {\"line\": {\"color\": \"rgba(55, 128, 191, 1.0)\", \"dash\": \"solid\", \"shape\": \"linear\", \"width\": 1.3}, \"mode\": \"lines\", \"name\": \"B\", \"text\": \"\", \"type\": \"scatter\", \"x\": [0, 1, 2, 3, 4, 5, 6, 7, 8, 9, 10, 11, 12, 13, 14, 15, 16, 17, 18, 19, 20, 21, 22, 23, 24, 25, 26, 27, 28, 29, 30, 31, 32, 33, 34, 35, 36, 37, 38, 39, 40, 41, 42, 43, 44, 45, 46, 47, 48, 49, 50, 51, 52, 53, 54, 55, 56, 57, 58, 59, 60, 61, 62, 63, 64, 65, 66, 67, 68, 69, 70, 71, 72, 73, 74, 75, 76, 77, 78, 79, 80, 81, 82, 83, 84, 85, 86, 87, 88, 89, 90, 91, 92, 93, 94, 95, 96, 97, 98, 99], \"y\": [0.47852473764124553, 0.47953723587996805, -0.44148143458663514, 1.7986040640014305, 1.3887987421628392, 1.597757985723844, 0.5877999356373035, 1.5808007026584723, -0.33360175851415325, -0.13122522278994106, 0.3224781441878215, 0.8496592084762307, -1.150154786050836, -0.03636065930498414, -0.5208283778493646, 1.0938755117779735, 0.15407640392163835, 0.569679081793052, 0.03260012363032162, 0.9945392624370553, 1.3904827907721824, 1.775213217496774, -0.5429998873307663, 0.0915471721012884, -0.09519693387176657, -1.5963958081570286, 2.4465606576364927, 1.5731633274545442, -0.08560470104480285, 0.2580248761829393, 1.539166024904185, 0.5416302736813118, -0.6303030028201453, -0.20719439088977545, 0.4791532829966961, 0.6345908134255359, -1.4310301356276192, -1.3401692846786348, 0.12938500637423184, 0.8697464546388674, -1.233469614258414, 2.266394093414955, 0.4095157714369962, 0.3129562945885272, 0.6875159516001128, 0.43742266506028393, -0.9548174472407832, 0.07014485793751564, -0.20394038833768505, 1.3440227943161343, -0.4211541610746663, 1.1778831515862733, -0.20884700147291713, -0.6287794998087359, -0.7877323616235364, -1.2186019438648847, 1.1458611752078418, -0.38447865902786865, -0.5223514043098862, 0.8604521332601345, -0.29850097445053136, -1.0125124820836118, -0.13931808941227639, 0.24397113215543434, 1.7129575541024467, -0.3046189015886152, -2.304212940366996, 0.9750048983151226, 0.1917996277566565, 1.7150797955986141, -0.6669591370086811, -0.8584067440066807, 1.0979784717067602, -1.4142753213911983, -0.14952157401637756, -1.7533683614377518, 0.12616412568399893, 0.4011261217165389, -1.528023749999498, -2.447037347680574, -1.889348744499366, -0.9452629996802178, 0.05039114426983621, 1.1675519258374532, 0.1295374021492559, 0.3296377092381601, 1.7544282508147742, -0.9871840427773075, -0.49209018295214213, -0.9434878688187036, 1.6166091978251167, -0.23609503635320464, 0.9761194029838546, 0.7307775163820062, 1.3621691942697398, 0.4874710586315161, -2.211347382211482, 0.24820113797038115, -7.074984288589023e-05, -0.9973009933770731]}, {\"line\": {\"color\": \"rgba(50, 171, 96, 1.0)\", \"dash\": \"solid\", \"shape\": \"linear\", \"width\": 1.3}, \"mode\": \"lines\", \"name\": \"C\", \"text\": \"\", \"type\": \"scatter\", \"x\": [0, 1, 2, 3, 4, 5, 6, 7, 8, 9, 10, 11, 12, 13, 14, 15, 16, 17, 18, 19, 20, 21, 22, 23, 24, 25, 26, 27, 28, 29, 30, 31, 32, 33, 34, 35, 36, 37, 38, 39, 40, 41, 42, 43, 44, 45, 46, 47, 48, 49, 50, 51, 52, 53, 54, 55, 56, 57, 58, 59, 60, 61, 62, 63, 64, 65, 66, 67, 68, 69, 70, 71, 72, 73, 74, 75, 76, 77, 78, 79, 80, 81, 82, 83, 84, 85, 86, 87, 88, 89, 90, 91, 92, 93, 94, 95, 96, 97, 98, 99], \"y\": [-0.6000059072918577, 1.3851327831240583, -0.8416605212960638, 1.5154885208090547, 0.35490000189417265, 1.6908051929618615, -1.5287201794917664, -0.7349423678365664, -0.6913427780487162, -0.48028684240557384, -0.8194308330776271, -0.29106481926234773, -0.44013318857028755, -0.20308347702726706, 0.35361926604476035, 0.9088141438825913, -0.12621126330418034, 0.2713276194712512, 0.6134881669524676, -0.6779439897805137, 0.24950517621334753, -2.2745063234013974, -0.7245357611636806, -0.6894443833026974, -0.1264702313571285, -1.7171240171463795, 0.4649639516968302, 0.28032078841628816, 0.8187312513948517, 1.8356694161971212, 0.07111938776697482, 0.5280542526634601, -0.16806824844991317, 0.3000210389712474, -0.12397057872547237, -1.7083423879575599, 1.00021666547896, -1.638137045671358, 0.9357959636309474, 0.05029229480271856, -0.07831195145744159, -0.23370643955925763, -0.5993775703744221, 0.37675039193732496, 0.24028123734389664, 0.3093358333892805, -0.5924220763938935, 0.7335935351551006, -0.44891339165705907, -0.35530507838316644, -0.4944060862732866, 0.38313420932443837, 1.1715219237750232, 1.3121080758510824, 0.809296311973692, 0.44223568422499776, -1.0144546947415045, -2.0963256155813, 0.8303089376644729, 0.20727530570372368, 0.6809398714532137, -0.20313700975503854, -0.8683297955457224, -0.8967516788430234, -2.890614614986278, -0.09993955098456375, -0.14383529393879205, -1.0973057711218217, -0.7504335408709724, 0.9180133479107283, -0.5666948674783646, -1.9763329181438785, 0.9938517046204264, 0.23372817565574658, -0.30996996483053013, -0.7952300157721142, -0.5982382641896878, 2.019467960329815, -1.2598852398508364, -2.3605648504641117, 0.2688239708057861, 0.3341326209586924, 0.5781274307848184, -1.126794432746841, 1.8186529196083057, -0.2257175946243995, -0.7327823203159495, -0.04215232447181377, 0.35468065583520547, 0.7529400572744188, -0.9070666616628649, -2.7491636513888267, -0.158765905268466, -1.5942636877571497, -0.034178501622841355, 1.644502105606857, 1.2278338376015379, 0.22311899274343086, 2.0926505853158326, 0.14481317662602947]}, {\"line\": {\"color\": \"rgba(128, 0, 128, 1.0)\", \"dash\": \"solid\", \"shape\": \"linear\", \"width\": 1.3}, \"mode\": \"lines\", \"name\": \"D\", \"text\": \"\", \"type\": \"scatter\", \"x\": [0, 1, 2, 3, 4, 5, 6, 7, 8, 9, 10, 11, 12, 13, 14, 15, 16, 17, 18, 19, 20, 21, 22, 23, 24, 25, 26, 27, 28, 29, 30, 31, 32, 33, 34, 35, 36, 37, 38, 39, 40, 41, 42, 43, 44, 45, 46, 47, 48, 49, 50, 51, 52, 53, 54, 55, 56, 57, 58, 59, 60, 61, 62, 63, 64, 65, 66, 67, 68, 69, 70, 71, 72, 73, 74, 75, 76, 77, 78, 79, 80, 81, 82, 83, 84, 85, 86, 87, 88, 89, 90, 91, 92, 93, 94, 95, 96, 97, 98, 99], \"y\": [-0.8082398228533931, -0.5150448150176067, -1.0877456219922552, -0.8048179509408832, 0.6086999215692537, -0.5757069764316959, 0.47345421556973416, -0.20836536589757984, -1.530474829093293, 0.4219608143606672, -1.3598569545767323, 0.26771371003290845, 0.5983985813921551, -0.07616351426305064, -0.030391020270419882, 1.001390782205427, 0.9369229701129356, -0.356238064328411, -0.727088551183532, 1.7896490382744903, -0.24431409954433136, 0.2237147309778499, 0.20738917270660667, -0.46228323064267396, 2.0312627382663093, 0.507205686431814, -1.1004206781437917, -0.40716791218137677, 0.4903848006304384, -0.7918357006951539, 1.9658079569926246, -0.6457999436135241, 1.0614383133641743, 0.27377992781923305, 0.10701923381201559, -0.4000061087739593, -1.837251657679469, 0.4880101965671579, 0.6911914823146007, 1.746647766580847, 2.4730610128976025, 0.6872374464358818, 1.0732008846959473, -0.48774677137980743, -0.8095131203630446, -1.1453972995580883, 0.6745284104776471, -0.7089344921988175, 1.080404970897654, 0.654933864788666, 0.5993501954136305, 0.6335112551331462, -0.3589185468179479, -1.404924418265637, 0.013247846568394272, 0.49121042562949946, -1.781961301376952, -0.3461391298088473, 0.7079203769362604, -0.4845337136107974, 2.2121393861141807, -1.2069802115680754, 0.49389803836683593, -1.0011033326444534, 0.004752979140422849, -0.8451778958184031, -0.6643597024318079, -0.40229732951149305, -0.7377438349276196, 0.7143190164674909, 3.2165361910584975, -0.2990466181868432, 0.5983848199307756, -0.6547230911032215, -1.3508232926668085, -0.30203008713704566, 0.8222645436335331, 0.7683362411825844, 0.20502092967846014, -1.3032276841045292, -1.9480148669781658, 0.49509145239623104, 0.6957201739268423, -0.6099904097456169, 1.055965324015916, 0.006084384263107051, 1.4515849407547137, -0.4514929498138888, -0.2807620187625043, -0.4223488763697073, -1.017141859337329, 0.6388544156437523, 0.2593832599300954, -0.24507572484234003, -0.48759006253485254, -1.7667005971711343, -0.035067253089737994, -1.256620895729348, -0.13091364656474716, 2.1494704847322295]}],                        {\"legend\": {\"bgcolor\": \"#F5F6F9\", \"font\": {\"color\": \"#4D5663\"}}, \"paper_bgcolor\": \"#F5F6F9\", \"plot_bgcolor\": \"#F5F6F9\", \"template\": {\"data\": {\"bar\": [{\"error_x\": {\"color\": \"#2a3f5f\"}, \"error_y\": {\"color\": \"#2a3f5f\"}, \"marker\": {\"line\": {\"color\": \"#E5ECF6\", \"width\": 0.5}}, \"type\": \"bar\"}], \"barpolar\": [{\"marker\": {\"line\": {\"color\": \"#E5ECF6\", \"width\": 0.5}}, \"type\": \"barpolar\"}], \"carpet\": [{\"aaxis\": {\"endlinecolor\": \"#2a3f5f\", \"gridcolor\": \"white\", \"linecolor\": \"white\", \"minorgridcolor\": \"white\", \"startlinecolor\": \"#2a3f5f\"}, \"baxis\": {\"endlinecolor\": \"#2a3f5f\", \"gridcolor\": \"white\", \"linecolor\": \"white\", \"minorgridcolor\": \"white\", \"startlinecolor\": \"#2a3f5f\"}, \"type\": \"carpet\"}], \"choropleth\": [{\"colorbar\": {\"outlinewidth\": 0, \"ticks\": \"\"}, \"type\": \"choropleth\"}], \"contour\": [{\"colorbar\": {\"outlinewidth\": 0, \"ticks\": \"\"}, \"colorscale\": [[0.0, \"#0d0887\"], [0.1111111111111111, \"#46039f\"], [0.2222222222222222, \"#7201a8\"], [0.3333333333333333, \"#9c179e\"], [0.4444444444444444, \"#bd3786\"], [0.5555555555555556, \"#d8576b\"], [0.6666666666666666, \"#ed7953\"], [0.7777777777777778, \"#fb9f3a\"], [0.8888888888888888, \"#fdca26\"], [1.0, \"#f0f921\"]], \"type\": \"contour\"}], \"contourcarpet\": [{\"colorbar\": {\"outlinewidth\": 0, \"ticks\": \"\"}, \"type\": \"contourcarpet\"}], \"heatmap\": [{\"colorbar\": {\"outlinewidth\": 0, \"ticks\": \"\"}, \"colorscale\": [[0.0, \"#0d0887\"], [0.1111111111111111, \"#46039f\"], [0.2222222222222222, \"#7201a8\"], [0.3333333333333333, \"#9c179e\"], [0.4444444444444444, \"#bd3786\"], [0.5555555555555556, \"#d8576b\"], [0.6666666666666666, \"#ed7953\"], [0.7777777777777778, \"#fb9f3a\"], [0.8888888888888888, \"#fdca26\"], [1.0, \"#f0f921\"]], \"type\": \"heatmap\"}], \"heatmapgl\": [{\"colorbar\": {\"outlinewidth\": 0, \"ticks\": \"\"}, \"colorscale\": [[0.0, \"#0d0887\"], [0.1111111111111111, \"#46039f\"], [0.2222222222222222, \"#7201a8\"], [0.3333333333333333, \"#9c179e\"], [0.4444444444444444, \"#bd3786\"], [0.5555555555555556, \"#d8576b\"], [0.6666666666666666, \"#ed7953\"], [0.7777777777777778, \"#fb9f3a\"], [0.8888888888888888, \"#fdca26\"], [1.0, \"#f0f921\"]], \"type\": \"heatmapgl\"}], \"histogram\": [{\"marker\": {\"colorbar\": {\"outlinewidth\": 0, \"ticks\": \"\"}}, \"type\": \"histogram\"}], \"histogram2d\": [{\"colorbar\": {\"outlinewidth\": 0, \"ticks\": \"\"}, \"colorscale\": [[0.0, \"#0d0887\"], [0.1111111111111111, \"#46039f\"], [0.2222222222222222, \"#7201a8\"], [0.3333333333333333, \"#9c179e\"], [0.4444444444444444, \"#bd3786\"], [0.5555555555555556, \"#d8576b\"], [0.6666666666666666, \"#ed7953\"], [0.7777777777777778, \"#fb9f3a\"], [0.8888888888888888, \"#fdca26\"], [1.0, \"#f0f921\"]], \"type\": \"histogram2d\"}], \"histogram2dcontour\": [{\"colorbar\": {\"outlinewidth\": 0, \"ticks\": \"\"}, \"colorscale\": [[0.0, \"#0d0887\"], [0.1111111111111111, \"#46039f\"], [0.2222222222222222, \"#7201a8\"], [0.3333333333333333, \"#9c179e\"], [0.4444444444444444, \"#bd3786\"], [0.5555555555555556, \"#d8576b\"], [0.6666666666666666, \"#ed7953\"], [0.7777777777777778, \"#fb9f3a\"], [0.8888888888888888, \"#fdca26\"], [1.0, \"#f0f921\"]], \"type\": \"histogram2dcontour\"}], \"mesh3d\": [{\"colorbar\": {\"outlinewidth\": 0, \"ticks\": \"\"}, \"type\": \"mesh3d\"}], \"parcoords\": [{\"line\": {\"colorbar\": {\"outlinewidth\": 0, \"ticks\": \"\"}}, \"type\": \"parcoords\"}], \"pie\": [{\"automargin\": true, \"type\": \"pie\"}], \"scatter\": [{\"marker\": {\"colorbar\": {\"outlinewidth\": 0, \"ticks\": \"\"}}, \"type\": \"scatter\"}], \"scatter3d\": [{\"line\": {\"colorbar\": {\"outlinewidth\": 0, \"ticks\": \"\"}}, \"marker\": {\"colorbar\": {\"outlinewidth\": 0, \"ticks\": \"\"}}, \"type\": \"scatter3d\"}], \"scattercarpet\": [{\"marker\": {\"colorbar\": {\"outlinewidth\": 0, \"ticks\": \"\"}}, \"type\": \"scattercarpet\"}], \"scattergeo\": [{\"marker\": {\"colorbar\": {\"outlinewidth\": 0, \"ticks\": \"\"}}, \"type\": \"scattergeo\"}], \"scattergl\": [{\"marker\": {\"colorbar\": {\"outlinewidth\": 0, \"ticks\": \"\"}}, \"type\": \"scattergl\"}], \"scattermapbox\": [{\"marker\": {\"colorbar\": {\"outlinewidth\": 0, \"ticks\": \"\"}}, \"type\": \"scattermapbox\"}], \"scatterpolar\": [{\"marker\": {\"colorbar\": {\"outlinewidth\": 0, \"ticks\": \"\"}}, \"type\": \"scatterpolar\"}], \"scatterpolargl\": [{\"marker\": {\"colorbar\": {\"outlinewidth\": 0, \"ticks\": \"\"}}, \"type\": \"scatterpolargl\"}], \"scatterternary\": [{\"marker\": {\"colorbar\": {\"outlinewidth\": 0, \"ticks\": \"\"}}, \"type\": \"scatterternary\"}], \"surface\": [{\"colorbar\": {\"outlinewidth\": 0, \"ticks\": \"\"}, \"colorscale\": [[0.0, \"#0d0887\"], [0.1111111111111111, \"#46039f\"], [0.2222222222222222, \"#7201a8\"], [0.3333333333333333, \"#9c179e\"], [0.4444444444444444, \"#bd3786\"], [0.5555555555555556, \"#d8576b\"], [0.6666666666666666, \"#ed7953\"], [0.7777777777777778, \"#fb9f3a\"], [0.8888888888888888, \"#fdca26\"], [1.0, \"#f0f921\"]], \"type\": \"surface\"}], \"table\": [{\"cells\": {\"fill\": {\"color\": \"#EBF0F8\"}, \"line\": {\"color\": \"white\"}}, \"header\": {\"fill\": {\"color\": \"#C8D4E3\"}, \"line\": {\"color\": \"white\"}}, \"type\": \"table\"}]}, \"layout\": {\"annotationdefaults\": {\"arrowcolor\": \"#2a3f5f\", \"arrowhead\": 0, \"arrowwidth\": 1}, \"autotypenumbers\": \"strict\", \"coloraxis\": {\"colorbar\": {\"outlinewidth\": 0, \"ticks\": \"\"}}, \"colorscale\": {\"diverging\": [[0, \"#8e0152\"], [0.1, \"#c51b7d\"], [0.2, \"#de77ae\"], [0.3, \"#f1b6da\"], [0.4, \"#fde0ef\"], [0.5, \"#f7f7f7\"], [0.6, \"#e6f5d0\"], [0.7, \"#b8e186\"], [0.8, \"#7fbc41\"], [0.9, \"#4d9221\"], [1, \"#276419\"]], \"sequential\": [[0.0, \"#0d0887\"], [0.1111111111111111, \"#46039f\"], [0.2222222222222222, \"#7201a8\"], [0.3333333333333333, \"#9c179e\"], [0.4444444444444444, \"#bd3786\"], [0.5555555555555556, \"#d8576b\"], [0.6666666666666666, \"#ed7953\"], [0.7777777777777778, \"#fb9f3a\"], [0.8888888888888888, \"#fdca26\"], [1.0, \"#f0f921\"]], \"sequentialminus\": [[0.0, \"#0d0887\"], [0.1111111111111111, \"#46039f\"], [0.2222222222222222, \"#7201a8\"], [0.3333333333333333, \"#9c179e\"], [0.4444444444444444, \"#bd3786\"], [0.5555555555555556, \"#d8576b\"], [0.6666666666666666, \"#ed7953\"], [0.7777777777777778, \"#fb9f3a\"], [0.8888888888888888, \"#fdca26\"], [1.0, \"#f0f921\"]]}, \"colorway\": [\"#636efa\", \"#EF553B\", \"#00cc96\", \"#ab63fa\", \"#FFA15A\", \"#19d3f3\", \"#FF6692\", \"#B6E880\", \"#FF97FF\", \"#FECB52\"], \"font\": {\"color\": \"#2a3f5f\"}, \"geo\": {\"bgcolor\": \"white\", \"lakecolor\": \"white\", \"landcolor\": \"#E5ECF6\", \"showlakes\": true, \"showland\": true, \"subunitcolor\": \"white\"}, \"hoverlabel\": {\"align\": \"left\"}, \"hovermode\": \"closest\", \"mapbox\": {\"style\": \"light\"}, \"paper_bgcolor\": \"white\", \"plot_bgcolor\": \"#E5ECF6\", \"polar\": {\"angularaxis\": {\"gridcolor\": \"white\", \"linecolor\": \"white\", \"ticks\": \"\"}, \"bgcolor\": \"#E5ECF6\", \"radialaxis\": {\"gridcolor\": \"white\", \"linecolor\": \"white\", \"ticks\": \"\"}}, \"scene\": {\"xaxis\": {\"backgroundcolor\": \"#E5ECF6\", \"gridcolor\": \"white\", \"gridwidth\": 2, \"linecolor\": \"white\", \"showbackground\": true, \"ticks\": \"\", \"zerolinecolor\": \"white\"}, \"yaxis\": {\"backgroundcolor\": \"#E5ECF6\", \"gridcolor\": \"white\", \"gridwidth\": 2, \"linecolor\": \"white\", \"showbackground\": true, \"ticks\": \"\", \"zerolinecolor\": \"white\"}, \"zaxis\": {\"backgroundcolor\": \"#E5ECF6\", \"gridcolor\": \"white\", \"gridwidth\": 2, \"linecolor\": \"white\", \"showbackground\": true, \"ticks\": \"\", \"zerolinecolor\": \"white\"}}, \"shapedefaults\": {\"line\": {\"color\": \"#2a3f5f\"}}, \"ternary\": {\"aaxis\": {\"gridcolor\": \"white\", \"linecolor\": \"white\", \"ticks\": \"\"}, \"baxis\": {\"gridcolor\": \"white\", \"linecolor\": \"white\", \"ticks\": \"\"}, \"bgcolor\": \"#E5ECF6\", \"caxis\": {\"gridcolor\": \"white\", \"linecolor\": \"white\", \"ticks\": \"\"}}, \"title\": {\"x\": 0.05}, \"xaxis\": {\"automargin\": true, \"gridcolor\": \"white\", \"linecolor\": \"white\", \"ticks\": \"\", \"title\": {\"standoff\": 15}, \"zerolinecolor\": \"white\", \"zerolinewidth\": 2}, \"yaxis\": {\"automargin\": true, \"gridcolor\": \"white\", \"linecolor\": \"white\", \"ticks\": \"\", \"title\": {\"standoff\": 15}, \"zerolinecolor\": \"white\", \"zerolinewidth\": 2}}}, \"title\": {\"font\": {\"color\": \"#4D5663\"}}, \"xaxis\": {\"gridcolor\": \"#E1E5ED\", \"showgrid\": true, \"tickfont\": {\"color\": \"#4D5663\"}, \"title\": {\"font\": {\"color\": \"#4D5663\"}, \"text\": \"\"}, \"zerolinecolor\": \"#E1E5ED\"}, \"yaxis\": {\"gridcolor\": \"#E1E5ED\", \"showgrid\": true, \"tickfont\": {\"color\": \"#4D5663\"}, \"title\": {\"font\": {\"color\": \"#4D5663\"}, \"text\": \"\"}, \"zerolinecolor\": \"#E1E5ED\"}},                        {\"showLink\": true, \"linkText\": \"Export to plot.ly\", \"plotlyServerURL\": \"https://plot.ly\", \"responsive\": true}                    ).then(function(){\n",
       "                            \n",
       "var gd = document.getElementById('ae459e86-dfcb-49ac-9f56-a66050166333');\n",
       "var x = new MutationObserver(function (mutations, observer) {{\n",
       "        var display = window.getComputedStyle(gd).display;\n",
       "        if (!display || display === 'none') {{\n",
       "            console.log([gd, 'removed!']);\n",
       "            Plotly.purge(gd);\n",
       "            observer.disconnect();\n",
       "        }}\n",
       "}});\n",
       "\n",
       "// Listen for the removal of the full notebook cells\n",
       "var notebookContainer = gd.closest('#notebook-container');\n",
       "if (notebookContainer) {{\n",
       "    x.observe(notebookContainer, {childList: true});\n",
       "}}\n",
       "\n",
       "// Listen for the clearing of the current output cell\n",
       "var outputEl = gd.closest('.output');\n",
       "if (outputEl) {{\n",
       "    x.observe(outputEl, {childList: true});\n",
       "}}\n",
       "\n",
       "                        })                };                });            </script>        </div>"
      ]
     },
     "metadata": {},
     "output_type": "display_data"
    }
   ],
   "source": [
    "df.iplot()"
   ]
  },
  {
   "cell_type": "code",
   "execution_count": 20,
   "metadata": {},
   "outputs": [
    {
     "data": {
      "application/vnd.plotly.v1+json": {
       "config": {
        "linkText": "Export to plot.ly",
        "plotlyServerURL": "https://plot.ly",
        "showLink": true
       },
       "data": [
        {
         "line": {
          "color": "rgba(255, 153, 51, 1.0)",
          "dash": "solid",
          "shape": "linear",
          "width": 1.3
         },
         "marker": {
          "size": 15,
          "symbol": "circle"
         },
         "mode": "markers",
         "name": "B",
         "text": "",
         "type": "scatter",
         "x": [
          1.5047071858675904,
          -1.2306437730366853,
          0.605020350239587,
          -0.11730722559215549,
          -0.5094486400300653,
          -0.03247951610040798,
          0.9731351835823545,
          -1.472511340085507,
          -0.23083304464393553,
          0.5787834027566838,
          -0.3156316458899452,
          -0.37854491314669936,
          -1.578313375563011,
          -0.7431436030597717,
          0.5630177560101443,
          -1.3333242685734497,
          -0.4812889971321455,
          0.46635368545417594,
          -0.09920746060052134,
          1.0140120472191738,
          -0.9225221157990605,
          1.4196106846836412,
          0.1952712362569279,
          -0.8168745709151536,
          -0.13975493326855662,
          0.5823845164628724,
          -0.04996888900130543,
          0.013820356133013887,
          -0.06830081283978562,
          0.19215684436051617,
          1.286435464479053,
          -0.33541662466852057,
          -2.8587717658377443,
          0.006416985094558975,
          1.2961166888011706,
          -0.08942228467851332,
          1.587406402848416,
          0.25947535251631904,
          -0.8048768802234534,
          -0.8419192982284646,
          -1.6039443064270875,
          0.10466270748776571,
          0.02998318674242047,
          -0.006862251689929032,
          -0.7660788034000553,
          1.1726861103538202,
          -0.27001683146847616,
          0.020866604645267316,
          -1.5500723287323086,
          -0.1353630979441134,
          0.10043734262022548,
          0.26824564753711505,
          0.12819938986961066,
          -1.17819730023147,
          0.43825107894139315,
          -0.8922617953366131,
          -0.1304564737507755,
          -0.712627526372936,
          -0.21148412951738027,
          -0.803660466757645,
          -0.2795304432141383,
          -0.7656507457744494,
          -1.2247199589979165,
          -0.16498458992525863,
          0.923653188973336,
          0.13764563658951204,
          0.043849382884496906,
          0.607314473420084,
          0.7462893879083348,
          0.18665312051788513,
          -1.4497989583537694,
          1.528431628745062,
          0.3712893622551243,
          0.47187897031748005,
          0.8177302430660359,
          -0.09631945740607714,
          0.2046001019962186,
          1.5632968046193618,
          0.28173247195427,
          -0.4990349917914575,
          0.4880662332937979,
          -1.6313543113852154,
          0.4398737132524965,
          0.22985411660186864,
          1.2996791563457732,
          -0.0015933251060393399,
          0.48577287679867154,
          -0.7611622677031836,
          -0.9177847234627884,
          0.31360597655689065,
          0.8504935212248734,
          -0.5321453076085406,
          -0.44651013637870907,
          -0.8221181957042193,
          1.8611329510653556,
          -1.9200683591650554,
          0.2640173821523596,
          -0.012626231690431604,
          3.152977471906116,
          0.3884525520079316
         ],
         "y": [
          0.47852473764124553,
          0.47953723587996805,
          -0.44148143458663514,
          1.7986040640014305,
          1.3887987421628392,
          1.597757985723844,
          0.5877999356373035,
          1.5808007026584723,
          -0.33360175851415325,
          -0.13122522278994106,
          0.3224781441878215,
          0.8496592084762307,
          -1.150154786050836,
          -0.03636065930498414,
          -0.5208283778493646,
          1.0938755117779735,
          0.15407640392163835,
          0.569679081793052,
          0.03260012363032162,
          0.9945392624370553,
          1.3904827907721824,
          1.775213217496774,
          -0.5429998873307663,
          0.0915471721012884,
          -0.09519693387176657,
          -1.5963958081570286,
          2.4465606576364927,
          1.5731633274545442,
          -0.08560470104480285,
          0.2580248761829393,
          1.539166024904185,
          0.5416302736813118,
          -0.6303030028201453,
          -0.20719439088977545,
          0.4791532829966961,
          0.6345908134255359,
          -1.4310301356276192,
          -1.3401692846786348,
          0.12938500637423184,
          0.8697464546388674,
          -1.233469614258414,
          2.266394093414955,
          0.4095157714369962,
          0.3129562945885272,
          0.6875159516001128,
          0.43742266506028393,
          -0.9548174472407832,
          0.07014485793751564,
          -0.20394038833768505,
          1.3440227943161343,
          -0.4211541610746663,
          1.1778831515862733,
          -0.20884700147291713,
          -0.6287794998087359,
          -0.7877323616235364,
          -1.2186019438648847,
          1.1458611752078418,
          -0.38447865902786865,
          -0.5223514043098862,
          0.8604521332601345,
          -0.29850097445053136,
          -1.0125124820836118,
          -0.13931808941227639,
          0.24397113215543434,
          1.7129575541024467,
          -0.3046189015886152,
          -2.304212940366996,
          0.9750048983151226,
          0.1917996277566565,
          1.7150797955986141,
          -0.6669591370086811,
          -0.8584067440066807,
          1.0979784717067602,
          -1.4142753213911983,
          -0.14952157401637756,
          -1.7533683614377518,
          0.12616412568399893,
          0.4011261217165389,
          -1.528023749999498,
          -2.447037347680574,
          -1.889348744499366,
          -0.9452629996802178,
          0.05039114426983621,
          1.1675519258374532,
          0.1295374021492559,
          0.3296377092381601,
          1.7544282508147742,
          -0.9871840427773075,
          -0.49209018295214213,
          -0.9434878688187036,
          1.6166091978251167,
          -0.23609503635320464,
          0.9761194029838546,
          0.7307775163820062,
          1.3621691942697398,
          0.4874710586315161,
          -2.211347382211482,
          0.24820113797038115,
          -7.074984288589023e-05,
          -0.9973009933770731
         ]
        }
       ],
       "layout": {
        "legend": {
         "bgcolor": "#F5F6F9",
         "font": {
          "color": "#4D5663"
         }
        },
        "paper_bgcolor": "#F5F6F9",
        "plot_bgcolor": "#F5F6F9",
        "template": {
         "data": {
          "bar": [
           {
            "error_x": {
             "color": "#2a3f5f"
            },
            "error_y": {
             "color": "#2a3f5f"
            },
            "marker": {
             "line": {
              "color": "#E5ECF6",
              "width": 0.5
             }
            },
            "type": "bar"
           }
          ],
          "barpolar": [
           {
            "marker": {
             "line": {
              "color": "#E5ECF6",
              "width": 0.5
             }
            },
            "type": "barpolar"
           }
          ],
          "carpet": [
           {
            "aaxis": {
             "endlinecolor": "#2a3f5f",
             "gridcolor": "white",
             "linecolor": "white",
             "minorgridcolor": "white",
             "startlinecolor": "#2a3f5f"
            },
            "baxis": {
             "endlinecolor": "#2a3f5f",
             "gridcolor": "white",
             "linecolor": "white",
             "minorgridcolor": "white",
             "startlinecolor": "#2a3f5f"
            },
            "type": "carpet"
           }
          ],
          "choropleth": [
           {
            "colorbar": {
             "outlinewidth": 0,
             "ticks": ""
            },
            "type": "choropleth"
           }
          ],
          "contour": [
           {
            "colorbar": {
             "outlinewidth": 0,
             "ticks": ""
            },
            "colorscale": [
             [
              0,
              "#0d0887"
             ],
             [
              0.1111111111111111,
              "#46039f"
             ],
             [
              0.2222222222222222,
              "#7201a8"
             ],
             [
              0.3333333333333333,
              "#9c179e"
             ],
             [
              0.4444444444444444,
              "#bd3786"
             ],
             [
              0.5555555555555556,
              "#d8576b"
             ],
             [
              0.6666666666666666,
              "#ed7953"
             ],
             [
              0.7777777777777778,
              "#fb9f3a"
             ],
             [
              0.8888888888888888,
              "#fdca26"
             ],
             [
              1,
              "#f0f921"
             ]
            ],
            "type": "contour"
           }
          ],
          "contourcarpet": [
           {
            "colorbar": {
             "outlinewidth": 0,
             "ticks": ""
            },
            "type": "contourcarpet"
           }
          ],
          "heatmap": [
           {
            "colorbar": {
             "outlinewidth": 0,
             "ticks": ""
            },
            "colorscale": [
             [
              0,
              "#0d0887"
             ],
             [
              0.1111111111111111,
              "#46039f"
             ],
             [
              0.2222222222222222,
              "#7201a8"
             ],
             [
              0.3333333333333333,
              "#9c179e"
             ],
             [
              0.4444444444444444,
              "#bd3786"
             ],
             [
              0.5555555555555556,
              "#d8576b"
             ],
             [
              0.6666666666666666,
              "#ed7953"
             ],
             [
              0.7777777777777778,
              "#fb9f3a"
             ],
             [
              0.8888888888888888,
              "#fdca26"
             ],
             [
              1,
              "#f0f921"
             ]
            ],
            "type": "heatmap"
           }
          ],
          "heatmapgl": [
           {
            "colorbar": {
             "outlinewidth": 0,
             "ticks": ""
            },
            "colorscale": [
             [
              0,
              "#0d0887"
             ],
             [
              0.1111111111111111,
              "#46039f"
             ],
             [
              0.2222222222222222,
              "#7201a8"
             ],
             [
              0.3333333333333333,
              "#9c179e"
             ],
             [
              0.4444444444444444,
              "#bd3786"
             ],
             [
              0.5555555555555556,
              "#d8576b"
             ],
             [
              0.6666666666666666,
              "#ed7953"
             ],
             [
              0.7777777777777778,
              "#fb9f3a"
             ],
             [
              0.8888888888888888,
              "#fdca26"
             ],
             [
              1,
              "#f0f921"
             ]
            ],
            "type": "heatmapgl"
           }
          ],
          "histogram": [
           {
            "marker": {
             "colorbar": {
              "outlinewidth": 0,
              "ticks": ""
             }
            },
            "type": "histogram"
           }
          ],
          "histogram2d": [
           {
            "colorbar": {
             "outlinewidth": 0,
             "ticks": ""
            },
            "colorscale": [
             [
              0,
              "#0d0887"
             ],
             [
              0.1111111111111111,
              "#46039f"
             ],
             [
              0.2222222222222222,
              "#7201a8"
             ],
             [
              0.3333333333333333,
              "#9c179e"
             ],
             [
              0.4444444444444444,
              "#bd3786"
             ],
             [
              0.5555555555555556,
              "#d8576b"
             ],
             [
              0.6666666666666666,
              "#ed7953"
             ],
             [
              0.7777777777777778,
              "#fb9f3a"
             ],
             [
              0.8888888888888888,
              "#fdca26"
             ],
             [
              1,
              "#f0f921"
             ]
            ],
            "type": "histogram2d"
           }
          ],
          "histogram2dcontour": [
           {
            "colorbar": {
             "outlinewidth": 0,
             "ticks": ""
            },
            "colorscale": [
             [
              0,
              "#0d0887"
             ],
             [
              0.1111111111111111,
              "#46039f"
             ],
             [
              0.2222222222222222,
              "#7201a8"
             ],
             [
              0.3333333333333333,
              "#9c179e"
             ],
             [
              0.4444444444444444,
              "#bd3786"
             ],
             [
              0.5555555555555556,
              "#d8576b"
             ],
             [
              0.6666666666666666,
              "#ed7953"
             ],
             [
              0.7777777777777778,
              "#fb9f3a"
             ],
             [
              0.8888888888888888,
              "#fdca26"
             ],
             [
              1,
              "#f0f921"
             ]
            ],
            "type": "histogram2dcontour"
           }
          ],
          "mesh3d": [
           {
            "colorbar": {
             "outlinewidth": 0,
             "ticks": ""
            },
            "type": "mesh3d"
           }
          ],
          "parcoords": [
           {
            "line": {
             "colorbar": {
              "outlinewidth": 0,
              "ticks": ""
             }
            },
            "type": "parcoords"
           }
          ],
          "pie": [
           {
            "automargin": true,
            "type": "pie"
           }
          ],
          "scatter": [
           {
            "marker": {
             "colorbar": {
              "outlinewidth": 0,
              "ticks": ""
             }
            },
            "type": "scatter"
           }
          ],
          "scatter3d": [
           {
            "line": {
             "colorbar": {
              "outlinewidth": 0,
              "ticks": ""
             }
            },
            "marker": {
             "colorbar": {
              "outlinewidth": 0,
              "ticks": ""
             }
            },
            "type": "scatter3d"
           }
          ],
          "scattercarpet": [
           {
            "marker": {
             "colorbar": {
              "outlinewidth": 0,
              "ticks": ""
             }
            },
            "type": "scattercarpet"
           }
          ],
          "scattergeo": [
           {
            "marker": {
             "colorbar": {
              "outlinewidth": 0,
              "ticks": ""
             }
            },
            "type": "scattergeo"
           }
          ],
          "scattergl": [
           {
            "marker": {
             "colorbar": {
              "outlinewidth": 0,
              "ticks": ""
             }
            },
            "type": "scattergl"
           }
          ],
          "scattermapbox": [
           {
            "marker": {
             "colorbar": {
              "outlinewidth": 0,
              "ticks": ""
             }
            },
            "type": "scattermapbox"
           }
          ],
          "scatterpolar": [
           {
            "marker": {
             "colorbar": {
              "outlinewidth": 0,
              "ticks": ""
             }
            },
            "type": "scatterpolar"
           }
          ],
          "scatterpolargl": [
           {
            "marker": {
             "colorbar": {
              "outlinewidth": 0,
              "ticks": ""
             }
            },
            "type": "scatterpolargl"
           }
          ],
          "scatterternary": [
           {
            "marker": {
             "colorbar": {
              "outlinewidth": 0,
              "ticks": ""
             }
            },
            "type": "scatterternary"
           }
          ],
          "surface": [
           {
            "colorbar": {
             "outlinewidth": 0,
             "ticks": ""
            },
            "colorscale": [
             [
              0,
              "#0d0887"
             ],
             [
              0.1111111111111111,
              "#46039f"
             ],
             [
              0.2222222222222222,
              "#7201a8"
             ],
             [
              0.3333333333333333,
              "#9c179e"
             ],
             [
              0.4444444444444444,
              "#bd3786"
             ],
             [
              0.5555555555555556,
              "#d8576b"
             ],
             [
              0.6666666666666666,
              "#ed7953"
             ],
             [
              0.7777777777777778,
              "#fb9f3a"
             ],
             [
              0.8888888888888888,
              "#fdca26"
             ],
             [
              1,
              "#f0f921"
             ]
            ],
            "type": "surface"
           }
          ],
          "table": [
           {
            "cells": {
             "fill": {
              "color": "#EBF0F8"
             },
             "line": {
              "color": "white"
             }
            },
            "header": {
             "fill": {
              "color": "#C8D4E3"
             },
             "line": {
              "color": "white"
             }
            },
            "type": "table"
           }
          ]
         },
         "layout": {
          "annotationdefaults": {
           "arrowcolor": "#2a3f5f",
           "arrowhead": 0,
           "arrowwidth": 1
          },
          "autotypenumbers": "strict",
          "coloraxis": {
           "colorbar": {
            "outlinewidth": 0,
            "ticks": ""
           }
          },
          "colorscale": {
           "diverging": [
            [
             0,
             "#8e0152"
            ],
            [
             0.1,
             "#c51b7d"
            ],
            [
             0.2,
             "#de77ae"
            ],
            [
             0.3,
             "#f1b6da"
            ],
            [
             0.4,
             "#fde0ef"
            ],
            [
             0.5,
             "#f7f7f7"
            ],
            [
             0.6,
             "#e6f5d0"
            ],
            [
             0.7,
             "#b8e186"
            ],
            [
             0.8,
             "#7fbc41"
            ],
            [
             0.9,
             "#4d9221"
            ],
            [
             1,
             "#276419"
            ]
           ],
           "sequential": [
            [
             0,
             "#0d0887"
            ],
            [
             0.1111111111111111,
             "#46039f"
            ],
            [
             0.2222222222222222,
             "#7201a8"
            ],
            [
             0.3333333333333333,
             "#9c179e"
            ],
            [
             0.4444444444444444,
             "#bd3786"
            ],
            [
             0.5555555555555556,
             "#d8576b"
            ],
            [
             0.6666666666666666,
             "#ed7953"
            ],
            [
             0.7777777777777778,
             "#fb9f3a"
            ],
            [
             0.8888888888888888,
             "#fdca26"
            ],
            [
             1,
             "#f0f921"
            ]
           ],
           "sequentialminus": [
            [
             0,
             "#0d0887"
            ],
            [
             0.1111111111111111,
             "#46039f"
            ],
            [
             0.2222222222222222,
             "#7201a8"
            ],
            [
             0.3333333333333333,
             "#9c179e"
            ],
            [
             0.4444444444444444,
             "#bd3786"
            ],
            [
             0.5555555555555556,
             "#d8576b"
            ],
            [
             0.6666666666666666,
             "#ed7953"
            ],
            [
             0.7777777777777778,
             "#fb9f3a"
            ],
            [
             0.8888888888888888,
             "#fdca26"
            ],
            [
             1,
             "#f0f921"
            ]
           ]
          },
          "colorway": [
           "#636efa",
           "#EF553B",
           "#00cc96",
           "#ab63fa",
           "#FFA15A",
           "#19d3f3",
           "#FF6692",
           "#B6E880",
           "#FF97FF",
           "#FECB52"
          ],
          "font": {
           "color": "#2a3f5f"
          },
          "geo": {
           "bgcolor": "white",
           "lakecolor": "white",
           "landcolor": "#E5ECF6",
           "showlakes": true,
           "showland": true,
           "subunitcolor": "white"
          },
          "hoverlabel": {
           "align": "left"
          },
          "hovermode": "closest",
          "mapbox": {
           "style": "light"
          },
          "paper_bgcolor": "white",
          "plot_bgcolor": "#E5ECF6",
          "polar": {
           "angularaxis": {
            "gridcolor": "white",
            "linecolor": "white",
            "ticks": ""
           },
           "bgcolor": "#E5ECF6",
           "radialaxis": {
            "gridcolor": "white",
            "linecolor": "white",
            "ticks": ""
           }
          },
          "scene": {
           "xaxis": {
            "backgroundcolor": "#E5ECF6",
            "gridcolor": "white",
            "gridwidth": 2,
            "linecolor": "white",
            "showbackground": true,
            "ticks": "",
            "zerolinecolor": "white"
           },
           "yaxis": {
            "backgroundcolor": "#E5ECF6",
            "gridcolor": "white",
            "gridwidth": 2,
            "linecolor": "white",
            "showbackground": true,
            "ticks": "",
            "zerolinecolor": "white"
           },
           "zaxis": {
            "backgroundcolor": "#E5ECF6",
            "gridcolor": "white",
            "gridwidth": 2,
            "linecolor": "white",
            "showbackground": true,
            "ticks": "",
            "zerolinecolor": "white"
           }
          },
          "shapedefaults": {
           "line": {
            "color": "#2a3f5f"
           }
          },
          "ternary": {
           "aaxis": {
            "gridcolor": "white",
            "linecolor": "white",
            "ticks": ""
           },
           "baxis": {
            "gridcolor": "white",
            "linecolor": "white",
            "ticks": ""
           },
           "bgcolor": "#E5ECF6",
           "caxis": {
            "gridcolor": "white",
            "linecolor": "white",
            "ticks": ""
           }
          },
          "title": {
           "x": 0.05
          },
          "xaxis": {
           "automargin": true,
           "gridcolor": "white",
           "linecolor": "white",
           "ticks": "",
           "title": {
            "standoff": 15
           },
           "zerolinecolor": "white",
           "zerolinewidth": 2
          },
          "yaxis": {
           "automargin": true,
           "gridcolor": "white",
           "linecolor": "white",
           "ticks": "",
           "title": {
            "standoff": 15
           },
           "zerolinecolor": "white",
           "zerolinewidth": 2
          }
         }
        },
        "title": {
         "font": {
          "color": "#4D5663"
         }
        },
        "xaxis": {
         "gridcolor": "#E1E5ED",
         "showgrid": true,
         "tickfont": {
          "color": "#4D5663"
         },
         "title": {
          "font": {
           "color": "#4D5663"
          },
          "text": ""
         },
         "zerolinecolor": "#E1E5ED"
        },
        "yaxis": {
         "gridcolor": "#E1E5ED",
         "showgrid": true,
         "tickfont": {
          "color": "#4D5663"
         },
         "title": {
          "font": {
           "color": "#4D5663"
          },
          "text": ""
         },
         "zerolinecolor": "#E1E5ED"
        }
       }
      },
      "text/html": [
       "<div>                            <div id=\"8787fafd-c439-4d79-a48f-494aefda135c\" class=\"plotly-graph-div\" style=\"height:525px; width:100%;\"></div>            <script type=\"text/javascript\">                require([\"plotly\"], function(Plotly) {                    window.PLOTLYENV=window.PLOTLYENV || {};\n",
       "                    window.PLOTLYENV.BASE_URL='https://plot.ly';                                    if (document.getElementById(\"8787fafd-c439-4d79-a48f-494aefda135c\")) {                    Plotly.newPlot(                        \"8787fafd-c439-4d79-a48f-494aefda135c\",                        [{\"line\": {\"color\": \"rgba(255, 153, 51, 1.0)\", \"dash\": \"solid\", \"shape\": \"linear\", \"width\": 1.3}, \"marker\": {\"size\": 15, \"symbol\": \"circle\"}, \"mode\": \"markers\", \"name\": \"B\", \"text\": \"\", \"type\": \"scatter\", \"x\": [1.5047071858675904, -1.2306437730366853, 0.605020350239587, -0.11730722559215549, -0.5094486400300653, -0.03247951610040798, 0.9731351835823545, -1.472511340085507, -0.23083304464393553, 0.5787834027566838, -0.3156316458899452, -0.37854491314669936, -1.578313375563011, -0.7431436030597717, 0.5630177560101443, -1.3333242685734497, -0.4812889971321455, 0.46635368545417594, -0.09920746060052134, 1.0140120472191738, -0.9225221157990605, 1.4196106846836412, 0.1952712362569279, -0.8168745709151536, -0.13975493326855662, 0.5823845164628724, -0.04996888900130543, 0.013820356133013887, -0.06830081283978562, 0.19215684436051617, 1.286435464479053, -0.33541662466852057, -2.8587717658377443, 0.006416985094558975, 1.2961166888011706, -0.08942228467851332, 1.587406402848416, 0.25947535251631904, -0.8048768802234534, -0.8419192982284646, -1.6039443064270875, 0.10466270748776571, 0.02998318674242047, -0.006862251689929032, -0.7660788034000553, 1.1726861103538202, -0.27001683146847616, 0.020866604645267316, -1.5500723287323086, -0.1353630979441134, 0.10043734262022548, 0.26824564753711505, 0.12819938986961066, -1.17819730023147, 0.43825107894139315, -0.8922617953366131, -0.1304564737507755, -0.712627526372936, -0.21148412951738027, -0.803660466757645, -0.2795304432141383, -0.7656507457744494, -1.2247199589979165, -0.16498458992525863, 0.923653188973336, 0.13764563658951204, 0.043849382884496906, 0.607314473420084, 0.7462893879083348, 0.18665312051788513, -1.4497989583537694, 1.528431628745062, 0.3712893622551243, 0.47187897031748005, 0.8177302430660359, -0.09631945740607714, 0.2046001019962186, 1.5632968046193618, 0.28173247195427, -0.4990349917914575, 0.4880662332937979, -1.6313543113852154, 0.4398737132524965, 0.22985411660186864, 1.2996791563457732, -0.0015933251060393399, 0.48577287679867154, -0.7611622677031836, -0.9177847234627884, 0.31360597655689065, 0.8504935212248734, -0.5321453076085406, -0.44651013637870907, -0.8221181957042193, 1.8611329510653556, -1.9200683591650554, 0.2640173821523596, -0.012626231690431604, 3.152977471906116, 0.3884525520079316], \"y\": [0.47852473764124553, 0.47953723587996805, -0.44148143458663514, 1.7986040640014305, 1.3887987421628392, 1.597757985723844, 0.5877999356373035, 1.5808007026584723, -0.33360175851415325, -0.13122522278994106, 0.3224781441878215, 0.8496592084762307, -1.150154786050836, -0.03636065930498414, -0.5208283778493646, 1.0938755117779735, 0.15407640392163835, 0.569679081793052, 0.03260012363032162, 0.9945392624370553, 1.3904827907721824, 1.775213217496774, -0.5429998873307663, 0.0915471721012884, -0.09519693387176657, -1.5963958081570286, 2.4465606576364927, 1.5731633274545442, -0.08560470104480285, 0.2580248761829393, 1.539166024904185, 0.5416302736813118, -0.6303030028201453, -0.20719439088977545, 0.4791532829966961, 0.6345908134255359, -1.4310301356276192, -1.3401692846786348, 0.12938500637423184, 0.8697464546388674, -1.233469614258414, 2.266394093414955, 0.4095157714369962, 0.3129562945885272, 0.6875159516001128, 0.43742266506028393, -0.9548174472407832, 0.07014485793751564, -0.20394038833768505, 1.3440227943161343, -0.4211541610746663, 1.1778831515862733, -0.20884700147291713, -0.6287794998087359, -0.7877323616235364, -1.2186019438648847, 1.1458611752078418, -0.38447865902786865, -0.5223514043098862, 0.8604521332601345, -0.29850097445053136, -1.0125124820836118, -0.13931808941227639, 0.24397113215543434, 1.7129575541024467, -0.3046189015886152, -2.304212940366996, 0.9750048983151226, 0.1917996277566565, 1.7150797955986141, -0.6669591370086811, -0.8584067440066807, 1.0979784717067602, -1.4142753213911983, -0.14952157401637756, -1.7533683614377518, 0.12616412568399893, 0.4011261217165389, -1.528023749999498, -2.447037347680574, -1.889348744499366, -0.9452629996802178, 0.05039114426983621, 1.1675519258374532, 0.1295374021492559, 0.3296377092381601, 1.7544282508147742, -0.9871840427773075, -0.49209018295214213, -0.9434878688187036, 1.6166091978251167, -0.23609503635320464, 0.9761194029838546, 0.7307775163820062, 1.3621691942697398, 0.4874710586315161, -2.211347382211482, 0.24820113797038115, -7.074984288589023e-05, -0.9973009933770731]}],                        {\"legend\": {\"bgcolor\": \"#F5F6F9\", \"font\": {\"color\": \"#4D5663\"}}, \"paper_bgcolor\": \"#F5F6F9\", \"plot_bgcolor\": \"#F5F6F9\", \"template\": {\"data\": {\"bar\": [{\"error_x\": {\"color\": \"#2a3f5f\"}, \"error_y\": {\"color\": \"#2a3f5f\"}, \"marker\": {\"line\": {\"color\": \"#E5ECF6\", \"width\": 0.5}}, \"type\": \"bar\"}], \"barpolar\": [{\"marker\": {\"line\": {\"color\": \"#E5ECF6\", \"width\": 0.5}}, \"type\": \"barpolar\"}], \"carpet\": [{\"aaxis\": {\"endlinecolor\": \"#2a3f5f\", \"gridcolor\": \"white\", \"linecolor\": \"white\", \"minorgridcolor\": \"white\", \"startlinecolor\": \"#2a3f5f\"}, \"baxis\": {\"endlinecolor\": \"#2a3f5f\", \"gridcolor\": \"white\", \"linecolor\": \"white\", \"minorgridcolor\": \"white\", \"startlinecolor\": \"#2a3f5f\"}, \"type\": \"carpet\"}], \"choropleth\": [{\"colorbar\": {\"outlinewidth\": 0, \"ticks\": \"\"}, \"type\": \"choropleth\"}], \"contour\": [{\"colorbar\": {\"outlinewidth\": 0, \"ticks\": \"\"}, \"colorscale\": [[0.0, \"#0d0887\"], [0.1111111111111111, \"#46039f\"], [0.2222222222222222, \"#7201a8\"], [0.3333333333333333, \"#9c179e\"], [0.4444444444444444, \"#bd3786\"], [0.5555555555555556, \"#d8576b\"], [0.6666666666666666, \"#ed7953\"], [0.7777777777777778, \"#fb9f3a\"], [0.8888888888888888, \"#fdca26\"], [1.0, \"#f0f921\"]], \"type\": \"contour\"}], \"contourcarpet\": [{\"colorbar\": {\"outlinewidth\": 0, \"ticks\": \"\"}, \"type\": \"contourcarpet\"}], \"heatmap\": [{\"colorbar\": {\"outlinewidth\": 0, \"ticks\": \"\"}, \"colorscale\": [[0.0, \"#0d0887\"], [0.1111111111111111, \"#46039f\"], [0.2222222222222222, \"#7201a8\"], [0.3333333333333333, \"#9c179e\"], [0.4444444444444444, \"#bd3786\"], [0.5555555555555556, \"#d8576b\"], [0.6666666666666666, \"#ed7953\"], [0.7777777777777778, \"#fb9f3a\"], [0.8888888888888888, \"#fdca26\"], [1.0, \"#f0f921\"]], \"type\": \"heatmap\"}], \"heatmapgl\": [{\"colorbar\": {\"outlinewidth\": 0, \"ticks\": \"\"}, \"colorscale\": [[0.0, \"#0d0887\"], [0.1111111111111111, \"#46039f\"], [0.2222222222222222, \"#7201a8\"], [0.3333333333333333, \"#9c179e\"], [0.4444444444444444, \"#bd3786\"], [0.5555555555555556, \"#d8576b\"], [0.6666666666666666, \"#ed7953\"], [0.7777777777777778, \"#fb9f3a\"], [0.8888888888888888, \"#fdca26\"], [1.0, \"#f0f921\"]], \"type\": \"heatmapgl\"}], \"histogram\": [{\"marker\": {\"colorbar\": {\"outlinewidth\": 0, \"ticks\": \"\"}}, \"type\": \"histogram\"}], \"histogram2d\": [{\"colorbar\": {\"outlinewidth\": 0, \"ticks\": \"\"}, \"colorscale\": [[0.0, \"#0d0887\"], [0.1111111111111111, \"#46039f\"], [0.2222222222222222, \"#7201a8\"], [0.3333333333333333, \"#9c179e\"], [0.4444444444444444, \"#bd3786\"], [0.5555555555555556, \"#d8576b\"], [0.6666666666666666, \"#ed7953\"], [0.7777777777777778, \"#fb9f3a\"], [0.8888888888888888, \"#fdca26\"], [1.0, \"#f0f921\"]], \"type\": \"histogram2d\"}], \"histogram2dcontour\": [{\"colorbar\": {\"outlinewidth\": 0, \"ticks\": \"\"}, \"colorscale\": [[0.0, \"#0d0887\"], [0.1111111111111111, \"#46039f\"], [0.2222222222222222, \"#7201a8\"], [0.3333333333333333, \"#9c179e\"], [0.4444444444444444, \"#bd3786\"], [0.5555555555555556, \"#d8576b\"], [0.6666666666666666, \"#ed7953\"], [0.7777777777777778, \"#fb9f3a\"], [0.8888888888888888, \"#fdca26\"], [1.0, \"#f0f921\"]], \"type\": \"histogram2dcontour\"}], \"mesh3d\": [{\"colorbar\": {\"outlinewidth\": 0, \"ticks\": \"\"}, \"type\": \"mesh3d\"}], \"parcoords\": [{\"line\": {\"colorbar\": {\"outlinewidth\": 0, \"ticks\": \"\"}}, \"type\": \"parcoords\"}], \"pie\": [{\"automargin\": true, \"type\": \"pie\"}], \"scatter\": [{\"marker\": {\"colorbar\": {\"outlinewidth\": 0, \"ticks\": \"\"}}, \"type\": \"scatter\"}], \"scatter3d\": [{\"line\": {\"colorbar\": {\"outlinewidth\": 0, \"ticks\": \"\"}}, \"marker\": {\"colorbar\": {\"outlinewidth\": 0, \"ticks\": \"\"}}, \"type\": \"scatter3d\"}], \"scattercarpet\": [{\"marker\": {\"colorbar\": {\"outlinewidth\": 0, \"ticks\": \"\"}}, \"type\": \"scattercarpet\"}], \"scattergeo\": [{\"marker\": {\"colorbar\": {\"outlinewidth\": 0, \"ticks\": \"\"}}, \"type\": \"scattergeo\"}], \"scattergl\": [{\"marker\": {\"colorbar\": {\"outlinewidth\": 0, \"ticks\": \"\"}}, \"type\": \"scattergl\"}], \"scattermapbox\": [{\"marker\": {\"colorbar\": {\"outlinewidth\": 0, \"ticks\": \"\"}}, \"type\": \"scattermapbox\"}], \"scatterpolar\": [{\"marker\": {\"colorbar\": {\"outlinewidth\": 0, \"ticks\": \"\"}}, \"type\": \"scatterpolar\"}], \"scatterpolargl\": [{\"marker\": {\"colorbar\": {\"outlinewidth\": 0, \"ticks\": \"\"}}, \"type\": \"scatterpolargl\"}], \"scatterternary\": [{\"marker\": {\"colorbar\": {\"outlinewidth\": 0, \"ticks\": \"\"}}, \"type\": \"scatterternary\"}], \"surface\": [{\"colorbar\": {\"outlinewidth\": 0, \"ticks\": \"\"}, \"colorscale\": [[0.0, \"#0d0887\"], [0.1111111111111111, \"#46039f\"], [0.2222222222222222, \"#7201a8\"], [0.3333333333333333, \"#9c179e\"], [0.4444444444444444, \"#bd3786\"], [0.5555555555555556, \"#d8576b\"], [0.6666666666666666, \"#ed7953\"], [0.7777777777777778, \"#fb9f3a\"], [0.8888888888888888, \"#fdca26\"], [1.0, \"#f0f921\"]], \"type\": \"surface\"}], \"table\": [{\"cells\": {\"fill\": {\"color\": \"#EBF0F8\"}, \"line\": {\"color\": \"white\"}}, \"header\": {\"fill\": {\"color\": \"#C8D4E3\"}, \"line\": {\"color\": \"white\"}}, \"type\": \"table\"}]}, \"layout\": {\"annotationdefaults\": {\"arrowcolor\": \"#2a3f5f\", \"arrowhead\": 0, \"arrowwidth\": 1}, \"autotypenumbers\": \"strict\", \"coloraxis\": {\"colorbar\": {\"outlinewidth\": 0, \"ticks\": \"\"}}, \"colorscale\": {\"diverging\": [[0, \"#8e0152\"], [0.1, \"#c51b7d\"], [0.2, \"#de77ae\"], [0.3, \"#f1b6da\"], [0.4, \"#fde0ef\"], [0.5, \"#f7f7f7\"], [0.6, \"#e6f5d0\"], [0.7, \"#b8e186\"], [0.8, \"#7fbc41\"], [0.9, \"#4d9221\"], [1, \"#276419\"]], \"sequential\": [[0.0, \"#0d0887\"], [0.1111111111111111, \"#46039f\"], [0.2222222222222222, \"#7201a8\"], [0.3333333333333333, \"#9c179e\"], [0.4444444444444444, \"#bd3786\"], [0.5555555555555556, \"#d8576b\"], [0.6666666666666666, \"#ed7953\"], [0.7777777777777778, \"#fb9f3a\"], [0.8888888888888888, \"#fdca26\"], [1.0, \"#f0f921\"]], \"sequentialminus\": [[0.0, \"#0d0887\"], [0.1111111111111111, \"#46039f\"], [0.2222222222222222, \"#7201a8\"], [0.3333333333333333, \"#9c179e\"], [0.4444444444444444, \"#bd3786\"], [0.5555555555555556, \"#d8576b\"], [0.6666666666666666, \"#ed7953\"], [0.7777777777777778, \"#fb9f3a\"], [0.8888888888888888, \"#fdca26\"], [1.0, \"#f0f921\"]]}, \"colorway\": [\"#636efa\", \"#EF553B\", \"#00cc96\", \"#ab63fa\", \"#FFA15A\", \"#19d3f3\", \"#FF6692\", \"#B6E880\", \"#FF97FF\", \"#FECB52\"], \"font\": {\"color\": \"#2a3f5f\"}, \"geo\": {\"bgcolor\": \"white\", \"lakecolor\": \"white\", \"landcolor\": \"#E5ECF6\", \"showlakes\": true, \"showland\": true, \"subunitcolor\": \"white\"}, \"hoverlabel\": {\"align\": \"left\"}, \"hovermode\": \"closest\", \"mapbox\": {\"style\": \"light\"}, \"paper_bgcolor\": \"white\", \"plot_bgcolor\": \"#E5ECF6\", \"polar\": {\"angularaxis\": {\"gridcolor\": \"white\", \"linecolor\": \"white\", \"ticks\": \"\"}, \"bgcolor\": \"#E5ECF6\", \"radialaxis\": {\"gridcolor\": \"white\", \"linecolor\": \"white\", \"ticks\": \"\"}}, \"scene\": {\"xaxis\": {\"backgroundcolor\": \"#E5ECF6\", \"gridcolor\": \"white\", \"gridwidth\": 2, \"linecolor\": \"white\", \"showbackground\": true, \"ticks\": \"\", \"zerolinecolor\": \"white\"}, \"yaxis\": {\"backgroundcolor\": \"#E5ECF6\", \"gridcolor\": \"white\", \"gridwidth\": 2, \"linecolor\": \"white\", \"showbackground\": true, \"ticks\": \"\", \"zerolinecolor\": \"white\"}, \"zaxis\": {\"backgroundcolor\": \"#E5ECF6\", \"gridcolor\": \"white\", \"gridwidth\": 2, \"linecolor\": \"white\", \"showbackground\": true, \"ticks\": \"\", \"zerolinecolor\": \"white\"}}, \"shapedefaults\": {\"line\": {\"color\": \"#2a3f5f\"}}, \"ternary\": {\"aaxis\": {\"gridcolor\": \"white\", \"linecolor\": \"white\", \"ticks\": \"\"}, \"baxis\": {\"gridcolor\": \"white\", \"linecolor\": \"white\", \"ticks\": \"\"}, \"bgcolor\": \"#E5ECF6\", \"caxis\": {\"gridcolor\": \"white\", \"linecolor\": \"white\", \"ticks\": \"\"}}, \"title\": {\"x\": 0.05}, \"xaxis\": {\"automargin\": true, \"gridcolor\": \"white\", \"linecolor\": \"white\", \"ticks\": \"\", \"title\": {\"standoff\": 15}, \"zerolinecolor\": \"white\", \"zerolinewidth\": 2}, \"yaxis\": {\"automargin\": true, \"gridcolor\": \"white\", \"linecolor\": \"white\", \"ticks\": \"\", \"title\": {\"standoff\": 15}, \"zerolinecolor\": \"white\", \"zerolinewidth\": 2}}}, \"title\": {\"font\": {\"color\": \"#4D5663\"}}, \"xaxis\": {\"gridcolor\": \"#E1E5ED\", \"showgrid\": true, \"tickfont\": {\"color\": \"#4D5663\"}, \"title\": {\"font\": {\"color\": \"#4D5663\"}, \"text\": \"\"}, \"zerolinecolor\": \"#E1E5ED\"}, \"yaxis\": {\"gridcolor\": \"#E1E5ED\", \"showgrid\": true, \"tickfont\": {\"color\": \"#4D5663\"}, \"title\": {\"font\": {\"color\": \"#4D5663\"}, \"text\": \"\"}, \"zerolinecolor\": \"#E1E5ED\"}},                        {\"showLink\": true, \"linkText\": \"Export to plot.ly\", \"plotlyServerURL\": \"https://plot.ly\", \"responsive\": true}                    ).then(function(){\n",
       "                            \n",
       "var gd = document.getElementById('8787fafd-c439-4d79-a48f-494aefda135c');\n",
       "var x = new MutationObserver(function (mutations, observer) {{\n",
       "        var display = window.getComputedStyle(gd).display;\n",
       "        if (!display || display === 'none') {{\n",
       "            console.log([gd, 'removed!']);\n",
       "            Plotly.purge(gd);\n",
       "            observer.disconnect();\n",
       "        }}\n",
       "}});\n",
       "\n",
       "// Listen for the removal of the full notebook cells\n",
       "var notebookContainer = gd.closest('#notebook-container');\n",
       "if (notebookContainer) {{\n",
       "    x.observe(notebookContainer, {childList: true});\n",
       "}}\n",
       "\n",
       "// Listen for the clearing of the current output cell\n",
       "var outputEl = gd.closest('.output');\n",
       "if (outputEl) {{\n",
       "    x.observe(outputEl, {childList: true});\n",
       "}}\n",
       "\n",
       "                        })                };                });            </script>        </div>"
      ]
     },
     "metadata": {},
     "output_type": "display_data"
    }
   ],
   "source": [
    "df.iplot(kind='scatter', x='A', y='B', mode='markers', size=15)"
   ]
  },
  {
   "cell_type": "code",
   "execution_count": 25,
   "metadata": {},
   "outputs": [
    {
     "data": {
      "application/vnd.plotly.v1+json": {
       "config": {
        "linkText": "Export to plot.ly",
        "plotlyServerURL": "https://plot.ly",
        "showLink": true
       },
       "data": [
        {
         "marker": {
          "color": "rgba(255, 153, 51, 0.6)",
          "line": {
           "color": "rgba(255, 153, 51, 1.0)",
           "width": 1
          }
         },
         "name": "Values",
         "orientation": "v",
         "text": "",
         "type": "bar",
         "x": [
          "A",
          "B",
          "C"
         ],
         "y": [
          32,
          43,
          50
         ]
        }
       ],
       "layout": {
        "legend": {
         "bgcolor": "#F5F6F9",
         "font": {
          "color": "#4D5663"
         }
        },
        "paper_bgcolor": "#F5F6F9",
        "plot_bgcolor": "#F5F6F9",
        "template": {
         "data": {
          "bar": [
           {
            "error_x": {
             "color": "#2a3f5f"
            },
            "error_y": {
             "color": "#2a3f5f"
            },
            "marker": {
             "line": {
              "color": "#E5ECF6",
              "width": 0.5
             }
            },
            "type": "bar"
           }
          ],
          "barpolar": [
           {
            "marker": {
             "line": {
              "color": "#E5ECF6",
              "width": 0.5
             }
            },
            "type": "barpolar"
           }
          ],
          "carpet": [
           {
            "aaxis": {
             "endlinecolor": "#2a3f5f",
             "gridcolor": "white",
             "linecolor": "white",
             "minorgridcolor": "white",
             "startlinecolor": "#2a3f5f"
            },
            "baxis": {
             "endlinecolor": "#2a3f5f",
             "gridcolor": "white",
             "linecolor": "white",
             "minorgridcolor": "white",
             "startlinecolor": "#2a3f5f"
            },
            "type": "carpet"
           }
          ],
          "choropleth": [
           {
            "colorbar": {
             "outlinewidth": 0,
             "ticks": ""
            },
            "type": "choropleth"
           }
          ],
          "contour": [
           {
            "colorbar": {
             "outlinewidth": 0,
             "ticks": ""
            },
            "colorscale": [
             [
              0,
              "#0d0887"
             ],
             [
              0.1111111111111111,
              "#46039f"
             ],
             [
              0.2222222222222222,
              "#7201a8"
             ],
             [
              0.3333333333333333,
              "#9c179e"
             ],
             [
              0.4444444444444444,
              "#bd3786"
             ],
             [
              0.5555555555555556,
              "#d8576b"
             ],
             [
              0.6666666666666666,
              "#ed7953"
             ],
             [
              0.7777777777777778,
              "#fb9f3a"
             ],
             [
              0.8888888888888888,
              "#fdca26"
             ],
             [
              1,
              "#f0f921"
             ]
            ],
            "type": "contour"
           }
          ],
          "contourcarpet": [
           {
            "colorbar": {
             "outlinewidth": 0,
             "ticks": ""
            },
            "type": "contourcarpet"
           }
          ],
          "heatmap": [
           {
            "colorbar": {
             "outlinewidth": 0,
             "ticks": ""
            },
            "colorscale": [
             [
              0,
              "#0d0887"
             ],
             [
              0.1111111111111111,
              "#46039f"
             ],
             [
              0.2222222222222222,
              "#7201a8"
             ],
             [
              0.3333333333333333,
              "#9c179e"
             ],
             [
              0.4444444444444444,
              "#bd3786"
             ],
             [
              0.5555555555555556,
              "#d8576b"
             ],
             [
              0.6666666666666666,
              "#ed7953"
             ],
             [
              0.7777777777777778,
              "#fb9f3a"
             ],
             [
              0.8888888888888888,
              "#fdca26"
             ],
             [
              1,
              "#f0f921"
             ]
            ],
            "type": "heatmap"
           }
          ],
          "heatmapgl": [
           {
            "colorbar": {
             "outlinewidth": 0,
             "ticks": ""
            },
            "colorscale": [
             [
              0,
              "#0d0887"
             ],
             [
              0.1111111111111111,
              "#46039f"
             ],
             [
              0.2222222222222222,
              "#7201a8"
             ],
             [
              0.3333333333333333,
              "#9c179e"
             ],
             [
              0.4444444444444444,
              "#bd3786"
             ],
             [
              0.5555555555555556,
              "#d8576b"
             ],
             [
              0.6666666666666666,
              "#ed7953"
             ],
             [
              0.7777777777777778,
              "#fb9f3a"
             ],
             [
              0.8888888888888888,
              "#fdca26"
             ],
             [
              1,
              "#f0f921"
             ]
            ],
            "type": "heatmapgl"
           }
          ],
          "histogram": [
           {
            "marker": {
             "colorbar": {
              "outlinewidth": 0,
              "ticks": ""
             }
            },
            "type": "histogram"
           }
          ],
          "histogram2d": [
           {
            "colorbar": {
             "outlinewidth": 0,
             "ticks": ""
            },
            "colorscale": [
             [
              0,
              "#0d0887"
             ],
             [
              0.1111111111111111,
              "#46039f"
             ],
             [
              0.2222222222222222,
              "#7201a8"
             ],
             [
              0.3333333333333333,
              "#9c179e"
             ],
             [
              0.4444444444444444,
              "#bd3786"
             ],
             [
              0.5555555555555556,
              "#d8576b"
             ],
             [
              0.6666666666666666,
              "#ed7953"
             ],
             [
              0.7777777777777778,
              "#fb9f3a"
             ],
             [
              0.8888888888888888,
              "#fdca26"
             ],
             [
              1,
              "#f0f921"
             ]
            ],
            "type": "histogram2d"
           }
          ],
          "histogram2dcontour": [
           {
            "colorbar": {
             "outlinewidth": 0,
             "ticks": ""
            },
            "colorscale": [
             [
              0,
              "#0d0887"
             ],
             [
              0.1111111111111111,
              "#46039f"
             ],
             [
              0.2222222222222222,
              "#7201a8"
             ],
             [
              0.3333333333333333,
              "#9c179e"
             ],
             [
              0.4444444444444444,
              "#bd3786"
             ],
             [
              0.5555555555555556,
              "#d8576b"
             ],
             [
              0.6666666666666666,
              "#ed7953"
             ],
             [
              0.7777777777777778,
              "#fb9f3a"
             ],
             [
              0.8888888888888888,
              "#fdca26"
             ],
             [
              1,
              "#f0f921"
             ]
            ],
            "type": "histogram2dcontour"
           }
          ],
          "mesh3d": [
           {
            "colorbar": {
             "outlinewidth": 0,
             "ticks": ""
            },
            "type": "mesh3d"
           }
          ],
          "parcoords": [
           {
            "line": {
             "colorbar": {
              "outlinewidth": 0,
              "ticks": ""
             }
            },
            "type": "parcoords"
           }
          ],
          "pie": [
           {
            "automargin": true,
            "type": "pie"
           }
          ],
          "scatter": [
           {
            "marker": {
             "colorbar": {
              "outlinewidth": 0,
              "ticks": ""
             }
            },
            "type": "scatter"
           }
          ],
          "scatter3d": [
           {
            "line": {
             "colorbar": {
              "outlinewidth": 0,
              "ticks": ""
             }
            },
            "marker": {
             "colorbar": {
              "outlinewidth": 0,
              "ticks": ""
             }
            },
            "type": "scatter3d"
           }
          ],
          "scattercarpet": [
           {
            "marker": {
             "colorbar": {
              "outlinewidth": 0,
              "ticks": ""
             }
            },
            "type": "scattercarpet"
           }
          ],
          "scattergeo": [
           {
            "marker": {
             "colorbar": {
              "outlinewidth": 0,
              "ticks": ""
             }
            },
            "type": "scattergeo"
           }
          ],
          "scattergl": [
           {
            "marker": {
             "colorbar": {
              "outlinewidth": 0,
              "ticks": ""
             }
            },
            "type": "scattergl"
           }
          ],
          "scattermapbox": [
           {
            "marker": {
             "colorbar": {
              "outlinewidth": 0,
              "ticks": ""
             }
            },
            "type": "scattermapbox"
           }
          ],
          "scatterpolar": [
           {
            "marker": {
             "colorbar": {
              "outlinewidth": 0,
              "ticks": ""
             }
            },
            "type": "scatterpolar"
           }
          ],
          "scatterpolargl": [
           {
            "marker": {
             "colorbar": {
              "outlinewidth": 0,
              "ticks": ""
             }
            },
            "type": "scatterpolargl"
           }
          ],
          "scatterternary": [
           {
            "marker": {
             "colorbar": {
              "outlinewidth": 0,
              "ticks": ""
             }
            },
            "type": "scatterternary"
           }
          ],
          "surface": [
           {
            "colorbar": {
             "outlinewidth": 0,
             "ticks": ""
            },
            "colorscale": [
             [
              0,
              "#0d0887"
             ],
             [
              0.1111111111111111,
              "#46039f"
             ],
             [
              0.2222222222222222,
              "#7201a8"
             ],
             [
              0.3333333333333333,
              "#9c179e"
             ],
             [
              0.4444444444444444,
              "#bd3786"
             ],
             [
              0.5555555555555556,
              "#d8576b"
             ],
             [
              0.6666666666666666,
              "#ed7953"
             ],
             [
              0.7777777777777778,
              "#fb9f3a"
             ],
             [
              0.8888888888888888,
              "#fdca26"
             ],
             [
              1,
              "#f0f921"
             ]
            ],
            "type": "surface"
           }
          ],
          "table": [
           {
            "cells": {
             "fill": {
              "color": "#EBF0F8"
             },
             "line": {
              "color": "white"
             }
            },
            "header": {
             "fill": {
              "color": "#C8D4E3"
             },
             "line": {
              "color": "white"
             }
            },
            "type": "table"
           }
          ]
         },
         "layout": {
          "annotationdefaults": {
           "arrowcolor": "#2a3f5f",
           "arrowhead": 0,
           "arrowwidth": 1
          },
          "autotypenumbers": "strict",
          "coloraxis": {
           "colorbar": {
            "outlinewidth": 0,
            "ticks": ""
           }
          },
          "colorscale": {
           "diverging": [
            [
             0,
             "#8e0152"
            ],
            [
             0.1,
             "#c51b7d"
            ],
            [
             0.2,
             "#de77ae"
            ],
            [
             0.3,
             "#f1b6da"
            ],
            [
             0.4,
             "#fde0ef"
            ],
            [
             0.5,
             "#f7f7f7"
            ],
            [
             0.6,
             "#e6f5d0"
            ],
            [
             0.7,
             "#b8e186"
            ],
            [
             0.8,
             "#7fbc41"
            ],
            [
             0.9,
             "#4d9221"
            ],
            [
             1,
             "#276419"
            ]
           ],
           "sequential": [
            [
             0,
             "#0d0887"
            ],
            [
             0.1111111111111111,
             "#46039f"
            ],
            [
             0.2222222222222222,
             "#7201a8"
            ],
            [
             0.3333333333333333,
             "#9c179e"
            ],
            [
             0.4444444444444444,
             "#bd3786"
            ],
            [
             0.5555555555555556,
             "#d8576b"
            ],
            [
             0.6666666666666666,
             "#ed7953"
            ],
            [
             0.7777777777777778,
             "#fb9f3a"
            ],
            [
             0.8888888888888888,
             "#fdca26"
            ],
            [
             1,
             "#f0f921"
            ]
           ],
           "sequentialminus": [
            [
             0,
             "#0d0887"
            ],
            [
             0.1111111111111111,
             "#46039f"
            ],
            [
             0.2222222222222222,
             "#7201a8"
            ],
            [
             0.3333333333333333,
             "#9c179e"
            ],
            [
             0.4444444444444444,
             "#bd3786"
            ],
            [
             0.5555555555555556,
             "#d8576b"
            ],
            [
             0.6666666666666666,
             "#ed7953"
            ],
            [
             0.7777777777777778,
             "#fb9f3a"
            ],
            [
             0.8888888888888888,
             "#fdca26"
            ],
            [
             1,
             "#f0f921"
            ]
           ]
          },
          "colorway": [
           "#636efa",
           "#EF553B",
           "#00cc96",
           "#ab63fa",
           "#FFA15A",
           "#19d3f3",
           "#FF6692",
           "#B6E880",
           "#FF97FF",
           "#FECB52"
          ],
          "font": {
           "color": "#2a3f5f"
          },
          "geo": {
           "bgcolor": "white",
           "lakecolor": "white",
           "landcolor": "#E5ECF6",
           "showlakes": true,
           "showland": true,
           "subunitcolor": "white"
          },
          "hoverlabel": {
           "align": "left"
          },
          "hovermode": "closest",
          "mapbox": {
           "style": "light"
          },
          "paper_bgcolor": "white",
          "plot_bgcolor": "#E5ECF6",
          "polar": {
           "angularaxis": {
            "gridcolor": "white",
            "linecolor": "white",
            "ticks": ""
           },
           "bgcolor": "#E5ECF6",
           "radialaxis": {
            "gridcolor": "white",
            "linecolor": "white",
            "ticks": ""
           }
          },
          "scene": {
           "xaxis": {
            "backgroundcolor": "#E5ECF6",
            "gridcolor": "white",
            "gridwidth": 2,
            "linecolor": "white",
            "showbackground": true,
            "ticks": "",
            "zerolinecolor": "white"
           },
           "yaxis": {
            "backgroundcolor": "#E5ECF6",
            "gridcolor": "white",
            "gridwidth": 2,
            "linecolor": "white",
            "showbackground": true,
            "ticks": "",
            "zerolinecolor": "white"
           },
           "zaxis": {
            "backgroundcolor": "#E5ECF6",
            "gridcolor": "white",
            "gridwidth": 2,
            "linecolor": "white",
            "showbackground": true,
            "ticks": "",
            "zerolinecolor": "white"
           }
          },
          "shapedefaults": {
           "line": {
            "color": "#2a3f5f"
           }
          },
          "ternary": {
           "aaxis": {
            "gridcolor": "white",
            "linecolor": "white",
            "ticks": ""
           },
           "baxis": {
            "gridcolor": "white",
            "linecolor": "white",
            "ticks": ""
           },
           "bgcolor": "#E5ECF6",
           "caxis": {
            "gridcolor": "white",
            "linecolor": "white",
            "ticks": ""
           }
          },
          "title": {
           "x": 0.05
          },
          "xaxis": {
           "automargin": true,
           "gridcolor": "white",
           "linecolor": "white",
           "ticks": "",
           "title": {
            "standoff": 15
           },
           "zerolinecolor": "white",
           "zerolinewidth": 2
          },
          "yaxis": {
           "automargin": true,
           "gridcolor": "white",
           "linecolor": "white",
           "ticks": "",
           "title": {
            "standoff": 15
           },
           "zerolinecolor": "white",
           "zerolinewidth": 2
          }
         }
        },
        "title": {
         "font": {
          "color": "#4D5663"
         }
        },
        "xaxis": {
         "gridcolor": "#E1E5ED",
         "showgrid": true,
         "tickfont": {
          "color": "#4D5663"
         },
         "title": {
          "font": {
           "color": "#4D5663"
          },
          "text": ""
         },
         "zerolinecolor": "#E1E5ED"
        },
        "yaxis": {
         "gridcolor": "#E1E5ED",
         "showgrid": true,
         "tickfont": {
          "color": "#4D5663"
         },
         "title": {
          "font": {
           "color": "#4D5663"
          },
          "text": ""
         },
         "zerolinecolor": "#E1E5ED"
        }
       }
      },
      "text/html": [
       "<div>                            <div id=\"c7c3c5e0-e314-4c4b-abc0-9952eb23632f\" class=\"plotly-graph-div\" style=\"height:525px; width:100%;\"></div>            <script type=\"text/javascript\">                require([\"plotly\"], function(Plotly) {                    window.PLOTLYENV=window.PLOTLYENV || {};\n",
       "                    window.PLOTLYENV.BASE_URL='https://plot.ly';                                    if (document.getElementById(\"c7c3c5e0-e314-4c4b-abc0-9952eb23632f\")) {                    Plotly.newPlot(                        \"c7c3c5e0-e314-4c4b-abc0-9952eb23632f\",                        [{\"marker\": {\"color\": \"rgba(255, 153, 51, 0.6)\", \"line\": {\"color\": \"rgba(255, 153, 51, 1.0)\", \"width\": 1}}, \"name\": \"Values\", \"orientation\": \"v\", \"text\": \"\", \"type\": \"bar\", \"x\": [\"A\", \"B\", \"C\"], \"y\": [32, 43, 50]}],                        {\"legend\": {\"bgcolor\": \"#F5F6F9\", \"font\": {\"color\": \"#4D5663\"}}, \"paper_bgcolor\": \"#F5F6F9\", \"plot_bgcolor\": \"#F5F6F9\", \"template\": {\"data\": {\"bar\": [{\"error_x\": {\"color\": \"#2a3f5f\"}, \"error_y\": {\"color\": \"#2a3f5f\"}, \"marker\": {\"line\": {\"color\": \"#E5ECF6\", \"width\": 0.5}}, \"type\": \"bar\"}], \"barpolar\": [{\"marker\": {\"line\": {\"color\": \"#E5ECF6\", \"width\": 0.5}}, \"type\": \"barpolar\"}], \"carpet\": [{\"aaxis\": {\"endlinecolor\": \"#2a3f5f\", \"gridcolor\": \"white\", \"linecolor\": \"white\", \"minorgridcolor\": \"white\", \"startlinecolor\": \"#2a3f5f\"}, \"baxis\": {\"endlinecolor\": \"#2a3f5f\", \"gridcolor\": \"white\", \"linecolor\": \"white\", \"minorgridcolor\": \"white\", \"startlinecolor\": \"#2a3f5f\"}, \"type\": \"carpet\"}], \"choropleth\": [{\"colorbar\": {\"outlinewidth\": 0, \"ticks\": \"\"}, \"type\": \"choropleth\"}], \"contour\": [{\"colorbar\": {\"outlinewidth\": 0, \"ticks\": \"\"}, \"colorscale\": [[0.0, \"#0d0887\"], [0.1111111111111111, \"#46039f\"], [0.2222222222222222, \"#7201a8\"], [0.3333333333333333, \"#9c179e\"], [0.4444444444444444, \"#bd3786\"], [0.5555555555555556, \"#d8576b\"], [0.6666666666666666, \"#ed7953\"], [0.7777777777777778, \"#fb9f3a\"], [0.8888888888888888, \"#fdca26\"], [1.0, \"#f0f921\"]], \"type\": \"contour\"}], \"contourcarpet\": [{\"colorbar\": {\"outlinewidth\": 0, \"ticks\": \"\"}, \"type\": \"contourcarpet\"}], \"heatmap\": [{\"colorbar\": {\"outlinewidth\": 0, \"ticks\": \"\"}, \"colorscale\": [[0.0, \"#0d0887\"], [0.1111111111111111, \"#46039f\"], [0.2222222222222222, \"#7201a8\"], [0.3333333333333333, \"#9c179e\"], [0.4444444444444444, \"#bd3786\"], [0.5555555555555556, \"#d8576b\"], [0.6666666666666666, \"#ed7953\"], [0.7777777777777778, \"#fb9f3a\"], [0.8888888888888888, \"#fdca26\"], [1.0, \"#f0f921\"]], \"type\": \"heatmap\"}], \"heatmapgl\": [{\"colorbar\": {\"outlinewidth\": 0, \"ticks\": \"\"}, \"colorscale\": [[0.0, \"#0d0887\"], [0.1111111111111111, \"#46039f\"], [0.2222222222222222, \"#7201a8\"], [0.3333333333333333, \"#9c179e\"], [0.4444444444444444, \"#bd3786\"], [0.5555555555555556, \"#d8576b\"], [0.6666666666666666, \"#ed7953\"], [0.7777777777777778, \"#fb9f3a\"], [0.8888888888888888, \"#fdca26\"], [1.0, \"#f0f921\"]], \"type\": \"heatmapgl\"}], \"histogram\": [{\"marker\": {\"colorbar\": {\"outlinewidth\": 0, \"ticks\": \"\"}}, \"type\": \"histogram\"}], \"histogram2d\": [{\"colorbar\": {\"outlinewidth\": 0, \"ticks\": \"\"}, \"colorscale\": [[0.0, \"#0d0887\"], [0.1111111111111111, \"#46039f\"], [0.2222222222222222, \"#7201a8\"], [0.3333333333333333, \"#9c179e\"], [0.4444444444444444, \"#bd3786\"], [0.5555555555555556, \"#d8576b\"], [0.6666666666666666, \"#ed7953\"], [0.7777777777777778, \"#fb9f3a\"], [0.8888888888888888, \"#fdca26\"], [1.0, \"#f0f921\"]], \"type\": \"histogram2d\"}], \"histogram2dcontour\": [{\"colorbar\": {\"outlinewidth\": 0, \"ticks\": \"\"}, \"colorscale\": [[0.0, \"#0d0887\"], [0.1111111111111111, \"#46039f\"], [0.2222222222222222, \"#7201a8\"], [0.3333333333333333, \"#9c179e\"], [0.4444444444444444, \"#bd3786\"], [0.5555555555555556, \"#d8576b\"], [0.6666666666666666, \"#ed7953\"], [0.7777777777777778, \"#fb9f3a\"], [0.8888888888888888, \"#fdca26\"], [1.0, \"#f0f921\"]], \"type\": \"histogram2dcontour\"}], \"mesh3d\": [{\"colorbar\": {\"outlinewidth\": 0, \"ticks\": \"\"}, \"type\": \"mesh3d\"}], \"parcoords\": [{\"line\": {\"colorbar\": {\"outlinewidth\": 0, \"ticks\": \"\"}}, \"type\": \"parcoords\"}], \"pie\": [{\"automargin\": true, \"type\": \"pie\"}], \"scatter\": [{\"marker\": {\"colorbar\": {\"outlinewidth\": 0, \"ticks\": \"\"}}, \"type\": \"scatter\"}], \"scatter3d\": [{\"line\": {\"colorbar\": {\"outlinewidth\": 0, \"ticks\": \"\"}}, \"marker\": {\"colorbar\": {\"outlinewidth\": 0, \"ticks\": \"\"}}, \"type\": \"scatter3d\"}], \"scattercarpet\": [{\"marker\": {\"colorbar\": {\"outlinewidth\": 0, \"ticks\": \"\"}}, \"type\": \"scattercarpet\"}], \"scattergeo\": [{\"marker\": {\"colorbar\": {\"outlinewidth\": 0, \"ticks\": \"\"}}, \"type\": \"scattergeo\"}], \"scattergl\": [{\"marker\": {\"colorbar\": {\"outlinewidth\": 0, \"ticks\": \"\"}}, \"type\": \"scattergl\"}], \"scattermapbox\": [{\"marker\": {\"colorbar\": {\"outlinewidth\": 0, \"ticks\": \"\"}}, \"type\": \"scattermapbox\"}], \"scatterpolar\": [{\"marker\": {\"colorbar\": {\"outlinewidth\": 0, \"ticks\": \"\"}}, \"type\": \"scatterpolar\"}], \"scatterpolargl\": [{\"marker\": {\"colorbar\": {\"outlinewidth\": 0, \"ticks\": \"\"}}, \"type\": \"scatterpolargl\"}], \"scatterternary\": [{\"marker\": {\"colorbar\": {\"outlinewidth\": 0, \"ticks\": \"\"}}, \"type\": \"scatterternary\"}], \"surface\": [{\"colorbar\": {\"outlinewidth\": 0, \"ticks\": \"\"}, \"colorscale\": [[0.0, \"#0d0887\"], [0.1111111111111111, \"#46039f\"], [0.2222222222222222, \"#7201a8\"], [0.3333333333333333, \"#9c179e\"], [0.4444444444444444, \"#bd3786\"], [0.5555555555555556, \"#d8576b\"], [0.6666666666666666, \"#ed7953\"], [0.7777777777777778, \"#fb9f3a\"], [0.8888888888888888, \"#fdca26\"], [1.0, \"#f0f921\"]], \"type\": \"surface\"}], \"table\": [{\"cells\": {\"fill\": {\"color\": \"#EBF0F8\"}, \"line\": {\"color\": \"white\"}}, \"header\": {\"fill\": {\"color\": \"#C8D4E3\"}, \"line\": {\"color\": \"white\"}}, \"type\": \"table\"}]}, \"layout\": {\"annotationdefaults\": {\"arrowcolor\": \"#2a3f5f\", \"arrowhead\": 0, \"arrowwidth\": 1}, \"autotypenumbers\": \"strict\", \"coloraxis\": {\"colorbar\": {\"outlinewidth\": 0, \"ticks\": \"\"}}, \"colorscale\": {\"diverging\": [[0, \"#8e0152\"], [0.1, \"#c51b7d\"], [0.2, \"#de77ae\"], [0.3, \"#f1b6da\"], [0.4, \"#fde0ef\"], [0.5, \"#f7f7f7\"], [0.6, \"#e6f5d0\"], [0.7, \"#b8e186\"], [0.8, \"#7fbc41\"], [0.9, \"#4d9221\"], [1, \"#276419\"]], \"sequential\": [[0.0, \"#0d0887\"], [0.1111111111111111, \"#46039f\"], [0.2222222222222222, \"#7201a8\"], [0.3333333333333333, \"#9c179e\"], [0.4444444444444444, \"#bd3786\"], [0.5555555555555556, \"#d8576b\"], [0.6666666666666666, \"#ed7953\"], [0.7777777777777778, \"#fb9f3a\"], [0.8888888888888888, \"#fdca26\"], [1.0, \"#f0f921\"]], \"sequentialminus\": [[0.0, \"#0d0887\"], [0.1111111111111111, \"#46039f\"], [0.2222222222222222, \"#7201a8\"], [0.3333333333333333, \"#9c179e\"], [0.4444444444444444, \"#bd3786\"], [0.5555555555555556, \"#d8576b\"], [0.6666666666666666, \"#ed7953\"], [0.7777777777777778, \"#fb9f3a\"], [0.8888888888888888, \"#fdca26\"], [1.0, \"#f0f921\"]]}, \"colorway\": [\"#636efa\", \"#EF553B\", \"#00cc96\", \"#ab63fa\", \"#FFA15A\", \"#19d3f3\", \"#FF6692\", \"#B6E880\", \"#FF97FF\", \"#FECB52\"], \"font\": {\"color\": \"#2a3f5f\"}, \"geo\": {\"bgcolor\": \"white\", \"lakecolor\": \"white\", \"landcolor\": \"#E5ECF6\", \"showlakes\": true, \"showland\": true, \"subunitcolor\": \"white\"}, \"hoverlabel\": {\"align\": \"left\"}, \"hovermode\": \"closest\", \"mapbox\": {\"style\": \"light\"}, \"paper_bgcolor\": \"white\", \"plot_bgcolor\": \"#E5ECF6\", \"polar\": {\"angularaxis\": {\"gridcolor\": \"white\", \"linecolor\": \"white\", \"ticks\": \"\"}, \"bgcolor\": \"#E5ECF6\", \"radialaxis\": {\"gridcolor\": \"white\", \"linecolor\": \"white\", \"ticks\": \"\"}}, \"scene\": {\"xaxis\": {\"backgroundcolor\": \"#E5ECF6\", \"gridcolor\": \"white\", \"gridwidth\": 2, \"linecolor\": \"white\", \"showbackground\": true, \"ticks\": \"\", \"zerolinecolor\": \"white\"}, \"yaxis\": {\"backgroundcolor\": \"#E5ECF6\", \"gridcolor\": \"white\", \"gridwidth\": 2, \"linecolor\": \"white\", \"showbackground\": true, \"ticks\": \"\", \"zerolinecolor\": \"white\"}, \"zaxis\": {\"backgroundcolor\": \"#E5ECF6\", \"gridcolor\": \"white\", \"gridwidth\": 2, \"linecolor\": \"white\", \"showbackground\": true, \"ticks\": \"\", \"zerolinecolor\": \"white\"}}, \"shapedefaults\": {\"line\": {\"color\": \"#2a3f5f\"}}, \"ternary\": {\"aaxis\": {\"gridcolor\": \"white\", \"linecolor\": \"white\", \"ticks\": \"\"}, \"baxis\": {\"gridcolor\": \"white\", \"linecolor\": \"white\", \"ticks\": \"\"}, \"bgcolor\": \"#E5ECF6\", \"caxis\": {\"gridcolor\": \"white\", \"linecolor\": \"white\", \"ticks\": \"\"}}, \"title\": {\"x\": 0.05}, \"xaxis\": {\"automargin\": true, \"gridcolor\": \"white\", \"linecolor\": \"white\", \"ticks\": \"\", \"title\": {\"standoff\": 15}, \"zerolinecolor\": \"white\", \"zerolinewidth\": 2}, \"yaxis\": {\"automargin\": true, \"gridcolor\": \"white\", \"linecolor\": \"white\", \"ticks\": \"\", \"title\": {\"standoff\": 15}, \"zerolinecolor\": \"white\", \"zerolinewidth\": 2}}}, \"title\": {\"font\": {\"color\": \"#4D5663\"}}, \"xaxis\": {\"gridcolor\": \"#E1E5ED\", \"showgrid\": true, \"tickfont\": {\"color\": \"#4D5663\"}, \"title\": {\"font\": {\"color\": \"#4D5663\"}, \"text\": \"\"}, \"zerolinecolor\": \"#E1E5ED\"}, \"yaxis\": {\"gridcolor\": \"#E1E5ED\", \"showgrid\": true, \"tickfont\": {\"color\": \"#4D5663\"}, \"title\": {\"font\": {\"color\": \"#4D5663\"}, \"text\": \"\"}, \"zerolinecolor\": \"#E1E5ED\"}},                        {\"showLink\": true, \"linkText\": \"Export to plot.ly\", \"plotlyServerURL\": \"https://plot.ly\", \"responsive\": true}                    ).then(function(){\n",
       "                            \n",
       "var gd = document.getElementById('c7c3c5e0-e314-4c4b-abc0-9952eb23632f');\n",
       "var x = new MutationObserver(function (mutations, observer) {{\n",
       "        var display = window.getComputedStyle(gd).display;\n",
       "        if (!display || display === 'none') {{\n",
       "            console.log([gd, 'removed!']);\n",
       "            Plotly.purge(gd);\n",
       "            observer.disconnect();\n",
       "        }}\n",
       "}});\n",
       "\n",
       "// Listen for the removal of the full notebook cells\n",
       "var notebookContainer = gd.closest('#notebook-container');\n",
       "if (notebookContainer) {{\n",
       "    x.observe(notebookContainer, {childList: true});\n",
       "}}\n",
       "\n",
       "// Listen for the clearing of the current output cell\n",
       "var outputEl = gd.closest('.output');\n",
       "if (outputEl) {{\n",
       "    x.observe(outputEl, {childList: true});\n",
       "}}\n",
       "\n",
       "                        })                };                });            </script>        </div>"
      ]
     },
     "metadata": {},
     "output_type": "display_data"
    }
   ],
   "source": [
    "df2.iplot(kind='bar', x='Category', y='Values')"
   ]
  },
  {
   "cell_type": "markdown",
   "metadata": {},
   "source": [
    "Works on aggregate functions on the dataframe as well."
   ]
  },
  {
   "cell_type": "code",
   "execution_count": 22,
   "metadata": {},
   "outputs": [
    {
     "data": {
      "application/vnd.plotly.v1+json": {
       "config": {
        "linkText": "Export to plot.ly",
        "plotlyServerURL": "https://plot.ly",
        "showLink": true
       },
       "data": [
        {
         "marker": {
          "color": "rgba(255, 153, 51, 0.6)",
          "line": {
           "color": "rgba(255, 153, 51, 1.0)",
           "width": 1
          }
         },
         "name": "None",
         "orientation": "v",
         "text": "",
         "type": "bar",
         "x": [
          "A",
          "B",
          "C",
          "D"
         ],
         "y": [
          100,
          100,
          100,
          100
         ]
        }
       ],
       "layout": {
        "legend": {
         "bgcolor": "#F5F6F9",
         "font": {
          "color": "#4D5663"
         }
        },
        "paper_bgcolor": "#F5F6F9",
        "plot_bgcolor": "#F5F6F9",
        "template": {
         "data": {
          "bar": [
           {
            "error_x": {
             "color": "#2a3f5f"
            },
            "error_y": {
             "color": "#2a3f5f"
            },
            "marker": {
             "line": {
              "color": "#E5ECF6",
              "width": 0.5
             }
            },
            "type": "bar"
           }
          ],
          "barpolar": [
           {
            "marker": {
             "line": {
              "color": "#E5ECF6",
              "width": 0.5
             }
            },
            "type": "barpolar"
           }
          ],
          "carpet": [
           {
            "aaxis": {
             "endlinecolor": "#2a3f5f",
             "gridcolor": "white",
             "linecolor": "white",
             "minorgridcolor": "white",
             "startlinecolor": "#2a3f5f"
            },
            "baxis": {
             "endlinecolor": "#2a3f5f",
             "gridcolor": "white",
             "linecolor": "white",
             "minorgridcolor": "white",
             "startlinecolor": "#2a3f5f"
            },
            "type": "carpet"
           }
          ],
          "choropleth": [
           {
            "colorbar": {
             "outlinewidth": 0,
             "ticks": ""
            },
            "type": "choropleth"
           }
          ],
          "contour": [
           {
            "colorbar": {
             "outlinewidth": 0,
             "ticks": ""
            },
            "colorscale": [
             [
              0,
              "#0d0887"
             ],
             [
              0.1111111111111111,
              "#46039f"
             ],
             [
              0.2222222222222222,
              "#7201a8"
             ],
             [
              0.3333333333333333,
              "#9c179e"
             ],
             [
              0.4444444444444444,
              "#bd3786"
             ],
             [
              0.5555555555555556,
              "#d8576b"
             ],
             [
              0.6666666666666666,
              "#ed7953"
             ],
             [
              0.7777777777777778,
              "#fb9f3a"
             ],
             [
              0.8888888888888888,
              "#fdca26"
             ],
             [
              1,
              "#f0f921"
             ]
            ],
            "type": "contour"
           }
          ],
          "contourcarpet": [
           {
            "colorbar": {
             "outlinewidth": 0,
             "ticks": ""
            },
            "type": "contourcarpet"
           }
          ],
          "heatmap": [
           {
            "colorbar": {
             "outlinewidth": 0,
             "ticks": ""
            },
            "colorscale": [
             [
              0,
              "#0d0887"
             ],
             [
              0.1111111111111111,
              "#46039f"
             ],
             [
              0.2222222222222222,
              "#7201a8"
             ],
             [
              0.3333333333333333,
              "#9c179e"
             ],
             [
              0.4444444444444444,
              "#bd3786"
             ],
             [
              0.5555555555555556,
              "#d8576b"
             ],
             [
              0.6666666666666666,
              "#ed7953"
             ],
             [
              0.7777777777777778,
              "#fb9f3a"
             ],
             [
              0.8888888888888888,
              "#fdca26"
             ],
             [
              1,
              "#f0f921"
             ]
            ],
            "type": "heatmap"
           }
          ],
          "heatmapgl": [
           {
            "colorbar": {
             "outlinewidth": 0,
             "ticks": ""
            },
            "colorscale": [
             [
              0,
              "#0d0887"
             ],
             [
              0.1111111111111111,
              "#46039f"
             ],
             [
              0.2222222222222222,
              "#7201a8"
             ],
             [
              0.3333333333333333,
              "#9c179e"
             ],
             [
              0.4444444444444444,
              "#bd3786"
             ],
             [
              0.5555555555555556,
              "#d8576b"
             ],
             [
              0.6666666666666666,
              "#ed7953"
             ],
             [
              0.7777777777777778,
              "#fb9f3a"
             ],
             [
              0.8888888888888888,
              "#fdca26"
             ],
             [
              1,
              "#f0f921"
             ]
            ],
            "type": "heatmapgl"
           }
          ],
          "histogram": [
           {
            "marker": {
             "colorbar": {
              "outlinewidth": 0,
              "ticks": ""
             }
            },
            "type": "histogram"
           }
          ],
          "histogram2d": [
           {
            "colorbar": {
             "outlinewidth": 0,
             "ticks": ""
            },
            "colorscale": [
             [
              0,
              "#0d0887"
             ],
             [
              0.1111111111111111,
              "#46039f"
             ],
             [
              0.2222222222222222,
              "#7201a8"
             ],
             [
              0.3333333333333333,
              "#9c179e"
             ],
             [
              0.4444444444444444,
              "#bd3786"
             ],
             [
              0.5555555555555556,
              "#d8576b"
             ],
             [
              0.6666666666666666,
              "#ed7953"
             ],
             [
              0.7777777777777778,
              "#fb9f3a"
             ],
             [
              0.8888888888888888,
              "#fdca26"
             ],
             [
              1,
              "#f0f921"
             ]
            ],
            "type": "histogram2d"
           }
          ],
          "histogram2dcontour": [
           {
            "colorbar": {
             "outlinewidth": 0,
             "ticks": ""
            },
            "colorscale": [
             [
              0,
              "#0d0887"
             ],
             [
              0.1111111111111111,
              "#46039f"
             ],
             [
              0.2222222222222222,
              "#7201a8"
             ],
             [
              0.3333333333333333,
              "#9c179e"
             ],
             [
              0.4444444444444444,
              "#bd3786"
             ],
             [
              0.5555555555555556,
              "#d8576b"
             ],
             [
              0.6666666666666666,
              "#ed7953"
             ],
             [
              0.7777777777777778,
              "#fb9f3a"
             ],
             [
              0.8888888888888888,
              "#fdca26"
             ],
             [
              1,
              "#f0f921"
             ]
            ],
            "type": "histogram2dcontour"
           }
          ],
          "mesh3d": [
           {
            "colorbar": {
             "outlinewidth": 0,
             "ticks": ""
            },
            "type": "mesh3d"
           }
          ],
          "parcoords": [
           {
            "line": {
             "colorbar": {
              "outlinewidth": 0,
              "ticks": ""
             }
            },
            "type": "parcoords"
           }
          ],
          "pie": [
           {
            "automargin": true,
            "type": "pie"
           }
          ],
          "scatter": [
           {
            "marker": {
             "colorbar": {
              "outlinewidth": 0,
              "ticks": ""
             }
            },
            "type": "scatter"
           }
          ],
          "scatter3d": [
           {
            "line": {
             "colorbar": {
              "outlinewidth": 0,
              "ticks": ""
             }
            },
            "marker": {
             "colorbar": {
              "outlinewidth": 0,
              "ticks": ""
             }
            },
            "type": "scatter3d"
           }
          ],
          "scattercarpet": [
           {
            "marker": {
             "colorbar": {
              "outlinewidth": 0,
              "ticks": ""
             }
            },
            "type": "scattercarpet"
           }
          ],
          "scattergeo": [
           {
            "marker": {
             "colorbar": {
              "outlinewidth": 0,
              "ticks": ""
             }
            },
            "type": "scattergeo"
           }
          ],
          "scattergl": [
           {
            "marker": {
             "colorbar": {
              "outlinewidth": 0,
              "ticks": ""
             }
            },
            "type": "scattergl"
           }
          ],
          "scattermapbox": [
           {
            "marker": {
             "colorbar": {
              "outlinewidth": 0,
              "ticks": ""
             }
            },
            "type": "scattermapbox"
           }
          ],
          "scatterpolar": [
           {
            "marker": {
             "colorbar": {
              "outlinewidth": 0,
              "ticks": ""
             }
            },
            "type": "scatterpolar"
           }
          ],
          "scatterpolargl": [
           {
            "marker": {
             "colorbar": {
              "outlinewidth": 0,
              "ticks": ""
             }
            },
            "type": "scatterpolargl"
           }
          ],
          "scatterternary": [
           {
            "marker": {
             "colorbar": {
              "outlinewidth": 0,
              "ticks": ""
             }
            },
            "type": "scatterternary"
           }
          ],
          "surface": [
           {
            "colorbar": {
             "outlinewidth": 0,
             "ticks": ""
            },
            "colorscale": [
             [
              0,
              "#0d0887"
             ],
             [
              0.1111111111111111,
              "#46039f"
             ],
             [
              0.2222222222222222,
              "#7201a8"
             ],
             [
              0.3333333333333333,
              "#9c179e"
             ],
             [
              0.4444444444444444,
              "#bd3786"
             ],
             [
              0.5555555555555556,
              "#d8576b"
             ],
             [
              0.6666666666666666,
              "#ed7953"
             ],
             [
              0.7777777777777778,
              "#fb9f3a"
             ],
             [
              0.8888888888888888,
              "#fdca26"
             ],
             [
              1,
              "#f0f921"
             ]
            ],
            "type": "surface"
           }
          ],
          "table": [
           {
            "cells": {
             "fill": {
              "color": "#EBF0F8"
             },
             "line": {
              "color": "white"
             }
            },
            "header": {
             "fill": {
              "color": "#C8D4E3"
             },
             "line": {
              "color": "white"
             }
            },
            "type": "table"
           }
          ]
         },
         "layout": {
          "annotationdefaults": {
           "arrowcolor": "#2a3f5f",
           "arrowhead": 0,
           "arrowwidth": 1
          },
          "autotypenumbers": "strict",
          "coloraxis": {
           "colorbar": {
            "outlinewidth": 0,
            "ticks": ""
           }
          },
          "colorscale": {
           "diverging": [
            [
             0,
             "#8e0152"
            ],
            [
             0.1,
             "#c51b7d"
            ],
            [
             0.2,
             "#de77ae"
            ],
            [
             0.3,
             "#f1b6da"
            ],
            [
             0.4,
             "#fde0ef"
            ],
            [
             0.5,
             "#f7f7f7"
            ],
            [
             0.6,
             "#e6f5d0"
            ],
            [
             0.7,
             "#b8e186"
            ],
            [
             0.8,
             "#7fbc41"
            ],
            [
             0.9,
             "#4d9221"
            ],
            [
             1,
             "#276419"
            ]
           ],
           "sequential": [
            [
             0,
             "#0d0887"
            ],
            [
             0.1111111111111111,
             "#46039f"
            ],
            [
             0.2222222222222222,
             "#7201a8"
            ],
            [
             0.3333333333333333,
             "#9c179e"
            ],
            [
             0.4444444444444444,
             "#bd3786"
            ],
            [
             0.5555555555555556,
             "#d8576b"
            ],
            [
             0.6666666666666666,
             "#ed7953"
            ],
            [
             0.7777777777777778,
             "#fb9f3a"
            ],
            [
             0.8888888888888888,
             "#fdca26"
            ],
            [
             1,
             "#f0f921"
            ]
           ],
           "sequentialminus": [
            [
             0,
             "#0d0887"
            ],
            [
             0.1111111111111111,
             "#46039f"
            ],
            [
             0.2222222222222222,
             "#7201a8"
            ],
            [
             0.3333333333333333,
             "#9c179e"
            ],
            [
             0.4444444444444444,
             "#bd3786"
            ],
            [
             0.5555555555555556,
             "#d8576b"
            ],
            [
             0.6666666666666666,
             "#ed7953"
            ],
            [
             0.7777777777777778,
             "#fb9f3a"
            ],
            [
             0.8888888888888888,
             "#fdca26"
            ],
            [
             1,
             "#f0f921"
            ]
           ]
          },
          "colorway": [
           "#636efa",
           "#EF553B",
           "#00cc96",
           "#ab63fa",
           "#FFA15A",
           "#19d3f3",
           "#FF6692",
           "#B6E880",
           "#FF97FF",
           "#FECB52"
          ],
          "font": {
           "color": "#2a3f5f"
          },
          "geo": {
           "bgcolor": "white",
           "lakecolor": "white",
           "landcolor": "#E5ECF6",
           "showlakes": true,
           "showland": true,
           "subunitcolor": "white"
          },
          "hoverlabel": {
           "align": "left"
          },
          "hovermode": "closest",
          "mapbox": {
           "style": "light"
          },
          "paper_bgcolor": "white",
          "plot_bgcolor": "#E5ECF6",
          "polar": {
           "angularaxis": {
            "gridcolor": "white",
            "linecolor": "white",
            "ticks": ""
           },
           "bgcolor": "#E5ECF6",
           "radialaxis": {
            "gridcolor": "white",
            "linecolor": "white",
            "ticks": ""
           }
          },
          "scene": {
           "xaxis": {
            "backgroundcolor": "#E5ECF6",
            "gridcolor": "white",
            "gridwidth": 2,
            "linecolor": "white",
            "showbackground": true,
            "ticks": "",
            "zerolinecolor": "white"
           },
           "yaxis": {
            "backgroundcolor": "#E5ECF6",
            "gridcolor": "white",
            "gridwidth": 2,
            "linecolor": "white",
            "showbackground": true,
            "ticks": "",
            "zerolinecolor": "white"
           },
           "zaxis": {
            "backgroundcolor": "#E5ECF6",
            "gridcolor": "white",
            "gridwidth": 2,
            "linecolor": "white",
            "showbackground": true,
            "ticks": "",
            "zerolinecolor": "white"
           }
          },
          "shapedefaults": {
           "line": {
            "color": "#2a3f5f"
           }
          },
          "ternary": {
           "aaxis": {
            "gridcolor": "white",
            "linecolor": "white",
            "ticks": ""
           },
           "baxis": {
            "gridcolor": "white",
            "linecolor": "white",
            "ticks": ""
           },
           "bgcolor": "#E5ECF6",
           "caxis": {
            "gridcolor": "white",
            "linecolor": "white",
            "ticks": ""
           }
          },
          "title": {
           "x": 0.05
          },
          "xaxis": {
           "automargin": true,
           "gridcolor": "white",
           "linecolor": "white",
           "ticks": "",
           "title": {
            "standoff": 15
           },
           "zerolinecolor": "white",
           "zerolinewidth": 2
          },
          "yaxis": {
           "automargin": true,
           "gridcolor": "white",
           "linecolor": "white",
           "ticks": "",
           "title": {
            "standoff": 15
           },
           "zerolinecolor": "white",
           "zerolinewidth": 2
          }
         }
        },
        "title": {
         "font": {
          "color": "#4D5663"
         }
        },
        "xaxis": {
         "gridcolor": "#E1E5ED",
         "showgrid": true,
         "tickfont": {
          "color": "#4D5663"
         },
         "title": {
          "font": {
           "color": "#4D5663"
          },
          "text": ""
         },
         "zerolinecolor": "#E1E5ED"
        },
        "yaxis": {
         "gridcolor": "#E1E5ED",
         "showgrid": true,
         "tickfont": {
          "color": "#4D5663"
         },
         "title": {
          "font": {
           "color": "#4D5663"
          },
          "text": ""
         },
         "zerolinecolor": "#E1E5ED"
        }
       }
      },
      "text/html": [
       "<div>                            <div id=\"56948946-80d3-47d5-a5d4-92359e5bac32\" class=\"plotly-graph-div\" style=\"height:525px; width:100%;\"></div>            <script type=\"text/javascript\">                require([\"plotly\"], function(Plotly) {                    window.PLOTLYENV=window.PLOTLYENV || {};\n",
       "                    window.PLOTLYENV.BASE_URL='https://plot.ly';                                    if (document.getElementById(\"56948946-80d3-47d5-a5d4-92359e5bac32\")) {                    Plotly.newPlot(                        \"56948946-80d3-47d5-a5d4-92359e5bac32\",                        [{\"marker\": {\"color\": \"rgba(255, 153, 51, 0.6)\", \"line\": {\"color\": \"rgba(255, 153, 51, 1.0)\", \"width\": 1}}, \"name\": \"None\", \"orientation\": \"v\", \"text\": \"\", \"type\": \"bar\", \"x\": [\"A\", \"B\", \"C\", \"D\"], \"y\": [100, 100, 100, 100]}],                        {\"legend\": {\"bgcolor\": \"#F5F6F9\", \"font\": {\"color\": \"#4D5663\"}}, \"paper_bgcolor\": \"#F5F6F9\", \"plot_bgcolor\": \"#F5F6F9\", \"template\": {\"data\": {\"bar\": [{\"error_x\": {\"color\": \"#2a3f5f\"}, \"error_y\": {\"color\": \"#2a3f5f\"}, \"marker\": {\"line\": {\"color\": \"#E5ECF6\", \"width\": 0.5}}, \"type\": \"bar\"}], \"barpolar\": [{\"marker\": {\"line\": {\"color\": \"#E5ECF6\", \"width\": 0.5}}, \"type\": \"barpolar\"}], \"carpet\": [{\"aaxis\": {\"endlinecolor\": \"#2a3f5f\", \"gridcolor\": \"white\", \"linecolor\": \"white\", \"minorgridcolor\": \"white\", \"startlinecolor\": \"#2a3f5f\"}, \"baxis\": {\"endlinecolor\": \"#2a3f5f\", \"gridcolor\": \"white\", \"linecolor\": \"white\", \"minorgridcolor\": \"white\", \"startlinecolor\": \"#2a3f5f\"}, \"type\": \"carpet\"}], \"choropleth\": [{\"colorbar\": {\"outlinewidth\": 0, \"ticks\": \"\"}, \"type\": \"choropleth\"}], \"contour\": [{\"colorbar\": {\"outlinewidth\": 0, \"ticks\": \"\"}, \"colorscale\": [[0.0, \"#0d0887\"], [0.1111111111111111, \"#46039f\"], [0.2222222222222222, \"#7201a8\"], [0.3333333333333333, \"#9c179e\"], [0.4444444444444444, \"#bd3786\"], [0.5555555555555556, \"#d8576b\"], [0.6666666666666666, \"#ed7953\"], [0.7777777777777778, \"#fb9f3a\"], [0.8888888888888888, \"#fdca26\"], [1.0, \"#f0f921\"]], \"type\": \"contour\"}], \"contourcarpet\": [{\"colorbar\": {\"outlinewidth\": 0, \"ticks\": \"\"}, \"type\": \"contourcarpet\"}], \"heatmap\": [{\"colorbar\": {\"outlinewidth\": 0, \"ticks\": \"\"}, \"colorscale\": [[0.0, \"#0d0887\"], [0.1111111111111111, \"#46039f\"], [0.2222222222222222, \"#7201a8\"], [0.3333333333333333, \"#9c179e\"], [0.4444444444444444, \"#bd3786\"], [0.5555555555555556, \"#d8576b\"], [0.6666666666666666, \"#ed7953\"], [0.7777777777777778, \"#fb9f3a\"], [0.8888888888888888, \"#fdca26\"], [1.0, \"#f0f921\"]], \"type\": \"heatmap\"}], \"heatmapgl\": [{\"colorbar\": {\"outlinewidth\": 0, \"ticks\": \"\"}, \"colorscale\": [[0.0, \"#0d0887\"], [0.1111111111111111, \"#46039f\"], [0.2222222222222222, \"#7201a8\"], [0.3333333333333333, \"#9c179e\"], [0.4444444444444444, \"#bd3786\"], [0.5555555555555556, \"#d8576b\"], [0.6666666666666666, \"#ed7953\"], [0.7777777777777778, \"#fb9f3a\"], [0.8888888888888888, \"#fdca26\"], [1.0, \"#f0f921\"]], \"type\": \"heatmapgl\"}], \"histogram\": [{\"marker\": {\"colorbar\": {\"outlinewidth\": 0, \"ticks\": \"\"}}, \"type\": \"histogram\"}], \"histogram2d\": [{\"colorbar\": {\"outlinewidth\": 0, \"ticks\": \"\"}, \"colorscale\": [[0.0, \"#0d0887\"], [0.1111111111111111, \"#46039f\"], [0.2222222222222222, \"#7201a8\"], [0.3333333333333333, \"#9c179e\"], [0.4444444444444444, \"#bd3786\"], [0.5555555555555556, \"#d8576b\"], [0.6666666666666666, \"#ed7953\"], [0.7777777777777778, \"#fb9f3a\"], [0.8888888888888888, \"#fdca26\"], [1.0, \"#f0f921\"]], \"type\": \"histogram2d\"}], \"histogram2dcontour\": [{\"colorbar\": {\"outlinewidth\": 0, \"ticks\": \"\"}, \"colorscale\": [[0.0, \"#0d0887\"], [0.1111111111111111, \"#46039f\"], [0.2222222222222222, \"#7201a8\"], [0.3333333333333333, \"#9c179e\"], [0.4444444444444444, \"#bd3786\"], [0.5555555555555556, \"#d8576b\"], [0.6666666666666666, \"#ed7953\"], [0.7777777777777778, \"#fb9f3a\"], [0.8888888888888888, \"#fdca26\"], [1.0, \"#f0f921\"]], \"type\": \"histogram2dcontour\"}], \"mesh3d\": [{\"colorbar\": {\"outlinewidth\": 0, \"ticks\": \"\"}, \"type\": \"mesh3d\"}], \"parcoords\": [{\"line\": {\"colorbar\": {\"outlinewidth\": 0, \"ticks\": \"\"}}, \"type\": \"parcoords\"}], \"pie\": [{\"automargin\": true, \"type\": \"pie\"}], \"scatter\": [{\"marker\": {\"colorbar\": {\"outlinewidth\": 0, \"ticks\": \"\"}}, \"type\": \"scatter\"}], \"scatter3d\": [{\"line\": {\"colorbar\": {\"outlinewidth\": 0, \"ticks\": \"\"}}, \"marker\": {\"colorbar\": {\"outlinewidth\": 0, \"ticks\": \"\"}}, \"type\": \"scatter3d\"}], \"scattercarpet\": [{\"marker\": {\"colorbar\": {\"outlinewidth\": 0, \"ticks\": \"\"}}, \"type\": \"scattercarpet\"}], \"scattergeo\": [{\"marker\": {\"colorbar\": {\"outlinewidth\": 0, \"ticks\": \"\"}}, \"type\": \"scattergeo\"}], \"scattergl\": [{\"marker\": {\"colorbar\": {\"outlinewidth\": 0, \"ticks\": \"\"}}, \"type\": \"scattergl\"}], \"scattermapbox\": [{\"marker\": {\"colorbar\": {\"outlinewidth\": 0, \"ticks\": \"\"}}, \"type\": \"scattermapbox\"}], \"scatterpolar\": [{\"marker\": {\"colorbar\": {\"outlinewidth\": 0, \"ticks\": \"\"}}, \"type\": \"scatterpolar\"}], \"scatterpolargl\": [{\"marker\": {\"colorbar\": {\"outlinewidth\": 0, \"ticks\": \"\"}}, \"type\": \"scatterpolargl\"}], \"scatterternary\": [{\"marker\": {\"colorbar\": {\"outlinewidth\": 0, \"ticks\": \"\"}}, \"type\": \"scatterternary\"}], \"surface\": [{\"colorbar\": {\"outlinewidth\": 0, \"ticks\": \"\"}, \"colorscale\": [[0.0, \"#0d0887\"], [0.1111111111111111, \"#46039f\"], [0.2222222222222222, \"#7201a8\"], [0.3333333333333333, \"#9c179e\"], [0.4444444444444444, \"#bd3786\"], [0.5555555555555556, \"#d8576b\"], [0.6666666666666666, \"#ed7953\"], [0.7777777777777778, \"#fb9f3a\"], [0.8888888888888888, \"#fdca26\"], [1.0, \"#f0f921\"]], \"type\": \"surface\"}], \"table\": [{\"cells\": {\"fill\": {\"color\": \"#EBF0F8\"}, \"line\": {\"color\": \"white\"}}, \"header\": {\"fill\": {\"color\": \"#C8D4E3\"}, \"line\": {\"color\": \"white\"}}, \"type\": \"table\"}]}, \"layout\": {\"annotationdefaults\": {\"arrowcolor\": \"#2a3f5f\", \"arrowhead\": 0, \"arrowwidth\": 1}, \"autotypenumbers\": \"strict\", \"coloraxis\": {\"colorbar\": {\"outlinewidth\": 0, \"ticks\": \"\"}}, \"colorscale\": {\"diverging\": [[0, \"#8e0152\"], [0.1, \"#c51b7d\"], [0.2, \"#de77ae\"], [0.3, \"#f1b6da\"], [0.4, \"#fde0ef\"], [0.5, \"#f7f7f7\"], [0.6, \"#e6f5d0\"], [0.7, \"#b8e186\"], [0.8, \"#7fbc41\"], [0.9, \"#4d9221\"], [1, \"#276419\"]], \"sequential\": [[0.0, \"#0d0887\"], [0.1111111111111111, \"#46039f\"], [0.2222222222222222, \"#7201a8\"], [0.3333333333333333, \"#9c179e\"], [0.4444444444444444, \"#bd3786\"], [0.5555555555555556, \"#d8576b\"], [0.6666666666666666, \"#ed7953\"], [0.7777777777777778, \"#fb9f3a\"], [0.8888888888888888, \"#fdca26\"], [1.0, \"#f0f921\"]], \"sequentialminus\": [[0.0, \"#0d0887\"], [0.1111111111111111, \"#46039f\"], [0.2222222222222222, \"#7201a8\"], [0.3333333333333333, \"#9c179e\"], [0.4444444444444444, \"#bd3786\"], [0.5555555555555556, \"#d8576b\"], [0.6666666666666666, \"#ed7953\"], [0.7777777777777778, \"#fb9f3a\"], [0.8888888888888888, \"#fdca26\"], [1.0, \"#f0f921\"]]}, \"colorway\": [\"#636efa\", \"#EF553B\", \"#00cc96\", \"#ab63fa\", \"#FFA15A\", \"#19d3f3\", \"#FF6692\", \"#B6E880\", \"#FF97FF\", \"#FECB52\"], \"font\": {\"color\": \"#2a3f5f\"}, \"geo\": {\"bgcolor\": \"white\", \"lakecolor\": \"white\", \"landcolor\": \"#E5ECF6\", \"showlakes\": true, \"showland\": true, \"subunitcolor\": \"white\"}, \"hoverlabel\": {\"align\": \"left\"}, \"hovermode\": \"closest\", \"mapbox\": {\"style\": \"light\"}, \"paper_bgcolor\": \"white\", \"plot_bgcolor\": \"#E5ECF6\", \"polar\": {\"angularaxis\": {\"gridcolor\": \"white\", \"linecolor\": \"white\", \"ticks\": \"\"}, \"bgcolor\": \"#E5ECF6\", \"radialaxis\": {\"gridcolor\": \"white\", \"linecolor\": \"white\", \"ticks\": \"\"}}, \"scene\": {\"xaxis\": {\"backgroundcolor\": \"#E5ECF6\", \"gridcolor\": \"white\", \"gridwidth\": 2, \"linecolor\": \"white\", \"showbackground\": true, \"ticks\": \"\", \"zerolinecolor\": \"white\"}, \"yaxis\": {\"backgroundcolor\": \"#E5ECF6\", \"gridcolor\": \"white\", \"gridwidth\": 2, \"linecolor\": \"white\", \"showbackground\": true, \"ticks\": \"\", \"zerolinecolor\": \"white\"}, \"zaxis\": {\"backgroundcolor\": \"#E5ECF6\", \"gridcolor\": \"white\", \"gridwidth\": 2, \"linecolor\": \"white\", \"showbackground\": true, \"ticks\": \"\", \"zerolinecolor\": \"white\"}}, \"shapedefaults\": {\"line\": {\"color\": \"#2a3f5f\"}}, \"ternary\": {\"aaxis\": {\"gridcolor\": \"white\", \"linecolor\": \"white\", \"ticks\": \"\"}, \"baxis\": {\"gridcolor\": \"white\", \"linecolor\": \"white\", \"ticks\": \"\"}, \"bgcolor\": \"#E5ECF6\", \"caxis\": {\"gridcolor\": \"white\", \"linecolor\": \"white\", \"ticks\": \"\"}}, \"title\": {\"x\": 0.05}, \"xaxis\": {\"automargin\": true, \"gridcolor\": \"white\", \"linecolor\": \"white\", \"ticks\": \"\", \"title\": {\"standoff\": 15}, \"zerolinecolor\": \"white\", \"zerolinewidth\": 2}, \"yaxis\": {\"automargin\": true, \"gridcolor\": \"white\", \"linecolor\": \"white\", \"ticks\": \"\", \"title\": {\"standoff\": 15}, \"zerolinecolor\": \"white\", \"zerolinewidth\": 2}}}, \"title\": {\"font\": {\"color\": \"#4D5663\"}}, \"xaxis\": {\"gridcolor\": \"#E1E5ED\", \"showgrid\": true, \"tickfont\": {\"color\": \"#4D5663\"}, \"title\": {\"font\": {\"color\": \"#4D5663\"}, \"text\": \"\"}, \"zerolinecolor\": \"#E1E5ED\"}, \"yaxis\": {\"gridcolor\": \"#E1E5ED\", \"showgrid\": true, \"tickfont\": {\"color\": \"#4D5663\"}, \"title\": {\"font\": {\"color\": \"#4D5663\"}, \"text\": \"\"}, \"zerolinecolor\": \"#E1E5ED\"}},                        {\"showLink\": true, \"linkText\": \"Export to plot.ly\", \"plotlyServerURL\": \"https://plot.ly\", \"responsive\": true}                    ).then(function(){\n",
       "                            \n",
       "var gd = document.getElementById('56948946-80d3-47d5-a5d4-92359e5bac32');\n",
       "var x = new MutationObserver(function (mutations, observer) {{\n",
       "        var display = window.getComputedStyle(gd).display;\n",
       "        if (!display || display === 'none') {{\n",
       "            console.log([gd, 'removed!']);\n",
       "            Plotly.purge(gd);\n",
       "            observer.disconnect();\n",
       "        }}\n",
       "}});\n",
       "\n",
       "// Listen for the removal of the full notebook cells\n",
       "var notebookContainer = gd.closest('#notebook-container');\n",
       "if (notebookContainer) {{\n",
       "    x.observe(notebookContainer, {childList: true});\n",
       "}}\n",
       "\n",
       "// Listen for the clearing of the current output cell\n",
       "var outputEl = gd.closest('.output');\n",
       "if (outputEl) {{\n",
       "    x.observe(outputEl, {childList: true});\n",
       "}}\n",
       "\n",
       "                        })                };                });            </script>        </div>"
      ]
     },
     "metadata": {},
     "output_type": "display_data"
    }
   ],
   "source": [
    "df.count().iplot(kind='bar')"
   ]
  },
  {
   "cell_type": "code",
   "execution_count": 24,
   "metadata": {},
   "outputs": [
    {
     "data": {
      "application/vnd.plotly.v1+json": {
       "config": {
        "linkText": "Export to plot.ly",
        "plotlyServerURL": "https://plot.ly",
        "showLink": true
       },
       "data": [
        {
         "marker": {
          "color": "rgba(255, 153, 51, 0.6)",
          "line": {
           "color": "rgba(255, 153, 51, 1.0)",
           "width": 1
          }
         },
         "name": "None",
         "orientation": "v",
         "text": "",
         "type": "bar",
         "x": [
          "A",
          "B",
          "C",
          "D"
         ],
         "y": [
          -2.771186358793744,
          11.00087710491967,
          -10.176411763777734,
          1.8519414585484972
         ]
        }
       ],
       "layout": {
        "legend": {
         "bgcolor": "#F5F6F9",
         "font": {
          "color": "#4D5663"
         }
        },
        "paper_bgcolor": "#F5F6F9",
        "plot_bgcolor": "#F5F6F9",
        "template": {
         "data": {
          "bar": [
           {
            "error_x": {
             "color": "#2a3f5f"
            },
            "error_y": {
             "color": "#2a3f5f"
            },
            "marker": {
             "line": {
              "color": "#E5ECF6",
              "width": 0.5
             }
            },
            "type": "bar"
           }
          ],
          "barpolar": [
           {
            "marker": {
             "line": {
              "color": "#E5ECF6",
              "width": 0.5
             }
            },
            "type": "barpolar"
           }
          ],
          "carpet": [
           {
            "aaxis": {
             "endlinecolor": "#2a3f5f",
             "gridcolor": "white",
             "linecolor": "white",
             "minorgridcolor": "white",
             "startlinecolor": "#2a3f5f"
            },
            "baxis": {
             "endlinecolor": "#2a3f5f",
             "gridcolor": "white",
             "linecolor": "white",
             "minorgridcolor": "white",
             "startlinecolor": "#2a3f5f"
            },
            "type": "carpet"
           }
          ],
          "choropleth": [
           {
            "colorbar": {
             "outlinewidth": 0,
             "ticks": ""
            },
            "type": "choropleth"
           }
          ],
          "contour": [
           {
            "colorbar": {
             "outlinewidth": 0,
             "ticks": ""
            },
            "colorscale": [
             [
              0,
              "#0d0887"
             ],
             [
              0.1111111111111111,
              "#46039f"
             ],
             [
              0.2222222222222222,
              "#7201a8"
             ],
             [
              0.3333333333333333,
              "#9c179e"
             ],
             [
              0.4444444444444444,
              "#bd3786"
             ],
             [
              0.5555555555555556,
              "#d8576b"
             ],
             [
              0.6666666666666666,
              "#ed7953"
             ],
             [
              0.7777777777777778,
              "#fb9f3a"
             ],
             [
              0.8888888888888888,
              "#fdca26"
             ],
             [
              1,
              "#f0f921"
             ]
            ],
            "type": "contour"
           }
          ],
          "contourcarpet": [
           {
            "colorbar": {
             "outlinewidth": 0,
             "ticks": ""
            },
            "type": "contourcarpet"
           }
          ],
          "heatmap": [
           {
            "colorbar": {
             "outlinewidth": 0,
             "ticks": ""
            },
            "colorscale": [
             [
              0,
              "#0d0887"
             ],
             [
              0.1111111111111111,
              "#46039f"
             ],
             [
              0.2222222222222222,
              "#7201a8"
             ],
             [
              0.3333333333333333,
              "#9c179e"
             ],
             [
              0.4444444444444444,
              "#bd3786"
             ],
             [
              0.5555555555555556,
              "#d8576b"
             ],
             [
              0.6666666666666666,
              "#ed7953"
             ],
             [
              0.7777777777777778,
              "#fb9f3a"
             ],
             [
              0.8888888888888888,
              "#fdca26"
             ],
             [
              1,
              "#f0f921"
             ]
            ],
            "type": "heatmap"
           }
          ],
          "heatmapgl": [
           {
            "colorbar": {
             "outlinewidth": 0,
             "ticks": ""
            },
            "colorscale": [
             [
              0,
              "#0d0887"
             ],
             [
              0.1111111111111111,
              "#46039f"
             ],
             [
              0.2222222222222222,
              "#7201a8"
             ],
             [
              0.3333333333333333,
              "#9c179e"
             ],
             [
              0.4444444444444444,
              "#bd3786"
             ],
             [
              0.5555555555555556,
              "#d8576b"
             ],
             [
              0.6666666666666666,
              "#ed7953"
             ],
             [
              0.7777777777777778,
              "#fb9f3a"
             ],
             [
              0.8888888888888888,
              "#fdca26"
             ],
             [
              1,
              "#f0f921"
             ]
            ],
            "type": "heatmapgl"
           }
          ],
          "histogram": [
           {
            "marker": {
             "colorbar": {
              "outlinewidth": 0,
              "ticks": ""
             }
            },
            "type": "histogram"
           }
          ],
          "histogram2d": [
           {
            "colorbar": {
             "outlinewidth": 0,
             "ticks": ""
            },
            "colorscale": [
             [
              0,
              "#0d0887"
             ],
             [
              0.1111111111111111,
              "#46039f"
             ],
             [
              0.2222222222222222,
              "#7201a8"
             ],
             [
              0.3333333333333333,
              "#9c179e"
             ],
             [
              0.4444444444444444,
              "#bd3786"
             ],
             [
              0.5555555555555556,
              "#d8576b"
             ],
             [
              0.6666666666666666,
              "#ed7953"
             ],
             [
              0.7777777777777778,
              "#fb9f3a"
             ],
             [
              0.8888888888888888,
              "#fdca26"
             ],
             [
              1,
              "#f0f921"
             ]
            ],
            "type": "histogram2d"
           }
          ],
          "histogram2dcontour": [
           {
            "colorbar": {
             "outlinewidth": 0,
             "ticks": ""
            },
            "colorscale": [
             [
              0,
              "#0d0887"
             ],
             [
              0.1111111111111111,
              "#46039f"
             ],
             [
              0.2222222222222222,
              "#7201a8"
             ],
             [
              0.3333333333333333,
              "#9c179e"
             ],
             [
              0.4444444444444444,
              "#bd3786"
             ],
             [
              0.5555555555555556,
              "#d8576b"
             ],
             [
              0.6666666666666666,
              "#ed7953"
             ],
             [
              0.7777777777777778,
              "#fb9f3a"
             ],
             [
              0.8888888888888888,
              "#fdca26"
             ],
             [
              1,
              "#f0f921"
             ]
            ],
            "type": "histogram2dcontour"
           }
          ],
          "mesh3d": [
           {
            "colorbar": {
             "outlinewidth": 0,
             "ticks": ""
            },
            "type": "mesh3d"
           }
          ],
          "parcoords": [
           {
            "line": {
             "colorbar": {
              "outlinewidth": 0,
              "ticks": ""
             }
            },
            "type": "parcoords"
           }
          ],
          "pie": [
           {
            "automargin": true,
            "type": "pie"
           }
          ],
          "scatter": [
           {
            "marker": {
             "colorbar": {
              "outlinewidth": 0,
              "ticks": ""
             }
            },
            "type": "scatter"
           }
          ],
          "scatter3d": [
           {
            "line": {
             "colorbar": {
              "outlinewidth": 0,
              "ticks": ""
             }
            },
            "marker": {
             "colorbar": {
              "outlinewidth": 0,
              "ticks": ""
             }
            },
            "type": "scatter3d"
           }
          ],
          "scattercarpet": [
           {
            "marker": {
             "colorbar": {
              "outlinewidth": 0,
              "ticks": ""
             }
            },
            "type": "scattercarpet"
           }
          ],
          "scattergeo": [
           {
            "marker": {
             "colorbar": {
              "outlinewidth": 0,
              "ticks": ""
             }
            },
            "type": "scattergeo"
           }
          ],
          "scattergl": [
           {
            "marker": {
             "colorbar": {
              "outlinewidth": 0,
              "ticks": ""
             }
            },
            "type": "scattergl"
           }
          ],
          "scattermapbox": [
           {
            "marker": {
             "colorbar": {
              "outlinewidth": 0,
              "ticks": ""
             }
            },
            "type": "scattermapbox"
           }
          ],
          "scatterpolar": [
           {
            "marker": {
             "colorbar": {
              "outlinewidth": 0,
              "ticks": ""
             }
            },
            "type": "scatterpolar"
           }
          ],
          "scatterpolargl": [
           {
            "marker": {
             "colorbar": {
              "outlinewidth": 0,
              "ticks": ""
             }
            },
            "type": "scatterpolargl"
           }
          ],
          "scatterternary": [
           {
            "marker": {
             "colorbar": {
              "outlinewidth": 0,
              "ticks": ""
             }
            },
            "type": "scatterternary"
           }
          ],
          "surface": [
           {
            "colorbar": {
             "outlinewidth": 0,
             "ticks": ""
            },
            "colorscale": [
             [
              0,
              "#0d0887"
             ],
             [
              0.1111111111111111,
              "#46039f"
             ],
             [
              0.2222222222222222,
              "#7201a8"
             ],
             [
              0.3333333333333333,
              "#9c179e"
             ],
             [
              0.4444444444444444,
              "#bd3786"
             ],
             [
              0.5555555555555556,
              "#d8576b"
             ],
             [
              0.6666666666666666,
              "#ed7953"
             ],
             [
              0.7777777777777778,
              "#fb9f3a"
             ],
             [
              0.8888888888888888,
              "#fdca26"
             ],
             [
              1,
              "#f0f921"
             ]
            ],
            "type": "surface"
           }
          ],
          "table": [
           {
            "cells": {
             "fill": {
              "color": "#EBF0F8"
             },
             "line": {
              "color": "white"
             }
            },
            "header": {
             "fill": {
              "color": "#C8D4E3"
             },
             "line": {
              "color": "white"
             }
            },
            "type": "table"
           }
          ]
         },
         "layout": {
          "annotationdefaults": {
           "arrowcolor": "#2a3f5f",
           "arrowhead": 0,
           "arrowwidth": 1
          },
          "autotypenumbers": "strict",
          "coloraxis": {
           "colorbar": {
            "outlinewidth": 0,
            "ticks": ""
           }
          },
          "colorscale": {
           "diverging": [
            [
             0,
             "#8e0152"
            ],
            [
             0.1,
             "#c51b7d"
            ],
            [
             0.2,
             "#de77ae"
            ],
            [
             0.3,
             "#f1b6da"
            ],
            [
             0.4,
             "#fde0ef"
            ],
            [
             0.5,
             "#f7f7f7"
            ],
            [
             0.6,
             "#e6f5d0"
            ],
            [
             0.7,
             "#b8e186"
            ],
            [
             0.8,
             "#7fbc41"
            ],
            [
             0.9,
             "#4d9221"
            ],
            [
             1,
             "#276419"
            ]
           ],
           "sequential": [
            [
             0,
             "#0d0887"
            ],
            [
             0.1111111111111111,
             "#46039f"
            ],
            [
             0.2222222222222222,
             "#7201a8"
            ],
            [
             0.3333333333333333,
             "#9c179e"
            ],
            [
             0.4444444444444444,
             "#bd3786"
            ],
            [
             0.5555555555555556,
             "#d8576b"
            ],
            [
             0.6666666666666666,
             "#ed7953"
            ],
            [
             0.7777777777777778,
             "#fb9f3a"
            ],
            [
             0.8888888888888888,
             "#fdca26"
            ],
            [
             1,
             "#f0f921"
            ]
           ],
           "sequentialminus": [
            [
             0,
             "#0d0887"
            ],
            [
             0.1111111111111111,
             "#46039f"
            ],
            [
             0.2222222222222222,
             "#7201a8"
            ],
            [
             0.3333333333333333,
             "#9c179e"
            ],
            [
             0.4444444444444444,
             "#bd3786"
            ],
            [
             0.5555555555555556,
             "#d8576b"
            ],
            [
             0.6666666666666666,
             "#ed7953"
            ],
            [
             0.7777777777777778,
             "#fb9f3a"
            ],
            [
             0.8888888888888888,
             "#fdca26"
            ],
            [
             1,
             "#f0f921"
            ]
           ]
          },
          "colorway": [
           "#636efa",
           "#EF553B",
           "#00cc96",
           "#ab63fa",
           "#FFA15A",
           "#19d3f3",
           "#FF6692",
           "#B6E880",
           "#FF97FF",
           "#FECB52"
          ],
          "font": {
           "color": "#2a3f5f"
          },
          "geo": {
           "bgcolor": "white",
           "lakecolor": "white",
           "landcolor": "#E5ECF6",
           "showlakes": true,
           "showland": true,
           "subunitcolor": "white"
          },
          "hoverlabel": {
           "align": "left"
          },
          "hovermode": "closest",
          "mapbox": {
           "style": "light"
          },
          "paper_bgcolor": "white",
          "plot_bgcolor": "#E5ECF6",
          "polar": {
           "angularaxis": {
            "gridcolor": "white",
            "linecolor": "white",
            "ticks": ""
           },
           "bgcolor": "#E5ECF6",
           "radialaxis": {
            "gridcolor": "white",
            "linecolor": "white",
            "ticks": ""
           }
          },
          "scene": {
           "xaxis": {
            "backgroundcolor": "#E5ECF6",
            "gridcolor": "white",
            "gridwidth": 2,
            "linecolor": "white",
            "showbackground": true,
            "ticks": "",
            "zerolinecolor": "white"
           },
           "yaxis": {
            "backgroundcolor": "#E5ECF6",
            "gridcolor": "white",
            "gridwidth": 2,
            "linecolor": "white",
            "showbackground": true,
            "ticks": "",
            "zerolinecolor": "white"
           },
           "zaxis": {
            "backgroundcolor": "#E5ECF6",
            "gridcolor": "white",
            "gridwidth": 2,
            "linecolor": "white",
            "showbackground": true,
            "ticks": "",
            "zerolinecolor": "white"
           }
          },
          "shapedefaults": {
           "line": {
            "color": "#2a3f5f"
           }
          },
          "ternary": {
           "aaxis": {
            "gridcolor": "white",
            "linecolor": "white",
            "ticks": ""
           },
           "baxis": {
            "gridcolor": "white",
            "linecolor": "white",
            "ticks": ""
           },
           "bgcolor": "#E5ECF6",
           "caxis": {
            "gridcolor": "white",
            "linecolor": "white",
            "ticks": ""
           }
          },
          "title": {
           "x": 0.05
          },
          "xaxis": {
           "automargin": true,
           "gridcolor": "white",
           "linecolor": "white",
           "ticks": "",
           "title": {
            "standoff": 15
           },
           "zerolinecolor": "white",
           "zerolinewidth": 2
          },
          "yaxis": {
           "automargin": true,
           "gridcolor": "white",
           "linecolor": "white",
           "ticks": "",
           "title": {
            "standoff": 15
           },
           "zerolinecolor": "white",
           "zerolinewidth": 2
          }
         }
        },
        "title": {
         "font": {
          "color": "#4D5663"
         }
        },
        "xaxis": {
         "gridcolor": "#E1E5ED",
         "showgrid": true,
         "tickfont": {
          "color": "#4D5663"
         },
         "title": {
          "font": {
           "color": "#4D5663"
          },
          "text": ""
         },
         "zerolinecolor": "#E1E5ED"
        },
        "yaxis": {
         "gridcolor": "#E1E5ED",
         "showgrid": true,
         "tickfont": {
          "color": "#4D5663"
         },
         "title": {
          "font": {
           "color": "#4D5663"
          },
          "text": ""
         },
         "zerolinecolor": "#E1E5ED"
        }
       }
      },
      "text/html": [
       "<div>                            <div id=\"ed1b5162-129c-4c54-8ac8-fa90e1c19325\" class=\"plotly-graph-div\" style=\"height:525px; width:100%;\"></div>            <script type=\"text/javascript\">                require([\"plotly\"], function(Plotly) {                    window.PLOTLYENV=window.PLOTLYENV || {};\n",
       "                    window.PLOTLYENV.BASE_URL='https://plot.ly';                                    if (document.getElementById(\"ed1b5162-129c-4c54-8ac8-fa90e1c19325\")) {                    Plotly.newPlot(                        \"ed1b5162-129c-4c54-8ac8-fa90e1c19325\",                        [{\"marker\": {\"color\": \"rgba(255, 153, 51, 0.6)\", \"line\": {\"color\": \"rgba(255, 153, 51, 1.0)\", \"width\": 1}}, \"name\": \"None\", \"orientation\": \"v\", \"text\": \"\", \"type\": \"bar\", \"x\": [\"A\", \"B\", \"C\", \"D\"], \"y\": [-2.771186358793744, 11.00087710491967, -10.176411763777734, 1.8519414585484972]}],                        {\"legend\": {\"bgcolor\": \"#F5F6F9\", \"font\": {\"color\": \"#4D5663\"}}, \"paper_bgcolor\": \"#F5F6F9\", \"plot_bgcolor\": \"#F5F6F9\", \"template\": {\"data\": {\"bar\": [{\"error_x\": {\"color\": \"#2a3f5f\"}, \"error_y\": {\"color\": \"#2a3f5f\"}, \"marker\": {\"line\": {\"color\": \"#E5ECF6\", \"width\": 0.5}}, \"type\": \"bar\"}], \"barpolar\": [{\"marker\": {\"line\": {\"color\": \"#E5ECF6\", \"width\": 0.5}}, \"type\": \"barpolar\"}], \"carpet\": [{\"aaxis\": {\"endlinecolor\": \"#2a3f5f\", \"gridcolor\": \"white\", \"linecolor\": \"white\", \"minorgridcolor\": \"white\", \"startlinecolor\": \"#2a3f5f\"}, \"baxis\": {\"endlinecolor\": \"#2a3f5f\", \"gridcolor\": \"white\", \"linecolor\": \"white\", \"minorgridcolor\": \"white\", \"startlinecolor\": \"#2a3f5f\"}, \"type\": \"carpet\"}], \"choropleth\": [{\"colorbar\": {\"outlinewidth\": 0, \"ticks\": \"\"}, \"type\": \"choropleth\"}], \"contour\": [{\"colorbar\": {\"outlinewidth\": 0, \"ticks\": \"\"}, \"colorscale\": [[0.0, \"#0d0887\"], [0.1111111111111111, \"#46039f\"], [0.2222222222222222, \"#7201a8\"], [0.3333333333333333, \"#9c179e\"], [0.4444444444444444, \"#bd3786\"], [0.5555555555555556, \"#d8576b\"], [0.6666666666666666, \"#ed7953\"], [0.7777777777777778, \"#fb9f3a\"], [0.8888888888888888, \"#fdca26\"], [1.0, \"#f0f921\"]], \"type\": \"contour\"}], \"contourcarpet\": [{\"colorbar\": {\"outlinewidth\": 0, \"ticks\": \"\"}, \"type\": \"contourcarpet\"}], \"heatmap\": [{\"colorbar\": {\"outlinewidth\": 0, \"ticks\": \"\"}, \"colorscale\": [[0.0, \"#0d0887\"], [0.1111111111111111, \"#46039f\"], [0.2222222222222222, \"#7201a8\"], [0.3333333333333333, \"#9c179e\"], [0.4444444444444444, \"#bd3786\"], [0.5555555555555556, \"#d8576b\"], [0.6666666666666666, \"#ed7953\"], [0.7777777777777778, \"#fb9f3a\"], [0.8888888888888888, \"#fdca26\"], [1.0, \"#f0f921\"]], \"type\": \"heatmap\"}], \"heatmapgl\": [{\"colorbar\": {\"outlinewidth\": 0, \"ticks\": \"\"}, \"colorscale\": [[0.0, \"#0d0887\"], [0.1111111111111111, \"#46039f\"], [0.2222222222222222, \"#7201a8\"], [0.3333333333333333, \"#9c179e\"], [0.4444444444444444, \"#bd3786\"], [0.5555555555555556, \"#d8576b\"], [0.6666666666666666, \"#ed7953\"], [0.7777777777777778, \"#fb9f3a\"], [0.8888888888888888, \"#fdca26\"], [1.0, \"#f0f921\"]], \"type\": \"heatmapgl\"}], \"histogram\": [{\"marker\": {\"colorbar\": {\"outlinewidth\": 0, \"ticks\": \"\"}}, \"type\": \"histogram\"}], \"histogram2d\": [{\"colorbar\": {\"outlinewidth\": 0, \"ticks\": \"\"}, \"colorscale\": [[0.0, \"#0d0887\"], [0.1111111111111111, \"#46039f\"], [0.2222222222222222, \"#7201a8\"], [0.3333333333333333, \"#9c179e\"], [0.4444444444444444, \"#bd3786\"], [0.5555555555555556, \"#d8576b\"], [0.6666666666666666, \"#ed7953\"], [0.7777777777777778, \"#fb9f3a\"], [0.8888888888888888, \"#fdca26\"], [1.0, \"#f0f921\"]], \"type\": \"histogram2d\"}], \"histogram2dcontour\": [{\"colorbar\": {\"outlinewidth\": 0, \"ticks\": \"\"}, \"colorscale\": [[0.0, \"#0d0887\"], [0.1111111111111111, \"#46039f\"], [0.2222222222222222, \"#7201a8\"], [0.3333333333333333, \"#9c179e\"], [0.4444444444444444, \"#bd3786\"], [0.5555555555555556, \"#d8576b\"], [0.6666666666666666, \"#ed7953\"], [0.7777777777777778, \"#fb9f3a\"], [0.8888888888888888, \"#fdca26\"], [1.0, \"#f0f921\"]], \"type\": \"histogram2dcontour\"}], \"mesh3d\": [{\"colorbar\": {\"outlinewidth\": 0, \"ticks\": \"\"}, \"type\": \"mesh3d\"}], \"parcoords\": [{\"line\": {\"colorbar\": {\"outlinewidth\": 0, \"ticks\": \"\"}}, \"type\": \"parcoords\"}], \"pie\": [{\"automargin\": true, \"type\": \"pie\"}], \"scatter\": [{\"marker\": {\"colorbar\": {\"outlinewidth\": 0, \"ticks\": \"\"}}, \"type\": \"scatter\"}], \"scatter3d\": [{\"line\": {\"colorbar\": {\"outlinewidth\": 0, \"ticks\": \"\"}}, \"marker\": {\"colorbar\": {\"outlinewidth\": 0, \"ticks\": \"\"}}, \"type\": \"scatter3d\"}], \"scattercarpet\": [{\"marker\": {\"colorbar\": {\"outlinewidth\": 0, \"ticks\": \"\"}}, \"type\": \"scattercarpet\"}], \"scattergeo\": [{\"marker\": {\"colorbar\": {\"outlinewidth\": 0, \"ticks\": \"\"}}, \"type\": \"scattergeo\"}], \"scattergl\": [{\"marker\": {\"colorbar\": {\"outlinewidth\": 0, \"ticks\": \"\"}}, \"type\": \"scattergl\"}], \"scattermapbox\": [{\"marker\": {\"colorbar\": {\"outlinewidth\": 0, \"ticks\": \"\"}}, \"type\": \"scattermapbox\"}], \"scatterpolar\": [{\"marker\": {\"colorbar\": {\"outlinewidth\": 0, \"ticks\": \"\"}}, \"type\": \"scatterpolar\"}], \"scatterpolargl\": [{\"marker\": {\"colorbar\": {\"outlinewidth\": 0, \"ticks\": \"\"}}, \"type\": \"scatterpolargl\"}], \"scatterternary\": [{\"marker\": {\"colorbar\": {\"outlinewidth\": 0, \"ticks\": \"\"}}, \"type\": \"scatterternary\"}], \"surface\": [{\"colorbar\": {\"outlinewidth\": 0, \"ticks\": \"\"}, \"colorscale\": [[0.0, \"#0d0887\"], [0.1111111111111111, \"#46039f\"], [0.2222222222222222, \"#7201a8\"], [0.3333333333333333, \"#9c179e\"], [0.4444444444444444, \"#bd3786\"], [0.5555555555555556, \"#d8576b\"], [0.6666666666666666, \"#ed7953\"], [0.7777777777777778, \"#fb9f3a\"], [0.8888888888888888, \"#fdca26\"], [1.0, \"#f0f921\"]], \"type\": \"surface\"}], \"table\": [{\"cells\": {\"fill\": {\"color\": \"#EBF0F8\"}, \"line\": {\"color\": \"white\"}}, \"header\": {\"fill\": {\"color\": \"#C8D4E3\"}, \"line\": {\"color\": \"white\"}}, \"type\": \"table\"}]}, \"layout\": {\"annotationdefaults\": {\"arrowcolor\": \"#2a3f5f\", \"arrowhead\": 0, \"arrowwidth\": 1}, \"autotypenumbers\": \"strict\", \"coloraxis\": {\"colorbar\": {\"outlinewidth\": 0, \"ticks\": \"\"}}, \"colorscale\": {\"diverging\": [[0, \"#8e0152\"], [0.1, \"#c51b7d\"], [0.2, \"#de77ae\"], [0.3, \"#f1b6da\"], [0.4, \"#fde0ef\"], [0.5, \"#f7f7f7\"], [0.6, \"#e6f5d0\"], [0.7, \"#b8e186\"], [0.8, \"#7fbc41\"], [0.9, \"#4d9221\"], [1, \"#276419\"]], \"sequential\": [[0.0, \"#0d0887\"], [0.1111111111111111, \"#46039f\"], [0.2222222222222222, \"#7201a8\"], [0.3333333333333333, \"#9c179e\"], [0.4444444444444444, \"#bd3786\"], [0.5555555555555556, \"#d8576b\"], [0.6666666666666666, \"#ed7953\"], [0.7777777777777778, \"#fb9f3a\"], [0.8888888888888888, \"#fdca26\"], [1.0, \"#f0f921\"]], \"sequentialminus\": [[0.0, \"#0d0887\"], [0.1111111111111111, \"#46039f\"], [0.2222222222222222, \"#7201a8\"], [0.3333333333333333, \"#9c179e\"], [0.4444444444444444, \"#bd3786\"], [0.5555555555555556, \"#d8576b\"], [0.6666666666666666, \"#ed7953\"], [0.7777777777777778, \"#fb9f3a\"], [0.8888888888888888, \"#fdca26\"], [1.0, \"#f0f921\"]]}, \"colorway\": [\"#636efa\", \"#EF553B\", \"#00cc96\", \"#ab63fa\", \"#FFA15A\", \"#19d3f3\", \"#FF6692\", \"#B6E880\", \"#FF97FF\", \"#FECB52\"], \"font\": {\"color\": \"#2a3f5f\"}, \"geo\": {\"bgcolor\": \"white\", \"lakecolor\": \"white\", \"landcolor\": \"#E5ECF6\", \"showlakes\": true, \"showland\": true, \"subunitcolor\": \"white\"}, \"hoverlabel\": {\"align\": \"left\"}, \"hovermode\": \"closest\", \"mapbox\": {\"style\": \"light\"}, \"paper_bgcolor\": \"white\", \"plot_bgcolor\": \"#E5ECF6\", \"polar\": {\"angularaxis\": {\"gridcolor\": \"white\", \"linecolor\": \"white\", \"ticks\": \"\"}, \"bgcolor\": \"#E5ECF6\", \"radialaxis\": {\"gridcolor\": \"white\", \"linecolor\": \"white\", \"ticks\": \"\"}}, \"scene\": {\"xaxis\": {\"backgroundcolor\": \"#E5ECF6\", \"gridcolor\": \"white\", \"gridwidth\": 2, \"linecolor\": \"white\", \"showbackground\": true, \"ticks\": \"\", \"zerolinecolor\": \"white\"}, \"yaxis\": {\"backgroundcolor\": \"#E5ECF6\", \"gridcolor\": \"white\", \"gridwidth\": 2, \"linecolor\": \"white\", \"showbackground\": true, \"ticks\": \"\", \"zerolinecolor\": \"white\"}, \"zaxis\": {\"backgroundcolor\": \"#E5ECF6\", \"gridcolor\": \"white\", \"gridwidth\": 2, \"linecolor\": \"white\", \"showbackground\": true, \"ticks\": \"\", \"zerolinecolor\": \"white\"}}, \"shapedefaults\": {\"line\": {\"color\": \"#2a3f5f\"}}, \"ternary\": {\"aaxis\": {\"gridcolor\": \"white\", \"linecolor\": \"white\", \"ticks\": \"\"}, \"baxis\": {\"gridcolor\": \"white\", \"linecolor\": \"white\", \"ticks\": \"\"}, \"bgcolor\": \"#E5ECF6\", \"caxis\": {\"gridcolor\": \"white\", \"linecolor\": \"white\", \"ticks\": \"\"}}, \"title\": {\"x\": 0.05}, \"xaxis\": {\"automargin\": true, \"gridcolor\": \"white\", \"linecolor\": \"white\", \"ticks\": \"\", \"title\": {\"standoff\": 15}, \"zerolinecolor\": \"white\", \"zerolinewidth\": 2}, \"yaxis\": {\"automargin\": true, \"gridcolor\": \"white\", \"linecolor\": \"white\", \"ticks\": \"\", \"title\": {\"standoff\": 15}, \"zerolinecolor\": \"white\", \"zerolinewidth\": 2}}}, \"title\": {\"font\": {\"color\": \"#4D5663\"}}, \"xaxis\": {\"gridcolor\": \"#E1E5ED\", \"showgrid\": true, \"tickfont\": {\"color\": \"#4D5663\"}, \"title\": {\"font\": {\"color\": \"#4D5663\"}, \"text\": \"\"}, \"zerolinecolor\": \"#E1E5ED\"}, \"yaxis\": {\"gridcolor\": \"#E1E5ED\", \"showgrid\": true, \"tickfont\": {\"color\": \"#4D5663\"}, \"title\": {\"font\": {\"color\": \"#4D5663\"}, \"text\": \"\"}, \"zerolinecolor\": \"#E1E5ED\"}},                        {\"showLink\": true, \"linkText\": \"Export to plot.ly\", \"plotlyServerURL\": \"https://plot.ly\", \"responsive\": true}                    ).then(function(){\n",
       "                            \n",
       "var gd = document.getElementById('ed1b5162-129c-4c54-8ac8-fa90e1c19325');\n",
       "var x = new MutationObserver(function (mutations, observer) {{\n",
       "        var display = window.getComputedStyle(gd).display;\n",
       "        if (!display || display === 'none') {{\n",
       "            console.log([gd, 'removed!']);\n",
       "            Plotly.purge(gd);\n",
       "            observer.disconnect();\n",
       "        }}\n",
       "}});\n",
       "\n",
       "// Listen for the removal of the full notebook cells\n",
       "var notebookContainer = gd.closest('#notebook-container');\n",
       "if (notebookContainer) {{\n",
       "    x.observe(notebookContainer, {childList: true});\n",
       "}}\n",
       "\n",
       "// Listen for the clearing of the current output cell\n",
       "var outputEl = gd.closest('.output');\n",
       "if (outputEl) {{\n",
       "    x.observe(outputEl, {childList: true});\n",
       "}}\n",
       "\n",
       "                        })                };                });            </script>        </div>"
      ]
     },
     "metadata": {},
     "output_type": "display_data"
    }
   ],
   "source": [
    "df.sum().iplot(kind='bar')"
   ]
  },
  {
   "cell_type": "code",
   "execution_count": 26,
   "metadata": {},
   "outputs": [
    {
     "data": {
      "application/vnd.plotly.v1+json": {
       "config": {
        "linkText": "Export to plot.ly",
        "plotlyServerURL": "https://plot.ly",
        "showLink": true
       },
       "data": [
        {
         "boxpoints": false,
         "line": {
          "width": 1.3
         },
         "marker": {
          "color": "rgba(255, 153, 51, 1.0)"
         },
         "name": "A",
         "orientation": "v",
         "type": "box",
         "y": [
          1.5047071858675904,
          -1.2306437730366853,
          0.605020350239587,
          -0.11730722559215549,
          -0.5094486400300653,
          -0.03247951610040798,
          0.9731351835823545,
          -1.472511340085507,
          -0.23083304464393553,
          0.5787834027566838,
          -0.3156316458899452,
          -0.37854491314669936,
          -1.578313375563011,
          -0.7431436030597717,
          0.5630177560101443,
          -1.3333242685734497,
          -0.4812889971321455,
          0.46635368545417594,
          -0.09920746060052134,
          1.0140120472191738,
          -0.9225221157990605,
          1.4196106846836412,
          0.1952712362569279,
          -0.8168745709151536,
          -0.13975493326855662,
          0.5823845164628724,
          -0.04996888900130543,
          0.013820356133013887,
          -0.06830081283978562,
          0.19215684436051617,
          1.286435464479053,
          -0.33541662466852057,
          -2.8587717658377443,
          0.006416985094558975,
          1.2961166888011706,
          -0.08942228467851332,
          1.587406402848416,
          0.25947535251631904,
          -0.8048768802234534,
          -0.8419192982284646,
          -1.6039443064270875,
          0.10466270748776571,
          0.02998318674242047,
          -0.006862251689929032,
          -0.7660788034000553,
          1.1726861103538202,
          -0.27001683146847616,
          0.020866604645267316,
          -1.5500723287323086,
          -0.1353630979441134,
          0.10043734262022548,
          0.26824564753711505,
          0.12819938986961066,
          -1.17819730023147,
          0.43825107894139315,
          -0.8922617953366131,
          -0.1304564737507755,
          -0.712627526372936,
          -0.21148412951738027,
          -0.803660466757645,
          -0.2795304432141383,
          -0.7656507457744494,
          -1.2247199589979165,
          -0.16498458992525863,
          0.923653188973336,
          0.13764563658951204,
          0.043849382884496906,
          0.607314473420084,
          0.7462893879083348,
          0.18665312051788513,
          -1.4497989583537694,
          1.528431628745062,
          0.3712893622551243,
          0.47187897031748005,
          0.8177302430660359,
          -0.09631945740607714,
          0.2046001019962186,
          1.5632968046193618,
          0.28173247195427,
          -0.4990349917914575,
          0.4880662332937979,
          -1.6313543113852154,
          0.4398737132524965,
          0.22985411660186864,
          1.2996791563457732,
          -0.0015933251060393399,
          0.48577287679867154,
          -0.7611622677031836,
          -0.9177847234627884,
          0.31360597655689065,
          0.8504935212248734,
          -0.5321453076085406,
          -0.44651013637870907,
          -0.8221181957042193,
          1.8611329510653556,
          -1.9200683591650554,
          0.2640173821523596,
          -0.012626231690431604,
          3.152977471906116,
          0.3884525520079316
         ]
        },
        {
         "boxpoints": false,
         "line": {
          "width": 1.3
         },
         "marker": {
          "color": "rgba(55, 128, 191, 1.0)"
         },
         "name": "B",
         "orientation": "v",
         "type": "box",
         "y": [
          0.47852473764124553,
          0.47953723587996805,
          -0.44148143458663514,
          1.7986040640014305,
          1.3887987421628392,
          1.597757985723844,
          0.5877999356373035,
          1.5808007026584723,
          -0.33360175851415325,
          -0.13122522278994106,
          0.3224781441878215,
          0.8496592084762307,
          -1.150154786050836,
          -0.03636065930498414,
          -0.5208283778493646,
          1.0938755117779735,
          0.15407640392163835,
          0.569679081793052,
          0.03260012363032162,
          0.9945392624370553,
          1.3904827907721824,
          1.775213217496774,
          -0.5429998873307663,
          0.0915471721012884,
          -0.09519693387176657,
          -1.5963958081570286,
          2.4465606576364927,
          1.5731633274545442,
          -0.08560470104480285,
          0.2580248761829393,
          1.539166024904185,
          0.5416302736813118,
          -0.6303030028201453,
          -0.20719439088977545,
          0.4791532829966961,
          0.6345908134255359,
          -1.4310301356276192,
          -1.3401692846786348,
          0.12938500637423184,
          0.8697464546388674,
          -1.233469614258414,
          2.266394093414955,
          0.4095157714369962,
          0.3129562945885272,
          0.6875159516001128,
          0.43742266506028393,
          -0.9548174472407832,
          0.07014485793751564,
          -0.20394038833768505,
          1.3440227943161343,
          -0.4211541610746663,
          1.1778831515862733,
          -0.20884700147291713,
          -0.6287794998087359,
          -0.7877323616235364,
          -1.2186019438648847,
          1.1458611752078418,
          -0.38447865902786865,
          -0.5223514043098862,
          0.8604521332601345,
          -0.29850097445053136,
          -1.0125124820836118,
          -0.13931808941227639,
          0.24397113215543434,
          1.7129575541024467,
          -0.3046189015886152,
          -2.304212940366996,
          0.9750048983151226,
          0.1917996277566565,
          1.7150797955986141,
          -0.6669591370086811,
          -0.8584067440066807,
          1.0979784717067602,
          -1.4142753213911983,
          -0.14952157401637756,
          -1.7533683614377518,
          0.12616412568399893,
          0.4011261217165389,
          -1.528023749999498,
          -2.447037347680574,
          -1.889348744499366,
          -0.9452629996802178,
          0.05039114426983621,
          1.1675519258374532,
          0.1295374021492559,
          0.3296377092381601,
          1.7544282508147742,
          -0.9871840427773075,
          -0.49209018295214213,
          -0.9434878688187036,
          1.6166091978251167,
          -0.23609503635320464,
          0.9761194029838546,
          0.7307775163820062,
          1.3621691942697398,
          0.4874710586315161,
          -2.211347382211482,
          0.24820113797038115,
          -7.074984288589023e-05,
          -0.9973009933770731
         ]
        },
        {
         "boxpoints": false,
         "line": {
          "width": 1.3
         },
         "marker": {
          "color": "rgba(50, 171, 96, 1.0)"
         },
         "name": "C",
         "orientation": "v",
         "type": "box",
         "y": [
          -0.6000059072918577,
          1.3851327831240583,
          -0.8416605212960638,
          1.5154885208090547,
          0.35490000189417265,
          1.6908051929618615,
          -1.5287201794917664,
          -0.7349423678365664,
          -0.6913427780487162,
          -0.48028684240557384,
          -0.8194308330776271,
          -0.29106481926234773,
          -0.44013318857028755,
          -0.20308347702726706,
          0.35361926604476035,
          0.9088141438825913,
          -0.12621126330418034,
          0.2713276194712512,
          0.6134881669524676,
          -0.6779439897805137,
          0.24950517621334753,
          -2.2745063234013974,
          -0.7245357611636806,
          -0.6894443833026974,
          -0.1264702313571285,
          -1.7171240171463795,
          0.4649639516968302,
          0.28032078841628816,
          0.8187312513948517,
          1.8356694161971212,
          0.07111938776697482,
          0.5280542526634601,
          -0.16806824844991317,
          0.3000210389712474,
          -0.12397057872547237,
          -1.7083423879575599,
          1.00021666547896,
          -1.638137045671358,
          0.9357959636309474,
          0.05029229480271856,
          -0.07831195145744159,
          -0.23370643955925763,
          -0.5993775703744221,
          0.37675039193732496,
          0.24028123734389664,
          0.3093358333892805,
          -0.5924220763938935,
          0.7335935351551006,
          -0.44891339165705907,
          -0.35530507838316644,
          -0.4944060862732866,
          0.38313420932443837,
          1.1715219237750232,
          1.3121080758510824,
          0.809296311973692,
          0.44223568422499776,
          -1.0144546947415045,
          -2.0963256155813,
          0.8303089376644729,
          0.20727530570372368,
          0.6809398714532137,
          -0.20313700975503854,
          -0.8683297955457224,
          -0.8967516788430234,
          -2.890614614986278,
          -0.09993955098456375,
          -0.14383529393879205,
          -1.0973057711218217,
          -0.7504335408709724,
          0.9180133479107283,
          -0.5666948674783646,
          -1.9763329181438785,
          0.9938517046204264,
          0.23372817565574658,
          -0.30996996483053013,
          -0.7952300157721142,
          -0.5982382641896878,
          2.019467960329815,
          -1.2598852398508364,
          -2.3605648504641117,
          0.2688239708057861,
          0.3341326209586924,
          0.5781274307848184,
          -1.126794432746841,
          1.8186529196083057,
          -0.2257175946243995,
          -0.7327823203159495,
          -0.04215232447181377,
          0.35468065583520547,
          0.7529400572744188,
          -0.9070666616628649,
          -2.7491636513888267,
          -0.158765905268466,
          -1.5942636877571497,
          -0.034178501622841355,
          1.644502105606857,
          1.2278338376015379,
          0.22311899274343086,
          2.0926505853158326,
          0.14481317662602947
         ]
        },
        {
         "boxpoints": false,
         "line": {
          "width": 1.3
         },
         "marker": {
          "color": "rgba(128, 0, 128, 1.0)"
         },
         "name": "D",
         "orientation": "v",
         "type": "box",
         "y": [
          -0.8082398228533931,
          -0.5150448150176067,
          -1.0877456219922552,
          -0.8048179509408832,
          0.6086999215692537,
          -0.5757069764316959,
          0.47345421556973416,
          -0.20836536589757984,
          -1.530474829093293,
          0.4219608143606672,
          -1.3598569545767323,
          0.26771371003290845,
          0.5983985813921551,
          -0.07616351426305064,
          -0.030391020270419882,
          1.001390782205427,
          0.9369229701129356,
          -0.356238064328411,
          -0.727088551183532,
          1.7896490382744903,
          -0.24431409954433136,
          0.2237147309778499,
          0.20738917270660667,
          -0.46228323064267396,
          2.0312627382663093,
          0.507205686431814,
          -1.1004206781437917,
          -0.40716791218137677,
          0.4903848006304384,
          -0.7918357006951539,
          1.9658079569926246,
          -0.6457999436135241,
          1.0614383133641743,
          0.27377992781923305,
          0.10701923381201559,
          -0.4000061087739593,
          -1.837251657679469,
          0.4880101965671579,
          0.6911914823146007,
          1.746647766580847,
          2.4730610128976025,
          0.6872374464358818,
          1.0732008846959473,
          -0.48774677137980743,
          -0.8095131203630446,
          -1.1453972995580883,
          0.6745284104776471,
          -0.7089344921988175,
          1.080404970897654,
          0.654933864788666,
          0.5993501954136305,
          0.6335112551331462,
          -0.3589185468179479,
          -1.404924418265637,
          0.013247846568394272,
          0.49121042562949946,
          -1.781961301376952,
          -0.3461391298088473,
          0.7079203769362604,
          -0.4845337136107974,
          2.2121393861141807,
          -1.2069802115680754,
          0.49389803836683593,
          -1.0011033326444534,
          0.004752979140422849,
          -0.8451778958184031,
          -0.6643597024318079,
          -0.40229732951149305,
          -0.7377438349276196,
          0.7143190164674909,
          3.2165361910584975,
          -0.2990466181868432,
          0.5983848199307756,
          -0.6547230911032215,
          -1.3508232926668085,
          -0.30203008713704566,
          0.8222645436335331,
          0.7683362411825844,
          0.20502092967846014,
          -1.3032276841045292,
          -1.9480148669781658,
          0.49509145239623104,
          0.6957201739268423,
          -0.6099904097456169,
          1.055965324015916,
          0.006084384263107051,
          1.4515849407547137,
          -0.4514929498138888,
          -0.2807620187625043,
          -0.4223488763697073,
          -1.017141859337329,
          0.6388544156437523,
          0.2593832599300954,
          -0.24507572484234003,
          -0.48759006253485254,
          -1.7667005971711343,
          -0.035067253089737994,
          -1.256620895729348,
          -0.13091364656474716,
          2.1494704847322295
         ]
        }
       ],
       "layout": {
        "legend": {
         "bgcolor": "#F5F6F9",
         "font": {
          "color": "#4D5663"
         }
        },
        "paper_bgcolor": "#F5F6F9",
        "plot_bgcolor": "#F5F6F9",
        "template": {
         "data": {
          "bar": [
           {
            "error_x": {
             "color": "#2a3f5f"
            },
            "error_y": {
             "color": "#2a3f5f"
            },
            "marker": {
             "line": {
              "color": "#E5ECF6",
              "width": 0.5
             }
            },
            "type": "bar"
           }
          ],
          "barpolar": [
           {
            "marker": {
             "line": {
              "color": "#E5ECF6",
              "width": 0.5
             }
            },
            "type": "barpolar"
           }
          ],
          "carpet": [
           {
            "aaxis": {
             "endlinecolor": "#2a3f5f",
             "gridcolor": "white",
             "linecolor": "white",
             "minorgridcolor": "white",
             "startlinecolor": "#2a3f5f"
            },
            "baxis": {
             "endlinecolor": "#2a3f5f",
             "gridcolor": "white",
             "linecolor": "white",
             "minorgridcolor": "white",
             "startlinecolor": "#2a3f5f"
            },
            "type": "carpet"
           }
          ],
          "choropleth": [
           {
            "colorbar": {
             "outlinewidth": 0,
             "ticks": ""
            },
            "type": "choropleth"
           }
          ],
          "contour": [
           {
            "colorbar": {
             "outlinewidth": 0,
             "ticks": ""
            },
            "colorscale": [
             [
              0,
              "#0d0887"
             ],
             [
              0.1111111111111111,
              "#46039f"
             ],
             [
              0.2222222222222222,
              "#7201a8"
             ],
             [
              0.3333333333333333,
              "#9c179e"
             ],
             [
              0.4444444444444444,
              "#bd3786"
             ],
             [
              0.5555555555555556,
              "#d8576b"
             ],
             [
              0.6666666666666666,
              "#ed7953"
             ],
             [
              0.7777777777777778,
              "#fb9f3a"
             ],
             [
              0.8888888888888888,
              "#fdca26"
             ],
             [
              1,
              "#f0f921"
             ]
            ],
            "type": "contour"
           }
          ],
          "contourcarpet": [
           {
            "colorbar": {
             "outlinewidth": 0,
             "ticks": ""
            },
            "type": "contourcarpet"
           }
          ],
          "heatmap": [
           {
            "colorbar": {
             "outlinewidth": 0,
             "ticks": ""
            },
            "colorscale": [
             [
              0,
              "#0d0887"
             ],
             [
              0.1111111111111111,
              "#46039f"
             ],
             [
              0.2222222222222222,
              "#7201a8"
             ],
             [
              0.3333333333333333,
              "#9c179e"
             ],
             [
              0.4444444444444444,
              "#bd3786"
             ],
             [
              0.5555555555555556,
              "#d8576b"
             ],
             [
              0.6666666666666666,
              "#ed7953"
             ],
             [
              0.7777777777777778,
              "#fb9f3a"
             ],
             [
              0.8888888888888888,
              "#fdca26"
             ],
             [
              1,
              "#f0f921"
             ]
            ],
            "type": "heatmap"
           }
          ],
          "heatmapgl": [
           {
            "colorbar": {
             "outlinewidth": 0,
             "ticks": ""
            },
            "colorscale": [
             [
              0,
              "#0d0887"
             ],
             [
              0.1111111111111111,
              "#46039f"
             ],
             [
              0.2222222222222222,
              "#7201a8"
             ],
             [
              0.3333333333333333,
              "#9c179e"
             ],
             [
              0.4444444444444444,
              "#bd3786"
             ],
             [
              0.5555555555555556,
              "#d8576b"
             ],
             [
              0.6666666666666666,
              "#ed7953"
             ],
             [
              0.7777777777777778,
              "#fb9f3a"
             ],
             [
              0.8888888888888888,
              "#fdca26"
             ],
             [
              1,
              "#f0f921"
             ]
            ],
            "type": "heatmapgl"
           }
          ],
          "histogram": [
           {
            "marker": {
             "colorbar": {
              "outlinewidth": 0,
              "ticks": ""
             }
            },
            "type": "histogram"
           }
          ],
          "histogram2d": [
           {
            "colorbar": {
             "outlinewidth": 0,
             "ticks": ""
            },
            "colorscale": [
             [
              0,
              "#0d0887"
             ],
             [
              0.1111111111111111,
              "#46039f"
             ],
             [
              0.2222222222222222,
              "#7201a8"
             ],
             [
              0.3333333333333333,
              "#9c179e"
             ],
             [
              0.4444444444444444,
              "#bd3786"
             ],
             [
              0.5555555555555556,
              "#d8576b"
             ],
             [
              0.6666666666666666,
              "#ed7953"
             ],
             [
              0.7777777777777778,
              "#fb9f3a"
             ],
             [
              0.8888888888888888,
              "#fdca26"
             ],
             [
              1,
              "#f0f921"
             ]
            ],
            "type": "histogram2d"
           }
          ],
          "histogram2dcontour": [
           {
            "colorbar": {
             "outlinewidth": 0,
             "ticks": ""
            },
            "colorscale": [
             [
              0,
              "#0d0887"
             ],
             [
              0.1111111111111111,
              "#46039f"
             ],
             [
              0.2222222222222222,
              "#7201a8"
             ],
             [
              0.3333333333333333,
              "#9c179e"
             ],
             [
              0.4444444444444444,
              "#bd3786"
             ],
             [
              0.5555555555555556,
              "#d8576b"
             ],
             [
              0.6666666666666666,
              "#ed7953"
             ],
             [
              0.7777777777777778,
              "#fb9f3a"
             ],
             [
              0.8888888888888888,
              "#fdca26"
             ],
             [
              1,
              "#f0f921"
             ]
            ],
            "type": "histogram2dcontour"
           }
          ],
          "mesh3d": [
           {
            "colorbar": {
             "outlinewidth": 0,
             "ticks": ""
            },
            "type": "mesh3d"
           }
          ],
          "parcoords": [
           {
            "line": {
             "colorbar": {
              "outlinewidth": 0,
              "ticks": ""
             }
            },
            "type": "parcoords"
           }
          ],
          "pie": [
           {
            "automargin": true,
            "type": "pie"
           }
          ],
          "scatter": [
           {
            "marker": {
             "colorbar": {
              "outlinewidth": 0,
              "ticks": ""
             }
            },
            "type": "scatter"
           }
          ],
          "scatter3d": [
           {
            "line": {
             "colorbar": {
              "outlinewidth": 0,
              "ticks": ""
             }
            },
            "marker": {
             "colorbar": {
              "outlinewidth": 0,
              "ticks": ""
             }
            },
            "type": "scatter3d"
           }
          ],
          "scattercarpet": [
           {
            "marker": {
             "colorbar": {
              "outlinewidth": 0,
              "ticks": ""
             }
            },
            "type": "scattercarpet"
           }
          ],
          "scattergeo": [
           {
            "marker": {
             "colorbar": {
              "outlinewidth": 0,
              "ticks": ""
             }
            },
            "type": "scattergeo"
           }
          ],
          "scattergl": [
           {
            "marker": {
             "colorbar": {
              "outlinewidth": 0,
              "ticks": ""
             }
            },
            "type": "scattergl"
           }
          ],
          "scattermapbox": [
           {
            "marker": {
             "colorbar": {
              "outlinewidth": 0,
              "ticks": ""
             }
            },
            "type": "scattermapbox"
           }
          ],
          "scatterpolar": [
           {
            "marker": {
             "colorbar": {
              "outlinewidth": 0,
              "ticks": ""
             }
            },
            "type": "scatterpolar"
           }
          ],
          "scatterpolargl": [
           {
            "marker": {
             "colorbar": {
              "outlinewidth": 0,
              "ticks": ""
             }
            },
            "type": "scatterpolargl"
           }
          ],
          "scatterternary": [
           {
            "marker": {
             "colorbar": {
              "outlinewidth": 0,
              "ticks": ""
             }
            },
            "type": "scatterternary"
           }
          ],
          "surface": [
           {
            "colorbar": {
             "outlinewidth": 0,
             "ticks": ""
            },
            "colorscale": [
             [
              0,
              "#0d0887"
             ],
             [
              0.1111111111111111,
              "#46039f"
             ],
             [
              0.2222222222222222,
              "#7201a8"
             ],
             [
              0.3333333333333333,
              "#9c179e"
             ],
             [
              0.4444444444444444,
              "#bd3786"
             ],
             [
              0.5555555555555556,
              "#d8576b"
             ],
             [
              0.6666666666666666,
              "#ed7953"
             ],
             [
              0.7777777777777778,
              "#fb9f3a"
             ],
             [
              0.8888888888888888,
              "#fdca26"
             ],
             [
              1,
              "#f0f921"
             ]
            ],
            "type": "surface"
           }
          ],
          "table": [
           {
            "cells": {
             "fill": {
              "color": "#EBF0F8"
             },
             "line": {
              "color": "white"
             }
            },
            "header": {
             "fill": {
              "color": "#C8D4E3"
             },
             "line": {
              "color": "white"
             }
            },
            "type": "table"
           }
          ]
         },
         "layout": {
          "annotationdefaults": {
           "arrowcolor": "#2a3f5f",
           "arrowhead": 0,
           "arrowwidth": 1
          },
          "autotypenumbers": "strict",
          "coloraxis": {
           "colorbar": {
            "outlinewidth": 0,
            "ticks": ""
           }
          },
          "colorscale": {
           "diverging": [
            [
             0,
             "#8e0152"
            ],
            [
             0.1,
             "#c51b7d"
            ],
            [
             0.2,
             "#de77ae"
            ],
            [
             0.3,
             "#f1b6da"
            ],
            [
             0.4,
             "#fde0ef"
            ],
            [
             0.5,
             "#f7f7f7"
            ],
            [
             0.6,
             "#e6f5d0"
            ],
            [
             0.7,
             "#b8e186"
            ],
            [
             0.8,
             "#7fbc41"
            ],
            [
             0.9,
             "#4d9221"
            ],
            [
             1,
             "#276419"
            ]
           ],
           "sequential": [
            [
             0,
             "#0d0887"
            ],
            [
             0.1111111111111111,
             "#46039f"
            ],
            [
             0.2222222222222222,
             "#7201a8"
            ],
            [
             0.3333333333333333,
             "#9c179e"
            ],
            [
             0.4444444444444444,
             "#bd3786"
            ],
            [
             0.5555555555555556,
             "#d8576b"
            ],
            [
             0.6666666666666666,
             "#ed7953"
            ],
            [
             0.7777777777777778,
             "#fb9f3a"
            ],
            [
             0.8888888888888888,
             "#fdca26"
            ],
            [
             1,
             "#f0f921"
            ]
           ],
           "sequentialminus": [
            [
             0,
             "#0d0887"
            ],
            [
             0.1111111111111111,
             "#46039f"
            ],
            [
             0.2222222222222222,
             "#7201a8"
            ],
            [
             0.3333333333333333,
             "#9c179e"
            ],
            [
             0.4444444444444444,
             "#bd3786"
            ],
            [
             0.5555555555555556,
             "#d8576b"
            ],
            [
             0.6666666666666666,
             "#ed7953"
            ],
            [
             0.7777777777777778,
             "#fb9f3a"
            ],
            [
             0.8888888888888888,
             "#fdca26"
            ],
            [
             1,
             "#f0f921"
            ]
           ]
          },
          "colorway": [
           "#636efa",
           "#EF553B",
           "#00cc96",
           "#ab63fa",
           "#FFA15A",
           "#19d3f3",
           "#FF6692",
           "#B6E880",
           "#FF97FF",
           "#FECB52"
          ],
          "font": {
           "color": "#2a3f5f"
          },
          "geo": {
           "bgcolor": "white",
           "lakecolor": "white",
           "landcolor": "#E5ECF6",
           "showlakes": true,
           "showland": true,
           "subunitcolor": "white"
          },
          "hoverlabel": {
           "align": "left"
          },
          "hovermode": "closest",
          "mapbox": {
           "style": "light"
          },
          "paper_bgcolor": "white",
          "plot_bgcolor": "#E5ECF6",
          "polar": {
           "angularaxis": {
            "gridcolor": "white",
            "linecolor": "white",
            "ticks": ""
           },
           "bgcolor": "#E5ECF6",
           "radialaxis": {
            "gridcolor": "white",
            "linecolor": "white",
            "ticks": ""
           }
          },
          "scene": {
           "xaxis": {
            "backgroundcolor": "#E5ECF6",
            "gridcolor": "white",
            "gridwidth": 2,
            "linecolor": "white",
            "showbackground": true,
            "ticks": "",
            "zerolinecolor": "white"
           },
           "yaxis": {
            "backgroundcolor": "#E5ECF6",
            "gridcolor": "white",
            "gridwidth": 2,
            "linecolor": "white",
            "showbackground": true,
            "ticks": "",
            "zerolinecolor": "white"
           },
           "zaxis": {
            "backgroundcolor": "#E5ECF6",
            "gridcolor": "white",
            "gridwidth": 2,
            "linecolor": "white",
            "showbackground": true,
            "ticks": "",
            "zerolinecolor": "white"
           }
          },
          "shapedefaults": {
           "line": {
            "color": "#2a3f5f"
           }
          },
          "ternary": {
           "aaxis": {
            "gridcolor": "white",
            "linecolor": "white",
            "ticks": ""
           },
           "baxis": {
            "gridcolor": "white",
            "linecolor": "white",
            "ticks": ""
           },
           "bgcolor": "#E5ECF6",
           "caxis": {
            "gridcolor": "white",
            "linecolor": "white",
            "ticks": ""
           }
          },
          "title": {
           "x": 0.05
          },
          "xaxis": {
           "automargin": true,
           "gridcolor": "white",
           "linecolor": "white",
           "ticks": "",
           "title": {
            "standoff": 15
           },
           "zerolinecolor": "white",
           "zerolinewidth": 2
          },
          "yaxis": {
           "automargin": true,
           "gridcolor": "white",
           "linecolor": "white",
           "ticks": "",
           "title": {
            "standoff": 15
           },
           "zerolinecolor": "white",
           "zerolinewidth": 2
          }
         }
        },
        "title": {
         "font": {
          "color": "#4D5663"
         }
        },
        "xaxis": {
         "gridcolor": "#E1E5ED",
         "showgrid": true,
         "tickfont": {
          "color": "#4D5663"
         },
         "title": {
          "font": {
           "color": "#4D5663"
          },
          "text": ""
         },
         "zerolinecolor": "#E1E5ED"
        },
        "yaxis": {
         "gridcolor": "#E1E5ED",
         "showgrid": true,
         "tickfont": {
          "color": "#4D5663"
         },
         "title": {
          "font": {
           "color": "#4D5663"
          },
          "text": ""
         },
         "zerolinecolor": "#E1E5ED"
        }
       }
      },
      "text/html": [
       "<div>                            <div id=\"f00cd767-5b5e-4d1c-a803-52667917abca\" class=\"plotly-graph-div\" style=\"height:525px; width:100%;\"></div>            <script type=\"text/javascript\">                require([\"plotly\"], function(Plotly) {                    window.PLOTLYENV=window.PLOTLYENV || {};\n",
       "                    window.PLOTLYENV.BASE_URL='https://plot.ly';                                    if (document.getElementById(\"f00cd767-5b5e-4d1c-a803-52667917abca\")) {                    Plotly.newPlot(                        \"f00cd767-5b5e-4d1c-a803-52667917abca\",                        [{\"boxpoints\": false, \"line\": {\"width\": 1.3}, \"marker\": {\"color\": \"rgba(255, 153, 51, 1.0)\"}, \"name\": \"A\", \"orientation\": \"v\", \"type\": \"box\", \"y\": [1.5047071858675904, -1.2306437730366853, 0.605020350239587, -0.11730722559215549, -0.5094486400300653, -0.03247951610040798, 0.9731351835823545, -1.472511340085507, -0.23083304464393553, 0.5787834027566838, -0.3156316458899452, -0.37854491314669936, -1.578313375563011, -0.7431436030597717, 0.5630177560101443, -1.3333242685734497, -0.4812889971321455, 0.46635368545417594, -0.09920746060052134, 1.0140120472191738, -0.9225221157990605, 1.4196106846836412, 0.1952712362569279, -0.8168745709151536, -0.13975493326855662, 0.5823845164628724, -0.04996888900130543, 0.013820356133013887, -0.06830081283978562, 0.19215684436051617, 1.286435464479053, -0.33541662466852057, -2.8587717658377443, 0.006416985094558975, 1.2961166888011706, -0.08942228467851332, 1.587406402848416, 0.25947535251631904, -0.8048768802234534, -0.8419192982284646, -1.6039443064270875, 0.10466270748776571, 0.02998318674242047, -0.006862251689929032, -0.7660788034000553, 1.1726861103538202, -0.27001683146847616, 0.020866604645267316, -1.5500723287323086, -0.1353630979441134, 0.10043734262022548, 0.26824564753711505, 0.12819938986961066, -1.17819730023147, 0.43825107894139315, -0.8922617953366131, -0.1304564737507755, -0.712627526372936, -0.21148412951738027, -0.803660466757645, -0.2795304432141383, -0.7656507457744494, -1.2247199589979165, -0.16498458992525863, 0.923653188973336, 0.13764563658951204, 0.043849382884496906, 0.607314473420084, 0.7462893879083348, 0.18665312051788513, -1.4497989583537694, 1.528431628745062, 0.3712893622551243, 0.47187897031748005, 0.8177302430660359, -0.09631945740607714, 0.2046001019962186, 1.5632968046193618, 0.28173247195427, -0.4990349917914575, 0.4880662332937979, -1.6313543113852154, 0.4398737132524965, 0.22985411660186864, 1.2996791563457732, -0.0015933251060393399, 0.48577287679867154, -0.7611622677031836, -0.9177847234627884, 0.31360597655689065, 0.8504935212248734, -0.5321453076085406, -0.44651013637870907, -0.8221181957042193, 1.8611329510653556, -1.9200683591650554, 0.2640173821523596, -0.012626231690431604, 3.152977471906116, 0.3884525520079316]}, {\"boxpoints\": false, \"line\": {\"width\": 1.3}, \"marker\": {\"color\": \"rgba(55, 128, 191, 1.0)\"}, \"name\": \"B\", \"orientation\": \"v\", \"type\": \"box\", \"y\": [0.47852473764124553, 0.47953723587996805, -0.44148143458663514, 1.7986040640014305, 1.3887987421628392, 1.597757985723844, 0.5877999356373035, 1.5808007026584723, -0.33360175851415325, -0.13122522278994106, 0.3224781441878215, 0.8496592084762307, -1.150154786050836, -0.03636065930498414, -0.5208283778493646, 1.0938755117779735, 0.15407640392163835, 0.569679081793052, 0.03260012363032162, 0.9945392624370553, 1.3904827907721824, 1.775213217496774, -0.5429998873307663, 0.0915471721012884, -0.09519693387176657, -1.5963958081570286, 2.4465606576364927, 1.5731633274545442, -0.08560470104480285, 0.2580248761829393, 1.539166024904185, 0.5416302736813118, -0.6303030028201453, -0.20719439088977545, 0.4791532829966961, 0.6345908134255359, -1.4310301356276192, -1.3401692846786348, 0.12938500637423184, 0.8697464546388674, -1.233469614258414, 2.266394093414955, 0.4095157714369962, 0.3129562945885272, 0.6875159516001128, 0.43742266506028393, -0.9548174472407832, 0.07014485793751564, -0.20394038833768505, 1.3440227943161343, -0.4211541610746663, 1.1778831515862733, -0.20884700147291713, -0.6287794998087359, -0.7877323616235364, -1.2186019438648847, 1.1458611752078418, -0.38447865902786865, -0.5223514043098862, 0.8604521332601345, -0.29850097445053136, -1.0125124820836118, -0.13931808941227639, 0.24397113215543434, 1.7129575541024467, -0.3046189015886152, -2.304212940366996, 0.9750048983151226, 0.1917996277566565, 1.7150797955986141, -0.6669591370086811, -0.8584067440066807, 1.0979784717067602, -1.4142753213911983, -0.14952157401637756, -1.7533683614377518, 0.12616412568399893, 0.4011261217165389, -1.528023749999498, -2.447037347680574, -1.889348744499366, -0.9452629996802178, 0.05039114426983621, 1.1675519258374532, 0.1295374021492559, 0.3296377092381601, 1.7544282508147742, -0.9871840427773075, -0.49209018295214213, -0.9434878688187036, 1.6166091978251167, -0.23609503635320464, 0.9761194029838546, 0.7307775163820062, 1.3621691942697398, 0.4874710586315161, -2.211347382211482, 0.24820113797038115, -7.074984288589023e-05, -0.9973009933770731]}, {\"boxpoints\": false, \"line\": {\"width\": 1.3}, \"marker\": {\"color\": \"rgba(50, 171, 96, 1.0)\"}, \"name\": \"C\", \"orientation\": \"v\", \"type\": \"box\", \"y\": [-0.6000059072918577, 1.3851327831240583, -0.8416605212960638, 1.5154885208090547, 0.35490000189417265, 1.6908051929618615, -1.5287201794917664, -0.7349423678365664, -0.6913427780487162, -0.48028684240557384, -0.8194308330776271, -0.29106481926234773, -0.44013318857028755, -0.20308347702726706, 0.35361926604476035, 0.9088141438825913, -0.12621126330418034, 0.2713276194712512, 0.6134881669524676, -0.6779439897805137, 0.24950517621334753, -2.2745063234013974, -0.7245357611636806, -0.6894443833026974, -0.1264702313571285, -1.7171240171463795, 0.4649639516968302, 0.28032078841628816, 0.8187312513948517, 1.8356694161971212, 0.07111938776697482, 0.5280542526634601, -0.16806824844991317, 0.3000210389712474, -0.12397057872547237, -1.7083423879575599, 1.00021666547896, -1.638137045671358, 0.9357959636309474, 0.05029229480271856, -0.07831195145744159, -0.23370643955925763, -0.5993775703744221, 0.37675039193732496, 0.24028123734389664, 0.3093358333892805, -0.5924220763938935, 0.7335935351551006, -0.44891339165705907, -0.35530507838316644, -0.4944060862732866, 0.38313420932443837, 1.1715219237750232, 1.3121080758510824, 0.809296311973692, 0.44223568422499776, -1.0144546947415045, -2.0963256155813, 0.8303089376644729, 0.20727530570372368, 0.6809398714532137, -0.20313700975503854, -0.8683297955457224, -0.8967516788430234, -2.890614614986278, -0.09993955098456375, -0.14383529393879205, -1.0973057711218217, -0.7504335408709724, 0.9180133479107283, -0.5666948674783646, -1.9763329181438785, 0.9938517046204264, 0.23372817565574658, -0.30996996483053013, -0.7952300157721142, -0.5982382641896878, 2.019467960329815, -1.2598852398508364, -2.3605648504641117, 0.2688239708057861, 0.3341326209586924, 0.5781274307848184, -1.126794432746841, 1.8186529196083057, -0.2257175946243995, -0.7327823203159495, -0.04215232447181377, 0.35468065583520547, 0.7529400572744188, -0.9070666616628649, -2.7491636513888267, -0.158765905268466, -1.5942636877571497, -0.034178501622841355, 1.644502105606857, 1.2278338376015379, 0.22311899274343086, 2.0926505853158326, 0.14481317662602947]}, {\"boxpoints\": false, \"line\": {\"width\": 1.3}, \"marker\": {\"color\": \"rgba(128, 0, 128, 1.0)\"}, \"name\": \"D\", \"orientation\": \"v\", \"type\": \"box\", \"y\": [-0.8082398228533931, -0.5150448150176067, -1.0877456219922552, -0.8048179509408832, 0.6086999215692537, -0.5757069764316959, 0.47345421556973416, -0.20836536589757984, -1.530474829093293, 0.4219608143606672, -1.3598569545767323, 0.26771371003290845, 0.5983985813921551, -0.07616351426305064, -0.030391020270419882, 1.001390782205427, 0.9369229701129356, -0.356238064328411, -0.727088551183532, 1.7896490382744903, -0.24431409954433136, 0.2237147309778499, 0.20738917270660667, -0.46228323064267396, 2.0312627382663093, 0.507205686431814, -1.1004206781437917, -0.40716791218137677, 0.4903848006304384, -0.7918357006951539, 1.9658079569926246, -0.6457999436135241, 1.0614383133641743, 0.27377992781923305, 0.10701923381201559, -0.4000061087739593, -1.837251657679469, 0.4880101965671579, 0.6911914823146007, 1.746647766580847, 2.4730610128976025, 0.6872374464358818, 1.0732008846959473, -0.48774677137980743, -0.8095131203630446, -1.1453972995580883, 0.6745284104776471, -0.7089344921988175, 1.080404970897654, 0.654933864788666, 0.5993501954136305, 0.6335112551331462, -0.3589185468179479, -1.404924418265637, 0.013247846568394272, 0.49121042562949946, -1.781961301376952, -0.3461391298088473, 0.7079203769362604, -0.4845337136107974, 2.2121393861141807, -1.2069802115680754, 0.49389803836683593, -1.0011033326444534, 0.004752979140422849, -0.8451778958184031, -0.6643597024318079, -0.40229732951149305, -0.7377438349276196, 0.7143190164674909, 3.2165361910584975, -0.2990466181868432, 0.5983848199307756, -0.6547230911032215, -1.3508232926668085, -0.30203008713704566, 0.8222645436335331, 0.7683362411825844, 0.20502092967846014, -1.3032276841045292, -1.9480148669781658, 0.49509145239623104, 0.6957201739268423, -0.6099904097456169, 1.055965324015916, 0.006084384263107051, 1.4515849407547137, -0.4514929498138888, -0.2807620187625043, -0.4223488763697073, -1.017141859337329, 0.6388544156437523, 0.2593832599300954, -0.24507572484234003, -0.48759006253485254, -1.7667005971711343, -0.035067253089737994, -1.256620895729348, -0.13091364656474716, 2.1494704847322295]}],                        {\"legend\": {\"bgcolor\": \"#F5F6F9\", \"font\": {\"color\": \"#4D5663\"}}, \"paper_bgcolor\": \"#F5F6F9\", \"plot_bgcolor\": \"#F5F6F9\", \"template\": {\"data\": {\"bar\": [{\"error_x\": {\"color\": \"#2a3f5f\"}, \"error_y\": {\"color\": \"#2a3f5f\"}, \"marker\": {\"line\": {\"color\": \"#E5ECF6\", \"width\": 0.5}}, \"type\": \"bar\"}], \"barpolar\": [{\"marker\": {\"line\": {\"color\": \"#E5ECF6\", \"width\": 0.5}}, \"type\": \"barpolar\"}], \"carpet\": [{\"aaxis\": {\"endlinecolor\": \"#2a3f5f\", \"gridcolor\": \"white\", \"linecolor\": \"white\", \"minorgridcolor\": \"white\", \"startlinecolor\": \"#2a3f5f\"}, \"baxis\": {\"endlinecolor\": \"#2a3f5f\", \"gridcolor\": \"white\", \"linecolor\": \"white\", \"minorgridcolor\": \"white\", \"startlinecolor\": \"#2a3f5f\"}, \"type\": \"carpet\"}], \"choropleth\": [{\"colorbar\": {\"outlinewidth\": 0, \"ticks\": \"\"}, \"type\": \"choropleth\"}], \"contour\": [{\"colorbar\": {\"outlinewidth\": 0, \"ticks\": \"\"}, \"colorscale\": [[0.0, \"#0d0887\"], [0.1111111111111111, \"#46039f\"], [0.2222222222222222, \"#7201a8\"], [0.3333333333333333, \"#9c179e\"], [0.4444444444444444, \"#bd3786\"], [0.5555555555555556, \"#d8576b\"], [0.6666666666666666, \"#ed7953\"], [0.7777777777777778, \"#fb9f3a\"], [0.8888888888888888, \"#fdca26\"], [1.0, \"#f0f921\"]], \"type\": \"contour\"}], \"contourcarpet\": [{\"colorbar\": {\"outlinewidth\": 0, \"ticks\": \"\"}, \"type\": \"contourcarpet\"}], \"heatmap\": [{\"colorbar\": {\"outlinewidth\": 0, \"ticks\": \"\"}, \"colorscale\": [[0.0, \"#0d0887\"], [0.1111111111111111, \"#46039f\"], [0.2222222222222222, \"#7201a8\"], [0.3333333333333333, \"#9c179e\"], [0.4444444444444444, \"#bd3786\"], [0.5555555555555556, \"#d8576b\"], [0.6666666666666666, \"#ed7953\"], [0.7777777777777778, \"#fb9f3a\"], [0.8888888888888888, \"#fdca26\"], [1.0, \"#f0f921\"]], \"type\": \"heatmap\"}], \"heatmapgl\": [{\"colorbar\": {\"outlinewidth\": 0, \"ticks\": \"\"}, \"colorscale\": [[0.0, \"#0d0887\"], [0.1111111111111111, \"#46039f\"], [0.2222222222222222, \"#7201a8\"], [0.3333333333333333, \"#9c179e\"], [0.4444444444444444, \"#bd3786\"], [0.5555555555555556, \"#d8576b\"], [0.6666666666666666, \"#ed7953\"], [0.7777777777777778, \"#fb9f3a\"], [0.8888888888888888, \"#fdca26\"], [1.0, \"#f0f921\"]], \"type\": \"heatmapgl\"}], \"histogram\": [{\"marker\": {\"colorbar\": {\"outlinewidth\": 0, \"ticks\": \"\"}}, \"type\": \"histogram\"}], \"histogram2d\": [{\"colorbar\": {\"outlinewidth\": 0, \"ticks\": \"\"}, \"colorscale\": [[0.0, \"#0d0887\"], [0.1111111111111111, \"#46039f\"], [0.2222222222222222, \"#7201a8\"], [0.3333333333333333, \"#9c179e\"], [0.4444444444444444, \"#bd3786\"], [0.5555555555555556, \"#d8576b\"], [0.6666666666666666, \"#ed7953\"], [0.7777777777777778, \"#fb9f3a\"], [0.8888888888888888, \"#fdca26\"], [1.0, \"#f0f921\"]], \"type\": \"histogram2d\"}], \"histogram2dcontour\": [{\"colorbar\": {\"outlinewidth\": 0, \"ticks\": \"\"}, \"colorscale\": [[0.0, \"#0d0887\"], [0.1111111111111111, \"#46039f\"], [0.2222222222222222, \"#7201a8\"], [0.3333333333333333, \"#9c179e\"], [0.4444444444444444, \"#bd3786\"], [0.5555555555555556, \"#d8576b\"], [0.6666666666666666, \"#ed7953\"], [0.7777777777777778, \"#fb9f3a\"], [0.8888888888888888, \"#fdca26\"], [1.0, \"#f0f921\"]], \"type\": \"histogram2dcontour\"}], \"mesh3d\": [{\"colorbar\": {\"outlinewidth\": 0, \"ticks\": \"\"}, \"type\": \"mesh3d\"}], \"parcoords\": [{\"line\": {\"colorbar\": {\"outlinewidth\": 0, \"ticks\": \"\"}}, \"type\": \"parcoords\"}], \"pie\": [{\"automargin\": true, \"type\": \"pie\"}], \"scatter\": [{\"marker\": {\"colorbar\": {\"outlinewidth\": 0, \"ticks\": \"\"}}, \"type\": \"scatter\"}], \"scatter3d\": [{\"line\": {\"colorbar\": {\"outlinewidth\": 0, \"ticks\": \"\"}}, \"marker\": {\"colorbar\": {\"outlinewidth\": 0, \"ticks\": \"\"}}, \"type\": \"scatter3d\"}], \"scattercarpet\": [{\"marker\": {\"colorbar\": {\"outlinewidth\": 0, \"ticks\": \"\"}}, \"type\": \"scattercarpet\"}], \"scattergeo\": [{\"marker\": {\"colorbar\": {\"outlinewidth\": 0, \"ticks\": \"\"}}, \"type\": \"scattergeo\"}], \"scattergl\": [{\"marker\": {\"colorbar\": {\"outlinewidth\": 0, \"ticks\": \"\"}}, \"type\": \"scattergl\"}], \"scattermapbox\": [{\"marker\": {\"colorbar\": {\"outlinewidth\": 0, \"ticks\": \"\"}}, \"type\": \"scattermapbox\"}], \"scatterpolar\": [{\"marker\": {\"colorbar\": {\"outlinewidth\": 0, \"ticks\": \"\"}}, \"type\": \"scatterpolar\"}], \"scatterpolargl\": [{\"marker\": {\"colorbar\": {\"outlinewidth\": 0, \"ticks\": \"\"}}, \"type\": \"scatterpolargl\"}], \"scatterternary\": [{\"marker\": {\"colorbar\": {\"outlinewidth\": 0, \"ticks\": \"\"}}, \"type\": \"scatterternary\"}], \"surface\": [{\"colorbar\": {\"outlinewidth\": 0, \"ticks\": \"\"}, \"colorscale\": [[0.0, \"#0d0887\"], [0.1111111111111111, \"#46039f\"], [0.2222222222222222, \"#7201a8\"], [0.3333333333333333, \"#9c179e\"], [0.4444444444444444, \"#bd3786\"], [0.5555555555555556, \"#d8576b\"], [0.6666666666666666, \"#ed7953\"], [0.7777777777777778, \"#fb9f3a\"], [0.8888888888888888, \"#fdca26\"], [1.0, \"#f0f921\"]], \"type\": \"surface\"}], \"table\": [{\"cells\": {\"fill\": {\"color\": \"#EBF0F8\"}, \"line\": {\"color\": \"white\"}}, \"header\": {\"fill\": {\"color\": \"#C8D4E3\"}, \"line\": {\"color\": \"white\"}}, \"type\": \"table\"}]}, \"layout\": {\"annotationdefaults\": {\"arrowcolor\": \"#2a3f5f\", \"arrowhead\": 0, \"arrowwidth\": 1}, \"autotypenumbers\": \"strict\", \"coloraxis\": {\"colorbar\": {\"outlinewidth\": 0, \"ticks\": \"\"}}, \"colorscale\": {\"diverging\": [[0, \"#8e0152\"], [0.1, \"#c51b7d\"], [0.2, \"#de77ae\"], [0.3, \"#f1b6da\"], [0.4, \"#fde0ef\"], [0.5, \"#f7f7f7\"], [0.6, \"#e6f5d0\"], [0.7, \"#b8e186\"], [0.8, \"#7fbc41\"], [0.9, \"#4d9221\"], [1, \"#276419\"]], \"sequential\": [[0.0, \"#0d0887\"], [0.1111111111111111, \"#46039f\"], [0.2222222222222222, \"#7201a8\"], [0.3333333333333333, \"#9c179e\"], [0.4444444444444444, \"#bd3786\"], [0.5555555555555556, \"#d8576b\"], [0.6666666666666666, \"#ed7953\"], [0.7777777777777778, \"#fb9f3a\"], [0.8888888888888888, \"#fdca26\"], [1.0, \"#f0f921\"]], \"sequentialminus\": [[0.0, \"#0d0887\"], [0.1111111111111111, \"#46039f\"], [0.2222222222222222, \"#7201a8\"], [0.3333333333333333, \"#9c179e\"], [0.4444444444444444, \"#bd3786\"], [0.5555555555555556, \"#d8576b\"], [0.6666666666666666, \"#ed7953\"], [0.7777777777777778, \"#fb9f3a\"], [0.8888888888888888, \"#fdca26\"], [1.0, \"#f0f921\"]]}, \"colorway\": [\"#636efa\", \"#EF553B\", \"#00cc96\", \"#ab63fa\", \"#FFA15A\", \"#19d3f3\", \"#FF6692\", \"#B6E880\", \"#FF97FF\", \"#FECB52\"], \"font\": {\"color\": \"#2a3f5f\"}, \"geo\": {\"bgcolor\": \"white\", \"lakecolor\": \"white\", \"landcolor\": \"#E5ECF6\", \"showlakes\": true, \"showland\": true, \"subunitcolor\": \"white\"}, \"hoverlabel\": {\"align\": \"left\"}, \"hovermode\": \"closest\", \"mapbox\": {\"style\": \"light\"}, \"paper_bgcolor\": \"white\", \"plot_bgcolor\": \"#E5ECF6\", \"polar\": {\"angularaxis\": {\"gridcolor\": \"white\", \"linecolor\": \"white\", \"ticks\": \"\"}, \"bgcolor\": \"#E5ECF6\", \"radialaxis\": {\"gridcolor\": \"white\", \"linecolor\": \"white\", \"ticks\": \"\"}}, \"scene\": {\"xaxis\": {\"backgroundcolor\": \"#E5ECF6\", \"gridcolor\": \"white\", \"gridwidth\": 2, \"linecolor\": \"white\", \"showbackground\": true, \"ticks\": \"\", \"zerolinecolor\": \"white\"}, \"yaxis\": {\"backgroundcolor\": \"#E5ECF6\", \"gridcolor\": \"white\", \"gridwidth\": 2, \"linecolor\": \"white\", \"showbackground\": true, \"ticks\": \"\", \"zerolinecolor\": \"white\"}, \"zaxis\": {\"backgroundcolor\": \"#E5ECF6\", \"gridcolor\": \"white\", \"gridwidth\": 2, \"linecolor\": \"white\", \"showbackground\": true, \"ticks\": \"\", \"zerolinecolor\": \"white\"}}, \"shapedefaults\": {\"line\": {\"color\": \"#2a3f5f\"}}, \"ternary\": {\"aaxis\": {\"gridcolor\": \"white\", \"linecolor\": \"white\", \"ticks\": \"\"}, \"baxis\": {\"gridcolor\": \"white\", \"linecolor\": \"white\", \"ticks\": \"\"}, \"bgcolor\": \"#E5ECF6\", \"caxis\": {\"gridcolor\": \"white\", \"linecolor\": \"white\", \"ticks\": \"\"}}, \"title\": {\"x\": 0.05}, \"xaxis\": {\"automargin\": true, \"gridcolor\": \"white\", \"linecolor\": \"white\", \"ticks\": \"\", \"title\": {\"standoff\": 15}, \"zerolinecolor\": \"white\", \"zerolinewidth\": 2}, \"yaxis\": {\"automargin\": true, \"gridcolor\": \"white\", \"linecolor\": \"white\", \"ticks\": \"\", \"title\": {\"standoff\": 15}, \"zerolinecolor\": \"white\", \"zerolinewidth\": 2}}}, \"title\": {\"font\": {\"color\": \"#4D5663\"}}, \"xaxis\": {\"gridcolor\": \"#E1E5ED\", \"showgrid\": true, \"tickfont\": {\"color\": \"#4D5663\"}, \"title\": {\"font\": {\"color\": \"#4D5663\"}, \"text\": \"\"}, \"zerolinecolor\": \"#E1E5ED\"}, \"yaxis\": {\"gridcolor\": \"#E1E5ED\", \"showgrid\": true, \"tickfont\": {\"color\": \"#4D5663\"}, \"title\": {\"font\": {\"color\": \"#4D5663\"}, \"text\": \"\"}, \"zerolinecolor\": \"#E1E5ED\"}},                        {\"showLink\": true, \"linkText\": \"Export to plot.ly\", \"plotlyServerURL\": \"https://plot.ly\", \"responsive\": true}                    ).then(function(){\n",
       "                            \n",
       "var gd = document.getElementById('f00cd767-5b5e-4d1c-a803-52667917abca');\n",
       "var x = new MutationObserver(function (mutations, observer) {{\n",
       "        var display = window.getComputedStyle(gd).display;\n",
       "        if (!display || display === 'none') {{\n",
       "            console.log([gd, 'removed!']);\n",
       "            Plotly.purge(gd);\n",
       "            observer.disconnect();\n",
       "        }}\n",
       "}});\n",
       "\n",
       "// Listen for the removal of the full notebook cells\n",
       "var notebookContainer = gd.closest('#notebook-container');\n",
       "if (notebookContainer) {{\n",
       "    x.observe(notebookContainer, {childList: true});\n",
       "}}\n",
       "\n",
       "// Listen for the clearing of the current output cell\n",
       "var outputEl = gd.closest('.output');\n",
       "if (outputEl) {{\n",
       "    x.observe(outputEl, {childList: true});\n",
       "}}\n",
       "\n",
       "                        })                };                });            </script>        </div>"
      ]
     },
     "metadata": {},
     "output_type": "display_data"
    }
   ],
   "source": [
    "df.iplot(kind='box')"
   ]
  },
  {
   "cell_type": "code",
   "execution_count": 30,
   "metadata": {},
   "outputs": [
    {
     "data": {
      "text/html": [
       "<div>\n",
       "<style scoped>\n",
       "    .dataframe tbody tr th:only-of-type {\n",
       "        vertical-align: middle;\n",
       "    }\n",
       "\n",
       "    .dataframe tbody tr th {\n",
       "        vertical-align: top;\n",
       "    }\n",
       "\n",
       "    .dataframe thead th {\n",
       "        text-align: right;\n",
       "    }\n",
       "</style>\n",
       "<table border=\"1\" class=\"dataframe\">\n",
       "  <thead>\n",
       "    <tr style=\"text-align: right;\">\n",
       "      <th></th>\n",
       "      <th>x</th>\n",
       "      <th>y</th>\n",
       "      <th>z</th>\n",
       "    </tr>\n",
       "  </thead>\n",
       "  <tbody>\n",
       "    <tr>\n",
       "      <th>0</th>\n",
       "      <td>1</td>\n",
       "      <td>10</td>\n",
       "      <td>5</td>\n",
       "    </tr>\n",
       "    <tr>\n",
       "      <th>1</th>\n",
       "      <td>2</td>\n",
       "      <td>20</td>\n",
       "      <td>4</td>\n",
       "    </tr>\n",
       "    <tr>\n",
       "      <th>2</th>\n",
       "      <td>3</td>\n",
       "      <td>30</td>\n",
       "      <td>3</td>\n",
       "    </tr>\n",
       "    <tr>\n",
       "      <th>3</th>\n",
       "      <td>4</td>\n",
       "      <td>10</td>\n",
       "      <td>2</td>\n",
       "    </tr>\n",
       "    <tr>\n",
       "      <th>4</th>\n",
       "      <td>5</td>\n",
       "      <td>23</td>\n",
       "      <td>1</td>\n",
       "    </tr>\n",
       "  </tbody>\n",
       "</table>\n",
       "</div>"
      ],
      "text/plain": [
       "   x   y  z\n",
       "0  1  10  5\n",
       "1  2  20  4\n",
       "2  3  30  3\n",
       "3  4  10  2\n",
       "4  5  23  1"
      ]
     },
     "execution_count": 30,
     "metadata": {},
     "output_type": "execute_result"
    }
   ],
   "source": [
    "df3 = pd.DataFrame({'x':[1, 2, 3, 4, 5], 'y':[10, 20, 30, 10, 23], 'z':[5, 4, 3, 2, 1]})\n",
    "df3"
   ]
  },
  {
   "cell_type": "code",
   "execution_count": 32,
   "metadata": {},
   "outputs": [
    {
     "data": {
      "application/vnd.plotly.v1+json": {
       "config": {
        "linkText": "Export to plot.ly",
        "plotlyServerURL": "https://plot.ly",
        "showLink": true
       },
       "data": [
        {
         "colorscale": [
          [
           0,
           "rgb(165,0,38)"
          ],
          [
           0.1,
           "rgb(215,48,39)"
          ],
          [
           0.2,
           "rgb(244,109,67)"
          ],
          [
           0.3,
           "rgb(253,174,97)"
          ],
          [
           0.4,
           "rgb(254,224,144)"
          ],
          [
           0.5,
           "rgb(255,255,191)"
          ],
          [
           0.6,
           "rgb(224,243,248)"
          ],
          [
           0.7,
           "rgb(171,217,233)"
          ],
          [
           0.8,
           "rgb(116,173,209)"
          ],
          [
           0.9,
           "rgb(69,117,180)"
          ],
          [
           1,
           "rgb(49,54,149)"
          ]
         ],
         "type": "surface",
         "x": [
          0,
          1,
          2,
          3,
          4
         ],
         "y": [
          "x",
          "y",
          "z"
         ],
         "z": [
          [
           1,
           2,
           3,
           4,
           5
          ],
          [
           10,
           20,
           30,
           10,
           23
          ],
          [
           5,
           4,
           3,
           2,
           1
          ]
         ]
        }
       ],
       "layout": {
        "legend": {
         "bgcolor": "#F5F6F9",
         "font": {
          "color": "#4D5663"
         }
        },
        "paper_bgcolor": "#F5F6F9",
        "plot_bgcolor": "#F5F6F9",
        "template": {
         "data": {
          "bar": [
           {
            "error_x": {
             "color": "#2a3f5f"
            },
            "error_y": {
             "color": "#2a3f5f"
            },
            "marker": {
             "line": {
              "color": "#E5ECF6",
              "width": 0.5
             }
            },
            "type": "bar"
           }
          ],
          "barpolar": [
           {
            "marker": {
             "line": {
              "color": "#E5ECF6",
              "width": 0.5
             }
            },
            "type": "barpolar"
           }
          ],
          "carpet": [
           {
            "aaxis": {
             "endlinecolor": "#2a3f5f",
             "gridcolor": "white",
             "linecolor": "white",
             "minorgridcolor": "white",
             "startlinecolor": "#2a3f5f"
            },
            "baxis": {
             "endlinecolor": "#2a3f5f",
             "gridcolor": "white",
             "linecolor": "white",
             "minorgridcolor": "white",
             "startlinecolor": "#2a3f5f"
            },
            "type": "carpet"
           }
          ],
          "choropleth": [
           {
            "colorbar": {
             "outlinewidth": 0,
             "ticks": ""
            },
            "type": "choropleth"
           }
          ],
          "contour": [
           {
            "colorbar": {
             "outlinewidth": 0,
             "ticks": ""
            },
            "colorscale": [
             [
              0,
              "#0d0887"
             ],
             [
              0.1111111111111111,
              "#46039f"
             ],
             [
              0.2222222222222222,
              "#7201a8"
             ],
             [
              0.3333333333333333,
              "#9c179e"
             ],
             [
              0.4444444444444444,
              "#bd3786"
             ],
             [
              0.5555555555555556,
              "#d8576b"
             ],
             [
              0.6666666666666666,
              "#ed7953"
             ],
             [
              0.7777777777777778,
              "#fb9f3a"
             ],
             [
              0.8888888888888888,
              "#fdca26"
             ],
             [
              1,
              "#f0f921"
             ]
            ],
            "type": "contour"
           }
          ],
          "contourcarpet": [
           {
            "colorbar": {
             "outlinewidth": 0,
             "ticks": ""
            },
            "type": "contourcarpet"
           }
          ],
          "heatmap": [
           {
            "colorbar": {
             "outlinewidth": 0,
             "ticks": ""
            },
            "colorscale": [
             [
              0,
              "#0d0887"
             ],
             [
              0.1111111111111111,
              "#46039f"
             ],
             [
              0.2222222222222222,
              "#7201a8"
             ],
             [
              0.3333333333333333,
              "#9c179e"
             ],
             [
              0.4444444444444444,
              "#bd3786"
             ],
             [
              0.5555555555555556,
              "#d8576b"
             ],
             [
              0.6666666666666666,
              "#ed7953"
             ],
             [
              0.7777777777777778,
              "#fb9f3a"
             ],
             [
              0.8888888888888888,
              "#fdca26"
             ],
             [
              1,
              "#f0f921"
             ]
            ],
            "type": "heatmap"
           }
          ],
          "heatmapgl": [
           {
            "colorbar": {
             "outlinewidth": 0,
             "ticks": ""
            },
            "colorscale": [
             [
              0,
              "#0d0887"
             ],
             [
              0.1111111111111111,
              "#46039f"
             ],
             [
              0.2222222222222222,
              "#7201a8"
             ],
             [
              0.3333333333333333,
              "#9c179e"
             ],
             [
              0.4444444444444444,
              "#bd3786"
             ],
             [
              0.5555555555555556,
              "#d8576b"
             ],
             [
              0.6666666666666666,
              "#ed7953"
             ],
             [
              0.7777777777777778,
              "#fb9f3a"
             ],
             [
              0.8888888888888888,
              "#fdca26"
             ],
             [
              1,
              "#f0f921"
             ]
            ],
            "type": "heatmapgl"
           }
          ],
          "histogram": [
           {
            "marker": {
             "colorbar": {
              "outlinewidth": 0,
              "ticks": ""
             }
            },
            "type": "histogram"
           }
          ],
          "histogram2d": [
           {
            "colorbar": {
             "outlinewidth": 0,
             "ticks": ""
            },
            "colorscale": [
             [
              0,
              "#0d0887"
             ],
             [
              0.1111111111111111,
              "#46039f"
             ],
             [
              0.2222222222222222,
              "#7201a8"
             ],
             [
              0.3333333333333333,
              "#9c179e"
             ],
             [
              0.4444444444444444,
              "#bd3786"
             ],
             [
              0.5555555555555556,
              "#d8576b"
             ],
             [
              0.6666666666666666,
              "#ed7953"
             ],
             [
              0.7777777777777778,
              "#fb9f3a"
             ],
             [
              0.8888888888888888,
              "#fdca26"
             ],
             [
              1,
              "#f0f921"
             ]
            ],
            "type": "histogram2d"
           }
          ],
          "histogram2dcontour": [
           {
            "colorbar": {
             "outlinewidth": 0,
             "ticks": ""
            },
            "colorscale": [
             [
              0,
              "#0d0887"
             ],
             [
              0.1111111111111111,
              "#46039f"
             ],
             [
              0.2222222222222222,
              "#7201a8"
             ],
             [
              0.3333333333333333,
              "#9c179e"
             ],
             [
              0.4444444444444444,
              "#bd3786"
             ],
             [
              0.5555555555555556,
              "#d8576b"
             ],
             [
              0.6666666666666666,
              "#ed7953"
             ],
             [
              0.7777777777777778,
              "#fb9f3a"
             ],
             [
              0.8888888888888888,
              "#fdca26"
             ],
             [
              1,
              "#f0f921"
             ]
            ],
            "type": "histogram2dcontour"
           }
          ],
          "mesh3d": [
           {
            "colorbar": {
             "outlinewidth": 0,
             "ticks": ""
            },
            "type": "mesh3d"
           }
          ],
          "parcoords": [
           {
            "line": {
             "colorbar": {
              "outlinewidth": 0,
              "ticks": ""
             }
            },
            "type": "parcoords"
           }
          ],
          "pie": [
           {
            "automargin": true,
            "type": "pie"
           }
          ],
          "scatter": [
           {
            "marker": {
             "colorbar": {
              "outlinewidth": 0,
              "ticks": ""
             }
            },
            "type": "scatter"
           }
          ],
          "scatter3d": [
           {
            "line": {
             "colorbar": {
              "outlinewidth": 0,
              "ticks": ""
             }
            },
            "marker": {
             "colorbar": {
              "outlinewidth": 0,
              "ticks": ""
             }
            },
            "type": "scatter3d"
           }
          ],
          "scattercarpet": [
           {
            "marker": {
             "colorbar": {
              "outlinewidth": 0,
              "ticks": ""
             }
            },
            "type": "scattercarpet"
           }
          ],
          "scattergeo": [
           {
            "marker": {
             "colorbar": {
              "outlinewidth": 0,
              "ticks": ""
             }
            },
            "type": "scattergeo"
           }
          ],
          "scattergl": [
           {
            "marker": {
             "colorbar": {
              "outlinewidth": 0,
              "ticks": ""
             }
            },
            "type": "scattergl"
           }
          ],
          "scattermapbox": [
           {
            "marker": {
             "colorbar": {
              "outlinewidth": 0,
              "ticks": ""
             }
            },
            "type": "scattermapbox"
           }
          ],
          "scatterpolar": [
           {
            "marker": {
             "colorbar": {
              "outlinewidth": 0,
              "ticks": ""
             }
            },
            "type": "scatterpolar"
           }
          ],
          "scatterpolargl": [
           {
            "marker": {
             "colorbar": {
              "outlinewidth": 0,
              "ticks": ""
             }
            },
            "type": "scatterpolargl"
           }
          ],
          "scatterternary": [
           {
            "marker": {
             "colorbar": {
              "outlinewidth": 0,
              "ticks": ""
             }
            },
            "type": "scatterternary"
           }
          ],
          "surface": [
           {
            "colorbar": {
             "outlinewidth": 0,
             "ticks": ""
            },
            "colorscale": [
             [
              0,
              "#0d0887"
             ],
             [
              0.1111111111111111,
              "#46039f"
             ],
             [
              0.2222222222222222,
              "#7201a8"
             ],
             [
              0.3333333333333333,
              "#9c179e"
             ],
             [
              0.4444444444444444,
              "#bd3786"
             ],
             [
              0.5555555555555556,
              "#d8576b"
             ],
             [
              0.6666666666666666,
              "#ed7953"
             ],
             [
              0.7777777777777778,
              "#fb9f3a"
             ],
             [
              0.8888888888888888,
              "#fdca26"
             ],
             [
              1,
              "#f0f921"
             ]
            ],
            "type": "surface"
           }
          ],
          "table": [
           {
            "cells": {
             "fill": {
              "color": "#EBF0F8"
             },
             "line": {
              "color": "white"
             }
            },
            "header": {
             "fill": {
              "color": "#C8D4E3"
             },
             "line": {
              "color": "white"
             }
            },
            "type": "table"
           }
          ]
         },
         "layout": {
          "annotationdefaults": {
           "arrowcolor": "#2a3f5f",
           "arrowhead": 0,
           "arrowwidth": 1
          },
          "autotypenumbers": "strict",
          "coloraxis": {
           "colorbar": {
            "outlinewidth": 0,
            "ticks": ""
           }
          },
          "colorscale": {
           "diverging": [
            [
             0,
             "#8e0152"
            ],
            [
             0.1,
             "#c51b7d"
            ],
            [
             0.2,
             "#de77ae"
            ],
            [
             0.3,
             "#f1b6da"
            ],
            [
             0.4,
             "#fde0ef"
            ],
            [
             0.5,
             "#f7f7f7"
            ],
            [
             0.6,
             "#e6f5d0"
            ],
            [
             0.7,
             "#b8e186"
            ],
            [
             0.8,
             "#7fbc41"
            ],
            [
             0.9,
             "#4d9221"
            ],
            [
             1,
             "#276419"
            ]
           ],
           "sequential": [
            [
             0,
             "#0d0887"
            ],
            [
             0.1111111111111111,
             "#46039f"
            ],
            [
             0.2222222222222222,
             "#7201a8"
            ],
            [
             0.3333333333333333,
             "#9c179e"
            ],
            [
             0.4444444444444444,
             "#bd3786"
            ],
            [
             0.5555555555555556,
             "#d8576b"
            ],
            [
             0.6666666666666666,
             "#ed7953"
            ],
            [
             0.7777777777777778,
             "#fb9f3a"
            ],
            [
             0.8888888888888888,
             "#fdca26"
            ],
            [
             1,
             "#f0f921"
            ]
           ],
           "sequentialminus": [
            [
             0,
             "#0d0887"
            ],
            [
             0.1111111111111111,
             "#46039f"
            ],
            [
             0.2222222222222222,
             "#7201a8"
            ],
            [
             0.3333333333333333,
             "#9c179e"
            ],
            [
             0.4444444444444444,
             "#bd3786"
            ],
            [
             0.5555555555555556,
             "#d8576b"
            ],
            [
             0.6666666666666666,
             "#ed7953"
            ],
            [
             0.7777777777777778,
             "#fb9f3a"
            ],
            [
             0.8888888888888888,
             "#fdca26"
            ],
            [
             1,
             "#f0f921"
            ]
           ]
          },
          "colorway": [
           "#636efa",
           "#EF553B",
           "#00cc96",
           "#ab63fa",
           "#FFA15A",
           "#19d3f3",
           "#FF6692",
           "#B6E880",
           "#FF97FF",
           "#FECB52"
          ],
          "font": {
           "color": "#2a3f5f"
          },
          "geo": {
           "bgcolor": "white",
           "lakecolor": "white",
           "landcolor": "#E5ECF6",
           "showlakes": true,
           "showland": true,
           "subunitcolor": "white"
          },
          "hoverlabel": {
           "align": "left"
          },
          "hovermode": "closest",
          "mapbox": {
           "style": "light"
          },
          "paper_bgcolor": "white",
          "plot_bgcolor": "#E5ECF6",
          "polar": {
           "angularaxis": {
            "gridcolor": "white",
            "linecolor": "white",
            "ticks": ""
           },
           "bgcolor": "#E5ECF6",
           "radialaxis": {
            "gridcolor": "white",
            "linecolor": "white",
            "ticks": ""
           }
          },
          "scene": {
           "xaxis": {
            "backgroundcolor": "#E5ECF6",
            "gridcolor": "white",
            "gridwidth": 2,
            "linecolor": "white",
            "showbackground": true,
            "ticks": "",
            "zerolinecolor": "white"
           },
           "yaxis": {
            "backgroundcolor": "#E5ECF6",
            "gridcolor": "white",
            "gridwidth": 2,
            "linecolor": "white",
            "showbackground": true,
            "ticks": "",
            "zerolinecolor": "white"
           },
           "zaxis": {
            "backgroundcolor": "#E5ECF6",
            "gridcolor": "white",
            "gridwidth": 2,
            "linecolor": "white",
            "showbackground": true,
            "ticks": "",
            "zerolinecolor": "white"
           }
          },
          "shapedefaults": {
           "line": {
            "color": "#2a3f5f"
           }
          },
          "ternary": {
           "aaxis": {
            "gridcolor": "white",
            "linecolor": "white",
            "ticks": ""
           },
           "baxis": {
            "gridcolor": "white",
            "linecolor": "white",
            "ticks": ""
           },
           "bgcolor": "#E5ECF6",
           "caxis": {
            "gridcolor": "white",
            "linecolor": "white",
            "ticks": ""
           }
          },
          "title": {
           "x": 0.05
          },
          "xaxis": {
           "automargin": true,
           "gridcolor": "white",
           "linecolor": "white",
           "ticks": "",
           "title": {
            "standoff": 15
           },
           "zerolinecolor": "white",
           "zerolinewidth": 2
          },
          "yaxis": {
           "automargin": true,
           "gridcolor": "white",
           "linecolor": "white",
           "ticks": "",
           "title": {
            "standoff": 15
           },
           "zerolinecolor": "white",
           "zerolinewidth": 2
          }
         }
        },
        "title": {
         "font": {
          "color": "#4D5663"
         }
        },
        "xaxis": {
         "gridcolor": "#E1E5ED",
         "showgrid": true,
         "tickfont": {
          "color": "#4D5663"
         },
         "title": {
          "font": {
           "color": "#4D5663"
          },
          "text": ""
         },
         "zerolinecolor": "#E1E5ED"
        },
        "yaxis": {
         "gridcolor": "#E1E5ED",
         "showgrid": true,
         "tickfont": {
          "color": "#4D5663"
         },
         "title": {
          "font": {
           "color": "#4D5663"
          },
          "text": ""
         },
         "zerolinecolor": "#E1E5ED"
        }
       }
      },
      "text/html": [
       "<div>                            <div id=\"10671c33-e255-45f2-962b-bde248a7f621\" class=\"plotly-graph-div\" style=\"height:525px; width:100%;\"></div>            <script type=\"text/javascript\">                require([\"plotly\"], function(Plotly) {                    window.PLOTLYENV=window.PLOTLYENV || {};\n",
       "                    window.PLOTLYENV.BASE_URL='https://plot.ly';                                    if (document.getElementById(\"10671c33-e255-45f2-962b-bde248a7f621\")) {                    Plotly.newPlot(                        \"10671c33-e255-45f2-962b-bde248a7f621\",                        [{\"colorscale\": [[0.0, \"rgb(165,0,38)\"], [0.1, \"rgb(215,48,39)\"], [0.2, \"rgb(244,109,67)\"], [0.3, \"rgb(253,174,97)\"], [0.4, \"rgb(254,224,144)\"], [0.5, \"rgb(255,255,191)\"], [0.6, \"rgb(224,243,248)\"], [0.7, \"rgb(171,217,233)\"], [0.8, \"rgb(116,173,209)\"], [0.9, \"rgb(69,117,180)\"], [1.0, \"rgb(49,54,149)\"]], \"type\": \"surface\", \"x\": [0, 1, 2, 3, 4], \"y\": [\"x\", \"y\", \"z\"], \"z\": [[1, 2, 3, 4, 5], [10, 20, 30, 10, 23], [5, 4, 3, 2, 1]]}],                        {\"legend\": {\"bgcolor\": \"#F5F6F9\", \"font\": {\"color\": \"#4D5663\"}}, \"paper_bgcolor\": \"#F5F6F9\", \"plot_bgcolor\": \"#F5F6F9\", \"template\": {\"data\": {\"bar\": [{\"error_x\": {\"color\": \"#2a3f5f\"}, \"error_y\": {\"color\": \"#2a3f5f\"}, \"marker\": {\"line\": {\"color\": \"#E5ECF6\", \"width\": 0.5}}, \"type\": \"bar\"}], \"barpolar\": [{\"marker\": {\"line\": {\"color\": \"#E5ECF6\", \"width\": 0.5}}, \"type\": \"barpolar\"}], \"carpet\": [{\"aaxis\": {\"endlinecolor\": \"#2a3f5f\", \"gridcolor\": \"white\", \"linecolor\": \"white\", \"minorgridcolor\": \"white\", \"startlinecolor\": \"#2a3f5f\"}, \"baxis\": {\"endlinecolor\": \"#2a3f5f\", \"gridcolor\": \"white\", \"linecolor\": \"white\", \"minorgridcolor\": \"white\", \"startlinecolor\": \"#2a3f5f\"}, \"type\": \"carpet\"}], \"choropleth\": [{\"colorbar\": {\"outlinewidth\": 0, \"ticks\": \"\"}, \"type\": \"choropleth\"}], \"contour\": [{\"colorbar\": {\"outlinewidth\": 0, \"ticks\": \"\"}, \"colorscale\": [[0.0, \"#0d0887\"], [0.1111111111111111, \"#46039f\"], [0.2222222222222222, \"#7201a8\"], [0.3333333333333333, \"#9c179e\"], [0.4444444444444444, \"#bd3786\"], [0.5555555555555556, \"#d8576b\"], [0.6666666666666666, \"#ed7953\"], [0.7777777777777778, \"#fb9f3a\"], [0.8888888888888888, \"#fdca26\"], [1.0, \"#f0f921\"]], \"type\": \"contour\"}], \"contourcarpet\": [{\"colorbar\": {\"outlinewidth\": 0, \"ticks\": \"\"}, \"type\": \"contourcarpet\"}], \"heatmap\": [{\"colorbar\": {\"outlinewidth\": 0, \"ticks\": \"\"}, \"colorscale\": [[0.0, \"#0d0887\"], [0.1111111111111111, \"#46039f\"], [0.2222222222222222, \"#7201a8\"], [0.3333333333333333, \"#9c179e\"], [0.4444444444444444, \"#bd3786\"], [0.5555555555555556, \"#d8576b\"], [0.6666666666666666, \"#ed7953\"], [0.7777777777777778, \"#fb9f3a\"], [0.8888888888888888, \"#fdca26\"], [1.0, \"#f0f921\"]], \"type\": \"heatmap\"}], \"heatmapgl\": [{\"colorbar\": {\"outlinewidth\": 0, \"ticks\": \"\"}, \"colorscale\": [[0.0, \"#0d0887\"], [0.1111111111111111, \"#46039f\"], [0.2222222222222222, \"#7201a8\"], [0.3333333333333333, \"#9c179e\"], [0.4444444444444444, \"#bd3786\"], [0.5555555555555556, \"#d8576b\"], [0.6666666666666666, \"#ed7953\"], [0.7777777777777778, \"#fb9f3a\"], [0.8888888888888888, \"#fdca26\"], [1.0, \"#f0f921\"]], \"type\": \"heatmapgl\"}], \"histogram\": [{\"marker\": {\"colorbar\": {\"outlinewidth\": 0, \"ticks\": \"\"}}, \"type\": \"histogram\"}], \"histogram2d\": [{\"colorbar\": {\"outlinewidth\": 0, \"ticks\": \"\"}, \"colorscale\": [[0.0, \"#0d0887\"], [0.1111111111111111, \"#46039f\"], [0.2222222222222222, \"#7201a8\"], [0.3333333333333333, \"#9c179e\"], [0.4444444444444444, \"#bd3786\"], [0.5555555555555556, \"#d8576b\"], [0.6666666666666666, \"#ed7953\"], [0.7777777777777778, \"#fb9f3a\"], [0.8888888888888888, \"#fdca26\"], [1.0, \"#f0f921\"]], \"type\": \"histogram2d\"}], \"histogram2dcontour\": [{\"colorbar\": {\"outlinewidth\": 0, \"ticks\": \"\"}, \"colorscale\": [[0.0, \"#0d0887\"], [0.1111111111111111, \"#46039f\"], [0.2222222222222222, \"#7201a8\"], [0.3333333333333333, \"#9c179e\"], [0.4444444444444444, \"#bd3786\"], [0.5555555555555556, \"#d8576b\"], [0.6666666666666666, \"#ed7953\"], [0.7777777777777778, \"#fb9f3a\"], [0.8888888888888888, \"#fdca26\"], [1.0, \"#f0f921\"]], \"type\": \"histogram2dcontour\"}], \"mesh3d\": [{\"colorbar\": {\"outlinewidth\": 0, \"ticks\": \"\"}, \"type\": \"mesh3d\"}], \"parcoords\": [{\"line\": {\"colorbar\": {\"outlinewidth\": 0, \"ticks\": \"\"}}, \"type\": \"parcoords\"}], \"pie\": [{\"automargin\": true, \"type\": \"pie\"}], \"scatter\": [{\"marker\": {\"colorbar\": {\"outlinewidth\": 0, \"ticks\": \"\"}}, \"type\": \"scatter\"}], \"scatter3d\": [{\"line\": {\"colorbar\": {\"outlinewidth\": 0, \"ticks\": \"\"}}, \"marker\": {\"colorbar\": {\"outlinewidth\": 0, \"ticks\": \"\"}}, \"type\": \"scatter3d\"}], \"scattercarpet\": [{\"marker\": {\"colorbar\": {\"outlinewidth\": 0, \"ticks\": \"\"}}, \"type\": \"scattercarpet\"}], \"scattergeo\": [{\"marker\": {\"colorbar\": {\"outlinewidth\": 0, \"ticks\": \"\"}}, \"type\": \"scattergeo\"}], \"scattergl\": [{\"marker\": {\"colorbar\": {\"outlinewidth\": 0, \"ticks\": \"\"}}, \"type\": \"scattergl\"}], \"scattermapbox\": [{\"marker\": {\"colorbar\": {\"outlinewidth\": 0, \"ticks\": \"\"}}, \"type\": \"scattermapbox\"}], \"scatterpolar\": [{\"marker\": {\"colorbar\": {\"outlinewidth\": 0, \"ticks\": \"\"}}, \"type\": \"scatterpolar\"}], \"scatterpolargl\": [{\"marker\": {\"colorbar\": {\"outlinewidth\": 0, \"ticks\": \"\"}}, \"type\": \"scatterpolargl\"}], \"scatterternary\": [{\"marker\": {\"colorbar\": {\"outlinewidth\": 0, \"ticks\": \"\"}}, \"type\": \"scatterternary\"}], \"surface\": [{\"colorbar\": {\"outlinewidth\": 0, \"ticks\": \"\"}, \"colorscale\": [[0.0, \"#0d0887\"], [0.1111111111111111, \"#46039f\"], [0.2222222222222222, \"#7201a8\"], [0.3333333333333333, \"#9c179e\"], [0.4444444444444444, \"#bd3786\"], [0.5555555555555556, \"#d8576b\"], [0.6666666666666666, \"#ed7953\"], [0.7777777777777778, \"#fb9f3a\"], [0.8888888888888888, \"#fdca26\"], [1.0, \"#f0f921\"]], \"type\": \"surface\"}], \"table\": [{\"cells\": {\"fill\": {\"color\": \"#EBF0F8\"}, \"line\": {\"color\": \"white\"}}, \"header\": {\"fill\": {\"color\": \"#C8D4E3\"}, \"line\": {\"color\": \"white\"}}, \"type\": \"table\"}]}, \"layout\": {\"annotationdefaults\": {\"arrowcolor\": \"#2a3f5f\", \"arrowhead\": 0, \"arrowwidth\": 1}, \"autotypenumbers\": \"strict\", \"coloraxis\": {\"colorbar\": {\"outlinewidth\": 0, \"ticks\": \"\"}}, \"colorscale\": {\"diverging\": [[0, \"#8e0152\"], [0.1, \"#c51b7d\"], [0.2, \"#de77ae\"], [0.3, \"#f1b6da\"], [0.4, \"#fde0ef\"], [0.5, \"#f7f7f7\"], [0.6, \"#e6f5d0\"], [0.7, \"#b8e186\"], [0.8, \"#7fbc41\"], [0.9, \"#4d9221\"], [1, \"#276419\"]], \"sequential\": [[0.0, \"#0d0887\"], [0.1111111111111111, \"#46039f\"], [0.2222222222222222, \"#7201a8\"], [0.3333333333333333, \"#9c179e\"], [0.4444444444444444, \"#bd3786\"], [0.5555555555555556, \"#d8576b\"], [0.6666666666666666, \"#ed7953\"], [0.7777777777777778, \"#fb9f3a\"], [0.8888888888888888, \"#fdca26\"], [1.0, \"#f0f921\"]], \"sequentialminus\": [[0.0, \"#0d0887\"], [0.1111111111111111, \"#46039f\"], [0.2222222222222222, \"#7201a8\"], [0.3333333333333333, \"#9c179e\"], [0.4444444444444444, \"#bd3786\"], [0.5555555555555556, \"#d8576b\"], [0.6666666666666666, \"#ed7953\"], [0.7777777777777778, \"#fb9f3a\"], [0.8888888888888888, \"#fdca26\"], [1.0, \"#f0f921\"]]}, \"colorway\": [\"#636efa\", \"#EF553B\", \"#00cc96\", \"#ab63fa\", \"#FFA15A\", \"#19d3f3\", \"#FF6692\", \"#B6E880\", \"#FF97FF\", \"#FECB52\"], \"font\": {\"color\": \"#2a3f5f\"}, \"geo\": {\"bgcolor\": \"white\", \"lakecolor\": \"white\", \"landcolor\": \"#E5ECF6\", \"showlakes\": true, \"showland\": true, \"subunitcolor\": \"white\"}, \"hoverlabel\": {\"align\": \"left\"}, \"hovermode\": \"closest\", \"mapbox\": {\"style\": \"light\"}, \"paper_bgcolor\": \"white\", \"plot_bgcolor\": \"#E5ECF6\", \"polar\": {\"angularaxis\": {\"gridcolor\": \"white\", \"linecolor\": \"white\", \"ticks\": \"\"}, \"bgcolor\": \"#E5ECF6\", \"radialaxis\": {\"gridcolor\": \"white\", \"linecolor\": \"white\", \"ticks\": \"\"}}, \"scene\": {\"xaxis\": {\"backgroundcolor\": \"#E5ECF6\", \"gridcolor\": \"white\", \"gridwidth\": 2, \"linecolor\": \"white\", \"showbackground\": true, \"ticks\": \"\", \"zerolinecolor\": \"white\"}, \"yaxis\": {\"backgroundcolor\": \"#E5ECF6\", \"gridcolor\": \"white\", \"gridwidth\": 2, \"linecolor\": \"white\", \"showbackground\": true, \"ticks\": \"\", \"zerolinecolor\": \"white\"}, \"zaxis\": {\"backgroundcolor\": \"#E5ECF6\", \"gridcolor\": \"white\", \"gridwidth\": 2, \"linecolor\": \"white\", \"showbackground\": true, \"ticks\": \"\", \"zerolinecolor\": \"white\"}}, \"shapedefaults\": {\"line\": {\"color\": \"#2a3f5f\"}}, \"ternary\": {\"aaxis\": {\"gridcolor\": \"white\", \"linecolor\": \"white\", \"ticks\": \"\"}, \"baxis\": {\"gridcolor\": \"white\", \"linecolor\": \"white\", \"ticks\": \"\"}, \"bgcolor\": \"#E5ECF6\", \"caxis\": {\"gridcolor\": \"white\", \"linecolor\": \"white\", \"ticks\": \"\"}}, \"title\": {\"x\": 0.05}, \"xaxis\": {\"automargin\": true, \"gridcolor\": \"white\", \"linecolor\": \"white\", \"ticks\": \"\", \"title\": {\"standoff\": 15}, \"zerolinecolor\": \"white\", \"zerolinewidth\": 2}, \"yaxis\": {\"automargin\": true, \"gridcolor\": \"white\", \"linecolor\": \"white\", \"ticks\": \"\", \"title\": {\"standoff\": 15}, \"zerolinecolor\": \"white\", \"zerolinewidth\": 2}}}, \"title\": {\"font\": {\"color\": \"#4D5663\"}}, \"xaxis\": {\"gridcolor\": \"#E1E5ED\", \"showgrid\": true, \"tickfont\": {\"color\": \"#4D5663\"}, \"title\": {\"font\": {\"color\": \"#4D5663\"}, \"text\": \"\"}, \"zerolinecolor\": \"#E1E5ED\"}, \"yaxis\": {\"gridcolor\": \"#E1E5ED\", \"showgrid\": true, \"tickfont\": {\"color\": \"#4D5663\"}, \"title\": {\"font\": {\"color\": \"#4D5663\"}, \"text\": \"\"}, \"zerolinecolor\": \"#E1E5ED\"}},                        {\"showLink\": true, \"linkText\": \"Export to plot.ly\", \"plotlyServerURL\": \"https://plot.ly\", \"responsive\": true}                    ).then(function(){\n",
       "                            \n",
       "var gd = document.getElementById('10671c33-e255-45f2-962b-bde248a7f621');\n",
       "var x = new MutationObserver(function (mutations, observer) {{\n",
       "        var display = window.getComputedStyle(gd).display;\n",
       "        if (!display || display === 'none') {{\n",
       "            console.log([gd, 'removed!']);\n",
       "            Plotly.purge(gd);\n",
       "            observer.disconnect();\n",
       "        }}\n",
       "}});\n",
       "\n",
       "// Listen for the removal of the full notebook cells\n",
       "var notebookContainer = gd.closest('#notebook-container');\n",
       "if (notebookContainer) {{\n",
       "    x.observe(notebookContainer, {childList: true});\n",
       "}}\n",
       "\n",
       "// Listen for the clearing of the current output cell\n",
       "var outputEl = gd.closest('.output');\n",
       "if (outputEl) {{\n",
       "    x.observe(outputEl, {childList: true});\n",
       "}}\n",
       "\n",
       "                        })                };                });            </script>        </div>"
      ]
     },
     "metadata": {},
     "output_type": "display_data"
    }
   ],
   "source": [
    "df3.iplot(kind='surface', colorscale='rdylbu')"
   ]
  },
  {
   "cell_type": "code",
   "execution_count": 34,
   "metadata": {},
   "outputs": [
    {
     "data": {
      "application/vnd.plotly.v1+json": {
       "config": {
        "linkText": "Export to plot.ly",
        "plotlyServerURL": "https://plot.ly",
        "showLink": true
       },
       "data": [
        {
         "histfunc": "count",
         "histnorm": "",
         "marker": {
          "color": "rgba(255, 153, 51, 1.0)",
          "line": {
           "color": "#4D5663",
           "width": 1.3
          }
         },
         "name": "A",
         "nbinsx": 50,
         "opacity": 0.8,
         "orientation": "v",
         "type": "histogram",
         "x": [
          1.5047071858675904,
          -1.2306437730366853,
          0.605020350239587,
          -0.11730722559215549,
          -0.5094486400300653,
          -0.03247951610040798,
          0.9731351835823545,
          -1.472511340085507,
          -0.23083304464393553,
          0.5787834027566838,
          -0.3156316458899452,
          -0.37854491314669936,
          -1.578313375563011,
          -0.7431436030597717,
          0.5630177560101443,
          -1.3333242685734497,
          -0.4812889971321455,
          0.46635368545417594,
          -0.09920746060052134,
          1.0140120472191738,
          -0.9225221157990605,
          1.4196106846836412,
          0.1952712362569279,
          -0.8168745709151536,
          -0.13975493326855662,
          0.5823845164628724,
          -0.04996888900130543,
          0.013820356133013887,
          -0.06830081283978562,
          0.19215684436051617,
          1.286435464479053,
          -0.33541662466852057,
          -2.8587717658377443,
          0.006416985094558975,
          1.2961166888011706,
          -0.08942228467851332,
          1.587406402848416,
          0.25947535251631904,
          -0.8048768802234534,
          -0.8419192982284646,
          -1.6039443064270875,
          0.10466270748776571,
          0.02998318674242047,
          -0.006862251689929032,
          -0.7660788034000553,
          1.1726861103538202,
          -0.27001683146847616,
          0.020866604645267316,
          -1.5500723287323086,
          -0.1353630979441134,
          0.10043734262022548,
          0.26824564753711505,
          0.12819938986961066,
          -1.17819730023147,
          0.43825107894139315,
          -0.8922617953366131,
          -0.1304564737507755,
          -0.712627526372936,
          -0.21148412951738027,
          -0.803660466757645,
          -0.2795304432141383,
          -0.7656507457744494,
          -1.2247199589979165,
          -0.16498458992525863,
          0.923653188973336,
          0.13764563658951204,
          0.043849382884496906,
          0.607314473420084,
          0.7462893879083348,
          0.18665312051788513,
          -1.4497989583537694,
          1.528431628745062,
          0.3712893622551243,
          0.47187897031748005,
          0.8177302430660359,
          -0.09631945740607714,
          0.2046001019962186,
          1.5632968046193618,
          0.28173247195427,
          -0.4990349917914575,
          0.4880662332937979,
          -1.6313543113852154,
          0.4398737132524965,
          0.22985411660186864,
          1.2996791563457732,
          -0.0015933251060393399,
          0.48577287679867154,
          -0.7611622677031836,
          -0.9177847234627884,
          0.31360597655689065,
          0.8504935212248734,
          -0.5321453076085406,
          -0.44651013637870907,
          -0.8221181957042193,
          1.8611329510653556,
          -1.9200683591650554,
          0.2640173821523596,
          -0.012626231690431604,
          3.152977471906116,
          0.3884525520079316
         ]
        }
       ],
       "layout": {
        "barmode": "overlay",
        "legend": {
         "bgcolor": "#F5F6F9",
         "font": {
          "color": "#4D5663"
         }
        },
        "paper_bgcolor": "#F5F6F9",
        "plot_bgcolor": "#F5F6F9",
        "template": {
         "data": {
          "bar": [
           {
            "error_x": {
             "color": "#2a3f5f"
            },
            "error_y": {
             "color": "#2a3f5f"
            },
            "marker": {
             "line": {
              "color": "#E5ECF6",
              "width": 0.5
             }
            },
            "type": "bar"
           }
          ],
          "barpolar": [
           {
            "marker": {
             "line": {
              "color": "#E5ECF6",
              "width": 0.5
             }
            },
            "type": "barpolar"
           }
          ],
          "carpet": [
           {
            "aaxis": {
             "endlinecolor": "#2a3f5f",
             "gridcolor": "white",
             "linecolor": "white",
             "minorgridcolor": "white",
             "startlinecolor": "#2a3f5f"
            },
            "baxis": {
             "endlinecolor": "#2a3f5f",
             "gridcolor": "white",
             "linecolor": "white",
             "minorgridcolor": "white",
             "startlinecolor": "#2a3f5f"
            },
            "type": "carpet"
           }
          ],
          "choropleth": [
           {
            "colorbar": {
             "outlinewidth": 0,
             "ticks": ""
            },
            "type": "choropleth"
           }
          ],
          "contour": [
           {
            "colorbar": {
             "outlinewidth": 0,
             "ticks": ""
            },
            "colorscale": [
             [
              0,
              "#0d0887"
             ],
             [
              0.1111111111111111,
              "#46039f"
             ],
             [
              0.2222222222222222,
              "#7201a8"
             ],
             [
              0.3333333333333333,
              "#9c179e"
             ],
             [
              0.4444444444444444,
              "#bd3786"
             ],
             [
              0.5555555555555556,
              "#d8576b"
             ],
             [
              0.6666666666666666,
              "#ed7953"
             ],
             [
              0.7777777777777778,
              "#fb9f3a"
             ],
             [
              0.8888888888888888,
              "#fdca26"
             ],
             [
              1,
              "#f0f921"
             ]
            ],
            "type": "contour"
           }
          ],
          "contourcarpet": [
           {
            "colorbar": {
             "outlinewidth": 0,
             "ticks": ""
            },
            "type": "contourcarpet"
           }
          ],
          "heatmap": [
           {
            "colorbar": {
             "outlinewidth": 0,
             "ticks": ""
            },
            "colorscale": [
             [
              0,
              "#0d0887"
             ],
             [
              0.1111111111111111,
              "#46039f"
             ],
             [
              0.2222222222222222,
              "#7201a8"
             ],
             [
              0.3333333333333333,
              "#9c179e"
             ],
             [
              0.4444444444444444,
              "#bd3786"
             ],
             [
              0.5555555555555556,
              "#d8576b"
             ],
             [
              0.6666666666666666,
              "#ed7953"
             ],
             [
              0.7777777777777778,
              "#fb9f3a"
             ],
             [
              0.8888888888888888,
              "#fdca26"
             ],
             [
              1,
              "#f0f921"
             ]
            ],
            "type": "heatmap"
           }
          ],
          "heatmapgl": [
           {
            "colorbar": {
             "outlinewidth": 0,
             "ticks": ""
            },
            "colorscale": [
             [
              0,
              "#0d0887"
             ],
             [
              0.1111111111111111,
              "#46039f"
             ],
             [
              0.2222222222222222,
              "#7201a8"
             ],
             [
              0.3333333333333333,
              "#9c179e"
             ],
             [
              0.4444444444444444,
              "#bd3786"
             ],
             [
              0.5555555555555556,
              "#d8576b"
             ],
             [
              0.6666666666666666,
              "#ed7953"
             ],
             [
              0.7777777777777778,
              "#fb9f3a"
             ],
             [
              0.8888888888888888,
              "#fdca26"
             ],
             [
              1,
              "#f0f921"
             ]
            ],
            "type": "heatmapgl"
           }
          ],
          "histogram": [
           {
            "marker": {
             "colorbar": {
              "outlinewidth": 0,
              "ticks": ""
             }
            },
            "type": "histogram"
           }
          ],
          "histogram2d": [
           {
            "colorbar": {
             "outlinewidth": 0,
             "ticks": ""
            },
            "colorscale": [
             [
              0,
              "#0d0887"
             ],
             [
              0.1111111111111111,
              "#46039f"
             ],
             [
              0.2222222222222222,
              "#7201a8"
             ],
             [
              0.3333333333333333,
              "#9c179e"
             ],
             [
              0.4444444444444444,
              "#bd3786"
             ],
             [
              0.5555555555555556,
              "#d8576b"
             ],
             [
              0.6666666666666666,
              "#ed7953"
             ],
             [
              0.7777777777777778,
              "#fb9f3a"
             ],
             [
              0.8888888888888888,
              "#fdca26"
             ],
             [
              1,
              "#f0f921"
             ]
            ],
            "type": "histogram2d"
           }
          ],
          "histogram2dcontour": [
           {
            "colorbar": {
             "outlinewidth": 0,
             "ticks": ""
            },
            "colorscale": [
             [
              0,
              "#0d0887"
             ],
             [
              0.1111111111111111,
              "#46039f"
             ],
             [
              0.2222222222222222,
              "#7201a8"
             ],
             [
              0.3333333333333333,
              "#9c179e"
             ],
             [
              0.4444444444444444,
              "#bd3786"
             ],
             [
              0.5555555555555556,
              "#d8576b"
             ],
             [
              0.6666666666666666,
              "#ed7953"
             ],
             [
              0.7777777777777778,
              "#fb9f3a"
             ],
             [
              0.8888888888888888,
              "#fdca26"
             ],
             [
              1,
              "#f0f921"
             ]
            ],
            "type": "histogram2dcontour"
           }
          ],
          "mesh3d": [
           {
            "colorbar": {
             "outlinewidth": 0,
             "ticks": ""
            },
            "type": "mesh3d"
           }
          ],
          "parcoords": [
           {
            "line": {
             "colorbar": {
              "outlinewidth": 0,
              "ticks": ""
             }
            },
            "type": "parcoords"
           }
          ],
          "pie": [
           {
            "automargin": true,
            "type": "pie"
           }
          ],
          "scatter": [
           {
            "marker": {
             "colorbar": {
              "outlinewidth": 0,
              "ticks": ""
             }
            },
            "type": "scatter"
           }
          ],
          "scatter3d": [
           {
            "line": {
             "colorbar": {
              "outlinewidth": 0,
              "ticks": ""
             }
            },
            "marker": {
             "colorbar": {
              "outlinewidth": 0,
              "ticks": ""
             }
            },
            "type": "scatter3d"
           }
          ],
          "scattercarpet": [
           {
            "marker": {
             "colorbar": {
              "outlinewidth": 0,
              "ticks": ""
             }
            },
            "type": "scattercarpet"
           }
          ],
          "scattergeo": [
           {
            "marker": {
             "colorbar": {
              "outlinewidth": 0,
              "ticks": ""
             }
            },
            "type": "scattergeo"
           }
          ],
          "scattergl": [
           {
            "marker": {
             "colorbar": {
              "outlinewidth": 0,
              "ticks": ""
             }
            },
            "type": "scattergl"
           }
          ],
          "scattermapbox": [
           {
            "marker": {
             "colorbar": {
              "outlinewidth": 0,
              "ticks": ""
             }
            },
            "type": "scattermapbox"
           }
          ],
          "scatterpolar": [
           {
            "marker": {
             "colorbar": {
              "outlinewidth": 0,
              "ticks": ""
             }
            },
            "type": "scatterpolar"
           }
          ],
          "scatterpolargl": [
           {
            "marker": {
             "colorbar": {
              "outlinewidth": 0,
              "ticks": ""
             }
            },
            "type": "scatterpolargl"
           }
          ],
          "scatterternary": [
           {
            "marker": {
             "colorbar": {
              "outlinewidth": 0,
              "ticks": ""
             }
            },
            "type": "scatterternary"
           }
          ],
          "surface": [
           {
            "colorbar": {
             "outlinewidth": 0,
             "ticks": ""
            },
            "colorscale": [
             [
              0,
              "#0d0887"
             ],
             [
              0.1111111111111111,
              "#46039f"
             ],
             [
              0.2222222222222222,
              "#7201a8"
             ],
             [
              0.3333333333333333,
              "#9c179e"
             ],
             [
              0.4444444444444444,
              "#bd3786"
             ],
             [
              0.5555555555555556,
              "#d8576b"
             ],
             [
              0.6666666666666666,
              "#ed7953"
             ],
             [
              0.7777777777777778,
              "#fb9f3a"
             ],
             [
              0.8888888888888888,
              "#fdca26"
             ],
             [
              1,
              "#f0f921"
             ]
            ],
            "type": "surface"
           }
          ],
          "table": [
           {
            "cells": {
             "fill": {
              "color": "#EBF0F8"
             },
             "line": {
              "color": "white"
             }
            },
            "header": {
             "fill": {
              "color": "#C8D4E3"
             },
             "line": {
              "color": "white"
             }
            },
            "type": "table"
           }
          ]
         },
         "layout": {
          "annotationdefaults": {
           "arrowcolor": "#2a3f5f",
           "arrowhead": 0,
           "arrowwidth": 1
          },
          "autotypenumbers": "strict",
          "coloraxis": {
           "colorbar": {
            "outlinewidth": 0,
            "ticks": ""
           }
          },
          "colorscale": {
           "diverging": [
            [
             0,
             "#8e0152"
            ],
            [
             0.1,
             "#c51b7d"
            ],
            [
             0.2,
             "#de77ae"
            ],
            [
             0.3,
             "#f1b6da"
            ],
            [
             0.4,
             "#fde0ef"
            ],
            [
             0.5,
             "#f7f7f7"
            ],
            [
             0.6,
             "#e6f5d0"
            ],
            [
             0.7,
             "#b8e186"
            ],
            [
             0.8,
             "#7fbc41"
            ],
            [
             0.9,
             "#4d9221"
            ],
            [
             1,
             "#276419"
            ]
           ],
           "sequential": [
            [
             0,
             "#0d0887"
            ],
            [
             0.1111111111111111,
             "#46039f"
            ],
            [
             0.2222222222222222,
             "#7201a8"
            ],
            [
             0.3333333333333333,
             "#9c179e"
            ],
            [
             0.4444444444444444,
             "#bd3786"
            ],
            [
             0.5555555555555556,
             "#d8576b"
            ],
            [
             0.6666666666666666,
             "#ed7953"
            ],
            [
             0.7777777777777778,
             "#fb9f3a"
            ],
            [
             0.8888888888888888,
             "#fdca26"
            ],
            [
             1,
             "#f0f921"
            ]
           ],
           "sequentialminus": [
            [
             0,
             "#0d0887"
            ],
            [
             0.1111111111111111,
             "#46039f"
            ],
            [
             0.2222222222222222,
             "#7201a8"
            ],
            [
             0.3333333333333333,
             "#9c179e"
            ],
            [
             0.4444444444444444,
             "#bd3786"
            ],
            [
             0.5555555555555556,
             "#d8576b"
            ],
            [
             0.6666666666666666,
             "#ed7953"
            ],
            [
             0.7777777777777778,
             "#fb9f3a"
            ],
            [
             0.8888888888888888,
             "#fdca26"
            ],
            [
             1,
             "#f0f921"
            ]
           ]
          },
          "colorway": [
           "#636efa",
           "#EF553B",
           "#00cc96",
           "#ab63fa",
           "#FFA15A",
           "#19d3f3",
           "#FF6692",
           "#B6E880",
           "#FF97FF",
           "#FECB52"
          ],
          "font": {
           "color": "#2a3f5f"
          },
          "geo": {
           "bgcolor": "white",
           "lakecolor": "white",
           "landcolor": "#E5ECF6",
           "showlakes": true,
           "showland": true,
           "subunitcolor": "white"
          },
          "hoverlabel": {
           "align": "left"
          },
          "hovermode": "closest",
          "mapbox": {
           "style": "light"
          },
          "paper_bgcolor": "white",
          "plot_bgcolor": "#E5ECF6",
          "polar": {
           "angularaxis": {
            "gridcolor": "white",
            "linecolor": "white",
            "ticks": ""
           },
           "bgcolor": "#E5ECF6",
           "radialaxis": {
            "gridcolor": "white",
            "linecolor": "white",
            "ticks": ""
           }
          },
          "scene": {
           "xaxis": {
            "backgroundcolor": "#E5ECF6",
            "gridcolor": "white",
            "gridwidth": 2,
            "linecolor": "white",
            "showbackground": true,
            "ticks": "",
            "zerolinecolor": "white"
           },
           "yaxis": {
            "backgroundcolor": "#E5ECF6",
            "gridcolor": "white",
            "gridwidth": 2,
            "linecolor": "white",
            "showbackground": true,
            "ticks": "",
            "zerolinecolor": "white"
           },
           "zaxis": {
            "backgroundcolor": "#E5ECF6",
            "gridcolor": "white",
            "gridwidth": 2,
            "linecolor": "white",
            "showbackground": true,
            "ticks": "",
            "zerolinecolor": "white"
           }
          },
          "shapedefaults": {
           "line": {
            "color": "#2a3f5f"
           }
          },
          "ternary": {
           "aaxis": {
            "gridcolor": "white",
            "linecolor": "white",
            "ticks": ""
           },
           "baxis": {
            "gridcolor": "white",
            "linecolor": "white",
            "ticks": ""
           },
           "bgcolor": "#E5ECF6",
           "caxis": {
            "gridcolor": "white",
            "linecolor": "white",
            "ticks": ""
           }
          },
          "title": {
           "x": 0.05
          },
          "xaxis": {
           "automargin": true,
           "gridcolor": "white",
           "linecolor": "white",
           "ticks": "",
           "title": {
            "standoff": 15
           },
           "zerolinecolor": "white",
           "zerolinewidth": 2
          },
          "yaxis": {
           "automargin": true,
           "gridcolor": "white",
           "linecolor": "white",
           "ticks": "",
           "title": {
            "standoff": 15
           },
           "zerolinecolor": "white",
           "zerolinewidth": 2
          }
         }
        },
        "title": {
         "font": {
          "color": "#4D5663"
         }
        },
        "xaxis": {
         "gridcolor": "#E1E5ED",
         "showgrid": true,
         "tickfont": {
          "color": "#4D5663"
         },
         "title": {
          "font": {
           "color": "#4D5663"
          },
          "text": ""
         },
         "zerolinecolor": "#E1E5ED"
        },
        "yaxis": {
         "gridcolor": "#E1E5ED",
         "showgrid": true,
         "tickfont": {
          "color": "#4D5663"
         },
         "title": {
          "font": {
           "color": "#4D5663"
          },
          "text": ""
         },
         "zerolinecolor": "#E1E5ED"
        }
       }
      },
      "text/html": [
       "<div>                            <div id=\"88d22039-49ad-4e5f-b84d-2d381230c001\" class=\"plotly-graph-div\" style=\"height:525px; width:100%;\"></div>            <script type=\"text/javascript\">                require([\"plotly\"], function(Plotly) {                    window.PLOTLYENV=window.PLOTLYENV || {};\n",
       "                    window.PLOTLYENV.BASE_URL='https://plot.ly';                                    if (document.getElementById(\"88d22039-49ad-4e5f-b84d-2d381230c001\")) {                    Plotly.newPlot(                        \"88d22039-49ad-4e5f-b84d-2d381230c001\",                        [{\"histfunc\": \"count\", \"histnorm\": \"\", \"marker\": {\"color\": \"rgba(255, 153, 51, 1.0)\", \"line\": {\"color\": \"#4D5663\", \"width\": 1.3}}, \"name\": \"A\", \"nbinsx\": 50, \"opacity\": 0.8, \"orientation\": \"v\", \"type\": \"histogram\", \"x\": [1.5047071858675904, -1.2306437730366853, 0.605020350239587, -0.11730722559215549, -0.5094486400300653, -0.03247951610040798, 0.9731351835823545, -1.472511340085507, -0.23083304464393553, 0.5787834027566838, -0.3156316458899452, -0.37854491314669936, -1.578313375563011, -0.7431436030597717, 0.5630177560101443, -1.3333242685734497, -0.4812889971321455, 0.46635368545417594, -0.09920746060052134, 1.0140120472191738, -0.9225221157990605, 1.4196106846836412, 0.1952712362569279, -0.8168745709151536, -0.13975493326855662, 0.5823845164628724, -0.04996888900130543, 0.013820356133013887, -0.06830081283978562, 0.19215684436051617, 1.286435464479053, -0.33541662466852057, -2.8587717658377443, 0.006416985094558975, 1.2961166888011706, -0.08942228467851332, 1.587406402848416, 0.25947535251631904, -0.8048768802234534, -0.8419192982284646, -1.6039443064270875, 0.10466270748776571, 0.02998318674242047, -0.006862251689929032, -0.7660788034000553, 1.1726861103538202, -0.27001683146847616, 0.020866604645267316, -1.5500723287323086, -0.1353630979441134, 0.10043734262022548, 0.26824564753711505, 0.12819938986961066, -1.17819730023147, 0.43825107894139315, -0.8922617953366131, -0.1304564737507755, -0.712627526372936, -0.21148412951738027, -0.803660466757645, -0.2795304432141383, -0.7656507457744494, -1.2247199589979165, -0.16498458992525863, 0.923653188973336, 0.13764563658951204, 0.043849382884496906, 0.607314473420084, 0.7462893879083348, 0.18665312051788513, -1.4497989583537694, 1.528431628745062, 0.3712893622551243, 0.47187897031748005, 0.8177302430660359, -0.09631945740607714, 0.2046001019962186, 1.5632968046193618, 0.28173247195427, -0.4990349917914575, 0.4880662332937979, -1.6313543113852154, 0.4398737132524965, 0.22985411660186864, 1.2996791563457732, -0.0015933251060393399, 0.48577287679867154, -0.7611622677031836, -0.9177847234627884, 0.31360597655689065, 0.8504935212248734, -0.5321453076085406, -0.44651013637870907, -0.8221181957042193, 1.8611329510653556, -1.9200683591650554, 0.2640173821523596, -0.012626231690431604, 3.152977471906116, 0.3884525520079316]}],                        {\"barmode\": \"overlay\", \"legend\": {\"bgcolor\": \"#F5F6F9\", \"font\": {\"color\": \"#4D5663\"}}, \"paper_bgcolor\": \"#F5F6F9\", \"plot_bgcolor\": \"#F5F6F9\", \"template\": {\"data\": {\"bar\": [{\"error_x\": {\"color\": \"#2a3f5f\"}, \"error_y\": {\"color\": \"#2a3f5f\"}, \"marker\": {\"line\": {\"color\": \"#E5ECF6\", \"width\": 0.5}}, \"type\": \"bar\"}], \"barpolar\": [{\"marker\": {\"line\": {\"color\": \"#E5ECF6\", \"width\": 0.5}}, \"type\": \"barpolar\"}], \"carpet\": [{\"aaxis\": {\"endlinecolor\": \"#2a3f5f\", \"gridcolor\": \"white\", \"linecolor\": \"white\", \"minorgridcolor\": \"white\", \"startlinecolor\": \"#2a3f5f\"}, \"baxis\": {\"endlinecolor\": \"#2a3f5f\", \"gridcolor\": \"white\", \"linecolor\": \"white\", \"minorgridcolor\": \"white\", \"startlinecolor\": \"#2a3f5f\"}, \"type\": \"carpet\"}], \"choropleth\": [{\"colorbar\": {\"outlinewidth\": 0, \"ticks\": \"\"}, \"type\": \"choropleth\"}], \"contour\": [{\"colorbar\": {\"outlinewidth\": 0, \"ticks\": \"\"}, \"colorscale\": [[0.0, \"#0d0887\"], [0.1111111111111111, \"#46039f\"], [0.2222222222222222, \"#7201a8\"], [0.3333333333333333, \"#9c179e\"], [0.4444444444444444, \"#bd3786\"], [0.5555555555555556, \"#d8576b\"], [0.6666666666666666, \"#ed7953\"], [0.7777777777777778, \"#fb9f3a\"], [0.8888888888888888, \"#fdca26\"], [1.0, \"#f0f921\"]], \"type\": \"contour\"}], \"contourcarpet\": [{\"colorbar\": {\"outlinewidth\": 0, \"ticks\": \"\"}, \"type\": \"contourcarpet\"}], \"heatmap\": [{\"colorbar\": {\"outlinewidth\": 0, \"ticks\": \"\"}, \"colorscale\": [[0.0, \"#0d0887\"], [0.1111111111111111, \"#46039f\"], [0.2222222222222222, \"#7201a8\"], [0.3333333333333333, \"#9c179e\"], [0.4444444444444444, \"#bd3786\"], [0.5555555555555556, \"#d8576b\"], [0.6666666666666666, \"#ed7953\"], [0.7777777777777778, \"#fb9f3a\"], [0.8888888888888888, \"#fdca26\"], [1.0, \"#f0f921\"]], \"type\": \"heatmap\"}], \"heatmapgl\": [{\"colorbar\": {\"outlinewidth\": 0, \"ticks\": \"\"}, \"colorscale\": [[0.0, \"#0d0887\"], [0.1111111111111111, \"#46039f\"], [0.2222222222222222, \"#7201a8\"], [0.3333333333333333, \"#9c179e\"], [0.4444444444444444, \"#bd3786\"], [0.5555555555555556, \"#d8576b\"], [0.6666666666666666, \"#ed7953\"], [0.7777777777777778, \"#fb9f3a\"], [0.8888888888888888, \"#fdca26\"], [1.0, \"#f0f921\"]], \"type\": \"heatmapgl\"}], \"histogram\": [{\"marker\": {\"colorbar\": {\"outlinewidth\": 0, \"ticks\": \"\"}}, \"type\": \"histogram\"}], \"histogram2d\": [{\"colorbar\": {\"outlinewidth\": 0, \"ticks\": \"\"}, \"colorscale\": [[0.0, \"#0d0887\"], [0.1111111111111111, \"#46039f\"], [0.2222222222222222, \"#7201a8\"], [0.3333333333333333, \"#9c179e\"], [0.4444444444444444, \"#bd3786\"], [0.5555555555555556, \"#d8576b\"], [0.6666666666666666, \"#ed7953\"], [0.7777777777777778, \"#fb9f3a\"], [0.8888888888888888, \"#fdca26\"], [1.0, \"#f0f921\"]], \"type\": \"histogram2d\"}], \"histogram2dcontour\": [{\"colorbar\": {\"outlinewidth\": 0, \"ticks\": \"\"}, \"colorscale\": [[0.0, \"#0d0887\"], [0.1111111111111111, \"#46039f\"], [0.2222222222222222, \"#7201a8\"], [0.3333333333333333, \"#9c179e\"], [0.4444444444444444, \"#bd3786\"], [0.5555555555555556, \"#d8576b\"], [0.6666666666666666, \"#ed7953\"], [0.7777777777777778, \"#fb9f3a\"], [0.8888888888888888, \"#fdca26\"], [1.0, \"#f0f921\"]], \"type\": \"histogram2dcontour\"}], \"mesh3d\": [{\"colorbar\": {\"outlinewidth\": 0, \"ticks\": \"\"}, \"type\": \"mesh3d\"}], \"parcoords\": [{\"line\": {\"colorbar\": {\"outlinewidth\": 0, \"ticks\": \"\"}}, \"type\": \"parcoords\"}], \"pie\": [{\"automargin\": true, \"type\": \"pie\"}], \"scatter\": [{\"marker\": {\"colorbar\": {\"outlinewidth\": 0, \"ticks\": \"\"}}, \"type\": \"scatter\"}], \"scatter3d\": [{\"line\": {\"colorbar\": {\"outlinewidth\": 0, \"ticks\": \"\"}}, \"marker\": {\"colorbar\": {\"outlinewidth\": 0, \"ticks\": \"\"}}, \"type\": \"scatter3d\"}], \"scattercarpet\": [{\"marker\": {\"colorbar\": {\"outlinewidth\": 0, \"ticks\": \"\"}}, \"type\": \"scattercarpet\"}], \"scattergeo\": [{\"marker\": {\"colorbar\": {\"outlinewidth\": 0, \"ticks\": \"\"}}, \"type\": \"scattergeo\"}], \"scattergl\": [{\"marker\": {\"colorbar\": {\"outlinewidth\": 0, \"ticks\": \"\"}}, \"type\": \"scattergl\"}], \"scattermapbox\": [{\"marker\": {\"colorbar\": {\"outlinewidth\": 0, \"ticks\": \"\"}}, \"type\": \"scattermapbox\"}], \"scatterpolar\": [{\"marker\": {\"colorbar\": {\"outlinewidth\": 0, \"ticks\": \"\"}}, \"type\": \"scatterpolar\"}], \"scatterpolargl\": [{\"marker\": {\"colorbar\": {\"outlinewidth\": 0, \"ticks\": \"\"}}, \"type\": \"scatterpolargl\"}], \"scatterternary\": [{\"marker\": {\"colorbar\": {\"outlinewidth\": 0, \"ticks\": \"\"}}, \"type\": \"scatterternary\"}], \"surface\": [{\"colorbar\": {\"outlinewidth\": 0, \"ticks\": \"\"}, \"colorscale\": [[0.0, \"#0d0887\"], [0.1111111111111111, \"#46039f\"], [0.2222222222222222, \"#7201a8\"], [0.3333333333333333, \"#9c179e\"], [0.4444444444444444, \"#bd3786\"], [0.5555555555555556, \"#d8576b\"], [0.6666666666666666, \"#ed7953\"], [0.7777777777777778, \"#fb9f3a\"], [0.8888888888888888, \"#fdca26\"], [1.0, \"#f0f921\"]], \"type\": \"surface\"}], \"table\": [{\"cells\": {\"fill\": {\"color\": \"#EBF0F8\"}, \"line\": {\"color\": \"white\"}}, \"header\": {\"fill\": {\"color\": \"#C8D4E3\"}, \"line\": {\"color\": \"white\"}}, \"type\": \"table\"}]}, \"layout\": {\"annotationdefaults\": {\"arrowcolor\": \"#2a3f5f\", \"arrowhead\": 0, \"arrowwidth\": 1}, \"autotypenumbers\": \"strict\", \"coloraxis\": {\"colorbar\": {\"outlinewidth\": 0, \"ticks\": \"\"}}, \"colorscale\": {\"diverging\": [[0, \"#8e0152\"], [0.1, \"#c51b7d\"], [0.2, \"#de77ae\"], [0.3, \"#f1b6da\"], [0.4, \"#fde0ef\"], [0.5, \"#f7f7f7\"], [0.6, \"#e6f5d0\"], [0.7, \"#b8e186\"], [0.8, \"#7fbc41\"], [0.9, \"#4d9221\"], [1, \"#276419\"]], \"sequential\": [[0.0, \"#0d0887\"], [0.1111111111111111, \"#46039f\"], [0.2222222222222222, \"#7201a8\"], [0.3333333333333333, \"#9c179e\"], [0.4444444444444444, \"#bd3786\"], [0.5555555555555556, \"#d8576b\"], [0.6666666666666666, \"#ed7953\"], [0.7777777777777778, \"#fb9f3a\"], [0.8888888888888888, \"#fdca26\"], [1.0, \"#f0f921\"]], \"sequentialminus\": [[0.0, \"#0d0887\"], [0.1111111111111111, \"#46039f\"], [0.2222222222222222, \"#7201a8\"], [0.3333333333333333, \"#9c179e\"], [0.4444444444444444, \"#bd3786\"], [0.5555555555555556, \"#d8576b\"], [0.6666666666666666, \"#ed7953\"], [0.7777777777777778, \"#fb9f3a\"], [0.8888888888888888, \"#fdca26\"], [1.0, \"#f0f921\"]]}, \"colorway\": [\"#636efa\", \"#EF553B\", \"#00cc96\", \"#ab63fa\", \"#FFA15A\", \"#19d3f3\", \"#FF6692\", \"#B6E880\", \"#FF97FF\", \"#FECB52\"], \"font\": {\"color\": \"#2a3f5f\"}, \"geo\": {\"bgcolor\": \"white\", \"lakecolor\": \"white\", \"landcolor\": \"#E5ECF6\", \"showlakes\": true, \"showland\": true, \"subunitcolor\": \"white\"}, \"hoverlabel\": {\"align\": \"left\"}, \"hovermode\": \"closest\", \"mapbox\": {\"style\": \"light\"}, \"paper_bgcolor\": \"white\", \"plot_bgcolor\": \"#E5ECF6\", \"polar\": {\"angularaxis\": {\"gridcolor\": \"white\", \"linecolor\": \"white\", \"ticks\": \"\"}, \"bgcolor\": \"#E5ECF6\", \"radialaxis\": {\"gridcolor\": \"white\", \"linecolor\": \"white\", \"ticks\": \"\"}}, \"scene\": {\"xaxis\": {\"backgroundcolor\": \"#E5ECF6\", \"gridcolor\": \"white\", \"gridwidth\": 2, \"linecolor\": \"white\", \"showbackground\": true, \"ticks\": \"\", \"zerolinecolor\": \"white\"}, \"yaxis\": {\"backgroundcolor\": \"#E5ECF6\", \"gridcolor\": \"white\", \"gridwidth\": 2, \"linecolor\": \"white\", \"showbackground\": true, \"ticks\": \"\", \"zerolinecolor\": \"white\"}, \"zaxis\": {\"backgroundcolor\": \"#E5ECF6\", \"gridcolor\": \"white\", \"gridwidth\": 2, \"linecolor\": \"white\", \"showbackground\": true, \"ticks\": \"\", \"zerolinecolor\": \"white\"}}, \"shapedefaults\": {\"line\": {\"color\": \"#2a3f5f\"}}, \"ternary\": {\"aaxis\": {\"gridcolor\": \"white\", \"linecolor\": \"white\", \"ticks\": \"\"}, \"baxis\": {\"gridcolor\": \"white\", \"linecolor\": \"white\", \"ticks\": \"\"}, \"bgcolor\": \"#E5ECF6\", \"caxis\": {\"gridcolor\": \"white\", \"linecolor\": \"white\", \"ticks\": \"\"}}, \"title\": {\"x\": 0.05}, \"xaxis\": {\"automargin\": true, \"gridcolor\": \"white\", \"linecolor\": \"white\", \"ticks\": \"\", \"title\": {\"standoff\": 15}, \"zerolinecolor\": \"white\", \"zerolinewidth\": 2}, \"yaxis\": {\"automargin\": true, \"gridcolor\": \"white\", \"linecolor\": \"white\", \"ticks\": \"\", \"title\": {\"standoff\": 15}, \"zerolinecolor\": \"white\", \"zerolinewidth\": 2}}}, \"title\": {\"font\": {\"color\": \"#4D5663\"}}, \"xaxis\": {\"gridcolor\": \"#E1E5ED\", \"showgrid\": true, \"tickfont\": {\"color\": \"#4D5663\"}, \"title\": {\"font\": {\"color\": \"#4D5663\"}, \"text\": \"\"}, \"zerolinecolor\": \"#E1E5ED\"}, \"yaxis\": {\"gridcolor\": \"#E1E5ED\", \"showgrid\": true, \"tickfont\": {\"color\": \"#4D5663\"}, \"title\": {\"font\": {\"color\": \"#4D5663\"}, \"text\": \"\"}, \"zerolinecolor\": \"#E1E5ED\"}},                        {\"showLink\": true, \"linkText\": \"Export to plot.ly\", \"plotlyServerURL\": \"https://plot.ly\", \"responsive\": true}                    ).then(function(){\n",
       "                            \n",
       "var gd = document.getElementById('88d22039-49ad-4e5f-b84d-2d381230c001');\n",
       "var x = new MutationObserver(function (mutations, observer) {{\n",
       "        var display = window.getComputedStyle(gd).display;\n",
       "        if (!display || display === 'none') {{\n",
       "            console.log([gd, 'removed!']);\n",
       "            Plotly.purge(gd);\n",
       "            observer.disconnect();\n",
       "        }}\n",
       "}});\n",
       "\n",
       "// Listen for the removal of the full notebook cells\n",
       "var notebookContainer = gd.closest('#notebook-container');\n",
       "if (notebookContainer) {{\n",
       "    x.observe(notebookContainer, {childList: true});\n",
       "}}\n",
       "\n",
       "// Listen for the clearing of the current output cell\n",
       "var outputEl = gd.closest('.output');\n",
       "if (outputEl) {{\n",
       "    x.observe(outputEl, {childList: true});\n",
       "}}\n",
       "\n",
       "                        })                };                });            </script>        </div>"
      ]
     },
     "metadata": {},
     "output_type": "display_data"
    }
   ],
   "source": [
    "df['A'].iplot(kind='hist', bins=50)"
   ]
  },
  {
   "cell_type": "code",
   "execution_count": 35,
   "metadata": {},
   "outputs": [
    {
     "data": {
      "application/vnd.plotly.v1+json": {
       "config": {
        "linkText": "Export to plot.ly",
        "plotlyServerURL": "https://plot.ly",
        "showLink": true
       },
       "data": [
        {
         "histfunc": "count",
         "histnorm": "",
         "marker": {
          "color": "rgba(255, 153, 51, 1.0)",
          "line": {
           "color": "#4D5663",
           "width": 1.3
          }
         },
         "name": "A",
         "nbinsx": 50,
         "opacity": 0.8,
         "orientation": "v",
         "type": "histogram",
         "x": [
          1.5047071858675904,
          -1.2306437730366853,
          0.605020350239587,
          -0.11730722559215549,
          -0.5094486400300653,
          -0.03247951610040798,
          0.9731351835823545,
          -1.472511340085507,
          -0.23083304464393553,
          0.5787834027566838,
          -0.3156316458899452,
          -0.37854491314669936,
          -1.578313375563011,
          -0.7431436030597717,
          0.5630177560101443,
          -1.3333242685734497,
          -0.4812889971321455,
          0.46635368545417594,
          -0.09920746060052134,
          1.0140120472191738,
          -0.9225221157990605,
          1.4196106846836412,
          0.1952712362569279,
          -0.8168745709151536,
          -0.13975493326855662,
          0.5823845164628724,
          -0.04996888900130543,
          0.013820356133013887,
          -0.06830081283978562,
          0.19215684436051617,
          1.286435464479053,
          -0.33541662466852057,
          -2.8587717658377443,
          0.006416985094558975,
          1.2961166888011706,
          -0.08942228467851332,
          1.587406402848416,
          0.25947535251631904,
          -0.8048768802234534,
          -0.8419192982284646,
          -1.6039443064270875,
          0.10466270748776571,
          0.02998318674242047,
          -0.006862251689929032,
          -0.7660788034000553,
          1.1726861103538202,
          -0.27001683146847616,
          0.020866604645267316,
          -1.5500723287323086,
          -0.1353630979441134,
          0.10043734262022548,
          0.26824564753711505,
          0.12819938986961066,
          -1.17819730023147,
          0.43825107894139315,
          -0.8922617953366131,
          -0.1304564737507755,
          -0.712627526372936,
          -0.21148412951738027,
          -0.803660466757645,
          -0.2795304432141383,
          -0.7656507457744494,
          -1.2247199589979165,
          -0.16498458992525863,
          0.923653188973336,
          0.13764563658951204,
          0.043849382884496906,
          0.607314473420084,
          0.7462893879083348,
          0.18665312051788513,
          -1.4497989583537694,
          1.528431628745062,
          0.3712893622551243,
          0.47187897031748005,
          0.8177302430660359,
          -0.09631945740607714,
          0.2046001019962186,
          1.5632968046193618,
          0.28173247195427,
          -0.4990349917914575,
          0.4880662332937979,
          -1.6313543113852154,
          0.4398737132524965,
          0.22985411660186864,
          1.2996791563457732,
          -0.0015933251060393399,
          0.48577287679867154,
          -0.7611622677031836,
          -0.9177847234627884,
          0.31360597655689065,
          0.8504935212248734,
          -0.5321453076085406,
          -0.44651013637870907,
          -0.8221181957042193,
          1.8611329510653556,
          -1.9200683591650554,
          0.2640173821523596,
          -0.012626231690431604,
          3.152977471906116,
          0.3884525520079316
         ]
        },
        {
         "histfunc": "count",
         "histnorm": "",
         "marker": {
          "color": "rgba(55, 128, 191, 1.0)",
          "line": {
           "color": "#4D5663",
           "width": 1.3
          }
         },
         "name": "B",
         "nbinsx": 50,
         "opacity": 0.8,
         "orientation": "v",
         "type": "histogram",
         "x": [
          0.47852473764124553,
          0.47953723587996805,
          -0.44148143458663514,
          1.7986040640014305,
          1.3887987421628392,
          1.597757985723844,
          0.5877999356373035,
          1.5808007026584723,
          -0.33360175851415325,
          -0.13122522278994106,
          0.3224781441878215,
          0.8496592084762307,
          -1.150154786050836,
          -0.03636065930498414,
          -0.5208283778493646,
          1.0938755117779735,
          0.15407640392163835,
          0.569679081793052,
          0.03260012363032162,
          0.9945392624370553,
          1.3904827907721824,
          1.775213217496774,
          -0.5429998873307663,
          0.0915471721012884,
          -0.09519693387176657,
          -1.5963958081570286,
          2.4465606576364927,
          1.5731633274545442,
          -0.08560470104480285,
          0.2580248761829393,
          1.539166024904185,
          0.5416302736813118,
          -0.6303030028201453,
          -0.20719439088977545,
          0.4791532829966961,
          0.6345908134255359,
          -1.4310301356276192,
          -1.3401692846786348,
          0.12938500637423184,
          0.8697464546388674,
          -1.233469614258414,
          2.266394093414955,
          0.4095157714369962,
          0.3129562945885272,
          0.6875159516001128,
          0.43742266506028393,
          -0.9548174472407832,
          0.07014485793751564,
          -0.20394038833768505,
          1.3440227943161343,
          -0.4211541610746663,
          1.1778831515862733,
          -0.20884700147291713,
          -0.6287794998087359,
          -0.7877323616235364,
          -1.2186019438648847,
          1.1458611752078418,
          -0.38447865902786865,
          -0.5223514043098862,
          0.8604521332601345,
          -0.29850097445053136,
          -1.0125124820836118,
          -0.13931808941227639,
          0.24397113215543434,
          1.7129575541024467,
          -0.3046189015886152,
          -2.304212940366996,
          0.9750048983151226,
          0.1917996277566565,
          1.7150797955986141,
          -0.6669591370086811,
          -0.8584067440066807,
          1.0979784717067602,
          -1.4142753213911983,
          -0.14952157401637756,
          -1.7533683614377518,
          0.12616412568399893,
          0.4011261217165389,
          -1.528023749999498,
          -2.447037347680574,
          -1.889348744499366,
          -0.9452629996802178,
          0.05039114426983621,
          1.1675519258374532,
          0.1295374021492559,
          0.3296377092381601,
          1.7544282508147742,
          -0.9871840427773075,
          -0.49209018295214213,
          -0.9434878688187036,
          1.6166091978251167,
          -0.23609503635320464,
          0.9761194029838546,
          0.7307775163820062,
          1.3621691942697398,
          0.4874710586315161,
          -2.211347382211482,
          0.24820113797038115,
          -7.074984288589023e-05,
          -0.9973009933770731
         ]
        },
        {
         "histfunc": "count",
         "histnorm": "",
         "marker": {
          "color": "rgba(50, 171, 96, 1.0)",
          "line": {
           "color": "#4D5663",
           "width": 1.3
          }
         },
         "name": "C",
         "nbinsx": 50,
         "opacity": 0.8,
         "orientation": "v",
         "type": "histogram",
         "x": [
          -0.6000059072918577,
          1.3851327831240583,
          -0.8416605212960638,
          1.5154885208090547,
          0.35490000189417265,
          1.6908051929618615,
          -1.5287201794917664,
          -0.7349423678365664,
          -0.6913427780487162,
          -0.48028684240557384,
          -0.8194308330776271,
          -0.29106481926234773,
          -0.44013318857028755,
          -0.20308347702726706,
          0.35361926604476035,
          0.9088141438825913,
          -0.12621126330418034,
          0.2713276194712512,
          0.6134881669524676,
          -0.6779439897805137,
          0.24950517621334753,
          -2.2745063234013974,
          -0.7245357611636806,
          -0.6894443833026974,
          -0.1264702313571285,
          -1.7171240171463795,
          0.4649639516968302,
          0.28032078841628816,
          0.8187312513948517,
          1.8356694161971212,
          0.07111938776697482,
          0.5280542526634601,
          -0.16806824844991317,
          0.3000210389712474,
          -0.12397057872547237,
          -1.7083423879575599,
          1.00021666547896,
          -1.638137045671358,
          0.9357959636309474,
          0.05029229480271856,
          -0.07831195145744159,
          -0.23370643955925763,
          -0.5993775703744221,
          0.37675039193732496,
          0.24028123734389664,
          0.3093358333892805,
          -0.5924220763938935,
          0.7335935351551006,
          -0.44891339165705907,
          -0.35530507838316644,
          -0.4944060862732866,
          0.38313420932443837,
          1.1715219237750232,
          1.3121080758510824,
          0.809296311973692,
          0.44223568422499776,
          -1.0144546947415045,
          -2.0963256155813,
          0.8303089376644729,
          0.20727530570372368,
          0.6809398714532137,
          -0.20313700975503854,
          -0.8683297955457224,
          -0.8967516788430234,
          -2.890614614986278,
          -0.09993955098456375,
          -0.14383529393879205,
          -1.0973057711218217,
          -0.7504335408709724,
          0.9180133479107283,
          -0.5666948674783646,
          -1.9763329181438785,
          0.9938517046204264,
          0.23372817565574658,
          -0.30996996483053013,
          -0.7952300157721142,
          -0.5982382641896878,
          2.019467960329815,
          -1.2598852398508364,
          -2.3605648504641117,
          0.2688239708057861,
          0.3341326209586924,
          0.5781274307848184,
          -1.126794432746841,
          1.8186529196083057,
          -0.2257175946243995,
          -0.7327823203159495,
          -0.04215232447181377,
          0.35468065583520547,
          0.7529400572744188,
          -0.9070666616628649,
          -2.7491636513888267,
          -0.158765905268466,
          -1.5942636877571497,
          -0.034178501622841355,
          1.644502105606857,
          1.2278338376015379,
          0.22311899274343086,
          2.0926505853158326,
          0.14481317662602947
         ]
        },
        {
         "histfunc": "count",
         "histnorm": "",
         "marker": {
          "color": "rgba(128, 0, 128, 1.0)",
          "line": {
           "color": "#4D5663",
           "width": 1.3
          }
         },
         "name": "D",
         "nbinsx": 50,
         "opacity": 0.8,
         "orientation": "v",
         "type": "histogram",
         "x": [
          -0.8082398228533931,
          -0.5150448150176067,
          -1.0877456219922552,
          -0.8048179509408832,
          0.6086999215692537,
          -0.5757069764316959,
          0.47345421556973416,
          -0.20836536589757984,
          -1.530474829093293,
          0.4219608143606672,
          -1.3598569545767323,
          0.26771371003290845,
          0.5983985813921551,
          -0.07616351426305064,
          -0.030391020270419882,
          1.001390782205427,
          0.9369229701129356,
          -0.356238064328411,
          -0.727088551183532,
          1.7896490382744903,
          -0.24431409954433136,
          0.2237147309778499,
          0.20738917270660667,
          -0.46228323064267396,
          2.0312627382663093,
          0.507205686431814,
          -1.1004206781437917,
          -0.40716791218137677,
          0.4903848006304384,
          -0.7918357006951539,
          1.9658079569926246,
          -0.6457999436135241,
          1.0614383133641743,
          0.27377992781923305,
          0.10701923381201559,
          -0.4000061087739593,
          -1.837251657679469,
          0.4880101965671579,
          0.6911914823146007,
          1.746647766580847,
          2.4730610128976025,
          0.6872374464358818,
          1.0732008846959473,
          -0.48774677137980743,
          -0.8095131203630446,
          -1.1453972995580883,
          0.6745284104776471,
          -0.7089344921988175,
          1.080404970897654,
          0.654933864788666,
          0.5993501954136305,
          0.6335112551331462,
          -0.3589185468179479,
          -1.404924418265637,
          0.013247846568394272,
          0.49121042562949946,
          -1.781961301376952,
          -0.3461391298088473,
          0.7079203769362604,
          -0.4845337136107974,
          2.2121393861141807,
          -1.2069802115680754,
          0.49389803836683593,
          -1.0011033326444534,
          0.004752979140422849,
          -0.8451778958184031,
          -0.6643597024318079,
          -0.40229732951149305,
          -0.7377438349276196,
          0.7143190164674909,
          3.2165361910584975,
          -0.2990466181868432,
          0.5983848199307756,
          -0.6547230911032215,
          -1.3508232926668085,
          -0.30203008713704566,
          0.8222645436335331,
          0.7683362411825844,
          0.20502092967846014,
          -1.3032276841045292,
          -1.9480148669781658,
          0.49509145239623104,
          0.6957201739268423,
          -0.6099904097456169,
          1.055965324015916,
          0.006084384263107051,
          1.4515849407547137,
          -0.4514929498138888,
          -0.2807620187625043,
          -0.4223488763697073,
          -1.017141859337329,
          0.6388544156437523,
          0.2593832599300954,
          -0.24507572484234003,
          -0.48759006253485254,
          -1.7667005971711343,
          -0.035067253089737994,
          -1.256620895729348,
          -0.13091364656474716,
          2.1494704847322295
         ]
        }
       ],
       "layout": {
        "barmode": "overlay",
        "legend": {
         "bgcolor": "#F5F6F9",
         "font": {
          "color": "#4D5663"
         }
        },
        "paper_bgcolor": "#F5F6F9",
        "plot_bgcolor": "#F5F6F9",
        "template": {
         "data": {
          "bar": [
           {
            "error_x": {
             "color": "#2a3f5f"
            },
            "error_y": {
             "color": "#2a3f5f"
            },
            "marker": {
             "line": {
              "color": "#E5ECF6",
              "width": 0.5
             }
            },
            "type": "bar"
           }
          ],
          "barpolar": [
           {
            "marker": {
             "line": {
              "color": "#E5ECF6",
              "width": 0.5
             }
            },
            "type": "barpolar"
           }
          ],
          "carpet": [
           {
            "aaxis": {
             "endlinecolor": "#2a3f5f",
             "gridcolor": "white",
             "linecolor": "white",
             "minorgridcolor": "white",
             "startlinecolor": "#2a3f5f"
            },
            "baxis": {
             "endlinecolor": "#2a3f5f",
             "gridcolor": "white",
             "linecolor": "white",
             "minorgridcolor": "white",
             "startlinecolor": "#2a3f5f"
            },
            "type": "carpet"
           }
          ],
          "choropleth": [
           {
            "colorbar": {
             "outlinewidth": 0,
             "ticks": ""
            },
            "type": "choropleth"
           }
          ],
          "contour": [
           {
            "colorbar": {
             "outlinewidth": 0,
             "ticks": ""
            },
            "colorscale": [
             [
              0,
              "#0d0887"
             ],
             [
              0.1111111111111111,
              "#46039f"
             ],
             [
              0.2222222222222222,
              "#7201a8"
             ],
             [
              0.3333333333333333,
              "#9c179e"
             ],
             [
              0.4444444444444444,
              "#bd3786"
             ],
             [
              0.5555555555555556,
              "#d8576b"
             ],
             [
              0.6666666666666666,
              "#ed7953"
             ],
             [
              0.7777777777777778,
              "#fb9f3a"
             ],
             [
              0.8888888888888888,
              "#fdca26"
             ],
             [
              1,
              "#f0f921"
             ]
            ],
            "type": "contour"
           }
          ],
          "contourcarpet": [
           {
            "colorbar": {
             "outlinewidth": 0,
             "ticks": ""
            },
            "type": "contourcarpet"
           }
          ],
          "heatmap": [
           {
            "colorbar": {
             "outlinewidth": 0,
             "ticks": ""
            },
            "colorscale": [
             [
              0,
              "#0d0887"
             ],
             [
              0.1111111111111111,
              "#46039f"
             ],
             [
              0.2222222222222222,
              "#7201a8"
             ],
             [
              0.3333333333333333,
              "#9c179e"
             ],
             [
              0.4444444444444444,
              "#bd3786"
             ],
             [
              0.5555555555555556,
              "#d8576b"
             ],
             [
              0.6666666666666666,
              "#ed7953"
             ],
             [
              0.7777777777777778,
              "#fb9f3a"
             ],
             [
              0.8888888888888888,
              "#fdca26"
             ],
             [
              1,
              "#f0f921"
             ]
            ],
            "type": "heatmap"
           }
          ],
          "heatmapgl": [
           {
            "colorbar": {
             "outlinewidth": 0,
             "ticks": ""
            },
            "colorscale": [
             [
              0,
              "#0d0887"
             ],
             [
              0.1111111111111111,
              "#46039f"
             ],
             [
              0.2222222222222222,
              "#7201a8"
             ],
             [
              0.3333333333333333,
              "#9c179e"
             ],
             [
              0.4444444444444444,
              "#bd3786"
             ],
             [
              0.5555555555555556,
              "#d8576b"
             ],
             [
              0.6666666666666666,
              "#ed7953"
             ],
             [
              0.7777777777777778,
              "#fb9f3a"
             ],
             [
              0.8888888888888888,
              "#fdca26"
             ],
             [
              1,
              "#f0f921"
             ]
            ],
            "type": "heatmapgl"
           }
          ],
          "histogram": [
           {
            "marker": {
             "colorbar": {
              "outlinewidth": 0,
              "ticks": ""
             }
            },
            "type": "histogram"
           }
          ],
          "histogram2d": [
           {
            "colorbar": {
             "outlinewidth": 0,
             "ticks": ""
            },
            "colorscale": [
             [
              0,
              "#0d0887"
             ],
             [
              0.1111111111111111,
              "#46039f"
             ],
             [
              0.2222222222222222,
              "#7201a8"
             ],
             [
              0.3333333333333333,
              "#9c179e"
             ],
             [
              0.4444444444444444,
              "#bd3786"
             ],
             [
              0.5555555555555556,
              "#d8576b"
             ],
             [
              0.6666666666666666,
              "#ed7953"
             ],
             [
              0.7777777777777778,
              "#fb9f3a"
             ],
             [
              0.8888888888888888,
              "#fdca26"
             ],
             [
              1,
              "#f0f921"
             ]
            ],
            "type": "histogram2d"
           }
          ],
          "histogram2dcontour": [
           {
            "colorbar": {
             "outlinewidth": 0,
             "ticks": ""
            },
            "colorscale": [
             [
              0,
              "#0d0887"
             ],
             [
              0.1111111111111111,
              "#46039f"
             ],
             [
              0.2222222222222222,
              "#7201a8"
             ],
             [
              0.3333333333333333,
              "#9c179e"
             ],
             [
              0.4444444444444444,
              "#bd3786"
             ],
             [
              0.5555555555555556,
              "#d8576b"
             ],
             [
              0.6666666666666666,
              "#ed7953"
             ],
             [
              0.7777777777777778,
              "#fb9f3a"
             ],
             [
              0.8888888888888888,
              "#fdca26"
             ],
             [
              1,
              "#f0f921"
             ]
            ],
            "type": "histogram2dcontour"
           }
          ],
          "mesh3d": [
           {
            "colorbar": {
             "outlinewidth": 0,
             "ticks": ""
            },
            "type": "mesh3d"
           }
          ],
          "parcoords": [
           {
            "line": {
             "colorbar": {
              "outlinewidth": 0,
              "ticks": ""
             }
            },
            "type": "parcoords"
           }
          ],
          "pie": [
           {
            "automargin": true,
            "type": "pie"
           }
          ],
          "scatter": [
           {
            "marker": {
             "colorbar": {
              "outlinewidth": 0,
              "ticks": ""
             }
            },
            "type": "scatter"
           }
          ],
          "scatter3d": [
           {
            "line": {
             "colorbar": {
              "outlinewidth": 0,
              "ticks": ""
             }
            },
            "marker": {
             "colorbar": {
              "outlinewidth": 0,
              "ticks": ""
             }
            },
            "type": "scatter3d"
           }
          ],
          "scattercarpet": [
           {
            "marker": {
             "colorbar": {
              "outlinewidth": 0,
              "ticks": ""
             }
            },
            "type": "scattercarpet"
           }
          ],
          "scattergeo": [
           {
            "marker": {
             "colorbar": {
              "outlinewidth": 0,
              "ticks": ""
             }
            },
            "type": "scattergeo"
           }
          ],
          "scattergl": [
           {
            "marker": {
             "colorbar": {
              "outlinewidth": 0,
              "ticks": ""
             }
            },
            "type": "scattergl"
           }
          ],
          "scattermapbox": [
           {
            "marker": {
             "colorbar": {
              "outlinewidth": 0,
              "ticks": ""
             }
            },
            "type": "scattermapbox"
           }
          ],
          "scatterpolar": [
           {
            "marker": {
             "colorbar": {
              "outlinewidth": 0,
              "ticks": ""
             }
            },
            "type": "scatterpolar"
           }
          ],
          "scatterpolargl": [
           {
            "marker": {
             "colorbar": {
              "outlinewidth": 0,
              "ticks": ""
             }
            },
            "type": "scatterpolargl"
           }
          ],
          "scatterternary": [
           {
            "marker": {
             "colorbar": {
              "outlinewidth": 0,
              "ticks": ""
             }
            },
            "type": "scatterternary"
           }
          ],
          "surface": [
           {
            "colorbar": {
             "outlinewidth": 0,
             "ticks": ""
            },
            "colorscale": [
             [
              0,
              "#0d0887"
             ],
             [
              0.1111111111111111,
              "#46039f"
             ],
             [
              0.2222222222222222,
              "#7201a8"
             ],
             [
              0.3333333333333333,
              "#9c179e"
             ],
             [
              0.4444444444444444,
              "#bd3786"
             ],
             [
              0.5555555555555556,
              "#d8576b"
             ],
             [
              0.6666666666666666,
              "#ed7953"
             ],
             [
              0.7777777777777778,
              "#fb9f3a"
             ],
             [
              0.8888888888888888,
              "#fdca26"
             ],
             [
              1,
              "#f0f921"
             ]
            ],
            "type": "surface"
           }
          ],
          "table": [
           {
            "cells": {
             "fill": {
              "color": "#EBF0F8"
             },
             "line": {
              "color": "white"
             }
            },
            "header": {
             "fill": {
              "color": "#C8D4E3"
             },
             "line": {
              "color": "white"
             }
            },
            "type": "table"
           }
          ]
         },
         "layout": {
          "annotationdefaults": {
           "arrowcolor": "#2a3f5f",
           "arrowhead": 0,
           "arrowwidth": 1
          },
          "autotypenumbers": "strict",
          "coloraxis": {
           "colorbar": {
            "outlinewidth": 0,
            "ticks": ""
           }
          },
          "colorscale": {
           "diverging": [
            [
             0,
             "#8e0152"
            ],
            [
             0.1,
             "#c51b7d"
            ],
            [
             0.2,
             "#de77ae"
            ],
            [
             0.3,
             "#f1b6da"
            ],
            [
             0.4,
             "#fde0ef"
            ],
            [
             0.5,
             "#f7f7f7"
            ],
            [
             0.6,
             "#e6f5d0"
            ],
            [
             0.7,
             "#b8e186"
            ],
            [
             0.8,
             "#7fbc41"
            ],
            [
             0.9,
             "#4d9221"
            ],
            [
             1,
             "#276419"
            ]
           ],
           "sequential": [
            [
             0,
             "#0d0887"
            ],
            [
             0.1111111111111111,
             "#46039f"
            ],
            [
             0.2222222222222222,
             "#7201a8"
            ],
            [
             0.3333333333333333,
             "#9c179e"
            ],
            [
             0.4444444444444444,
             "#bd3786"
            ],
            [
             0.5555555555555556,
             "#d8576b"
            ],
            [
             0.6666666666666666,
             "#ed7953"
            ],
            [
             0.7777777777777778,
             "#fb9f3a"
            ],
            [
             0.8888888888888888,
             "#fdca26"
            ],
            [
             1,
             "#f0f921"
            ]
           ],
           "sequentialminus": [
            [
             0,
             "#0d0887"
            ],
            [
             0.1111111111111111,
             "#46039f"
            ],
            [
             0.2222222222222222,
             "#7201a8"
            ],
            [
             0.3333333333333333,
             "#9c179e"
            ],
            [
             0.4444444444444444,
             "#bd3786"
            ],
            [
             0.5555555555555556,
             "#d8576b"
            ],
            [
             0.6666666666666666,
             "#ed7953"
            ],
            [
             0.7777777777777778,
             "#fb9f3a"
            ],
            [
             0.8888888888888888,
             "#fdca26"
            ],
            [
             1,
             "#f0f921"
            ]
           ]
          },
          "colorway": [
           "#636efa",
           "#EF553B",
           "#00cc96",
           "#ab63fa",
           "#FFA15A",
           "#19d3f3",
           "#FF6692",
           "#B6E880",
           "#FF97FF",
           "#FECB52"
          ],
          "font": {
           "color": "#2a3f5f"
          },
          "geo": {
           "bgcolor": "white",
           "lakecolor": "white",
           "landcolor": "#E5ECF6",
           "showlakes": true,
           "showland": true,
           "subunitcolor": "white"
          },
          "hoverlabel": {
           "align": "left"
          },
          "hovermode": "closest",
          "mapbox": {
           "style": "light"
          },
          "paper_bgcolor": "white",
          "plot_bgcolor": "#E5ECF6",
          "polar": {
           "angularaxis": {
            "gridcolor": "white",
            "linecolor": "white",
            "ticks": ""
           },
           "bgcolor": "#E5ECF6",
           "radialaxis": {
            "gridcolor": "white",
            "linecolor": "white",
            "ticks": ""
           }
          },
          "scene": {
           "xaxis": {
            "backgroundcolor": "#E5ECF6",
            "gridcolor": "white",
            "gridwidth": 2,
            "linecolor": "white",
            "showbackground": true,
            "ticks": "",
            "zerolinecolor": "white"
           },
           "yaxis": {
            "backgroundcolor": "#E5ECF6",
            "gridcolor": "white",
            "gridwidth": 2,
            "linecolor": "white",
            "showbackground": true,
            "ticks": "",
            "zerolinecolor": "white"
           },
           "zaxis": {
            "backgroundcolor": "#E5ECF6",
            "gridcolor": "white",
            "gridwidth": 2,
            "linecolor": "white",
            "showbackground": true,
            "ticks": "",
            "zerolinecolor": "white"
           }
          },
          "shapedefaults": {
           "line": {
            "color": "#2a3f5f"
           }
          },
          "ternary": {
           "aaxis": {
            "gridcolor": "white",
            "linecolor": "white",
            "ticks": ""
           },
           "baxis": {
            "gridcolor": "white",
            "linecolor": "white",
            "ticks": ""
           },
           "bgcolor": "#E5ECF6",
           "caxis": {
            "gridcolor": "white",
            "linecolor": "white",
            "ticks": ""
           }
          },
          "title": {
           "x": 0.05
          },
          "xaxis": {
           "automargin": true,
           "gridcolor": "white",
           "linecolor": "white",
           "ticks": "",
           "title": {
            "standoff": 15
           },
           "zerolinecolor": "white",
           "zerolinewidth": 2
          },
          "yaxis": {
           "automargin": true,
           "gridcolor": "white",
           "linecolor": "white",
           "ticks": "",
           "title": {
            "standoff": 15
           },
           "zerolinecolor": "white",
           "zerolinewidth": 2
          }
         }
        },
        "title": {
         "font": {
          "color": "#4D5663"
         }
        },
        "xaxis": {
         "gridcolor": "#E1E5ED",
         "showgrid": true,
         "tickfont": {
          "color": "#4D5663"
         },
         "title": {
          "font": {
           "color": "#4D5663"
          },
          "text": ""
         },
         "zerolinecolor": "#E1E5ED"
        },
        "yaxis": {
         "gridcolor": "#E1E5ED",
         "showgrid": true,
         "tickfont": {
          "color": "#4D5663"
         },
         "title": {
          "font": {
           "color": "#4D5663"
          },
          "text": ""
         },
         "zerolinecolor": "#E1E5ED"
        }
       }
      },
      "text/html": [
       "<div>                            <div id=\"70df5953-ea94-46e9-8ff6-e91921eca788\" class=\"plotly-graph-div\" style=\"height:525px; width:100%;\"></div>            <script type=\"text/javascript\">                require([\"plotly\"], function(Plotly) {                    window.PLOTLYENV=window.PLOTLYENV || {};\n",
       "                    window.PLOTLYENV.BASE_URL='https://plot.ly';                                    if (document.getElementById(\"70df5953-ea94-46e9-8ff6-e91921eca788\")) {                    Plotly.newPlot(                        \"70df5953-ea94-46e9-8ff6-e91921eca788\",                        [{\"histfunc\": \"count\", \"histnorm\": \"\", \"marker\": {\"color\": \"rgba(255, 153, 51, 1.0)\", \"line\": {\"color\": \"#4D5663\", \"width\": 1.3}}, \"name\": \"A\", \"nbinsx\": 50, \"opacity\": 0.8, \"orientation\": \"v\", \"type\": \"histogram\", \"x\": [1.5047071858675904, -1.2306437730366853, 0.605020350239587, -0.11730722559215549, -0.5094486400300653, -0.03247951610040798, 0.9731351835823545, -1.472511340085507, -0.23083304464393553, 0.5787834027566838, -0.3156316458899452, -0.37854491314669936, -1.578313375563011, -0.7431436030597717, 0.5630177560101443, -1.3333242685734497, -0.4812889971321455, 0.46635368545417594, -0.09920746060052134, 1.0140120472191738, -0.9225221157990605, 1.4196106846836412, 0.1952712362569279, -0.8168745709151536, -0.13975493326855662, 0.5823845164628724, -0.04996888900130543, 0.013820356133013887, -0.06830081283978562, 0.19215684436051617, 1.286435464479053, -0.33541662466852057, -2.8587717658377443, 0.006416985094558975, 1.2961166888011706, -0.08942228467851332, 1.587406402848416, 0.25947535251631904, -0.8048768802234534, -0.8419192982284646, -1.6039443064270875, 0.10466270748776571, 0.02998318674242047, -0.006862251689929032, -0.7660788034000553, 1.1726861103538202, -0.27001683146847616, 0.020866604645267316, -1.5500723287323086, -0.1353630979441134, 0.10043734262022548, 0.26824564753711505, 0.12819938986961066, -1.17819730023147, 0.43825107894139315, -0.8922617953366131, -0.1304564737507755, -0.712627526372936, -0.21148412951738027, -0.803660466757645, -0.2795304432141383, -0.7656507457744494, -1.2247199589979165, -0.16498458992525863, 0.923653188973336, 0.13764563658951204, 0.043849382884496906, 0.607314473420084, 0.7462893879083348, 0.18665312051788513, -1.4497989583537694, 1.528431628745062, 0.3712893622551243, 0.47187897031748005, 0.8177302430660359, -0.09631945740607714, 0.2046001019962186, 1.5632968046193618, 0.28173247195427, -0.4990349917914575, 0.4880662332937979, -1.6313543113852154, 0.4398737132524965, 0.22985411660186864, 1.2996791563457732, -0.0015933251060393399, 0.48577287679867154, -0.7611622677031836, -0.9177847234627884, 0.31360597655689065, 0.8504935212248734, -0.5321453076085406, -0.44651013637870907, -0.8221181957042193, 1.8611329510653556, -1.9200683591650554, 0.2640173821523596, -0.012626231690431604, 3.152977471906116, 0.3884525520079316]}, {\"histfunc\": \"count\", \"histnorm\": \"\", \"marker\": {\"color\": \"rgba(55, 128, 191, 1.0)\", \"line\": {\"color\": \"#4D5663\", \"width\": 1.3}}, \"name\": \"B\", \"nbinsx\": 50, \"opacity\": 0.8, \"orientation\": \"v\", \"type\": \"histogram\", \"x\": [0.47852473764124553, 0.47953723587996805, -0.44148143458663514, 1.7986040640014305, 1.3887987421628392, 1.597757985723844, 0.5877999356373035, 1.5808007026584723, -0.33360175851415325, -0.13122522278994106, 0.3224781441878215, 0.8496592084762307, -1.150154786050836, -0.03636065930498414, -0.5208283778493646, 1.0938755117779735, 0.15407640392163835, 0.569679081793052, 0.03260012363032162, 0.9945392624370553, 1.3904827907721824, 1.775213217496774, -0.5429998873307663, 0.0915471721012884, -0.09519693387176657, -1.5963958081570286, 2.4465606576364927, 1.5731633274545442, -0.08560470104480285, 0.2580248761829393, 1.539166024904185, 0.5416302736813118, -0.6303030028201453, -0.20719439088977545, 0.4791532829966961, 0.6345908134255359, -1.4310301356276192, -1.3401692846786348, 0.12938500637423184, 0.8697464546388674, -1.233469614258414, 2.266394093414955, 0.4095157714369962, 0.3129562945885272, 0.6875159516001128, 0.43742266506028393, -0.9548174472407832, 0.07014485793751564, -0.20394038833768505, 1.3440227943161343, -0.4211541610746663, 1.1778831515862733, -0.20884700147291713, -0.6287794998087359, -0.7877323616235364, -1.2186019438648847, 1.1458611752078418, -0.38447865902786865, -0.5223514043098862, 0.8604521332601345, -0.29850097445053136, -1.0125124820836118, -0.13931808941227639, 0.24397113215543434, 1.7129575541024467, -0.3046189015886152, -2.304212940366996, 0.9750048983151226, 0.1917996277566565, 1.7150797955986141, -0.6669591370086811, -0.8584067440066807, 1.0979784717067602, -1.4142753213911983, -0.14952157401637756, -1.7533683614377518, 0.12616412568399893, 0.4011261217165389, -1.528023749999498, -2.447037347680574, -1.889348744499366, -0.9452629996802178, 0.05039114426983621, 1.1675519258374532, 0.1295374021492559, 0.3296377092381601, 1.7544282508147742, -0.9871840427773075, -0.49209018295214213, -0.9434878688187036, 1.6166091978251167, -0.23609503635320464, 0.9761194029838546, 0.7307775163820062, 1.3621691942697398, 0.4874710586315161, -2.211347382211482, 0.24820113797038115, -7.074984288589023e-05, -0.9973009933770731]}, {\"histfunc\": \"count\", \"histnorm\": \"\", \"marker\": {\"color\": \"rgba(50, 171, 96, 1.0)\", \"line\": {\"color\": \"#4D5663\", \"width\": 1.3}}, \"name\": \"C\", \"nbinsx\": 50, \"opacity\": 0.8, \"orientation\": \"v\", \"type\": \"histogram\", \"x\": [-0.6000059072918577, 1.3851327831240583, -0.8416605212960638, 1.5154885208090547, 0.35490000189417265, 1.6908051929618615, -1.5287201794917664, -0.7349423678365664, -0.6913427780487162, -0.48028684240557384, -0.8194308330776271, -0.29106481926234773, -0.44013318857028755, -0.20308347702726706, 0.35361926604476035, 0.9088141438825913, -0.12621126330418034, 0.2713276194712512, 0.6134881669524676, -0.6779439897805137, 0.24950517621334753, -2.2745063234013974, -0.7245357611636806, -0.6894443833026974, -0.1264702313571285, -1.7171240171463795, 0.4649639516968302, 0.28032078841628816, 0.8187312513948517, 1.8356694161971212, 0.07111938776697482, 0.5280542526634601, -0.16806824844991317, 0.3000210389712474, -0.12397057872547237, -1.7083423879575599, 1.00021666547896, -1.638137045671358, 0.9357959636309474, 0.05029229480271856, -0.07831195145744159, -0.23370643955925763, -0.5993775703744221, 0.37675039193732496, 0.24028123734389664, 0.3093358333892805, -0.5924220763938935, 0.7335935351551006, -0.44891339165705907, -0.35530507838316644, -0.4944060862732866, 0.38313420932443837, 1.1715219237750232, 1.3121080758510824, 0.809296311973692, 0.44223568422499776, -1.0144546947415045, -2.0963256155813, 0.8303089376644729, 0.20727530570372368, 0.6809398714532137, -0.20313700975503854, -0.8683297955457224, -0.8967516788430234, -2.890614614986278, -0.09993955098456375, -0.14383529393879205, -1.0973057711218217, -0.7504335408709724, 0.9180133479107283, -0.5666948674783646, -1.9763329181438785, 0.9938517046204264, 0.23372817565574658, -0.30996996483053013, -0.7952300157721142, -0.5982382641896878, 2.019467960329815, -1.2598852398508364, -2.3605648504641117, 0.2688239708057861, 0.3341326209586924, 0.5781274307848184, -1.126794432746841, 1.8186529196083057, -0.2257175946243995, -0.7327823203159495, -0.04215232447181377, 0.35468065583520547, 0.7529400572744188, -0.9070666616628649, -2.7491636513888267, -0.158765905268466, -1.5942636877571497, -0.034178501622841355, 1.644502105606857, 1.2278338376015379, 0.22311899274343086, 2.0926505853158326, 0.14481317662602947]}, {\"histfunc\": \"count\", \"histnorm\": \"\", \"marker\": {\"color\": \"rgba(128, 0, 128, 1.0)\", \"line\": {\"color\": \"#4D5663\", \"width\": 1.3}}, \"name\": \"D\", \"nbinsx\": 50, \"opacity\": 0.8, \"orientation\": \"v\", \"type\": \"histogram\", \"x\": [-0.8082398228533931, -0.5150448150176067, -1.0877456219922552, -0.8048179509408832, 0.6086999215692537, -0.5757069764316959, 0.47345421556973416, -0.20836536589757984, -1.530474829093293, 0.4219608143606672, -1.3598569545767323, 0.26771371003290845, 0.5983985813921551, -0.07616351426305064, -0.030391020270419882, 1.001390782205427, 0.9369229701129356, -0.356238064328411, -0.727088551183532, 1.7896490382744903, -0.24431409954433136, 0.2237147309778499, 0.20738917270660667, -0.46228323064267396, 2.0312627382663093, 0.507205686431814, -1.1004206781437917, -0.40716791218137677, 0.4903848006304384, -0.7918357006951539, 1.9658079569926246, -0.6457999436135241, 1.0614383133641743, 0.27377992781923305, 0.10701923381201559, -0.4000061087739593, -1.837251657679469, 0.4880101965671579, 0.6911914823146007, 1.746647766580847, 2.4730610128976025, 0.6872374464358818, 1.0732008846959473, -0.48774677137980743, -0.8095131203630446, -1.1453972995580883, 0.6745284104776471, -0.7089344921988175, 1.080404970897654, 0.654933864788666, 0.5993501954136305, 0.6335112551331462, -0.3589185468179479, -1.404924418265637, 0.013247846568394272, 0.49121042562949946, -1.781961301376952, -0.3461391298088473, 0.7079203769362604, -0.4845337136107974, 2.2121393861141807, -1.2069802115680754, 0.49389803836683593, -1.0011033326444534, 0.004752979140422849, -0.8451778958184031, -0.6643597024318079, -0.40229732951149305, -0.7377438349276196, 0.7143190164674909, 3.2165361910584975, -0.2990466181868432, 0.5983848199307756, -0.6547230911032215, -1.3508232926668085, -0.30203008713704566, 0.8222645436335331, 0.7683362411825844, 0.20502092967846014, -1.3032276841045292, -1.9480148669781658, 0.49509145239623104, 0.6957201739268423, -0.6099904097456169, 1.055965324015916, 0.006084384263107051, 1.4515849407547137, -0.4514929498138888, -0.2807620187625043, -0.4223488763697073, -1.017141859337329, 0.6388544156437523, 0.2593832599300954, -0.24507572484234003, -0.48759006253485254, -1.7667005971711343, -0.035067253089737994, -1.256620895729348, -0.13091364656474716, 2.1494704847322295]}],                        {\"barmode\": \"overlay\", \"legend\": {\"bgcolor\": \"#F5F6F9\", \"font\": {\"color\": \"#4D5663\"}}, \"paper_bgcolor\": \"#F5F6F9\", \"plot_bgcolor\": \"#F5F6F9\", \"template\": {\"data\": {\"bar\": [{\"error_x\": {\"color\": \"#2a3f5f\"}, \"error_y\": {\"color\": \"#2a3f5f\"}, \"marker\": {\"line\": {\"color\": \"#E5ECF6\", \"width\": 0.5}}, \"type\": \"bar\"}], \"barpolar\": [{\"marker\": {\"line\": {\"color\": \"#E5ECF6\", \"width\": 0.5}}, \"type\": \"barpolar\"}], \"carpet\": [{\"aaxis\": {\"endlinecolor\": \"#2a3f5f\", \"gridcolor\": \"white\", \"linecolor\": \"white\", \"minorgridcolor\": \"white\", \"startlinecolor\": \"#2a3f5f\"}, \"baxis\": {\"endlinecolor\": \"#2a3f5f\", \"gridcolor\": \"white\", \"linecolor\": \"white\", \"minorgridcolor\": \"white\", \"startlinecolor\": \"#2a3f5f\"}, \"type\": \"carpet\"}], \"choropleth\": [{\"colorbar\": {\"outlinewidth\": 0, \"ticks\": \"\"}, \"type\": \"choropleth\"}], \"contour\": [{\"colorbar\": {\"outlinewidth\": 0, \"ticks\": \"\"}, \"colorscale\": [[0.0, \"#0d0887\"], [0.1111111111111111, \"#46039f\"], [0.2222222222222222, \"#7201a8\"], [0.3333333333333333, \"#9c179e\"], [0.4444444444444444, \"#bd3786\"], [0.5555555555555556, \"#d8576b\"], [0.6666666666666666, \"#ed7953\"], [0.7777777777777778, \"#fb9f3a\"], [0.8888888888888888, \"#fdca26\"], [1.0, \"#f0f921\"]], \"type\": \"contour\"}], \"contourcarpet\": [{\"colorbar\": {\"outlinewidth\": 0, \"ticks\": \"\"}, \"type\": \"contourcarpet\"}], \"heatmap\": [{\"colorbar\": {\"outlinewidth\": 0, \"ticks\": \"\"}, \"colorscale\": [[0.0, \"#0d0887\"], [0.1111111111111111, \"#46039f\"], [0.2222222222222222, \"#7201a8\"], [0.3333333333333333, \"#9c179e\"], [0.4444444444444444, \"#bd3786\"], [0.5555555555555556, \"#d8576b\"], [0.6666666666666666, \"#ed7953\"], [0.7777777777777778, \"#fb9f3a\"], [0.8888888888888888, \"#fdca26\"], [1.0, \"#f0f921\"]], \"type\": \"heatmap\"}], \"heatmapgl\": [{\"colorbar\": {\"outlinewidth\": 0, \"ticks\": \"\"}, \"colorscale\": [[0.0, \"#0d0887\"], [0.1111111111111111, \"#46039f\"], [0.2222222222222222, \"#7201a8\"], [0.3333333333333333, \"#9c179e\"], [0.4444444444444444, \"#bd3786\"], [0.5555555555555556, \"#d8576b\"], [0.6666666666666666, \"#ed7953\"], [0.7777777777777778, \"#fb9f3a\"], [0.8888888888888888, \"#fdca26\"], [1.0, \"#f0f921\"]], \"type\": \"heatmapgl\"}], \"histogram\": [{\"marker\": {\"colorbar\": {\"outlinewidth\": 0, \"ticks\": \"\"}}, \"type\": \"histogram\"}], \"histogram2d\": [{\"colorbar\": {\"outlinewidth\": 0, \"ticks\": \"\"}, \"colorscale\": [[0.0, \"#0d0887\"], [0.1111111111111111, \"#46039f\"], [0.2222222222222222, \"#7201a8\"], [0.3333333333333333, \"#9c179e\"], [0.4444444444444444, \"#bd3786\"], [0.5555555555555556, \"#d8576b\"], [0.6666666666666666, \"#ed7953\"], [0.7777777777777778, \"#fb9f3a\"], [0.8888888888888888, \"#fdca26\"], [1.0, \"#f0f921\"]], \"type\": \"histogram2d\"}], \"histogram2dcontour\": [{\"colorbar\": {\"outlinewidth\": 0, \"ticks\": \"\"}, \"colorscale\": [[0.0, \"#0d0887\"], [0.1111111111111111, \"#46039f\"], [0.2222222222222222, \"#7201a8\"], [0.3333333333333333, \"#9c179e\"], [0.4444444444444444, \"#bd3786\"], [0.5555555555555556, \"#d8576b\"], [0.6666666666666666, \"#ed7953\"], [0.7777777777777778, \"#fb9f3a\"], [0.8888888888888888, \"#fdca26\"], [1.0, \"#f0f921\"]], \"type\": \"histogram2dcontour\"}], \"mesh3d\": [{\"colorbar\": {\"outlinewidth\": 0, \"ticks\": \"\"}, \"type\": \"mesh3d\"}], \"parcoords\": [{\"line\": {\"colorbar\": {\"outlinewidth\": 0, \"ticks\": \"\"}}, \"type\": \"parcoords\"}], \"pie\": [{\"automargin\": true, \"type\": \"pie\"}], \"scatter\": [{\"marker\": {\"colorbar\": {\"outlinewidth\": 0, \"ticks\": \"\"}}, \"type\": \"scatter\"}], \"scatter3d\": [{\"line\": {\"colorbar\": {\"outlinewidth\": 0, \"ticks\": \"\"}}, \"marker\": {\"colorbar\": {\"outlinewidth\": 0, \"ticks\": \"\"}}, \"type\": \"scatter3d\"}], \"scattercarpet\": [{\"marker\": {\"colorbar\": {\"outlinewidth\": 0, \"ticks\": \"\"}}, \"type\": \"scattercarpet\"}], \"scattergeo\": [{\"marker\": {\"colorbar\": {\"outlinewidth\": 0, \"ticks\": \"\"}}, \"type\": \"scattergeo\"}], \"scattergl\": [{\"marker\": {\"colorbar\": {\"outlinewidth\": 0, \"ticks\": \"\"}}, \"type\": \"scattergl\"}], \"scattermapbox\": [{\"marker\": {\"colorbar\": {\"outlinewidth\": 0, \"ticks\": \"\"}}, \"type\": \"scattermapbox\"}], \"scatterpolar\": [{\"marker\": {\"colorbar\": {\"outlinewidth\": 0, \"ticks\": \"\"}}, \"type\": \"scatterpolar\"}], \"scatterpolargl\": [{\"marker\": {\"colorbar\": {\"outlinewidth\": 0, \"ticks\": \"\"}}, \"type\": \"scatterpolargl\"}], \"scatterternary\": [{\"marker\": {\"colorbar\": {\"outlinewidth\": 0, \"ticks\": \"\"}}, \"type\": \"scatterternary\"}], \"surface\": [{\"colorbar\": {\"outlinewidth\": 0, \"ticks\": \"\"}, \"colorscale\": [[0.0, \"#0d0887\"], [0.1111111111111111, \"#46039f\"], [0.2222222222222222, \"#7201a8\"], [0.3333333333333333, \"#9c179e\"], [0.4444444444444444, \"#bd3786\"], [0.5555555555555556, \"#d8576b\"], [0.6666666666666666, \"#ed7953\"], [0.7777777777777778, \"#fb9f3a\"], [0.8888888888888888, \"#fdca26\"], [1.0, \"#f0f921\"]], \"type\": \"surface\"}], \"table\": [{\"cells\": {\"fill\": {\"color\": \"#EBF0F8\"}, \"line\": {\"color\": \"white\"}}, \"header\": {\"fill\": {\"color\": \"#C8D4E3\"}, \"line\": {\"color\": \"white\"}}, \"type\": \"table\"}]}, \"layout\": {\"annotationdefaults\": {\"arrowcolor\": \"#2a3f5f\", \"arrowhead\": 0, \"arrowwidth\": 1}, \"autotypenumbers\": \"strict\", \"coloraxis\": {\"colorbar\": {\"outlinewidth\": 0, \"ticks\": \"\"}}, \"colorscale\": {\"diverging\": [[0, \"#8e0152\"], [0.1, \"#c51b7d\"], [0.2, \"#de77ae\"], [0.3, \"#f1b6da\"], [0.4, \"#fde0ef\"], [0.5, \"#f7f7f7\"], [0.6, \"#e6f5d0\"], [0.7, \"#b8e186\"], [0.8, \"#7fbc41\"], [0.9, \"#4d9221\"], [1, \"#276419\"]], \"sequential\": [[0.0, \"#0d0887\"], [0.1111111111111111, \"#46039f\"], [0.2222222222222222, \"#7201a8\"], [0.3333333333333333, \"#9c179e\"], [0.4444444444444444, \"#bd3786\"], [0.5555555555555556, \"#d8576b\"], [0.6666666666666666, \"#ed7953\"], [0.7777777777777778, \"#fb9f3a\"], [0.8888888888888888, \"#fdca26\"], [1.0, \"#f0f921\"]], \"sequentialminus\": [[0.0, \"#0d0887\"], [0.1111111111111111, \"#46039f\"], [0.2222222222222222, \"#7201a8\"], [0.3333333333333333, \"#9c179e\"], [0.4444444444444444, \"#bd3786\"], [0.5555555555555556, \"#d8576b\"], [0.6666666666666666, \"#ed7953\"], [0.7777777777777778, \"#fb9f3a\"], [0.8888888888888888, \"#fdca26\"], [1.0, \"#f0f921\"]]}, \"colorway\": [\"#636efa\", \"#EF553B\", \"#00cc96\", \"#ab63fa\", \"#FFA15A\", \"#19d3f3\", \"#FF6692\", \"#B6E880\", \"#FF97FF\", \"#FECB52\"], \"font\": {\"color\": \"#2a3f5f\"}, \"geo\": {\"bgcolor\": \"white\", \"lakecolor\": \"white\", \"landcolor\": \"#E5ECF6\", \"showlakes\": true, \"showland\": true, \"subunitcolor\": \"white\"}, \"hoverlabel\": {\"align\": \"left\"}, \"hovermode\": \"closest\", \"mapbox\": {\"style\": \"light\"}, \"paper_bgcolor\": \"white\", \"plot_bgcolor\": \"#E5ECF6\", \"polar\": {\"angularaxis\": {\"gridcolor\": \"white\", \"linecolor\": \"white\", \"ticks\": \"\"}, \"bgcolor\": \"#E5ECF6\", \"radialaxis\": {\"gridcolor\": \"white\", \"linecolor\": \"white\", \"ticks\": \"\"}}, \"scene\": {\"xaxis\": {\"backgroundcolor\": \"#E5ECF6\", \"gridcolor\": \"white\", \"gridwidth\": 2, \"linecolor\": \"white\", \"showbackground\": true, \"ticks\": \"\", \"zerolinecolor\": \"white\"}, \"yaxis\": {\"backgroundcolor\": \"#E5ECF6\", \"gridcolor\": \"white\", \"gridwidth\": 2, \"linecolor\": \"white\", \"showbackground\": true, \"ticks\": \"\", \"zerolinecolor\": \"white\"}, \"zaxis\": {\"backgroundcolor\": \"#E5ECF6\", \"gridcolor\": \"white\", \"gridwidth\": 2, \"linecolor\": \"white\", \"showbackground\": true, \"ticks\": \"\", \"zerolinecolor\": \"white\"}}, \"shapedefaults\": {\"line\": {\"color\": \"#2a3f5f\"}}, \"ternary\": {\"aaxis\": {\"gridcolor\": \"white\", \"linecolor\": \"white\", \"ticks\": \"\"}, \"baxis\": {\"gridcolor\": \"white\", \"linecolor\": \"white\", \"ticks\": \"\"}, \"bgcolor\": \"#E5ECF6\", \"caxis\": {\"gridcolor\": \"white\", \"linecolor\": \"white\", \"ticks\": \"\"}}, \"title\": {\"x\": 0.05}, \"xaxis\": {\"automargin\": true, \"gridcolor\": \"white\", \"linecolor\": \"white\", \"ticks\": \"\", \"title\": {\"standoff\": 15}, \"zerolinecolor\": \"white\", \"zerolinewidth\": 2}, \"yaxis\": {\"automargin\": true, \"gridcolor\": \"white\", \"linecolor\": \"white\", \"ticks\": \"\", \"title\": {\"standoff\": 15}, \"zerolinecolor\": \"white\", \"zerolinewidth\": 2}}}, \"title\": {\"font\": {\"color\": \"#4D5663\"}}, \"xaxis\": {\"gridcolor\": \"#E1E5ED\", \"showgrid\": true, \"tickfont\": {\"color\": \"#4D5663\"}, \"title\": {\"font\": {\"color\": \"#4D5663\"}, \"text\": \"\"}, \"zerolinecolor\": \"#E1E5ED\"}, \"yaxis\": {\"gridcolor\": \"#E1E5ED\", \"showgrid\": true, \"tickfont\": {\"color\": \"#4D5663\"}, \"title\": {\"font\": {\"color\": \"#4D5663\"}, \"text\": \"\"}, \"zerolinecolor\": \"#E1E5ED\"}},                        {\"showLink\": true, \"linkText\": \"Export to plot.ly\", \"plotlyServerURL\": \"https://plot.ly\", \"responsive\": true}                    ).then(function(){\n",
       "                            \n",
       "var gd = document.getElementById('70df5953-ea94-46e9-8ff6-e91921eca788');\n",
       "var x = new MutationObserver(function (mutations, observer) {{\n",
       "        var display = window.getComputedStyle(gd).display;\n",
       "        if (!display || display === 'none') {{\n",
       "            console.log([gd, 'removed!']);\n",
       "            Plotly.purge(gd);\n",
       "            observer.disconnect();\n",
       "        }}\n",
       "}});\n",
       "\n",
       "// Listen for the removal of the full notebook cells\n",
       "var notebookContainer = gd.closest('#notebook-container');\n",
       "if (notebookContainer) {{\n",
       "    x.observe(notebookContainer, {childList: true});\n",
       "}}\n",
       "\n",
       "// Listen for the clearing of the current output cell\n",
       "var outputEl = gd.closest('.output');\n",
       "if (outputEl) {{\n",
       "    x.observe(outputEl, {childList: true});\n",
       "}}\n",
       "\n",
       "                        })                };                });            </script>        </div>"
      ]
     },
     "metadata": {},
     "output_type": "display_data"
    }
   ],
   "source": [
    "df.iplot(kind='hist', bins=50)"
   ]
  },
  {
   "cell_type": "code",
   "execution_count": 37,
   "metadata": {},
   "outputs": [
    {
     "name": "stderr",
     "output_type": "stream",
     "text": [
      "C:\\Users\\fazek\\anaconda3\\lib\\site-packages\\cufflinks\\plotlytools.py:849: FutureWarning:\n",
      "\n",
      "The pandas.np module is deprecated and will be removed from pandas in a future version. Import numpy directly instead\n",
      "\n",
      "C:\\Users\\fazek\\anaconda3\\lib\\site-packages\\cufflinks\\plotlytools.py:850: FutureWarning:\n",
      "\n",
      "The pandas.np module is deprecated and will be removed from pandas in a future version. Import numpy directly instead\n",
      "\n"
     ]
    },
    {
     "data": {
      "application/vnd.plotly.v1+json": {
       "config": {
        "linkText": "Export to plot.ly",
        "plotlyServerURL": "https://plot.ly",
        "showLink": true
       },
       "data": [
        {
         "line": {
          "color": "rgba(255, 153, 51, 1.0)",
          "dash": "solid",
          "shape": "linear",
          "width": 1.3
         },
         "mode": "lines",
         "name": "A",
         "text": "",
         "type": "scatter",
         "x": [
          0,
          1,
          2,
          3,
          4,
          5,
          6,
          7,
          8,
          9,
          10,
          11,
          12,
          13,
          14,
          15,
          16,
          17,
          18,
          19,
          20,
          21,
          22,
          23,
          24,
          25,
          26,
          27,
          28,
          29,
          30,
          31,
          32,
          33,
          34,
          35,
          36,
          37,
          38,
          39,
          40,
          41,
          42,
          43,
          44,
          45,
          46,
          47,
          48,
          49,
          50,
          51,
          52,
          53,
          54,
          55,
          56,
          57,
          58,
          59,
          60,
          61,
          62,
          63,
          64,
          65,
          66,
          67,
          68,
          69,
          70,
          71,
          72,
          73,
          74,
          75,
          76,
          77,
          78,
          79,
          80,
          81,
          82,
          83,
          84,
          85,
          86,
          87,
          88,
          89,
          90,
          91,
          92,
          93,
          94,
          95,
          96,
          97,
          98,
          99
         ],
         "y": [
          1.5047071858675904,
          -1.2306437730366853,
          0.605020350239587,
          -0.11730722559215549,
          -0.5094486400300653,
          -0.03247951610040798,
          0.9731351835823545,
          -1.472511340085507,
          -0.23083304464393553,
          0.5787834027566838,
          -0.3156316458899452,
          -0.37854491314669936,
          -1.578313375563011,
          -0.7431436030597717,
          0.5630177560101443,
          -1.3333242685734497,
          -0.4812889971321455,
          0.46635368545417594,
          -0.09920746060052134,
          1.0140120472191738,
          -0.9225221157990605,
          1.4196106846836412,
          0.1952712362569279,
          -0.8168745709151536,
          -0.13975493326855662,
          0.5823845164628724,
          -0.04996888900130543,
          0.013820356133013887,
          -0.06830081283978562,
          0.19215684436051617,
          1.286435464479053,
          -0.33541662466852057,
          -2.8587717658377443,
          0.006416985094558975,
          1.2961166888011706,
          -0.08942228467851332,
          1.587406402848416,
          0.25947535251631904,
          -0.8048768802234534,
          -0.8419192982284646,
          -1.6039443064270875,
          0.10466270748776571,
          0.02998318674242047,
          -0.006862251689929032,
          -0.7660788034000553,
          1.1726861103538202,
          -0.27001683146847616,
          0.020866604645267316,
          -1.5500723287323086,
          -0.1353630979441134,
          0.10043734262022548,
          0.26824564753711505,
          0.12819938986961066,
          -1.17819730023147,
          0.43825107894139315,
          -0.8922617953366131,
          -0.1304564737507755,
          -0.712627526372936,
          -0.21148412951738027,
          -0.803660466757645,
          -0.2795304432141383,
          -0.7656507457744494,
          -1.2247199589979165,
          -0.16498458992525863,
          0.923653188973336,
          0.13764563658951204,
          0.043849382884496906,
          0.607314473420084,
          0.7462893879083348,
          0.18665312051788513,
          -1.4497989583537694,
          1.528431628745062,
          0.3712893622551243,
          0.47187897031748005,
          0.8177302430660359,
          -0.09631945740607714,
          0.2046001019962186,
          1.5632968046193618,
          0.28173247195427,
          -0.4990349917914575,
          0.4880662332937979,
          -1.6313543113852154,
          0.4398737132524965,
          0.22985411660186864,
          1.2996791563457732,
          -0.0015933251060393399,
          0.48577287679867154,
          -0.7611622677031836,
          -0.9177847234627884,
          0.31360597655689065,
          0.8504935212248734,
          -0.5321453076085406,
          -0.44651013637870907,
          -0.8221181957042193,
          1.8611329510653556,
          -1.9200683591650554,
          0.2640173821523596,
          -0.012626231690431604,
          3.152977471906116,
          0.3884525520079316
         ]
        },
        {
         "line": {
          "color": "rgba(55, 128, 191, 1.0)",
          "dash": "solid",
          "shape": "linear",
          "width": 1.3
         },
         "mode": "lines",
         "name": "B",
         "text": "",
         "type": "scatter",
         "x": [
          0,
          1,
          2,
          3,
          4,
          5,
          6,
          7,
          8,
          9,
          10,
          11,
          12,
          13,
          14,
          15,
          16,
          17,
          18,
          19,
          20,
          21,
          22,
          23,
          24,
          25,
          26,
          27,
          28,
          29,
          30,
          31,
          32,
          33,
          34,
          35,
          36,
          37,
          38,
          39,
          40,
          41,
          42,
          43,
          44,
          45,
          46,
          47,
          48,
          49,
          50,
          51,
          52,
          53,
          54,
          55,
          56,
          57,
          58,
          59,
          60,
          61,
          62,
          63,
          64,
          65,
          66,
          67,
          68,
          69,
          70,
          71,
          72,
          73,
          74,
          75,
          76,
          77,
          78,
          79,
          80,
          81,
          82,
          83,
          84,
          85,
          86,
          87,
          88,
          89,
          90,
          91,
          92,
          93,
          94,
          95,
          96,
          97,
          98,
          99
         ],
         "y": [
          0.47852473764124553,
          0.47953723587996805,
          -0.44148143458663514,
          1.7986040640014305,
          1.3887987421628392,
          1.597757985723844,
          0.5877999356373035,
          1.5808007026584723,
          -0.33360175851415325,
          -0.13122522278994106,
          0.3224781441878215,
          0.8496592084762307,
          -1.150154786050836,
          -0.03636065930498414,
          -0.5208283778493646,
          1.0938755117779735,
          0.15407640392163835,
          0.569679081793052,
          0.03260012363032162,
          0.9945392624370553,
          1.3904827907721824,
          1.775213217496774,
          -0.5429998873307663,
          0.0915471721012884,
          -0.09519693387176657,
          -1.5963958081570286,
          2.4465606576364927,
          1.5731633274545442,
          -0.08560470104480285,
          0.2580248761829393,
          1.539166024904185,
          0.5416302736813118,
          -0.6303030028201453,
          -0.20719439088977545,
          0.4791532829966961,
          0.6345908134255359,
          -1.4310301356276192,
          -1.3401692846786348,
          0.12938500637423184,
          0.8697464546388674,
          -1.233469614258414,
          2.266394093414955,
          0.4095157714369962,
          0.3129562945885272,
          0.6875159516001128,
          0.43742266506028393,
          -0.9548174472407832,
          0.07014485793751564,
          -0.20394038833768505,
          1.3440227943161343,
          -0.4211541610746663,
          1.1778831515862733,
          -0.20884700147291713,
          -0.6287794998087359,
          -0.7877323616235364,
          -1.2186019438648847,
          1.1458611752078418,
          -0.38447865902786865,
          -0.5223514043098862,
          0.8604521332601345,
          -0.29850097445053136,
          -1.0125124820836118,
          -0.13931808941227639,
          0.24397113215543434,
          1.7129575541024467,
          -0.3046189015886152,
          -2.304212940366996,
          0.9750048983151226,
          0.1917996277566565,
          1.7150797955986141,
          -0.6669591370086811,
          -0.8584067440066807,
          1.0979784717067602,
          -1.4142753213911983,
          -0.14952157401637756,
          -1.7533683614377518,
          0.12616412568399893,
          0.4011261217165389,
          -1.528023749999498,
          -2.447037347680574,
          -1.889348744499366,
          -0.9452629996802178,
          0.05039114426983621,
          1.1675519258374532,
          0.1295374021492559,
          0.3296377092381601,
          1.7544282508147742,
          -0.9871840427773075,
          -0.49209018295214213,
          -0.9434878688187036,
          1.6166091978251167,
          -0.23609503635320464,
          0.9761194029838546,
          0.7307775163820062,
          1.3621691942697398,
          0.4874710586315161,
          -2.211347382211482,
          0.24820113797038115,
          -7.074984288589023e-05,
          -0.9973009933770731
         ]
        },
        {
         "connectgaps": false,
         "fill": "tozeroy",
         "line": {
          "color": "green",
          "dash": "solid",
          "shape": "linear",
          "width": 0.5
         },
         "mode": "lines",
         "name": "Spread",
         "showlegend": false,
         "type": "scatter",
         "x": [
          0,
          1,
          2,
          3,
          4,
          5,
          6,
          7,
          8,
          9,
          10,
          11,
          12,
          13,
          14,
          15,
          16,
          17,
          18,
          19,
          20,
          21,
          22,
          23,
          24,
          25,
          26,
          27,
          28,
          29,
          30,
          31,
          32,
          33,
          34,
          35,
          36,
          37,
          38,
          39,
          40,
          41,
          42,
          43,
          44,
          45,
          46,
          47,
          48,
          49,
          50,
          51,
          52,
          53,
          54,
          55,
          56,
          57,
          58,
          59,
          60,
          61,
          62,
          63,
          64,
          65,
          66,
          67,
          68,
          69,
          70,
          71,
          72,
          73,
          74,
          75,
          76,
          77,
          78,
          79,
          80,
          81,
          82,
          83,
          84,
          85,
          86,
          87,
          88,
          89,
          90,
          91,
          92,
          93,
          94,
          95,
          96,
          97,
          98,
          99
         ],
         "xaxis": "x2",
         "y": [
          1.0261824482263449,
          "",
          1.0465017848262221,
          "",
          "",
          "",
          0.38533524794505103,
          "",
          0.10276871387021771,
          0.7100086255466249,
          "",
          "",
          "",
          "",
          1.083846133859509,
          "",
          "",
          "",
          "",
          0.019472784782118557,
          "",
          "",
          0.7382711235876942,
          "",
          "",
          2.178780324619901,
          "",
          "",
          0.01730388820501723,
          "",
          "",
          "",
          "",
          0.21361137598433444,
          0.8169634058044746,
          "",
          3.018436538476035,
          1.5996446371949538,
          "",
          "",
          "",
          "",
          "",
          "",
          "",
          0.7352634452935363,
          0.684800615772307,
          "",
          "",
          "",
          0.5215915036948918,
          "",
          0.3370463913425278,
          "",
          1.2259834405649297,
          0.32634014852827165,
          "",
          "",
          0.310867274792506,
          "",
          0.018970531236393084,
          0.24686173630916242,
          "",
          "",
          "",
          0.4422645381781273,
          2.3480623232514928,
          "",
          0.5544897601516783,
          "",
          "",
          2.386838372751743,
          "",
          1.8861542917086784,
          0.9672518170824135,
          1.6570489040316747,
          0.07843597631221966,
          1.1621706829028229,
          1.809756221953768,
          1.9480023558891166,
          2.3774149777931637,
          "",
          0.3894825689826603,
          "",
          1.1701417541965173,
          "",
          "",
          0.2260217750741239,
          "",
          1.2570938453755942,
          "",
          "",
          "",
          "",
          0.4989637567956158,
          "",
          2.4753647643638415,
          "",
          3.153048221749002,
          1.3857535453850047
         ],
         "yaxis": "y2"
        },
        {
         "connectgaps": false,
         "fill": "tozeroy",
         "line": {
          "color": "red",
          "dash": "solid",
          "shape": "linear",
          "width": 0.5
         },
         "mode": "lines",
         "name": "Spread",
         "showlegend": false,
         "type": "scatter",
         "x": [
          0,
          1,
          2,
          3,
          4,
          5,
          6,
          7,
          8,
          9,
          10,
          11,
          12,
          13,
          14,
          15,
          16,
          17,
          18,
          19,
          20,
          21,
          22,
          23,
          24,
          25,
          26,
          27,
          28,
          29,
          30,
          31,
          32,
          33,
          34,
          35,
          36,
          37,
          38,
          39,
          40,
          41,
          42,
          43,
          44,
          45,
          46,
          47,
          48,
          49,
          50,
          51,
          52,
          53,
          54,
          55,
          56,
          57,
          58,
          59,
          60,
          61,
          62,
          63,
          64,
          65,
          66,
          67,
          68,
          69,
          70,
          71,
          72,
          73,
          74,
          75,
          76,
          77,
          78,
          79,
          80,
          81,
          82,
          83,
          84,
          85,
          86,
          87,
          88,
          89,
          90,
          91,
          92,
          93,
          94,
          95,
          96,
          97,
          98,
          99
         ],
         "xaxis": "x2",
         "y": [
          "",
          -1.7101810089166534,
          "",
          -1.915911289593586,
          -1.8982473821929045,
          -1.6302375018242519,
          "",
          -3.053312042743979,
          "",
          "",
          -0.6381097900777667,
          -1.22820412162293,
          -0.4281585895121749,
          -0.7067829437547876,
          "",
          -2.4271997803514234,
          -0.6353654010537839,
          -0.10332539633887611,
          -0.13180758423084296,
          "",
          -2.313004906571243,
          -0.3556025328131329,
          "",
          -0.908421743016442,
          -0.044557999396790046,
          "",
          -2.496529546637798,
          -1.5593429713215303,
          "",
          -0.06586803182242312,
          -0.252730560425132,
          -0.8770468983498323,
          -2.2284687630175988,
          "",
          "",
          -0.7240130981040492,
          "",
          "",
          -0.9342618865976853,
          -1.711665752867332,
          -0.37047469216867346,
          -2.1617313859271894,
          -0.37953258469457574,
          -0.31981854627845624,
          -1.453594755000168,
          "",
          "",
          -0.049278253292248324,
          -1.3461319403946235,
          -1.4793858922602476,
          "",
          -0.9096375040491582,
          "",
          -0.5494178004227341,
          "",
          "",
          -1.2763176489586172,
          -0.3281488673450674,
          "",
          -1.6641126000177795,
          "",
          "",
          -1.0854018695856402,
          -0.408955722080693,
          -0.7893043651291106,
          "",
          "",
          -0.36769042489503856,
          "",
          -1.528426675080729,
          -0.7828398213450882,
          "",
          -0.7266891094516359,
          "",
          "",
          "",
          "",
          "",
          "",
          "",
          "",
          -0.6860913117049976,
          "",
          -0.9376978092355845,
          "",
          -0.3312310343441994,
          -1.2686553740161026,
          "",
          -0.42569454051064626,
          "",
          -0.7661156766002433,
          -0.296050271255336,
          -1.4226295393625636,
          -1.5528957120862255,
          "",
          -2.4075394177965714,
          "",
          -0.26082736966081277,
          "",
          ""
         ],
         "yaxis": "y2"
        }
       ],
       "layout": {
        "hovermode": "x",
        "legend": {
         "bgcolor": "#F5F6F9",
         "font": {
          "color": "#4D5663"
         }
        },
        "paper_bgcolor": "#F5F6F9",
        "plot_bgcolor": "#F5F6F9",
        "template": {
         "data": {
          "bar": [
           {
            "error_x": {
             "color": "#2a3f5f"
            },
            "error_y": {
             "color": "#2a3f5f"
            },
            "marker": {
             "line": {
              "color": "#E5ECF6",
              "width": 0.5
             }
            },
            "type": "bar"
           }
          ],
          "barpolar": [
           {
            "marker": {
             "line": {
              "color": "#E5ECF6",
              "width": 0.5
             }
            },
            "type": "barpolar"
           }
          ],
          "carpet": [
           {
            "aaxis": {
             "endlinecolor": "#2a3f5f",
             "gridcolor": "white",
             "linecolor": "white",
             "minorgridcolor": "white",
             "startlinecolor": "#2a3f5f"
            },
            "baxis": {
             "endlinecolor": "#2a3f5f",
             "gridcolor": "white",
             "linecolor": "white",
             "minorgridcolor": "white",
             "startlinecolor": "#2a3f5f"
            },
            "type": "carpet"
           }
          ],
          "choropleth": [
           {
            "colorbar": {
             "outlinewidth": 0,
             "ticks": ""
            },
            "type": "choropleth"
           }
          ],
          "contour": [
           {
            "colorbar": {
             "outlinewidth": 0,
             "ticks": ""
            },
            "colorscale": [
             [
              0,
              "#0d0887"
             ],
             [
              0.1111111111111111,
              "#46039f"
             ],
             [
              0.2222222222222222,
              "#7201a8"
             ],
             [
              0.3333333333333333,
              "#9c179e"
             ],
             [
              0.4444444444444444,
              "#bd3786"
             ],
             [
              0.5555555555555556,
              "#d8576b"
             ],
             [
              0.6666666666666666,
              "#ed7953"
             ],
             [
              0.7777777777777778,
              "#fb9f3a"
             ],
             [
              0.8888888888888888,
              "#fdca26"
             ],
             [
              1,
              "#f0f921"
             ]
            ],
            "type": "contour"
           }
          ],
          "contourcarpet": [
           {
            "colorbar": {
             "outlinewidth": 0,
             "ticks": ""
            },
            "type": "contourcarpet"
           }
          ],
          "heatmap": [
           {
            "colorbar": {
             "outlinewidth": 0,
             "ticks": ""
            },
            "colorscale": [
             [
              0,
              "#0d0887"
             ],
             [
              0.1111111111111111,
              "#46039f"
             ],
             [
              0.2222222222222222,
              "#7201a8"
             ],
             [
              0.3333333333333333,
              "#9c179e"
             ],
             [
              0.4444444444444444,
              "#bd3786"
             ],
             [
              0.5555555555555556,
              "#d8576b"
             ],
             [
              0.6666666666666666,
              "#ed7953"
             ],
             [
              0.7777777777777778,
              "#fb9f3a"
             ],
             [
              0.8888888888888888,
              "#fdca26"
             ],
             [
              1,
              "#f0f921"
             ]
            ],
            "type": "heatmap"
           }
          ],
          "heatmapgl": [
           {
            "colorbar": {
             "outlinewidth": 0,
             "ticks": ""
            },
            "colorscale": [
             [
              0,
              "#0d0887"
             ],
             [
              0.1111111111111111,
              "#46039f"
             ],
             [
              0.2222222222222222,
              "#7201a8"
             ],
             [
              0.3333333333333333,
              "#9c179e"
             ],
             [
              0.4444444444444444,
              "#bd3786"
             ],
             [
              0.5555555555555556,
              "#d8576b"
             ],
             [
              0.6666666666666666,
              "#ed7953"
             ],
             [
              0.7777777777777778,
              "#fb9f3a"
             ],
             [
              0.8888888888888888,
              "#fdca26"
             ],
             [
              1,
              "#f0f921"
             ]
            ],
            "type": "heatmapgl"
           }
          ],
          "histogram": [
           {
            "marker": {
             "colorbar": {
              "outlinewidth": 0,
              "ticks": ""
             }
            },
            "type": "histogram"
           }
          ],
          "histogram2d": [
           {
            "colorbar": {
             "outlinewidth": 0,
             "ticks": ""
            },
            "colorscale": [
             [
              0,
              "#0d0887"
             ],
             [
              0.1111111111111111,
              "#46039f"
             ],
             [
              0.2222222222222222,
              "#7201a8"
             ],
             [
              0.3333333333333333,
              "#9c179e"
             ],
             [
              0.4444444444444444,
              "#bd3786"
             ],
             [
              0.5555555555555556,
              "#d8576b"
             ],
             [
              0.6666666666666666,
              "#ed7953"
             ],
             [
              0.7777777777777778,
              "#fb9f3a"
             ],
             [
              0.8888888888888888,
              "#fdca26"
             ],
             [
              1,
              "#f0f921"
             ]
            ],
            "type": "histogram2d"
           }
          ],
          "histogram2dcontour": [
           {
            "colorbar": {
             "outlinewidth": 0,
             "ticks": ""
            },
            "colorscale": [
             [
              0,
              "#0d0887"
             ],
             [
              0.1111111111111111,
              "#46039f"
             ],
             [
              0.2222222222222222,
              "#7201a8"
             ],
             [
              0.3333333333333333,
              "#9c179e"
             ],
             [
              0.4444444444444444,
              "#bd3786"
             ],
             [
              0.5555555555555556,
              "#d8576b"
             ],
             [
              0.6666666666666666,
              "#ed7953"
             ],
             [
              0.7777777777777778,
              "#fb9f3a"
             ],
             [
              0.8888888888888888,
              "#fdca26"
             ],
             [
              1,
              "#f0f921"
             ]
            ],
            "type": "histogram2dcontour"
           }
          ],
          "mesh3d": [
           {
            "colorbar": {
             "outlinewidth": 0,
             "ticks": ""
            },
            "type": "mesh3d"
           }
          ],
          "parcoords": [
           {
            "line": {
             "colorbar": {
              "outlinewidth": 0,
              "ticks": ""
             }
            },
            "type": "parcoords"
           }
          ],
          "pie": [
           {
            "automargin": true,
            "type": "pie"
           }
          ],
          "scatter": [
           {
            "marker": {
             "colorbar": {
              "outlinewidth": 0,
              "ticks": ""
             }
            },
            "type": "scatter"
           }
          ],
          "scatter3d": [
           {
            "line": {
             "colorbar": {
              "outlinewidth": 0,
              "ticks": ""
             }
            },
            "marker": {
             "colorbar": {
              "outlinewidth": 0,
              "ticks": ""
             }
            },
            "type": "scatter3d"
           }
          ],
          "scattercarpet": [
           {
            "marker": {
             "colorbar": {
              "outlinewidth": 0,
              "ticks": ""
             }
            },
            "type": "scattercarpet"
           }
          ],
          "scattergeo": [
           {
            "marker": {
             "colorbar": {
              "outlinewidth": 0,
              "ticks": ""
             }
            },
            "type": "scattergeo"
           }
          ],
          "scattergl": [
           {
            "marker": {
             "colorbar": {
              "outlinewidth": 0,
              "ticks": ""
             }
            },
            "type": "scattergl"
           }
          ],
          "scattermapbox": [
           {
            "marker": {
             "colorbar": {
              "outlinewidth": 0,
              "ticks": ""
             }
            },
            "type": "scattermapbox"
           }
          ],
          "scatterpolar": [
           {
            "marker": {
             "colorbar": {
              "outlinewidth": 0,
              "ticks": ""
             }
            },
            "type": "scatterpolar"
           }
          ],
          "scatterpolargl": [
           {
            "marker": {
             "colorbar": {
              "outlinewidth": 0,
              "ticks": ""
             }
            },
            "type": "scatterpolargl"
           }
          ],
          "scatterternary": [
           {
            "marker": {
             "colorbar": {
              "outlinewidth": 0,
              "ticks": ""
             }
            },
            "type": "scatterternary"
           }
          ],
          "surface": [
           {
            "colorbar": {
             "outlinewidth": 0,
             "ticks": ""
            },
            "colorscale": [
             [
              0,
              "#0d0887"
             ],
             [
              0.1111111111111111,
              "#46039f"
             ],
             [
              0.2222222222222222,
              "#7201a8"
             ],
             [
              0.3333333333333333,
              "#9c179e"
             ],
             [
              0.4444444444444444,
              "#bd3786"
             ],
             [
              0.5555555555555556,
              "#d8576b"
             ],
             [
              0.6666666666666666,
              "#ed7953"
             ],
             [
              0.7777777777777778,
              "#fb9f3a"
             ],
             [
              0.8888888888888888,
              "#fdca26"
             ],
             [
              1,
              "#f0f921"
             ]
            ],
            "type": "surface"
           }
          ],
          "table": [
           {
            "cells": {
             "fill": {
              "color": "#EBF0F8"
             },
             "line": {
              "color": "white"
             }
            },
            "header": {
             "fill": {
              "color": "#C8D4E3"
             },
             "line": {
              "color": "white"
             }
            },
            "type": "table"
           }
          ]
         },
         "layout": {
          "annotationdefaults": {
           "arrowcolor": "#2a3f5f",
           "arrowhead": 0,
           "arrowwidth": 1
          },
          "autotypenumbers": "strict",
          "coloraxis": {
           "colorbar": {
            "outlinewidth": 0,
            "ticks": ""
           }
          },
          "colorscale": {
           "diverging": [
            [
             0,
             "#8e0152"
            ],
            [
             0.1,
             "#c51b7d"
            ],
            [
             0.2,
             "#de77ae"
            ],
            [
             0.3,
             "#f1b6da"
            ],
            [
             0.4,
             "#fde0ef"
            ],
            [
             0.5,
             "#f7f7f7"
            ],
            [
             0.6,
             "#e6f5d0"
            ],
            [
             0.7,
             "#b8e186"
            ],
            [
             0.8,
             "#7fbc41"
            ],
            [
             0.9,
             "#4d9221"
            ],
            [
             1,
             "#276419"
            ]
           ],
           "sequential": [
            [
             0,
             "#0d0887"
            ],
            [
             0.1111111111111111,
             "#46039f"
            ],
            [
             0.2222222222222222,
             "#7201a8"
            ],
            [
             0.3333333333333333,
             "#9c179e"
            ],
            [
             0.4444444444444444,
             "#bd3786"
            ],
            [
             0.5555555555555556,
             "#d8576b"
            ],
            [
             0.6666666666666666,
             "#ed7953"
            ],
            [
             0.7777777777777778,
             "#fb9f3a"
            ],
            [
             0.8888888888888888,
             "#fdca26"
            ],
            [
             1,
             "#f0f921"
            ]
           ],
           "sequentialminus": [
            [
             0,
             "#0d0887"
            ],
            [
             0.1111111111111111,
             "#46039f"
            ],
            [
             0.2222222222222222,
             "#7201a8"
            ],
            [
             0.3333333333333333,
             "#9c179e"
            ],
            [
             0.4444444444444444,
             "#bd3786"
            ],
            [
             0.5555555555555556,
             "#d8576b"
            ],
            [
             0.6666666666666666,
             "#ed7953"
            ],
            [
             0.7777777777777778,
             "#fb9f3a"
            ],
            [
             0.8888888888888888,
             "#fdca26"
            ],
            [
             1,
             "#f0f921"
            ]
           ]
          },
          "colorway": [
           "#636efa",
           "#EF553B",
           "#00cc96",
           "#ab63fa",
           "#FFA15A",
           "#19d3f3",
           "#FF6692",
           "#B6E880",
           "#FF97FF",
           "#FECB52"
          ],
          "font": {
           "color": "#2a3f5f"
          },
          "geo": {
           "bgcolor": "white",
           "lakecolor": "white",
           "landcolor": "#E5ECF6",
           "showlakes": true,
           "showland": true,
           "subunitcolor": "white"
          },
          "hoverlabel": {
           "align": "left"
          },
          "hovermode": "closest",
          "mapbox": {
           "style": "light"
          },
          "paper_bgcolor": "white",
          "plot_bgcolor": "#E5ECF6",
          "polar": {
           "angularaxis": {
            "gridcolor": "white",
            "linecolor": "white",
            "ticks": ""
           },
           "bgcolor": "#E5ECF6",
           "radialaxis": {
            "gridcolor": "white",
            "linecolor": "white",
            "ticks": ""
           }
          },
          "scene": {
           "xaxis": {
            "backgroundcolor": "#E5ECF6",
            "gridcolor": "white",
            "gridwidth": 2,
            "linecolor": "white",
            "showbackground": true,
            "ticks": "",
            "zerolinecolor": "white"
           },
           "yaxis": {
            "backgroundcolor": "#E5ECF6",
            "gridcolor": "white",
            "gridwidth": 2,
            "linecolor": "white",
            "showbackground": true,
            "ticks": "",
            "zerolinecolor": "white"
           },
           "zaxis": {
            "backgroundcolor": "#E5ECF6",
            "gridcolor": "white",
            "gridwidth": 2,
            "linecolor": "white",
            "showbackground": true,
            "ticks": "",
            "zerolinecolor": "white"
           }
          },
          "shapedefaults": {
           "line": {
            "color": "#2a3f5f"
           }
          },
          "ternary": {
           "aaxis": {
            "gridcolor": "white",
            "linecolor": "white",
            "ticks": ""
           },
           "baxis": {
            "gridcolor": "white",
            "linecolor": "white",
            "ticks": ""
           },
           "bgcolor": "#E5ECF6",
           "caxis": {
            "gridcolor": "white",
            "linecolor": "white",
            "ticks": ""
           }
          },
          "title": {
           "x": 0.05
          },
          "xaxis": {
           "automargin": true,
           "gridcolor": "white",
           "linecolor": "white",
           "ticks": "",
           "title": {
            "standoff": 15
           },
           "zerolinecolor": "white",
           "zerolinewidth": 2
          },
          "yaxis": {
           "automargin": true,
           "gridcolor": "white",
           "linecolor": "white",
           "ticks": "",
           "title": {
            "standoff": 15
           },
           "zerolinecolor": "white",
           "zerolinewidth": 2
          }
         }
        },
        "title": {
         "font": {
          "color": "#4D5663"
         }
        },
        "xaxis": {
         "gridcolor": "#E1E5ED",
         "showgrid": true,
         "tickfont": {
          "color": "#4D5663"
         },
         "title": {
          "font": {
           "color": "#4D5663"
          },
          "text": ""
         },
         "zerolinecolor": "#E1E5ED"
        },
        "xaxis2": {
         "anchor": "y2",
         "gridcolor": "#E1E5ED",
         "showgrid": true,
         "showticklabels": false,
         "tickfont": {
          "color": "#4D5663"
         },
         "title": {
          "font": {
           "color": "#4D5663"
          },
          "text": ""
         },
         "zerolinecolor": "#E1E5ED"
        },
        "yaxis": {
         "domain": [
          0.3,
          1
         ],
         "gridcolor": "#E1E5ED",
         "showgrid": true,
         "tickfont": {
          "color": "#4D5663"
         },
         "title": {
          "font": {
           "color": "#4D5663"
          },
          "text": ""
         },
         "zerolinecolor": "#E1E5ED"
        },
        "yaxis2": {
         "domain": [
          0,
          0.25
         ],
         "gridcolor": "#E1E5ED",
         "showgrid": true,
         "tickfont": {
          "color": "#4D5663"
         },
         "title": {
          "font": {
           "color": "#4D5663"
          },
          "text": "Spread"
         },
         "zerolinecolor": "#E1E5ED"
        }
       }
      },
      "text/html": [
       "<div>                            <div id=\"8166fcde-4ddb-436b-ae59-7fde9f215965\" class=\"plotly-graph-div\" style=\"height:525px; width:100%;\"></div>            <script type=\"text/javascript\">                require([\"plotly\"], function(Plotly) {                    window.PLOTLYENV=window.PLOTLYENV || {};\n",
       "                    window.PLOTLYENV.BASE_URL='https://plot.ly';                                    if (document.getElementById(\"8166fcde-4ddb-436b-ae59-7fde9f215965\")) {                    Plotly.newPlot(                        \"8166fcde-4ddb-436b-ae59-7fde9f215965\",                        [{\"line\": {\"color\": \"rgba(255, 153, 51, 1.0)\", \"dash\": \"solid\", \"shape\": \"linear\", \"width\": 1.3}, \"mode\": \"lines\", \"name\": \"A\", \"text\": \"\", \"type\": \"scatter\", \"x\": [0, 1, 2, 3, 4, 5, 6, 7, 8, 9, 10, 11, 12, 13, 14, 15, 16, 17, 18, 19, 20, 21, 22, 23, 24, 25, 26, 27, 28, 29, 30, 31, 32, 33, 34, 35, 36, 37, 38, 39, 40, 41, 42, 43, 44, 45, 46, 47, 48, 49, 50, 51, 52, 53, 54, 55, 56, 57, 58, 59, 60, 61, 62, 63, 64, 65, 66, 67, 68, 69, 70, 71, 72, 73, 74, 75, 76, 77, 78, 79, 80, 81, 82, 83, 84, 85, 86, 87, 88, 89, 90, 91, 92, 93, 94, 95, 96, 97, 98, 99], \"y\": [1.5047071858675904, -1.2306437730366853, 0.605020350239587, -0.11730722559215549, -0.5094486400300653, -0.03247951610040798, 0.9731351835823545, -1.472511340085507, -0.23083304464393553, 0.5787834027566838, -0.3156316458899452, -0.37854491314669936, -1.578313375563011, -0.7431436030597717, 0.5630177560101443, -1.3333242685734497, -0.4812889971321455, 0.46635368545417594, -0.09920746060052134, 1.0140120472191738, -0.9225221157990605, 1.4196106846836412, 0.1952712362569279, -0.8168745709151536, -0.13975493326855662, 0.5823845164628724, -0.04996888900130543, 0.013820356133013887, -0.06830081283978562, 0.19215684436051617, 1.286435464479053, -0.33541662466852057, -2.8587717658377443, 0.006416985094558975, 1.2961166888011706, -0.08942228467851332, 1.587406402848416, 0.25947535251631904, -0.8048768802234534, -0.8419192982284646, -1.6039443064270875, 0.10466270748776571, 0.02998318674242047, -0.006862251689929032, -0.7660788034000553, 1.1726861103538202, -0.27001683146847616, 0.020866604645267316, -1.5500723287323086, -0.1353630979441134, 0.10043734262022548, 0.26824564753711505, 0.12819938986961066, -1.17819730023147, 0.43825107894139315, -0.8922617953366131, -0.1304564737507755, -0.712627526372936, -0.21148412951738027, -0.803660466757645, -0.2795304432141383, -0.7656507457744494, -1.2247199589979165, -0.16498458992525863, 0.923653188973336, 0.13764563658951204, 0.043849382884496906, 0.607314473420084, 0.7462893879083348, 0.18665312051788513, -1.4497989583537694, 1.528431628745062, 0.3712893622551243, 0.47187897031748005, 0.8177302430660359, -0.09631945740607714, 0.2046001019962186, 1.5632968046193618, 0.28173247195427, -0.4990349917914575, 0.4880662332937979, -1.6313543113852154, 0.4398737132524965, 0.22985411660186864, 1.2996791563457732, -0.0015933251060393399, 0.48577287679867154, -0.7611622677031836, -0.9177847234627884, 0.31360597655689065, 0.8504935212248734, -0.5321453076085406, -0.44651013637870907, -0.8221181957042193, 1.8611329510653556, -1.9200683591650554, 0.2640173821523596, -0.012626231690431604, 3.152977471906116, 0.3884525520079316]}, {\"line\": {\"color\": \"rgba(55, 128, 191, 1.0)\", \"dash\": \"solid\", \"shape\": \"linear\", \"width\": 1.3}, \"mode\": \"lines\", \"name\": \"B\", \"text\": \"\", \"type\": \"scatter\", \"x\": [0, 1, 2, 3, 4, 5, 6, 7, 8, 9, 10, 11, 12, 13, 14, 15, 16, 17, 18, 19, 20, 21, 22, 23, 24, 25, 26, 27, 28, 29, 30, 31, 32, 33, 34, 35, 36, 37, 38, 39, 40, 41, 42, 43, 44, 45, 46, 47, 48, 49, 50, 51, 52, 53, 54, 55, 56, 57, 58, 59, 60, 61, 62, 63, 64, 65, 66, 67, 68, 69, 70, 71, 72, 73, 74, 75, 76, 77, 78, 79, 80, 81, 82, 83, 84, 85, 86, 87, 88, 89, 90, 91, 92, 93, 94, 95, 96, 97, 98, 99], \"y\": [0.47852473764124553, 0.47953723587996805, -0.44148143458663514, 1.7986040640014305, 1.3887987421628392, 1.597757985723844, 0.5877999356373035, 1.5808007026584723, -0.33360175851415325, -0.13122522278994106, 0.3224781441878215, 0.8496592084762307, -1.150154786050836, -0.03636065930498414, -0.5208283778493646, 1.0938755117779735, 0.15407640392163835, 0.569679081793052, 0.03260012363032162, 0.9945392624370553, 1.3904827907721824, 1.775213217496774, -0.5429998873307663, 0.0915471721012884, -0.09519693387176657, -1.5963958081570286, 2.4465606576364927, 1.5731633274545442, -0.08560470104480285, 0.2580248761829393, 1.539166024904185, 0.5416302736813118, -0.6303030028201453, -0.20719439088977545, 0.4791532829966961, 0.6345908134255359, -1.4310301356276192, -1.3401692846786348, 0.12938500637423184, 0.8697464546388674, -1.233469614258414, 2.266394093414955, 0.4095157714369962, 0.3129562945885272, 0.6875159516001128, 0.43742266506028393, -0.9548174472407832, 0.07014485793751564, -0.20394038833768505, 1.3440227943161343, -0.4211541610746663, 1.1778831515862733, -0.20884700147291713, -0.6287794998087359, -0.7877323616235364, -1.2186019438648847, 1.1458611752078418, -0.38447865902786865, -0.5223514043098862, 0.8604521332601345, -0.29850097445053136, -1.0125124820836118, -0.13931808941227639, 0.24397113215543434, 1.7129575541024467, -0.3046189015886152, -2.304212940366996, 0.9750048983151226, 0.1917996277566565, 1.7150797955986141, -0.6669591370086811, -0.8584067440066807, 1.0979784717067602, -1.4142753213911983, -0.14952157401637756, -1.7533683614377518, 0.12616412568399893, 0.4011261217165389, -1.528023749999498, -2.447037347680574, -1.889348744499366, -0.9452629996802178, 0.05039114426983621, 1.1675519258374532, 0.1295374021492559, 0.3296377092381601, 1.7544282508147742, -0.9871840427773075, -0.49209018295214213, -0.9434878688187036, 1.6166091978251167, -0.23609503635320464, 0.9761194029838546, 0.7307775163820062, 1.3621691942697398, 0.4874710586315161, -2.211347382211482, 0.24820113797038115, -7.074984288589023e-05, -0.9973009933770731]}, {\"connectgaps\": false, \"fill\": \"tozeroy\", \"line\": {\"color\": \"green\", \"dash\": \"solid\", \"shape\": \"linear\", \"width\": 0.5}, \"mode\": \"lines\", \"name\": \"Spread\", \"showlegend\": false, \"type\": \"scatter\", \"x\": [0, 1, 2, 3, 4, 5, 6, 7, 8, 9, 10, 11, 12, 13, 14, 15, 16, 17, 18, 19, 20, 21, 22, 23, 24, 25, 26, 27, 28, 29, 30, 31, 32, 33, 34, 35, 36, 37, 38, 39, 40, 41, 42, 43, 44, 45, 46, 47, 48, 49, 50, 51, 52, 53, 54, 55, 56, 57, 58, 59, 60, 61, 62, 63, 64, 65, 66, 67, 68, 69, 70, 71, 72, 73, 74, 75, 76, 77, 78, 79, 80, 81, 82, 83, 84, 85, 86, 87, 88, 89, 90, 91, 92, 93, 94, 95, 96, 97, 98, 99], \"xaxis\": \"x2\", \"y\": [1.0261824482263449, \"\", 1.0465017848262221, \"\", \"\", \"\", 0.38533524794505103, \"\", 0.10276871387021771, 0.7100086255466249, \"\", \"\", \"\", \"\", 1.083846133859509, \"\", \"\", \"\", \"\", 0.019472784782118557, \"\", \"\", 0.7382711235876942, \"\", \"\", 2.178780324619901, \"\", \"\", 0.01730388820501723, \"\", \"\", \"\", \"\", 0.21361137598433444, 0.8169634058044746, \"\", 3.018436538476035, 1.5996446371949538, \"\", \"\", \"\", \"\", \"\", \"\", \"\", 0.7352634452935363, 0.684800615772307, \"\", \"\", \"\", 0.5215915036948918, \"\", 0.3370463913425278, \"\", 1.2259834405649297, 0.32634014852827165, \"\", \"\", 0.310867274792506, \"\", 0.018970531236393084, 0.24686173630916242, \"\", \"\", \"\", 0.4422645381781273, 2.3480623232514928, \"\", 0.5544897601516783, \"\", \"\", 2.386838372751743, \"\", 1.8861542917086784, 0.9672518170824135, 1.6570489040316747, 0.07843597631221966, 1.1621706829028229, 1.809756221953768, 1.9480023558891166, 2.3774149777931637, \"\", 0.3894825689826603, \"\", 1.1701417541965173, \"\", \"\", 0.2260217750741239, \"\", 1.2570938453755942, \"\", \"\", \"\", \"\", 0.4989637567956158, \"\", 2.4753647643638415, \"\", 3.153048221749002, 1.3857535453850047], \"yaxis\": \"y2\"}, {\"connectgaps\": false, \"fill\": \"tozeroy\", \"line\": {\"color\": \"red\", \"dash\": \"solid\", \"shape\": \"linear\", \"width\": 0.5}, \"mode\": \"lines\", \"name\": \"Spread\", \"showlegend\": false, \"type\": \"scatter\", \"x\": [0, 1, 2, 3, 4, 5, 6, 7, 8, 9, 10, 11, 12, 13, 14, 15, 16, 17, 18, 19, 20, 21, 22, 23, 24, 25, 26, 27, 28, 29, 30, 31, 32, 33, 34, 35, 36, 37, 38, 39, 40, 41, 42, 43, 44, 45, 46, 47, 48, 49, 50, 51, 52, 53, 54, 55, 56, 57, 58, 59, 60, 61, 62, 63, 64, 65, 66, 67, 68, 69, 70, 71, 72, 73, 74, 75, 76, 77, 78, 79, 80, 81, 82, 83, 84, 85, 86, 87, 88, 89, 90, 91, 92, 93, 94, 95, 96, 97, 98, 99], \"xaxis\": \"x2\", \"y\": [\"\", -1.7101810089166534, \"\", -1.915911289593586, -1.8982473821929045, -1.6302375018242519, \"\", -3.053312042743979, \"\", \"\", -0.6381097900777667, -1.22820412162293, -0.4281585895121749, -0.7067829437547876, \"\", -2.4271997803514234, -0.6353654010537839, -0.10332539633887611, -0.13180758423084296, \"\", -2.313004906571243, -0.3556025328131329, \"\", -0.908421743016442, -0.044557999396790046, \"\", -2.496529546637798, -1.5593429713215303, \"\", -0.06586803182242312, -0.252730560425132, -0.8770468983498323, -2.2284687630175988, \"\", \"\", -0.7240130981040492, \"\", \"\", -0.9342618865976853, -1.711665752867332, -0.37047469216867346, -2.1617313859271894, -0.37953258469457574, -0.31981854627845624, -1.453594755000168, \"\", \"\", -0.049278253292248324, -1.3461319403946235, -1.4793858922602476, \"\", -0.9096375040491582, \"\", -0.5494178004227341, \"\", \"\", -1.2763176489586172, -0.3281488673450674, \"\", -1.6641126000177795, \"\", \"\", -1.0854018695856402, -0.408955722080693, -0.7893043651291106, \"\", \"\", -0.36769042489503856, \"\", -1.528426675080729, -0.7828398213450882, \"\", -0.7266891094516359, \"\", \"\", \"\", \"\", \"\", \"\", \"\", \"\", -0.6860913117049976, \"\", -0.9376978092355845, \"\", -0.3312310343441994, -1.2686553740161026, \"\", -0.42569454051064626, \"\", -0.7661156766002433, -0.296050271255336, -1.4226295393625636, -1.5528957120862255, \"\", -2.4075394177965714, \"\", -0.26082736966081277, \"\", \"\"], \"yaxis\": \"y2\"}],                        {\"hovermode\": \"x\", \"legend\": {\"bgcolor\": \"#F5F6F9\", \"font\": {\"color\": \"#4D5663\"}}, \"paper_bgcolor\": \"#F5F6F9\", \"plot_bgcolor\": \"#F5F6F9\", \"template\": {\"data\": {\"bar\": [{\"error_x\": {\"color\": \"#2a3f5f\"}, \"error_y\": {\"color\": \"#2a3f5f\"}, \"marker\": {\"line\": {\"color\": \"#E5ECF6\", \"width\": 0.5}}, \"type\": \"bar\"}], \"barpolar\": [{\"marker\": {\"line\": {\"color\": \"#E5ECF6\", \"width\": 0.5}}, \"type\": \"barpolar\"}], \"carpet\": [{\"aaxis\": {\"endlinecolor\": \"#2a3f5f\", \"gridcolor\": \"white\", \"linecolor\": \"white\", \"minorgridcolor\": \"white\", \"startlinecolor\": \"#2a3f5f\"}, \"baxis\": {\"endlinecolor\": \"#2a3f5f\", \"gridcolor\": \"white\", \"linecolor\": \"white\", \"minorgridcolor\": \"white\", \"startlinecolor\": \"#2a3f5f\"}, \"type\": \"carpet\"}], \"choropleth\": [{\"colorbar\": {\"outlinewidth\": 0, \"ticks\": \"\"}, \"type\": \"choropleth\"}], \"contour\": [{\"colorbar\": {\"outlinewidth\": 0, \"ticks\": \"\"}, \"colorscale\": [[0.0, \"#0d0887\"], [0.1111111111111111, \"#46039f\"], [0.2222222222222222, \"#7201a8\"], [0.3333333333333333, \"#9c179e\"], [0.4444444444444444, \"#bd3786\"], [0.5555555555555556, \"#d8576b\"], [0.6666666666666666, \"#ed7953\"], [0.7777777777777778, \"#fb9f3a\"], [0.8888888888888888, \"#fdca26\"], [1.0, \"#f0f921\"]], \"type\": \"contour\"}], \"contourcarpet\": [{\"colorbar\": {\"outlinewidth\": 0, \"ticks\": \"\"}, \"type\": \"contourcarpet\"}], \"heatmap\": [{\"colorbar\": {\"outlinewidth\": 0, \"ticks\": \"\"}, \"colorscale\": [[0.0, \"#0d0887\"], [0.1111111111111111, \"#46039f\"], [0.2222222222222222, \"#7201a8\"], [0.3333333333333333, \"#9c179e\"], [0.4444444444444444, \"#bd3786\"], [0.5555555555555556, \"#d8576b\"], [0.6666666666666666, \"#ed7953\"], [0.7777777777777778, \"#fb9f3a\"], [0.8888888888888888, \"#fdca26\"], [1.0, \"#f0f921\"]], \"type\": \"heatmap\"}], \"heatmapgl\": [{\"colorbar\": {\"outlinewidth\": 0, \"ticks\": \"\"}, \"colorscale\": [[0.0, \"#0d0887\"], [0.1111111111111111, \"#46039f\"], [0.2222222222222222, \"#7201a8\"], [0.3333333333333333, \"#9c179e\"], [0.4444444444444444, \"#bd3786\"], [0.5555555555555556, \"#d8576b\"], [0.6666666666666666, \"#ed7953\"], [0.7777777777777778, \"#fb9f3a\"], [0.8888888888888888, \"#fdca26\"], [1.0, \"#f0f921\"]], \"type\": \"heatmapgl\"}], \"histogram\": [{\"marker\": {\"colorbar\": {\"outlinewidth\": 0, \"ticks\": \"\"}}, \"type\": \"histogram\"}], \"histogram2d\": [{\"colorbar\": {\"outlinewidth\": 0, \"ticks\": \"\"}, \"colorscale\": [[0.0, \"#0d0887\"], [0.1111111111111111, \"#46039f\"], [0.2222222222222222, \"#7201a8\"], [0.3333333333333333, \"#9c179e\"], [0.4444444444444444, \"#bd3786\"], [0.5555555555555556, \"#d8576b\"], [0.6666666666666666, \"#ed7953\"], [0.7777777777777778, \"#fb9f3a\"], [0.8888888888888888, \"#fdca26\"], [1.0, \"#f0f921\"]], \"type\": \"histogram2d\"}], \"histogram2dcontour\": [{\"colorbar\": {\"outlinewidth\": 0, \"ticks\": \"\"}, \"colorscale\": [[0.0, \"#0d0887\"], [0.1111111111111111, \"#46039f\"], [0.2222222222222222, \"#7201a8\"], [0.3333333333333333, \"#9c179e\"], [0.4444444444444444, \"#bd3786\"], [0.5555555555555556, \"#d8576b\"], [0.6666666666666666, \"#ed7953\"], [0.7777777777777778, \"#fb9f3a\"], [0.8888888888888888, \"#fdca26\"], [1.0, \"#f0f921\"]], \"type\": \"histogram2dcontour\"}], \"mesh3d\": [{\"colorbar\": {\"outlinewidth\": 0, \"ticks\": \"\"}, \"type\": \"mesh3d\"}], \"parcoords\": [{\"line\": {\"colorbar\": {\"outlinewidth\": 0, \"ticks\": \"\"}}, \"type\": \"parcoords\"}], \"pie\": [{\"automargin\": true, \"type\": \"pie\"}], \"scatter\": [{\"marker\": {\"colorbar\": {\"outlinewidth\": 0, \"ticks\": \"\"}}, \"type\": \"scatter\"}], \"scatter3d\": [{\"line\": {\"colorbar\": {\"outlinewidth\": 0, \"ticks\": \"\"}}, \"marker\": {\"colorbar\": {\"outlinewidth\": 0, \"ticks\": \"\"}}, \"type\": \"scatter3d\"}], \"scattercarpet\": [{\"marker\": {\"colorbar\": {\"outlinewidth\": 0, \"ticks\": \"\"}}, \"type\": \"scattercarpet\"}], \"scattergeo\": [{\"marker\": {\"colorbar\": {\"outlinewidth\": 0, \"ticks\": \"\"}}, \"type\": \"scattergeo\"}], \"scattergl\": [{\"marker\": {\"colorbar\": {\"outlinewidth\": 0, \"ticks\": \"\"}}, \"type\": \"scattergl\"}], \"scattermapbox\": [{\"marker\": {\"colorbar\": {\"outlinewidth\": 0, \"ticks\": \"\"}}, \"type\": \"scattermapbox\"}], \"scatterpolar\": [{\"marker\": {\"colorbar\": {\"outlinewidth\": 0, \"ticks\": \"\"}}, \"type\": \"scatterpolar\"}], \"scatterpolargl\": [{\"marker\": {\"colorbar\": {\"outlinewidth\": 0, \"ticks\": \"\"}}, \"type\": \"scatterpolargl\"}], \"scatterternary\": [{\"marker\": {\"colorbar\": {\"outlinewidth\": 0, \"ticks\": \"\"}}, \"type\": \"scatterternary\"}], \"surface\": [{\"colorbar\": {\"outlinewidth\": 0, \"ticks\": \"\"}, \"colorscale\": [[0.0, \"#0d0887\"], [0.1111111111111111, \"#46039f\"], [0.2222222222222222, \"#7201a8\"], [0.3333333333333333, \"#9c179e\"], [0.4444444444444444, \"#bd3786\"], [0.5555555555555556, \"#d8576b\"], [0.6666666666666666, \"#ed7953\"], [0.7777777777777778, \"#fb9f3a\"], [0.8888888888888888, \"#fdca26\"], [1.0, \"#f0f921\"]], \"type\": \"surface\"}], \"table\": [{\"cells\": {\"fill\": {\"color\": \"#EBF0F8\"}, \"line\": {\"color\": \"white\"}}, \"header\": {\"fill\": {\"color\": \"#C8D4E3\"}, \"line\": {\"color\": \"white\"}}, \"type\": \"table\"}]}, \"layout\": {\"annotationdefaults\": {\"arrowcolor\": \"#2a3f5f\", \"arrowhead\": 0, \"arrowwidth\": 1}, \"autotypenumbers\": \"strict\", \"coloraxis\": {\"colorbar\": {\"outlinewidth\": 0, \"ticks\": \"\"}}, \"colorscale\": {\"diverging\": [[0, \"#8e0152\"], [0.1, \"#c51b7d\"], [0.2, \"#de77ae\"], [0.3, \"#f1b6da\"], [0.4, \"#fde0ef\"], [0.5, \"#f7f7f7\"], [0.6, \"#e6f5d0\"], [0.7, \"#b8e186\"], [0.8, \"#7fbc41\"], [0.9, \"#4d9221\"], [1, \"#276419\"]], \"sequential\": [[0.0, \"#0d0887\"], [0.1111111111111111, \"#46039f\"], [0.2222222222222222, \"#7201a8\"], [0.3333333333333333, \"#9c179e\"], [0.4444444444444444, \"#bd3786\"], [0.5555555555555556, \"#d8576b\"], [0.6666666666666666, \"#ed7953\"], [0.7777777777777778, \"#fb9f3a\"], [0.8888888888888888, \"#fdca26\"], [1.0, \"#f0f921\"]], \"sequentialminus\": [[0.0, \"#0d0887\"], [0.1111111111111111, \"#46039f\"], [0.2222222222222222, \"#7201a8\"], [0.3333333333333333, \"#9c179e\"], [0.4444444444444444, \"#bd3786\"], [0.5555555555555556, \"#d8576b\"], [0.6666666666666666, \"#ed7953\"], [0.7777777777777778, \"#fb9f3a\"], [0.8888888888888888, \"#fdca26\"], [1.0, \"#f0f921\"]]}, \"colorway\": [\"#636efa\", \"#EF553B\", \"#00cc96\", \"#ab63fa\", \"#FFA15A\", \"#19d3f3\", \"#FF6692\", \"#B6E880\", \"#FF97FF\", \"#FECB52\"], \"font\": {\"color\": \"#2a3f5f\"}, \"geo\": {\"bgcolor\": \"white\", \"lakecolor\": \"white\", \"landcolor\": \"#E5ECF6\", \"showlakes\": true, \"showland\": true, \"subunitcolor\": \"white\"}, \"hoverlabel\": {\"align\": \"left\"}, \"hovermode\": \"closest\", \"mapbox\": {\"style\": \"light\"}, \"paper_bgcolor\": \"white\", \"plot_bgcolor\": \"#E5ECF6\", \"polar\": {\"angularaxis\": {\"gridcolor\": \"white\", \"linecolor\": \"white\", \"ticks\": \"\"}, \"bgcolor\": \"#E5ECF6\", \"radialaxis\": {\"gridcolor\": \"white\", \"linecolor\": \"white\", \"ticks\": \"\"}}, \"scene\": {\"xaxis\": {\"backgroundcolor\": \"#E5ECF6\", \"gridcolor\": \"white\", \"gridwidth\": 2, \"linecolor\": \"white\", \"showbackground\": true, \"ticks\": \"\", \"zerolinecolor\": \"white\"}, \"yaxis\": {\"backgroundcolor\": \"#E5ECF6\", \"gridcolor\": \"white\", \"gridwidth\": 2, \"linecolor\": \"white\", \"showbackground\": true, \"ticks\": \"\", \"zerolinecolor\": \"white\"}, \"zaxis\": {\"backgroundcolor\": \"#E5ECF6\", \"gridcolor\": \"white\", \"gridwidth\": 2, \"linecolor\": \"white\", \"showbackground\": true, \"ticks\": \"\", \"zerolinecolor\": \"white\"}}, \"shapedefaults\": {\"line\": {\"color\": \"#2a3f5f\"}}, \"ternary\": {\"aaxis\": {\"gridcolor\": \"white\", \"linecolor\": \"white\", \"ticks\": \"\"}, \"baxis\": {\"gridcolor\": \"white\", \"linecolor\": \"white\", \"ticks\": \"\"}, \"bgcolor\": \"#E5ECF6\", \"caxis\": {\"gridcolor\": \"white\", \"linecolor\": \"white\", \"ticks\": \"\"}}, \"title\": {\"x\": 0.05}, \"xaxis\": {\"automargin\": true, \"gridcolor\": \"white\", \"linecolor\": \"white\", \"ticks\": \"\", \"title\": {\"standoff\": 15}, \"zerolinecolor\": \"white\", \"zerolinewidth\": 2}, \"yaxis\": {\"automargin\": true, \"gridcolor\": \"white\", \"linecolor\": \"white\", \"ticks\": \"\", \"title\": {\"standoff\": 15}, \"zerolinecolor\": \"white\", \"zerolinewidth\": 2}}}, \"title\": {\"font\": {\"color\": \"#4D5663\"}}, \"xaxis\": {\"gridcolor\": \"#E1E5ED\", \"showgrid\": true, \"tickfont\": {\"color\": \"#4D5663\"}, \"title\": {\"font\": {\"color\": \"#4D5663\"}, \"text\": \"\"}, \"zerolinecolor\": \"#E1E5ED\"}, \"xaxis2\": {\"anchor\": \"y2\", \"gridcolor\": \"#E1E5ED\", \"showgrid\": true, \"showticklabels\": false, \"tickfont\": {\"color\": \"#4D5663\"}, \"title\": {\"font\": {\"color\": \"#4D5663\"}, \"text\": \"\"}, \"zerolinecolor\": \"#E1E5ED\"}, \"yaxis\": {\"domain\": [0.3, 1], \"gridcolor\": \"#E1E5ED\", \"showgrid\": true, \"tickfont\": {\"color\": \"#4D5663\"}, \"title\": {\"font\": {\"color\": \"#4D5663\"}, \"text\": \"\"}, \"zerolinecolor\": \"#E1E5ED\"}, \"yaxis2\": {\"domain\": [0, 0.25], \"gridcolor\": \"#E1E5ED\", \"showgrid\": true, \"tickfont\": {\"color\": \"#4D5663\"}, \"title\": {\"font\": {\"color\": \"#4D5663\"}, \"text\": \"Spread\"}, \"zerolinecolor\": \"#E1E5ED\"}},                        {\"showLink\": true, \"linkText\": \"Export to plot.ly\", \"plotlyServerURL\": \"https://plot.ly\", \"responsive\": true}                    ).then(function(){\n",
       "                            \n",
       "var gd = document.getElementById('8166fcde-4ddb-436b-ae59-7fde9f215965');\n",
       "var x = new MutationObserver(function (mutations, observer) {{\n",
       "        var display = window.getComputedStyle(gd).display;\n",
       "        if (!display || display === 'none') {{\n",
       "            console.log([gd, 'removed!']);\n",
       "            Plotly.purge(gd);\n",
       "            observer.disconnect();\n",
       "        }}\n",
       "}});\n",
       "\n",
       "// Listen for the removal of the full notebook cells\n",
       "var notebookContainer = gd.closest('#notebook-container');\n",
       "if (notebookContainer) {{\n",
       "    x.observe(notebookContainer, {childList: true});\n",
       "}}\n",
       "\n",
       "// Listen for the clearing of the current output cell\n",
       "var outputEl = gd.closest('.output');\n",
       "if (outputEl) {{\n",
       "    x.observe(outputEl, {childList: true});\n",
       "}}\n",
       "\n",
       "                        })                };                });            </script>        </div>"
      ]
     },
     "metadata": {},
     "output_type": "display_data"
    }
   ],
   "source": [
    "df[['A', 'B']].iplot(kind='spread')"
   ]
  },
  {
   "cell_type": "code",
   "execution_count": 39,
   "metadata": {},
   "outputs": [
    {
     "data": {
      "application/vnd.plotly.v1+json": {
       "config": {
        "linkText": "Export to plot.ly",
        "plotlyServerURL": "https://plot.ly",
        "showLink": true
       },
       "data": [
        {
         "marker": {
          "color": [
           "rgb(255, 153, 51)",
           "rgb(55, 128, 191)",
           "rgb(50, 171, 96)",
           "rgb(128, 0, 128)",
           "rgb(219, 64, 82)",
           "rgb(0, 128, 128)",
           "rgb(255, 255, 51)",
           "rgb(128, 128, 0)",
           "rgb(251, 128, 114)",
           "rgb(128, 177, 211)"
          ],
          "line": {
           "width": 1.3
          },
          "size": [
           57,
           97,
           53,
           100,
           77,
           103,
           39,
           55,
           56,
           60,
           53,
           64,
           61,
           65,
           77,
           88,
           67,
           75,
           82,
           56,
           75,
           24,
           55,
           56,
           67,
           35,
           79,
           75,
           86,
           106,
           71,
           80,
           66,
           76,
           67,
           35,
           90,
           37,
           88,
           71,
           68,
           65,
           57,
           77,
           74,
           76,
           58,
           84,
           60,
           62,
           60,
           77,
           93,
           96,
           86,
           78,
           49,
           27,
           86,
           74,
           83,
           65,
           52,
           52,
           12,
           68,
           67,
           47,
           54,
           88,
           58,
           30,
           89,
           74,
           63,
           54,
           58,
           110,
           44,
           22,
           75,
           76,
           81,
           47,
           106,
           65,
           55,
           69,
           77,
           85,
           51,
           14,
           66,
           38,
           69,
           103,
           94,
           74,
           112,
           72
          ],
          "symbol": "circle"
         },
         "mode": "markers",
         "text": "",
         "type": "scatter",
         "x": [
          1.5047071858675904,
          -1.2306437730366853,
          0.605020350239587,
          -0.11730722559215549,
          -0.5094486400300653,
          -0.03247951610040798,
          0.9731351835823545,
          -1.472511340085507,
          -0.23083304464393553,
          0.5787834027566838,
          -0.3156316458899452,
          -0.37854491314669936,
          -1.578313375563011,
          -0.7431436030597717,
          0.5630177560101443,
          -1.3333242685734497,
          -0.4812889971321455,
          0.46635368545417594,
          -0.09920746060052134,
          1.0140120472191738,
          -0.9225221157990605,
          1.4196106846836412,
          0.1952712362569279,
          -0.8168745709151536,
          -0.13975493326855662,
          0.5823845164628724,
          -0.04996888900130543,
          0.013820356133013887,
          -0.06830081283978562,
          0.19215684436051617,
          1.286435464479053,
          -0.33541662466852057,
          -2.8587717658377443,
          0.006416985094558975,
          1.2961166888011706,
          -0.08942228467851332,
          1.587406402848416,
          0.25947535251631904,
          -0.8048768802234534,
          -0.8419192982284646,
          -1.6039443064270875,
          0.10466270748776571,
          0.02998318674242047,
          -0.006862251689929032,
          -0.7660788034000553,
          1.1726861103538202,
          -0.27001683146847616,
          0.020866604645267316,
          -1.5500723287323086,
          -0.1353630979441134,
          0.10043734262022548,
          0.26824564753711505,
          0.12819938986961066,
          -1.17819730023147,
          0.43825107894139315,
          -0.8922617953366131,
          -0.1304564737507755,
          -0.712627526372936,
          -0.21148412951738027,
          -0.803660466757645,
          -0.2795304432141383,
          -0.7656507457744494,
          -1.2247199589979165,
          -0.16498458992525863,
          0.923653188973336,
          0.13764563658951204,
          0.043849382884496906,
          0.607314473420084,
          0.7462893879083348,
          0.18665312051788513,
          -1.4497989583537694,
          1.528431628745062,
          0.3712893622551243,
          0.47187897031748005,
          0.8177302430660359,
          -0.09631945740607714,
          0.2046001019962186,
          1.5632968046193618,
          0.28173247195427,
          -0.4990349917914575,
          0.4880662332937979,
          -1.6313543113852154,
          0.4398737132524965,
          0.22985411660186864,
          1.2996791563457732,
          -0.0015933251060393399,
          0.48577287679867154,
          -0.7611622677031836,
          -0.9177847234627884,
          0.31360597655689065,
          0.8504935212248734,
          -0.5321453076085406,
          -0.44651013637870907,
          -0.8221181957042193,
          1.8611329510653556,
          -1.9200683591650554,
          0.2640173821523596,
          -0.012626231690431604,
          3.152977471906116,
          0.3884525520079316
         ],
         "y": [
          0.47852473764124553,
          0.47953723587996805,
          -0.44148143458663514,
          1.7986040640014305,
          1.3887987421628392,
          1.597757985723844,
          0.5877999356373035,
          1.5808007026584723,
          -0.33360175851415325,
          -0.13122522278994106,
          0.3224781441878215,
          0.8496592084762307,
          -1.150154786050836,
          -0.03636065930498414,
          -0.5208283778493646,
          1.0938755117779735,
          0.15407640392163835,
          0.569679081793052,
          0.03260012363032162,
          0.9945392624370553,
          1.3904827907721824,
          1.775213217496774,
          -0.5429998873307663,
          0.0915471721012884,
          -0.09519693387176657,
          -1.5963958081570286,
          2.4465606576364927,
          1.5731633274545442,
          -0.08560470104480285,
          0.2580248761829393,
          1.539166024904185,
          0.5416302736813118,
          -0.6303030028201453,
          -0.20719439088977545,
          0.4791532829966961,
          0.6345908134255359,
          -1.4310301356276192,
          -1.3401692846786348,
          0.12938500637423184,
          0.8697464546388674,
          -1.233469614258414,
          2.266394093414955,
          0.4095157714369962,
          0.3129562945885272,
          0.6875159516001128,
          0.43742266506028393,
          -0.9548174472407832,
          0.07014485793751564,
          -0.20394038833768505,
          1.3440227943161343,
          -0.4211541610746663,
          1.1778831515862733,
          -0.20884700147291713,
          -0.6287794998087359,
          -0.7877323616235364,
          -1.2186019438648847,
          1.1458611752078418,
          -0.38447865902786865,
          -0.5223514043098862,
          0.8604521332601345,
          -0.29850097445053136,
          -1.0125124820836118,
          -0.13931808941227639,
          0.24397113215543434,
          1.7129575541024467,
          -0.3046189015886152,
          -2.304212940366996,
          0.9750048983151226,
          0.1917996277566565,
          1.7150797955986141,
          -0.6669591370086811,
          -0.8584067440066807,
          1.0979784717067602,
          -1.4142753213911983,
          -0.14952157401637756,
          -1.7533683614377518,
          0.12616412568399893,
          0.4011261217165389,
          -1.528023749999498,
          -2.447037347680574,
          -1.889348744499366,
          -0.9452629996802178,
          0.05039114426983621,
          1.1675519258374532,
          0.1295374021492559,
          0.3296377092381601,
          1.7544282508147742,
          -0.9871840427773075,
          -0.49209018295214213,
          -0.9434878688187036,
          1.6166091978251167,
          -0.23609503635320464,
          0.9761194029838546,
          0.7307775163820062,
          1.3621691942697398,
          0.4874710586315161,
          -2.211347382211482,
          0.24820113797038115,
          -7.074984288589023e-05,
          -0.9973009933770731
         ]
        }
       ],
       "layout": {
        "legend": {
         "bgcolor": "#F5F6F9",
         "font": {
          "color": "#4D5663"
         }
        },
        "paper_bgcolor": "#F5F6F9",
        "plot_bgcolor": "#F5F6F9",
        "template": {
         "data": {
          "bar": [
           {
            "error_x": {
             "color": "#2a3f5f"
            },
            "error_y": {
             "color": "#2a3f5f"
            },
            "marker": {
             "line": {
              "color": "#E5ECF6",
              "width": 0.5
             }
            },
            "type": "bar"
           }
          ],
          "barpolar": [
           {
            "marker": {
             "line": {
              "color": "#E5ECF6",
              "width": 0.5
             }
            },
            "type": "barpolar"
           }
          ],
          "carpet": [
           {
            "aaxis": {
             "endlinecolor": "#2a3f5f",
             "gridcolor": "white",
             "linecolor": "white",
             "minorgridcolor": "white",
             "startlinecolor": "#2a3f5f"
            },
            "baxis": {
             "endlinecolor": "#2a3f5f",
             "gridcolor": "white",
             "linecolor": "white",
             "minorgridcolor": "white",
             "startlinecolor": "#2a3f5f"
            },
            "type": "carpet"
           }
          ],
          "choropleth": [
           {
            "colorbar": {
             "outlinewidth": 0,
             "ticks": ""
            },
            "type": "choropleth"
           }
          ],
          "contour": [
           {
            "colorbar": {
             "outlinewidth": 0,
             "ticks": ""
            },
            "colorscale": [
             [
              0,
              "#0d0887"
             ],
             [
              0.1111111111111111,
              "#46039f"
             ],
             [
              0.2222222222222222,
              "#7201a8"
             ],
             [
              0.3333333333333333,
              "#9c179e"
             ],
             [
              0.4444444444444444,
              "#bd3786"
             ],
             [
              0.5555555555555556,
              "#d8576b"
             ],
             [
              0.6666666666666666,
              "#ed7953"
             ],
             [
              0.7777777777777778,
              "#fb9f3a"
             ],
             [
              0.8888888888888888,
              "#fdca26"
             ],
             [
              1,
              "#f0f921"
             ]
            ],
            "type": "contour"
           }
          ],
          "contourcarpet": [
           {
            "colorbar": {
             "outlinewidth": 0,
             "ticks": ""
            },
            "type": "contourcarpet"
           }
          ],
          "heatmap": [
           {
            "colorbar": {
             "outlinewidth": 0,
             "ticks": ""
            },
            "colorscale": [
             [
              0,
              "#0d0887"
             ],
             [
              0.1111111111111111,
              "#46039f"
             ],
             [
              0.2222222222222222,
              "#7201a8"
             ],
             [
              0.3333333333333333,
              "#9c179e"
             ],
             [
              0.4444444444444444,
              "#bd3786"
             ],
             [
              0.5555555555555556,
              "#d8576b"
             ],
             [
              0.6666666666666666,
              "#ed7953"
             ],
             [
              0.7777777777777778,
              "#fb9f3a"
             ],
             [
              0.8888888888888888,
              "#fdca26"
             ],
             [
              1,
              "#f0f921"
             ]
            ],
            "type": "heatmap"
           }
          ],
          "heatmapgl": [
           {
            "colorbar": {
             "outlinewidth": 0,
             "ticks": ""
            },
            "colorscale": [
             [
              0,
              "#0d0887"
             ],
             [
              0.1111111111111111,
              "#46039f"
             ],
             [
              0.2222222222222222,
              "#7201a8"
             ],
             [
              0.3333333333333333,
              "#9c179e"
             ],
             [
              0.4444444444444444,
              "#bd3786"
             ],
             [
              0.5555555555555556,
              "#d8576b"
             ],
             [
              0.6666666666666666,
              "#ed7953"
             ],
             [
              0.7777777777777778,
              "#fb9f3a"
             ],
             [
              0.8888888888888888,
              "#fdca26"
             ],
             [
              1,
              "#f0f921"
             ]
            ],
            "type": "heatmapgl"
           }
          ],
          "histogram": [
           {
            "marker": {
             "colorbar": {
              "outlinewidth": 0,
              "ticks": ""
             }
            },
            "type": "histogram"
           }
          ],
          "histogram2d": [
           {
            "colorbar": {
             "outlinewidth": 0,
             "ticks": ""
            },
            "colorscale": [
             [
              0,
              "#0d0887"
             ],
             [
              0.1111111111111111,
              "#46039f"
             ],
             [
              0.2222222222222222,
              "#7201a8"
             ],
             [
              0.3333333333333333,
              "#9c179e"
             ],
             [
              0.4444444444444444,
              "#bd3786"
             ],
             [
              0.5555555555555556,
              "#d8576b"
             ],
             [
              0.6666666666666666,
              "#ed7953"
             ],
             [
              0.7777777777777778,
              "#fb9f3a"
             ],
             [
              0.8888888888888888,
              "#fdca26"
             ],
             [
              1,
              "#f0f921"
             ]
            ],
            "type": "histogram2d"
           }
          ],
          "histogram2dcontour": [
           {
            "colorbar": {
             "outlinewidth": 0,
             "ticks": ""
            },
            "colorscale": [
             [
              0,
              "#0d0887"
             ],
             [
              0.1111111111111111,
              "#46039f"
             ],
             [
              0.2222222222222222,
              "#7201a8"
             ],
             [
              0.3333333333333333,
              "#9c179e"
             ],
             [
              0.4444444444444444,
              "#bd3786"
             ],
             [
              0.5555555555555556,
              "#d8576b"
             ],
             [
              0.6666666666666666,
              "#ed7953"
             ],
             [
              0.7777777777777778,
              "#fb9f3a"
             ],
             [
              0.8888888888888888,
              "#fdca26"
             ],
             [
              1,
              "#f0f921"
             ]
            ],
            "type": "histogram2dcontour"
           }
          ],
          "mesh3d": [
           {
            "colorbar": {
             "outlinewidth": 0,
             "ticks": ""
            },
            "type": "mesh3d"
           }
          ],
          "parcoords": [
           {
            "line": {
             "colorbar": {
              "outlinewidth": 0,
              "ticks": ""
             }
            },
            "type": "parcoords"
           }
          ],
          "pie": [
           {
            "automargin": true,
            "type": "pie"
           }
          ],
          "scatter": [
           {
            "marker": {
             "colorbar": {
              "outlinewidth": 0,
              "ticks": ""
             }
            },
            "type": "scatter"
           }
          ],
          "scatter3d": [
           {
            "line": {
             "colorbar": {
              "outlinewidth": 0,
              "ticks": ""
             }
            },
            "marker": {
             "colorbar": {
              "outlinewidth": 0,
              "ticks": ""
             }
            },
            "type": "scatter3d"
           }
          ],
          "scattercarpet": [
           {
            "marker": {
             "colorbar": {
              "outlinewidth": 0,
              "ticks": ""
             }
            },
            "type": "scattercarpet"
           }
          ],
          "scattergeo": [
           {
            "marker": {
             "colorbar": {
              "outlinewidth": 0,
              "ticks": ""
             }
            },
            "type": "scattergeo"
           }
          ],
          "scattergl": [
           {
            "marker": {
             "colorbar": {
              "outlinewidth": 0,
              "ticks": ""
             }
            },
            "type": "scattergl"
           }
          ],
          "scattermapbox": [
           {
            "marker": {
             "colorbar": {
              "outlinewidth": 0,
              "ticks": ""
             }
            },
            "type": "scattermapbox"
           }
          ],
          "scatterpolar": [
           {
            "marker": {
             "colorbar": {
              "outlinewidth": 0,
              "ticks": ""
             }
            },
            "type": "scatterpolar"
           }
          ],
          "scatterpolargl": [
           {
            "marker": {
             "colorbar": {
              "outlinewidth": 0,
              "ticks": ""
             }
            },
            "type": "scatterpolargl"
           }
          ],
          "scatterternary": [
           {
            "marker": {
             "colorbar": {
              "outlinewidth": 0,
              "ticks": ""
             }
            },
            "type": "scatterternary"
           }
          ],
          "surface": [
           {
            "colorbar": {
             "outlinewidth": 0,
             "ticks": ""
            },
            "colorscale": [
             [
              0,
              "#0d0887"
             ],
             [
              0.1111111111111111,
              "#46039f"
             ],
             [
              0.2222222222222222,
              "#7201a8"
             ],
             [
              0.3333333333333333,
              "#9c179e"
             ],
             [
              0.4444444444444444,
              "#bd3786"
             ],
             [
              0.5555555555555556,
              "#d8576b"
             ],
             [
              0.6666666666666666,
              "#ed7953"
             ],
             [
              0.7777777777777778,
              "#fb9f3a"
             ],
             [
              0.8888888888888888,
              "#fdca26"
             ],
             [
              1,
              "#f0f921"
             ]
            ],
            "type": "surface"
           }
          ],
          "table": [
           {
            "cells": {
             "fill": {
              "color": "#EBF0F8"
             },
             "line": {
              "color": "white"
             }
            },
            "header": {
             "fill": {
              "color": "#C8D4E3"
             },
             "line": {
              "color": "white"
             }
            },
            "type": "table"
           }
          ]
         },
         "layout": {
          "annotationdefaults": {
           "arrowcolor": "#2a3f5f",
           "arrowhead": 0,
           "arrowwidth": 1
          },
          "autotypenumbers": "strict",
          "coloraxis": {
           "colorbar": {
            "outlinewidth": 0,
            "ticks": ""
           }
          },
          "colorscale": {
           "diverging": [
            [
             0,
             "#8e0152"
            ],
            [
             0.1,
             "#c51b7d"
            ],
            [
             0.2,
             "#de77ae"
            ],
            [
             0.3,
             "#f1b6da"
            ],
            [
             0.4,
             "#fde0ef"
            ],
            [
             0.5,
             "#f7f7f7"
            ],
            [
             0.6,
             "#e6f5d0"
            ],
            [
             0.7,
             "#b8e186"
            ],
            [
             0.8,
             "#7fbc41"
            ],
            [
             0.9,
             "#4d9221"
            ],
            [
             1,
             "#276419"
            ]
           ],
           "sequential": [
            [
             0,
             "#0d0887"
            ],
            [
             0.1111111111111111,
             "#46039f"
            ],
            [
             0.2222222222222222,
             "#7201a8"
            ],
            [
             0.3333333333333333,
             "#9c179e"
            ],
            [
             0.4444444444444444,
             "#bd3786"
            ],
            [
             0.5555555555555556,
             "#d8576b"
            ],
            [
             0.6666666666666666,
             "#ed7953"
            ],
            [
             0.7777777777777778,
             "#fb9f3a"
            ],
            [
             0.8888888888888888,
             "#fdca26"
            ],
            [
             1,
             "#f0f921"
            ]
           ],
           "sequentialminus": [
            [
             0,
             "#0d0887"
            ],
            [
             0.1111111111111111,
             "#46039f"
            ],
            [
             0.2222222222222222,
             "#7201a8"
            ],
            [
             0.3333333333333333,
             "#9c179e"
            ],
            [
             0.4444444444444444,
             "#bd3786"
            ],
            [
             0.5555555555555556,
             "#d8576b"
            ],
            [
             0.6666666666666666,
             "#ed7953"
            ],
            [
             0.7777777777777778,
             "#fb9f3a"
            ],
            [
             0.8888888888888888,
             "#fdca26"
            ],
            [
             1,
             "#f0f921"
            ]
           ]
          },
          "colorway": [
           "#636efa",
           "#EF553B",
           "#00cc96",
           "#ab63fa",
           "#FFA15A",
           "#19d3f3",
           "#FF6692",
           "#B6E880",
           "#FF97FF",
           "#FECB52"
          ],
          "font": {
           "color": "#2a3f5f"
          },
          "geo": {
           "bgcolor": "white",
           "lakecolor": "white",
           "landcolor": "#E5ECF6",
           "showlakes": true,
           "showland": true,
           "subunitcolor": "white"
          },
          "hoverlabel": {
           "align": "left"
          },
          "hovermode": "closest",
          "mapbox": {
           "style": "light"
          },
          "paper_bgcolor": "white",
          "plot_bgcolor": "#E5ECF6",
          "polar": {
           "angularaxis": {
            "gridcolor": "white",
            "linecolor": "white",
            "ticks": ""
           },
           "bgcolor": "#E5ECF6",
           "radialaxis": {
            "gridcolor": "white",
            "linecolor": "white",
            "ticks": ""
           }
          },
          "scene": {
           "xaxis": {
            "backgroundcolor": "#E5ECF6",
            "gridcolor": "white",
            "gridwidth": 2,
            "linecolor": "white",
            "showbackground": true,
            "ticks": "",
            "zerolinecolor": "white"
           },
           "yaxis": {
            "backgroundcolor": "#E5ECF6",
            "gridcolor": "white",
            "gridwidth": 2,
            "linecolor": "white",
            "showbackground": true,
            "ticks": "",
            "zerolinecolor": "white"
           },
           "zaxis": {
            "backgroundcolor": "#E5ECF6",
            "gridcolor": "white",
            "gridwidth": 2,
            "linecolor": "white",
            "showbackground": true,
            "ticks": "",
            "zerolinecolor": "white"
           }
          },
          "shapedefaults": {
           "line": {
            "color": "#2a3f5f"
           }
          },
          "ternary": {
           "aaxis": {
            "gridcolor": "white",
            "linecolor": "white",
            "ticks": ""
           },
           "baxis": {
            "gridcolor": "white",
            "linecolor": "white",
            "ticks": ""
           },
           "bgcolor": "#E5ECF6",
           "caxis": {
            "gridcolor": "white",
            "linecolor": "white",
            "ticks": ""
           }
          },
          "title": {
           "x": 0.05
          },
          "xaxis": {
           "automargin": true,
           "gridcolor": "white",
           "linecolor": "white",
           "ticks": "",
           "title": {
            "standoff": 15
           },
           "zerolinecolor": "white",
           "zerolinewidth": 2
          },
          "yaxis": {
           "automargin": true,
           "gridcolor": "white",
           "linecolor": "white",
           "ticks": "",
           "title": {
            "standoff": 15
           },
           "zerolinecolor": "white",
           "zerolinewidth": 2
          }
         }
        },
        "title": {
         "font": {
          "color": "#4D5663"
         }
        },
        "xaxis": {
         "gridcolor": "#E1E5ED",
         "showgrid": true,
         "tickfont": {
          "color": "#4D5663"
         },
         "title": {
          "font": {
           "color": "#4D5663"
          },
          "text": ""
         },
         "zerolinecolor": "#E1E5ED"
        },
        "yaxis": {
         "gridcolor": "#E1E5ED",
         "showgrid": true,
         "tickfont": {
          "color": "#4D5663"
         },
         "title": {
          "font": {
           "color": "#4D5663"
          },
          "text": ""
         },
         "zerolinecolor": "#E1E5ED"
        }
       }
      },
      "text/html": [
       "<div>                            <div id=\"1bcd531b-1d02-4559-9e08-887c280a0e58\" class=\"plotly-graph-div\" style=\"height:525px; width:100%;\"></div>            <script type=\"text/javascript\">                require([\"plotly\"], function(Plotly) {                    window.PLOTLYENV=window.PLOTLYENV || {};\n",
       "                    window.PLOTLYENV.BASE_URL='https://plot.ly';                                    if (document.getElementById(\"1bcd531b-1d02-4559-9e08-887c280a0e58\")) {                    Plotly.newPlot(                        \"1bcd531b-1d02-4559-9e08-887c280a0e58\",                        [{\"marker\": {\"color\": [\"rgb(255, 153, 51)\", \"rgb(55, 128, 191)\", \"rgb(50, 171, 96)\", \"rgb(128, 0, 128)\", \"rgb(219, 64, 82)\", \"rgb(0, 128, 128)\", \"rgb(255, 255, 51)\", \"rgb(128, 128, 0)\", \"rgb(251, 128, 114)\", \"rgb(128, 177, 211)\"], \"line\": {\"width\": 1.3}, \"size\": [57, 97, 53, 100, 77, 103, 39, 55, 56, 60, 53, 64, 61, 65, 77, 88, 67, 75, 82, 56, 75, 24, 55, 56, 67, 35, 79, 75, 86, 106, 71, 80, 66, 76, 67, 35, 90, 37, 88, 71, 68, 65, 57, 77, 74, 76, 58, 84, 60, 62, 60, 77, 93, 96, 86, 78, 49, 27, 86, 74, 83, 65, 52, 52, 12, 68, 67, 47, 54, 88, 58, 30, 89, 74, 63, 54, 58, 110, 44, 22, 75, 76, 81, 47, 106, 65, 55, 69, 77, 85, 51, 14, 66, 38, 69, 103, 94, 74, 112, 72], \"symbol\": \"circle\"}, \"mode\": \"markers\", \"text\": \"\", \"type\": \"scatter\", \"x\": [1.5047071858675904, -1.2306437730366853, 0.605020350239587, -0.11730722559215549, -0.5094486400300653, -0.03247951610040798, 0.9731351835823545, -1.472511340085507, -0.23083304464393553, 0.5787834027566838, -0.3156316458899452, -0.37854491314669936, -1.578313375563011, -0.7431436030597717, 0.5630177560101443, -1.3333242685734497, -0.4812889971321455, 0.46635368545417594, -0.09920746060052134, 1.0140120472191738, -0.9225221157990605, 1.4196106846836412, 0.1952712362569279, -0.8168745709151536, -0.13975493326855662, 0.5823845164628724, -0.04996888900130543, 0.013820356133013887, -0.06830081283978562, 0.19215684436051617, 1.286435464479053, -0.33541662466852057, -2.8587717658377443, 0.006416985094558975, 1.2961166888011706, -0.08942228467851332, 1.587406402848416, 0.25947535251631904, -0.8048768802234534, -0.8419192982284646, -1.6039443064270875, 0.10466270748776571, 0.02998318674242047, -0.006862251689929032, -0.7660788034000553, 1.1726861103538202, -0.27001683146847616, 0.020866604645267316, -1.5500723287323086, -0.1353630979441134, 0.10043734262022548, 0.26824564753711505, 0.12819938986961066, -1.17819730023147, 0.43825107894139315, -0.8922617953366131, -0.1304564737507755, -0.712627526372936, -0.21148412951738027, -0.803660466757645, -0.2795304432141383, -0.7656507457744494, -1.2247199589979165, -0.16498458992525863, 0.923653188973336, 0.13764563658951204, 0.043849382884496906, 0.607314473420084, 0.7462893879083348, 0.18665312051788513, -1.4497989583537694, 1.528431628745062, 0.3712893622551243, 0.47187897031748005, 0.8177302430660359, -0.09631945740607714, 0.2046001019962186, 1.5632968046193618, 0.28173247195427, -0.4990349917914575, 0.4880662332937979, -1.6313543113852154, 0.4398737132524965, 0.22985411660186864, 1.2996791563457732, -0.0015933251060393399, 0.48577287679867154, -0.7611622677031836, -0.9177847234627884, 0.31360597655689065, 0.8504935212248734, -0.5321453076085406, -0.44651013637870907, -0.8221181957042193, 1.8611329510653556, -1.9200683591650554, 0.2640173821523596, -0.012626231690431604, 3.152977471906116, 0.3884525520079316], \"y\": [0.47852473764124553, 0.47953723587996805, -0.44148143458663514, 1.7986040640014305, 1.3887987421628392, 1.597757985723844, 0.5877999356373035, 1.5808007026584723, -0.33360175851415325, -0.13122522278994106, 0.3224781441878215, 0.8496592084762307, -1.150154786050836, -0.03636065930498414, -0.5208283778493646, 1.0938755117779735, 0.15407640392163835, 0.569679081793052, 0.03260012363032162, 0.9945392624370553, 1.3904827907721824, 1.775213217496774, -0.5429998873307663, 0.0915471721012884, -0.09519693387176657, -1.5963958081570286, 2.4465606576364927, 1.5731633274545442, -0.08560470104480285, 0.2580248761829393, 1.539166024904185, 0.5416302736813118, -0.6303030028201453, -0.20719439088977545, 0.4791532829966961, 0.6345908134255359, -1.4310301356276192, -1.3401692846786348, 0.12938500637423184, 0.8697464546388674, -1.233469614258414, 2.266394093414955, 0.4095157714369962, 0.3129562945885272, 0.6875159516001128, 0.43742266506028393, -0.9548174472407832, 0.07014485793751564, -0.20394038833768505, 1.3440227943161343, -0.4211541610746663, 1.1778831515862733, -0.20884700147291713, -0.6287794998087359, -0.7877323616235364, -1.2186019438648847, 1.1458611752078418, -0.38447865902786865, -0.5223514043098862, 0.8604521332601345, -0.29850097445053136, -1.0125124820836118, -0.13931808941227639, 0.24397113215543434, 1.7129575541024467, -0.3046189015886152, -2.304212940366996, 0.9750048983151226, 0.1917996277566565, 1.7150797955986141, -0.6669591370086811, -0.8584067440066807, 1.0979784717067602, -1.4142753213911983, -0.14952157401637756, -1.7533683614377518, 0.12616412568399893, 0.4011261217165389, -1.528023749999498, -2.447037347680574, -1.889348744499366, -0.9452629996802178, 0.05039114426983621, 1.1675519258374532, 0.1295374021492559, 0.3296377092381601, 1.7544282508147742, -0.9871840427773075, -0.49209018295214213, -0.9434878688187036, 1.6166091978251167, -0.23609503635320464, 0.9761194029838546, 0.7307775163820062, 1.3621691942697398, 0.4874710586315161, -2.211347382211482, 0.24820113797038115, -7.074984288589023e-05, -0.9973009933770731]}],                        {\"legend\": {\"bgcolor\": \"#F5F6F9\", \"font\": {\"color\": \"#4D5663\"}}, \"paper_bgcolor\": \"#F5F6F9\", \"plot_bgcolor\": \"#F5F6F9\", \"template\": {\"data\": {\"bar\": [{\"error_x\": {\"color\": \"#2a3f5f\"}, \"error_y\": {\"color\": \"#2a3f5f\"}, \"marker\": {\"line\": {\"color\": \"#E5ECF6\", \"width\": 0.5}}, \"type\": \"bar\"}], \"barpolar\": [{\"marker\": {\"line\": {\"color\": \"#E5ECF6\", \"width\": 0.5}}, \"type\": \"barpolar\"}], \"carpet\": [{\"aaxis\": {\"endlinecolor\": \"#2a3f5f\", \"gridcolor\": \"white\", \"linecolor\": \"white\", \"minorgridcolor\": \"white\", \"startlinecolor\": \"#2a3f5f\"}, \"baxis\": {\"endlinecolor\": \"#2a3f5f\", \"gridcolor\": \"white\", \"linecolor\": \"white\", \"minorgridcolor\": \"white\", \"startlinecolor\": \"#2a3f5f\"}, \"type\": \"carpet\"}], \"choropleth\": [{\"colorbar\": {\"outlinewidth\": 0, \"ticks\": \"\"}, \"type\": \"choropleth\"}], \"contour\": [{\"colorbar\": {\"outlinewidth\": 0, \"ticks\": \"\"}, \"colorscale\": [[0.0, \"#0d0887\"], [0.1111111111111111, \"#46039f\"], [0.2222222222222222, \"#7201a8\"], [0.3333333333333333, \"#9c179e\"], [0.4444444444444444, \"#bd3786\"], [0.5555555555555556, \"#d8576b\"], [0.6666666666666666, \"#ed7953\"], [0.7777777777777778, \"#fb9f3a\"], [0.8888888888888888, \"#fdca26\"], [1.0, \"#f0f921\"]], \"type\": \"contour\"}], \"contourcarpet\": [{\"colorbar\": {\"outlinewidth\": 0, \"ticks\": \"\"}, \"type\": \"contourcarpet\"}], \"heatmap\": [{\"colorbar\": {\"outlinewidth\": 0, \"ticks\": \"\"}, \"colorscale\": [[0.0, \"#0d0887\"], [0.1111111111111111, \"#46039f\"], [0.2222222222222222, \"#7201a8\"], [0.3333333333333333, \"#9c179e\"], [0.4444444444444444, \"#bd3786\"], [0.5555555555555556, \"#d8576b\"], [0.6666666666666666, \"#ed7953\"], [0.7777777777777778, \"#fb9f3a\"], [0.8888888888888888, \"#fdca26\"], [1.0, \"#f0f921\"]], \"type\": \"heatmap\"}], \"heatmapgl\": [{\"colorbar\": {\"outlinewidth\": 0, \"ticks\": \"\"}, \"colorscale\": [[0.0, \"#0d0887\"], [0.1111111111111111, \"#46039f\"], [0.2222222222222222, \"#7201a8\"], [0.3333333333333333, \"#9c179e\"], [0.4444444444444444, \"#bd3786\"], [0.5555555555555556, \"#d8576b\"], [0.6666666666666666, \"#ed7953\"], [0.7777777777777778, \"#fb9f3a\"], [0.8888888888888888, \"#fdca26\"], [1.0, \"#f0f921\"]], \"type\": \"heatmapgl\"}], \"histogram\": [{\"marker\": {\"colorbar\": {\"outlinewidth\": 0, \"ticks\": \"\"}}, \"type\": \"histogram\"}], \"histogram2d\": [{\"colorbar\": {\"outlinewidth\": 0, \"ticks\": \"\"}, \"colorscale\": [[0.0, \"#0d0887\"], [0.1111111111111111, \"#46039f\"], [0.2222222222222222, \"#7201a8\"], [0.3333333333333333, \"#9c179e\"], [0.4444444444444444, \"#bd3786\"], [0.5555555555555556, \"#d8576b\"], [0.6666666666666666, \"#ed7953\"], [0.7777777777777778, \"#fb9f3a\"], [0.8888888888888888, \"#fdca26\"], [1.0, \"#f0f921\"]], \"type\": \"histogram2d\"}], \"histogram2dcontour\": [{\"colorbar\": {\"outlinewidth\": 0, \"ticks\": \"\"}, \"colorscale\": [[0.0, \"#0d0887\"], [0.1111111111111111, \"#46039f\"], [0.2222222222222222, \"#7201a8\"], [0.3333333333333333, \"#9c179e\"], [0.4444444444444444, \"#bd3786\"], [0.5555555555555556, \"#d8576b\"], [0.6666666666666666, \"#ed7953\"], [0.7777777777777778, \"#fb9f3a\"], [0.8888888888888888, \"#fdca26\"], [1.0, \"#f0f921\"]], \"type\": \"histogram2dcontour\"}], \"mesh3d\": [{\"colorbar\": {\"outlinewidth\": 0, \"ticks\": \"\"}, \"type\": \"mesh3d\"}], \"parcoords\": [{\"line\": {\"colorbar\": {\"outlinewidth\": 0, \"ticks\": \"\"}}, \"type\": \"parcoords\"}], \"pie\": [{\"automargin\": true, \"type\": \"pie\"}], \"scatter\": [{\"marker\": {\"colorbar\": {\"outlinewidth\": 0, \"ticks\": \"\"}}, \"type\": \"scatter\"}], \"scatter3d\": [{\"line\": {\"colorbar\": {\"outlinewidth\": 0, \"ticks\": \"\"}}, \"marker\": {\"colorbar\": {\"outlinewidth\": 0, \"ticks\": \"\"}}, \"type\": \"scatter3d\"}], \"scattercarpet\": [{\"marker\": {\"colorbar\": {\"outlinewidth\": 0, \"ticks\": \"\"}}, \"type\": \"scattercarpet\"}], \"scattergeo\": [{\"marker\": {\"colorbar\": {\"outlinewidth\": 0, \"ticks\": \"\"}}, \"type\": \"scattergeo\"}], \"scattergl\": [{\"marker\": {\"colorbar\": {\"outlinewidth\": 0, \"ticks\": \"\"}}, \"type\": \"scattergl\"}], \"scattermapbox\": [{\"marker\": {\"colorbar\": {\"outlinewidth\": 0, \"ticks\": \"\"}}, \"type\": \"scattermapbox\"}], \"scatterpolar\": [{\"marker\": {\"colorbar\": {\"outlinewidth\": 0, \"ticks\": \"\"}}, \"type\": \"scatterpolar\"}], \"scatterpolargl\": [{\"marker\": {\"colorbar\": {\"outlinewidth\": 0, \"ticks\": \"\"}}, \"type\": \"scatterpolargl\"}], \"scatterternary\": [{\"marker\": {\"colorbar\": {\"outlinewidth\": 0, \"ticks\": \"\"}}, \"type\": \"scatterternary\"}], \"surface\": [{\"colorbar\": {\"outlinewidth\": 0, \"ticks\": \"\"}, \"colorscale\": [[0.0, \"#0d0887\"], [0.1111111111111111, \"#46039f\"], [0.2222222222222222, \"#7201a8\"], [0.3333333333333333, \"#9c179e\"], [0.4444444444444444, \"#bd3786\"], [0.5555555555555556, \"#d8576b\"], [0.6666666666666666, \"#ed7953\"], [0.7777777777777778, \"#fb9f3a\"], [0.8888888888888888, \"#fdca26\"], [1.0, \"#f0f921\"]], \"type\": \"surface\"}], \"table\": [{\"cells\": {\"fill\": {\"color\": \"#EBF0F8\"}, \"line\": {\"color\": \"white\"}}, \"header\": {\"fill\": {\"color\": \"#C8D4E3\"}, \"line\": {\"color\": \"white\"}}, \"type\": \"table\"}]}, \"layout\": {\"annotationdefaults\": {\"arrowcolor\": \"#2a3f5f\", \"arrowhead\": 0, \"arrowwidth\": 1}, \"autotypenumbers\": \"strict\", \"coloraxis\": {\"colorbar\": {\"outlinewidth\": 0, \"ticks\": \"\"}}, \"colorscale\": {\"diverging\": [[0, \"#8e0152\"], [0.1, \"#c51b7d\"], [0.2, \"#de77ae\"], [0.3, \"#f1b6da\"], [0.4, \"#fde0ef\"], [0.5, \"#f7f7f7\"], [0.6, \"#e6f5d0\"], [0.7, \"#b8e186\"], [0.8, \"#7fbc41\"], [0.9, \"#4d9221\"], [1, \"#276419\"]], \"sequential\": [[0.0, \"#0d0887\"], [0.1111111111111111, \"#46039f\"], [0.2222222222222222, \"#7201a8\"], [0.3333333333333333, \"#9c179e\"], [0.4444444444444444, \"#bd3786\"], [0.5555555555555556, \"#d8576b\"], [0.6666666666666666, \"#ed7953\"], [0.7777777777777778, \"#fb9f3a\"], [0.8888888888888888, \"#fdca26\"], [1.0, \"#f0f921\"]], \"sequentialminus\": [[0.0, \"#0d0887\"], [0.1111111111111111, \"#46039f\"], [0.2222222222222222, \"#7201a8\"], [0.3333333333333333, \"#9c179e\"], [0.4444444444444444, \"#bd3786\"], [0.5555555555555556, \"#d8576b\"], [0.6666666666666666, \"#ed7953\"], [0.7777777777777778, \"#fb9f3a\"], [0.8888888888888888, \"#fdca26\"], [1.0, \"#f0f921\"]]}, \"colorway\": [\"#636efa\", \"#EF553B\", \"#00cc96\", \"#ab63fa\", \"#FFA15A\", \"#19d3f3\", \"#FF6692\", \"#B6E880\", \"#FF97FF\", \"#FECB52\"], \"font\": {\"color\": \"#2a3f5f\"}, \"geo\": {\"bgcolor\": \"white\", \"lakecolor\": \"white\", \"landcolor\": \"#E5ECF6\", \"showlakes\": true, \"showland\": true, \"subunitcolor\": \"white\"}, \"hoverlabel\": {\"align\": \"left\"}, \"hovermode\": \"closest\", \"mapbox\": {\"style\": \"light\"}, \"paper_bgcolor\": \"white\", \"plot_bgcolor\": \"#E5ECF6\", \"polar\": {\"angularaxis\": {\"gridcolor\": \"white\", \"linecolor\": \"white\", \"ticks\": \"\"}, \"bgcolor\": \"#E5ECF6\", \"radialaxis\": {\"gridcolor\": \"white\", \"linecolor\": \"white\", \"ticks\": \"\"}}, \"scene\": {\"xaxis\": {\"backgroundcolor\": \"#E5ECF6\", \"gridcolor\": \"white\", \"gridwidth\": 2, \"linecolor\": \"white\", \"showbackground\": true, \"ticks\": \"\", \"zerolinecolor\": \"white\"}, \"yaxis\": {\"backgroundcolor\": \"#E5ECF6\", \"gridcolor\": \"white\", \"gridwidth\": 2, \"linecolor\": \"white\", \"showbackground\": true, \"ticks\": \"\", \"zerolinecolor\": \"white\"}, \"zaxis\": {\"backgroundcolor\": \"#E5ECF6\", \"gridcolor\": \"white\", \"gridwidth\": 2, \"linecolor\": \"white\", \"showbackground\": true, \"ticks\": \"\", \"zerolinecolor\": \"white\"}}, \"shapedefaults\": {\"line\": {\"color\": \"#2a3f5f\"}}, \"ternary\": {\"aaxis\": {\"gridcolor\": \"white\", \"linecolor\": \"white\", \"ticks\": \"\"}, \"baxis\": {\"gridcolor\": \"white\", \"linecolor\": \"white\", \"ticks\": \"\"}, \"bgcolor\": \"#E5ECF6\", \"caxis\": {\"gridcolor\": \"white\", \"linecolor\": \"white\", \"ticks\": \"\"}}, \"title\": {\"x\": 0.05}, \"xaxis\": {\"automargin\": true, \"gridcolor\": \"white\", \"linecolor\": \"white\", \"ticks\": \"\", \"title\": {\"standoff\": 15}, \"zerolinecolor\": \"white\", \"zerolinewidth\": 2}, \"yaxis\": {\"automargin\": true, \"gridcolor\": \"white\", \"linecolor\": \"white\", \"ticks\": \"\", \"title\": {\"standoff\": 15}, \"zerolinecolor\": \"white\", \"zerolinewidth\": 2}}}, \"title\": {\"font\": {\"color\": \"#4D5663\"}}, \"xaxis\": {\"gridcolor\": \"#E1E5ED\", \"showgrid\": true, \"tickfont\": {\"color\": \"#4D5663\"}, \"title\": {\"font\": {\"color\": \"#4D5663\"}, \"text\": \"\"}, \"zerolinecolor\": \"#E1E5ED\"}, \"yaxis\": {\"gridcolor\": \"#E1E5ED\", \"showgrid\": true, \"tickfont\": {\"color\": \"#4D5663\"}, \"title\": {\"font\": {\"color\": \"#4D5663\"}, \"text\": \"\"}, \"zerolinecolor\": \"#E1E5ED\"}},                        {\"showLink\": true, \"linkText\": \"Export to plot.ly\", \"plotlyServerURL\": \"https://plot.ly\", \"responsive\": true}                    ).then(function(){\n",
       "                            \n",
       "var gd = document.getElementById('1bcd531b-1d02-4559-9e08-887c280a0e58');\n",
       "var x = new MutationObserver(function (mutations, observer) {{\n",
       "        var display = window.getComputedStyle(gd).display;\n",
       "        if (!display || display === 'none') {{\n",
       "            console.log([gd, 'removed!']);\n",
       "            Plotly.purge(gd);\n",
       "            observer.disconnect();\n",
       "        }}\n",
       "}});\n",
       "\n",
       "// Listen for the removal of the full notebook cells\n",
       "var notebookContainer = gd.closest('#notebook-container');\n",
       "if (notebookContainer) {{\n",
       "    x.observe(notebookContainer, {childList: true});\n",
       "}}\n",
       "\n",
       "// Listen for the clearing of the current output cell\n",
       "var outputEl = gd.closest('.output');\n",
       "if (outputEl) {{\n",
       "    x.observe(outputEl, {childList: true});\n",
       "}}\n",
       "\n",
       "                        })                };                });            </script>        </div>"
      ]
     },
     "metadata": {},
     "output_type": "display_data"
    }
   ],
   "source": [
    "df.iplot(kind='bubble', x='A', y='B', size='C')"
   ]
  },
  {
   "cell_type": "code",
   "execution_count": 41,
   "metadata": {},
   "outputs": [
    {
     "data": {
      "application/vnd.plotly.v1+json": {
       "config": {
        "linkText": "Export to plot.ly",
        "plotlyServerURL": "https://plot.ly",
        "showLink": true
       },
       "data": [
        {
         "histfunc": "count",
         "histnorm": "",
         "marker": {
          "color": "rgba(255, 153, 51, 1.0)",
          "line": {
           "color": "#4D5663",
           "width": 1.3
          }
         },
         "name": "A",
         "nbinsx": 10,
         "opacity": 0.8,
         "orientation": "v",
         "type": "histogram",
         "x": [
          1.5047071858675904,
          -1.2306437730366853,
          0.605020350239587,
          -0.11730722559215549,
          -0.5094486400300653,
          -0.03247951610040798,
          0.9731351835823545,
          -1.472511340085507,
          -0.23083304464393553,
          0.5787834027566838,
          -0.3156316458899452,
          -0.37854491314669936,
          -1.578313375563011,
          -0.7431436030597717,
          0.5630177560101443,
          -1.3333242685734497,
          -0.4812889971321455,
          0.46635368545417594,
          -0.09920746060052134,
          1.0140120472191738,
          -0.9225221157990605,
          1.4196106846836412,
          0.1952712362569279,
          -0.8168745709151536,
          -0.13975493326855662,
          0.5823845164628724,
          -0.04996888900130543,
          0.013820356133013887,
          -0.06830081283978562,
          0.19215684436051617,
          1.286435464479053,
          -0.33541662466852057,
          -2.8587717658377443,
          0.006416985094558975,
          1.2961166888011706,
          -0.08942228467851332,
          1.587406402848416,
          0.25947535251631904,
          -0.8048768802234534,
          -0.8419192982284646,
          -1.6039443064270875,
          0.10466270748776571,
          0.02998318674242047,
          -0.006862251689929032,
          -0.7660788034000553,
          1.1726861103538202,
          -0.27001683146847616,
          0.020866604645267316,
          -1.5500723287323086,
          -0.1353630979441134,
          0.10043734262022548,
          0.26824564753711505,
          0.12819938986961066,
          -1.17819730023147,
          0.43825107894139315,
          -0.8922617953366131,
          -0.1304564737507755,
          -0.712627526372936,
          -0.21148412951738027,
          -0.803660466757645,
          -0.2795304432141383,
          -0.7656507457744494,
          -1.2247199589979165,
          -0.16498458992525863,
          0.923653188973336,
          0.13764563658951204,
          0.043849382884496906,
          0.607314473420084,
          0.7462893879083348,
          0.18665312051788513,
          -1.4497989583537694,
          1.528431628745062,
          0.3712893622551243,
          0.47187897031748005,
          0.8177302430660359,
          -0.09631945740607714,
          0.2046001019962186,
          1.5632968046193618,
          0.28173247195427,
          -0.4990349917914575,
          0.4880662332937979,
          -1.6313543113852154,
          0.4398737132524965,
          0.22985411660186864,
          1.2996791563457732,
          -0.0015933251060393399,
          0.48577287679867154,
          -0.7611622677031836,
          -0.9177847234627884,
          0.31360597655689065,
          0.8504935212248734,
          -0.5321453076085406,
          -0.44651013637870907,
          -0.8221181957042193,
          1.8611329510653556,
          -1.9200683591650554,
          0.2640173821523596,
          -0.012626231690431604,
          3.152977471906116,
          0.3884525520079316
         ],
         "xaxis": "x",
         "yaxis": "y"
        },
        {
         "line": {
          "color": "rgba(128, 128, 128, 1.0)",
          "dash": "solid",
          "shape": "linear",
          "width": 1.3
         },
         "marker": {
          "size": 2,
          "symbol": "circle"
         },
         "mode": "markers",
         "name": "A",
         "text": "",
         "type": "scatter",
         "x": [
          0.47852473764124553,
          0.47953723587996805,
          -0.44148143458663514,
          1.7986040640014305,
          1.3887987421628392,
          1.597757985723844,
          0.5877999356373035,
          1.5808007026584723,
          -0.33360175851415325,
          -0.13122522278994106,
          0.3224781441878215,
          0.8496592084762307,
          -1.150154786050836,
          -0.03636065930498414,
          -0.5208283778493646,
          1.0938755117779735,
          0.15407640392163835,
          0.569679081793052,
          0.03260012363032162,
          0.9945392624370553,
          1.3904827907721824,
          1.775213217496774,
          -0.5429998873307663,
          0.0915471721012884,
          -0.09519693387176657,
          -1.5963958081570286,
          2.4465606576364927,
          1.5731633274545442,
          -0.08560470104480285,
          0.2580248761829393,
          1.539166024904185,
          0.5416302736813118,
          -0.6303030028201453,
          -0.20719439088977545,
          0.4791532829966961,
          0.6345908134255359,
          -1.4310301356276192,
          -1.3401692846786348,
          0.12938500637423184,
          0.8697464546388674,
          -1.233469614258414,
          2.266394093414955,
          0.4095157714369962,
          0.3129562945885272,
          0.6875159516001128,
          0.43742266506028393,
          -0.9548174472407832,
          0.07014485793751564,
          -0.20394038833768505,
          1.3440227943161343,
          -0.4211541610746663,
          1.1778831515862733,
          -0.20884700147291713,
          -0.6287794998087359,
          -0.7877323616235364,
          -1.2186019438648847,
          1.1458611752078418,
          -0.38447865902786865,
          -0.5223514043098862,
          0.8604521332601345,
          -0.29850097445053136,
          -1.0125124820836118,
          -0.13931808941227639,
          0.24397113215543434,
          1.7129575541024467,
          -0.3046189015886152,
          -2.304212940366996,
          0.9750048983151226,
          0.1917996277566565,
          1.7150797955986141,
          -0.6669591370086811,
          -0.8584067440066807,
          1.0979784717067602,
          -1.4142753213911983,
          -0.14952157401637756,
          -1.7533683614377518,
          0.12616412568399893,
          0.4011261217165389,
          -1.528023749999498,
          -2.447037347680574,
          -1.889348744499366,
          -0.9452629996802178,
          0.05039114426983621,
          1.1675519258374532,
          0.1295374021492559,
          0.3296377092381601,
          1.7544282508147742,
          -0.9871840427773075,
          -0.49209018295214213,
          -0.9434878688187036,
          1.6166091978251167,
          -0.23609503635320464,
          0.9761194029838546,
          0.7307775163820062,
          1.3621691942697398,
          0.4874710586315161,
          -2.211347382211482,
          0.24820113797038115,
          -7.074984288589023e-05,
          -0.9973009933770731
         ],
         "xaxis": "x2",
         "y": [
          1.5047071858675904,
          -1.2306437730366853,
          0.605020350239587,
          -0.11730722559215549,
          -0.5094486400300653,
          -0.03247951610040798,
          0.9731351835823545,
          -1.472511340085507,
          -0.23083304464393553,
          0.5787834027566838,
          -0.3156316458899452,
          -0.37854491314669936,
          -1.578313375563011,
          -0.7431436030597717,
          0.5630177560101443,
          -1.3333242685734497,
          -0.4812889971321455,
          0.46635368545417594,
          -0.09920746060052134,
          1.0140120472191738,
          -0.9225221157990605,
          1.4196106846836412,
          0.1952712362569279,
          -0.8168745709151536,
          -0.13975493326855662,
          0.5823845164628724,
          -0.04996888900130543,
          0.013820356133013887,
          -0.06830081283978562,
          0.19215684436051617,
          1.286435464479053,
          -0.33541662466852057,
          -2.8587717658377443,
          0.006416985094558975,
          1.2961166888011706,
          -0.08942228467851332,
          1.587406402848416,
          0.25947535251631904,
          -0.8048768802234534,
          -0.8419192982284646,
          -1.6039443064270875,
          0.10466270748776571,
          0.02998318674242047,
          -0.006862251689929032,
          -0.7660788034000553,
          1.1726861103538202,
          -0.27001683146847616,
          0.020866604645267316,
          -1.5500723287323086,
          -0.1353630979441134,
          0.10043734262022548,
          0.26824564753711505,
          0.12819938986961066,
          -1.17819730023147,
          0.43825107894139315,
          -0.8922617953366131,
          -0.1304564737507755,
          -0.712627526372936,
          -0.21148412951738027,
          -0.803660466757645,
          -0.2795304432141383,
          -0.7656507457744494,
          -1.2247199589979165,
          -0.16498458992525863,
          0.923653188973336,
          0.13764563658951204,
          0.043849382884496906,
          0.607314473420084,
          0.7462893879083348,
          0.18665312051788513,
          -1.4497989583537694,
          1.528431628745062,
          0.3712893622551243,
          0.47187897031748005,
          0.8177302430660359,
          -0.09631945740607714,
          0.2046001019962186,
          1.5632968046193618,
          0.28173247195427,
          -0.4990349917914575,
          0.4880662332937979,
          -1.6313543113852154,
          0.4398737132524965,
          0.22985411660186864,
          1.2996791563457732,
          -0.0015933251060393399,
          0.48577287679867154,
          -0.7611622677031836,
          -0.9177847234627884,
          0.31360597655689065,
          0.8504935212248734,
          -0.5321453076085406,
          -0.44651013637870907,
          -0.8221181957042193,
          1.8611329510653556,
          -1.9200683591650554,
          0.2640173821523596,
          -0.012626231690431604,
          3.152977471906116,
          0.3884525520079316
         ],
         "yaxis": "y2"
        },
        {
         "line": {
          "color": "rgba(128, 128, 128, 1.0)",
          "dash": "solid",
          "shape": "linear",
          "width": 1.3
         },
         "marker": {
          "size": 2,
          "symbol": "circle"
         },
         "mode": "markers",
         "name": "A",
         "text": "",
         "type": "scatter",
         "x": [
          -0.6000059072918577,
          1.3851327831240583,
          -0.8416605212960638,
          1.5154885208090547,
          0.35490000189417265,
          1.6908051929618615,
          -1.5287201794917664,
          -0.7349423678365664,
          -0.6913427780487162,
          -0.48028684240557384,
          -0.8194308330776271,
          -0.29106481926234773,
          -0.44013318857028755,
          -0.20308347702726706,
          0.35361926604476035,
          0.9088141438825913,
          -0.12621126330418034,
          0.2713276194712512,
          0.6134881669524676,
          -0.6779439897805137,
          0.24950517621334753,
          -2.2745063234013974,
          -0.7245357611636806,
          -0.6894443833026974,
          -0.1264702313571285,
          -1.7171240171463795,
          0.4649639516968302,
          0.28032078841628816,
          0.8187312513948517,
          1.8356694161971212,
          0.07111938776697482,
          0.5280542526634601,
          -0.16806824844991317,
          0.3000210389712474,
          -0.12397057872547237,
          -1.7083423879575599,
          1.00021666547896,
          -1.638137045671358,
          0.9357959636309474,
          0.05029229480271856,
          -0.07831195145744159,
          -0.23370643955925763,
          -0.5993775703744221,
          0.37675039193732496,
          0.24028123734389664,
          0.3093358333892805,
          -0.5924220763938935,
          0.7335935351551006,
          -0.44891339165705907,
          -0.35530507838316644,
          -0.4944060862732866,
          0.38313420932443837,
          1.1715219237750232,
          1.3121080758510824,
          0.809296311973692,
          0.44223568422499776,
          -1.0144546947415045,
          -2.0963256155813,
          0.8303089376644729,
          0.20727530570372368,
          0.6809398714532137,
          -0.20313700975503854,
          -0.8683297955457224,
          -0.8967516788430234,
          -2.890614614986278,
          -0.09993955098456375,
          -0.14383529393879205,
          -1.0973057711218217,
          -0.7504335408709724,
          0.9180133479107283,
          -0.5666948674783646,
          -1.9763329181438785,
          0.9938517046204264,
          0.23372817565574658,
          -0.30996996483053013,
          -0.7952300157721142,
          -0.5982382641896878,
          2.019467960329815,
          -1.2598852398508364,
          -2.3605648504641117,
          0.2688239708057861,
          0.3341326209586924,
          0.5781274307848184,
          -1.126794432746841,
          1.8186529196083057,
          -0.2257175946243995,
          -0.7327823203159495,
          -0.04215232447181377,
          0.35468065583520547,
          0.7529400572744188,
          -0.9070666616628649,
          -2.7491636513888267,
          -0.158765905268466,
          -1.5942636877571497,
          -0.034178501622841355,
          1.644502105606857,
          1.2278338376015379,
          0.22311899274343086,
          2.0926505853158326,
          0.14481317662602947
         ],
         "xaxis": "x3",
         "y": [
          1.5047071858675904,
          -1.2306437730366853,
          0.605020350239587,
          -0.11730722559215549,
          -0.5094486400300653,
          -0.03247951610040798,
          0.9731351835823545,
          -1.472511340085507,
          -0.23083304464393553,
          0.5787834027566838,
          -0.3156316458899452,
          -0.37854491314669936,
          -1.578313375563011,
          -0.7431436030597717,
          0.5630177560101443,
          -1.3333242685734497,
          -0.4812889971321455,
          0.46635368545417594,
          -0.09920746060052134,
          1.0140120472191738,
          -0.9225221157990605,
          1.4196106846836412,
          0.1952712362569279,
          -0.8168745709151536,
          -0.13975493326855662,
          0.5823845164628724,
          -0.04996888900130543,
          0.013820356133013887,
          -0.06830081283978562,
          0.19215684436051617,
          1.286435464479053,
          -0.33541662466852057,
          -2.8587717658377443,
          0.006416985094558975,
          1.2961166888011706,
          -0.08942228467851332,
          1.587406402848416,
          0.25947535251631904,
          -0.8048768802234534,
          -0.8419192982284646,
          -1.6039443064270875,
          0.10466270748776571,
          0.02998318674242047,
          -0.006862251689929032,
          -0.7660788034000553,
          1.1726861103538202,
          -0.27001683146847616,
          0.020866604645267316,
          -1.5500723287323086,
          -0.1353630979441134,
          0.10043734262022548,
          0.26824564753711505,
          0.12819938986961066,
          -1.17819730023147,
          0.43825107894139315,
          -0.8922617953366131,
          -0.1304564737507755,
          -0.712627526372936,
          -0.21148412951738027,
          -0.803660466757645,
          -0.2795304432141383,
          -0.7656507457744494,
          -1.2247199589979165,
          -0.16498458992525863,
          0.923653188973336,
          0.13764563658951204,
          0.043849382884496906,
          0.607314473420084,
          0.7462893879083348,
          0.18665312051788513,
          -1.4497989583537694,
          1.528431628745062,
          0.3712893622551243,
          0.47187897031748005,
          0.8177302430660359,
          -0.09631945740607714,
          0.2046001019962186,
          1.5632968046193618,
          0.28173247195427,
          -0.4990349917914575,
          0.4880662332937979,
          -1.6313543113852154,
          0.4398737132524965,
          0.22985411660186864,
          1.2996791563457732,
          -0.0015933251060393399,
          0.48577287679867154,
          -0.7611622677031836,
          -0.9177847234627884,
          0.31360597655689065,
          0.8504935212248734,
          -0.5321453076085406,
          -0.44651013637870907,
          -0.8221181957042193,
          1.8611329510653556,
          -1.9200683591650554,
          0.2640173821523596,
          -0.012626231690431604,
          3.152977471906116,
          0.3884525520079316
         ],
         "yaxis": "y3"
        },
        {
         "line": {
          "color": "rgba(128, 128, 128, 1.0)",
          "dash": "solid",
          "shape": "linear",
          "width": 1.3
         },
         "marker": {
          "size": 2,
          "symbol": "circle"
         },
         "mode": "markers",
         "name": "A",
         "text": "",
         "type": "scatter",
         "x": [
          -0.8082398228533931,
          -0.5150448150176067,
          -1.0877456219922552,
          -0.8048179509408832,
          0.6086999215692537,
          -0.5757069764316959,
          0.47345421556973416,
          -0.20836536589757984,
          -1.530474829093293,
          0.4219608143606672,
          -1.3598569545767323,
          0.26771371003290845,
          0.5983985813921551,
          -0.07616351426305064,
          -0.030391020270419882,
          1.001390782205427,
          0.9369229701129356,
          -0.356238064328411,
          -0.727088551183532,
          1.7896490382744903,
          -0.24431409954433136,
          0.2237147309778499,
          0.20738917270660667,
          -0.46228323064267396,
          2.0312627382663093,
          0.507205686431814,
          -1.1004206781437917,
          -0.40716791218137677,
          0.4903848006304384,
          -0.7918357006951539,
          1.9658079569926246,
          -0.6457999436135241,
          1.0614383133641743,
          0.27377992781923305,
          0.10701923381201559,
          -0.4000061087739593,
          -1.837251657679469,
          0.4880101965671579,
          0.6911914823146007,
          1.746647766580847,
          2.4730610128976025,
          0.6872374464358818,
          1.0732008846959473,
          -0.48774677137980743,
          -0.8095131203630446,
          -1.1453972995580883,
          0.6745284104776471,
          -0.7089344921988175,
          1.080404970897654,
          0.654933864788666,
          0.5993501954136305,
          0.6335112551331462,
          -0.3589185468179479,
          -1.404924418265637,
          0.013247846568394272,
          0.49121042562949946,
          -1.781961301376952,
          -0.3461391298088473,
          0.7079203769362604,
          -0.4845337136107974,
          2.2121393861141807,
          -1.2069802115680754,
          0.49389803836683593,
          -1.0011033326444534,
          0.004752979140422849,
          -0.8451778958184031,
          -0.6643597024318079,
          -0.40229732951149305,
          -0.7377438349276196,
          0.7143190164674909,
          3.2165361910584975,
          -0.2990466181868432,
          0.5983848199307756,
          -0.6547230911032215,
          -1.3508232926668085,
          -0.30203008713704566,
          0.8222645436335331,
          0.7683362411825844,
          0.20502092967846014,
          -1.3032276841045292,
          -1.9480148669781658,
          0.49509145239623104,
          0.6957201739268423,
          -0.6099904097456169,
          1.055965324015916,
          0.006084384263107051,
          1.4515849407547137,
          -0.4514929498138888,
          -0.2807620187625043,
          -0.4223488763697073,
          -1.017141859337329,
          0.6388544156437523,
          0.2593832599300954,
          -0.24507572484234003,
          -0.48759006253485254,
          -1.7667005971711343,
          -0.035067253089737994,
          -1.256620895729348,
          -0.13091364656474716,
          2.1494704847322295
         ],
         "xaxis": "x4",
         "y": [
          1.5047071858675904,
          -1.2306437730366853,
          0.605020350239587,
          -0.11730722559215549,
          -0.5094486400300653,
          -0.03247951610040798,
          0.9731351835823545,
          -1.472511340085507,
          -0.23083304464393553,
          0.5787834027566838,
          -0.3156316458899452,
          -0.37854491314669936,
          -1.578313375563011,
          -0.7431436030597717,
          0.5630177560101443,
          -1.3333242685734497,
          -0.4812889971321455,
          0.46635368545417594,
          -0.09920746060052134,
          1.0140120472191738,
          -0.9225221157990605,
          1.4196106846836412,
          0.1952712362569279,
          -0.8168745709151536,
          -0.13975493326855662,
          0.5823845164628724,
          -0.04996888900130543,
          0.013820356133013887,
          -0.06830081283978562,
          0.19215684436051617,
          1.286435464479053,
          -0.33541662466852057,
          -2.8587717658377443,
          0.006416985094558975,
          1.2961166888011706,
          -0.08942228467851332,
          1.587406402848416,
          0.25947535251631904,
          -0.8048768802234534,
          -0.8419192982284646,
          -1.6039443064270875,
          0.10466270748776571,
          0.02998318674242047,
          -0.006862251689929032,
          -0.7660788034000553,
          1.1726861103538202,
          -0.27001683146847616,
          0.020866604645267316,
          -1.5500723287323086,
          -0.1353630979441134,
          0.10043734262022548,
          0.26824564753711505,
          0.12819938986961066,
          -1.17819730023147,
          0.43825107894139315,
          -0.8922617953366131,
          -0.1304564737507755,
          -0.712627526372936,
          -0.21148412951738027,
          -0.803660466757645,
          -0.2795304432141383,
          -0.7656507457744494,
          -1.2247199589979165,
          -0.16498458992525863,
          0.923653188973336,
          0.13764563658951204,
          0.043849382884496906,
          0.607314473420084,
          0.7462893879083348,
          0.18665312051788513,
          -1.4497989583537694,
          1.528431628745062,
          0.3712893622551243,
          0.47187897031748005,
          0.8177302430660359,
          -0.09631945740607714,
          0.2046001019962186,
          1.5632968046193618,
          0.28173247195427,
          -0.4990349917914575,
          0.4880662332937979,
          -1.6313543113852154,
          0.4398737132524965,
          0.22985411660186864,
          1.2996791563457732,
          -0.0015933251060393399,
          0.48577287679867154,
          -0.7611622677031836,
          -0.9177847234627884,
          0.31360597655689065,
          0.8504935212248734,
          -0.5321453076085406,
          -0.44651013637870907,
          -0.8221181957042193,
          1.8611329510653556,
          -1.9200683591650554,
          0.2640173821523596,
          -0.012626231690431604,
          3.152977471906116,
          0.3884525520079316
         ],
         "yaxis": "y4"
        },
        {
         "line": {
          "color": "rgba(128, 128, 128, 1.0)",
          "dash": "solid",
          "shape": "linear",
          "width": 1.3
         },
         "marker": {
          "size": 2,
          "symbol": "circle"
         },
         "mode": "markers",
         "name": "B",
         "text": "",
         "type": "scatter",
         "x": [
          1.5047071858675904,
          -1.2306437730366853,
          0.605020350239587,
          -0.11730722559215549,
          -0.5094486400300653,
          -0.03247951610040798,
          0.9731351835823545,
          -1.472511340085507,
          -0.23083304464393553,
          0.5787834027566838,
          -0.3156316458899452,
          -0.37854491314669936,
          -1.578313375563011,
          -0.7431436030597717,
          0.5630177560101443,
          -1.3333242685734497,
          -0.4812889971321455,
          0.46635368545417594,
          -0.09920746060052134,
          1.0140120472191738,
          -0.9225221157990605,
          1.4196106846836412,
          0.1952712362569279,
          -0.8168745709151536,
          -0.13975493326855662,
          0.5823845164628724,
          -0.04996888900130543,
          0.013820356133013887,
          -0.06830081283978562,
          0.19215684436051617,
          1.286435464479053,
          -0.33541662466852057,
          -2.8587717658377443,
          0.006416985094558975,
          1.2961166888011706,
          -0.08942228467851332,
          1.587406402848416,
          0.25947535251631904,
          -0.8048768802234534,
          -0.8419192982284646,
          -1.6039443064270875,
          0.10466270748776571,
          0.02998318674242047,
          -0.006862251689929032,
          -0.7660788034000553,
          1.1726861103538202,
          -0.27001683146847616,
          0.020866604645267316,
          -1.5500723287323086,
          -0.1353630979441134,
          0.10043734262022548,
          0.26824564753711505,
          0.12819938986961066,
          -1.17819730023147,
          0.43825107894139315,
          -0.8922617953366131,
          -0.1304564737507755,
          -0.712627526372936,
          -0.21148412951738027,
          -0.803660466757645,
          -0.2795304432141383,
          -0.7656507457744494,
          -1.2247199589979165,
          -0.16498458992525863,
          0.923653188973336,
          0.13764563658951204,
          0.043849382884496906,
          0.607314473420084,
          0.7462893879083348,
          0.18665312051788513,
          -1.4497989583537694,
          1.528431628745062,
          0.3712893622551243,
          0.47187897031748005,
          0.8177302430660359,
          -0.09631945740607714,
          0.2046001019962186,
          1.5632968046193618,
          0.28173247195427,
          -0.4990349917914575,
          0.4880662332937979,
          -1.6313543113852154,
          0.4398737132524965,
          0.22985411660186864,
          1.2996791563457732,
          -0.0015933251060393399,
          0.48577287679867154,
          -0.7611622677031836,
          -0.9177847234627884,
          0.31360597655689065,
          0.8504935212248734,
          -0.5321453076085406,
          -0.44651013637870907,
          -0.8221181957042193,
          1.8611329510653556,
          -1.9200683591650554,
          0.2640173821523596,
          -0.012626231690431604,
          3.152977471906116,
          0.3884525520079316
         ],
         "xaxis": "x5",
         "y": [
          0.47852473764124553,
          0.47953723587996805,
          -0.44148143458663514,
          1.7986040640014305,
          1.3887987421628392,
          1.597757985723844,
          0.5877999356373035,
          1.5808007026584723,
          -0.33360175851415325,
          -0.13122522278994106,
          0.3224781441878215,
          0.8496592084762307,
          -1.150154786050836,
          -0.03636065930498414,
          -0.5208283778493646,
          1.0938755117779735,
          0.15407640392163835,
          0.569679081793052,
          0.03260012363032162,
          0.9945392624370553,
          1.3904827907721824,
          1.775213217496774,
          -0.5429998873307663,
          0.0915471721012884,
          -0.09519693387176657,
          -1.5963958081570286,
          2.4465606576364927,
          1.5731633274545442,
          -0.08560470104480285,
          0.2580248761829393,
          1.539166024904185,
          0.5416302736813118,
          -0.6303030028201453,
          -0.20719439088977545,
          0.4791532829966961,
          0.6345908134255359,
          -1.4310301356276192,
          -1.3401692846786348,
          0.12938500637423184,
          0.8697464546388674,
          -1.233469614258414,
          2.266394093414955,
          0.4095157714369962,
          0.3129562945885272,
          0.6875159516001128,
          0.43742266506028393,
          -0.9548174472407832,
          0.07014485793751564,
          -0.20394038833768505,
          1.3440227943161343,
          -0.4211541610746663,
          1.1778831515862733,
          -0.20884700147291713,
          -0.6287794998087359,
          -0.7877323616235364,
          -1.2186019438648847,
          1.1458611752078418,
          -0.38447865902786865,
          -0.5223514043098862,
          0.8604521332601345,
          -0.29850097445053136,
          -1.0125124820836118,
          -0.13931808941227639,
          0.24397113215543434,
          1.7129575541024467,
          -0.3046189015886152,
          -2.304212940366996,
          0.9750048983151226,
          0.1917996277566565,
          1.7150797955986141,
          -0.6669591370086811,
          -0.8584067440066807,
          1.0979784717067602,
          -1.4142753213911983,
          -0.14952157401637756,
          -1.7533683614377518,
          0.12616412568399893,
          0.4011261217165389,
          -1.528023749999498,
          -2.447037347680574,
          -1.889348744499366,
          -0.9452629996802178,
          0.05039114426983621,
          1.1675519258374532,
          0.1295374021492559,
          0.3296377092381601,
          1.7544282508147742,
          -0.9871840427773075,
          -0.49209018295214213,
          -0.9434878688187036,
          1.6166091978251167,
          -0.23609503635320464,
          0.9761194029838546,
          0.7307775163820062,
          1.3621691942697398,
          0.4874710586315161,
          -2.211347382211482,
          0.24820113797038115,
          -7.074984288589023e-05,
          -0.9973009933770731
         ],
         "yaxis": "y5"
        },
        {
         "histfunc": "count",
         "histnorm": "",
         "marker": {
          "color": "rgba(55, 128, 191, 1.0)",
          "line": {
           "color": "#4D5663",
           "width": 1.3
          }
         },
         "name": "B",
         "nbinsx": 10,
         "opacity": 0.8,
         "orientation": "v",
         "type": "histogram",
         "x": [
          0.47852473764124553,
          0.47953723587996805,
          -0.44148143458663514,
          1.7986040640014305,
          1.3887987421628392,
          1.597757985723844,
          0.5877999356373035,
          1.5808007026584723,
          -0.33360175851415325,
          -0.13122522278994106,
          0.3224781441878215,
          0.8496592084762307,
          -1.150154786050836,
          -0.03636065930498414,
          -0.5208283778493646,
          1.0938755117779735,
          0.15407640392163835,
          0.569679081793052,
          0.03260012363032162,
          0.9945392624370553,
          1.3904827907721824,
          1.775213217496774,
          -0.5429998873307663,
          0.0915471721012884,
          -0.09519693387176657,
          -1.5963958081570286,
          2.4465606576364927,
          1.5731633274545442,
          -0.08560470104480285,
          0.2580248761829393,
          1.539166024904185,
          0.5416302736813118,
          -0.6303030028201453,
          -0.20719439088977545,
          0.4791532829966961,
          0.6345908134255359,
          -1.4310301356276192,
          -1.3401692846786348,
          0.12938500637423184,
          0.8697464546388674,
          -1.233469614258414,
          2.266394093414955,
          0.4095157714369962,
          0.3129562945885272,
          0.6875159516001128,
          0.43742266506028393,
          -0.9548174472407832,
          0.07014485793751564,
          -0.20394038833768505,
          1.3440227943161343,
          -0.4211541610746663,
          1.1778831515862733,
          -0.20884700147291713,
          -0.6287794998087359,
          -0.7877323616235364,
          -1.2186019438648847,
          1.1458611752078418,
          -0.38447865902786865,
          -0.5223514043098862,
          0.8604521332601345,
          -0.29850097445053136,
          -1.0125124820836118,
          -0.13931808941227639,
          0.24397113215543434,
          1.7129575541024467,
          -0.3046189015886152,
          -2.304212940366996,
          0.9750048983151226,
          0.1917996277566565,
          1.7150797955986141,
          -0.6669591370086811,
          -0.8584067440066807,
          1.0979784717067602,
          -1.4142753213911983,
          -0.14952157401637756,
          -1.7533683614377518,
          0.12616412568399893,
          0.4011261217165389,
          -1.528023749999498,
          -2.447037347680574,
          -1.889348744499366,
          -0.9452629996802178,
          0.05039114426983621,
          1.1675519258374532,
          0.1295374021492559,
          0.3296377092381601,
          1.7544282508147742,
          -0.9871840427773075,
          -0.49209018295214213,
          -0.9434878688187036,
          1.6166091978251167,
          -0.23609503635320464,
          0.9761194029838546,
          0.7307775163820062,
          1.3621691942697398,
          0.4874710586315161,
          -2.211347382211482,
          0.24820113797038115,
          -7.074984288589023e-05,
          -0.9973009933770731
         ],
         "xaxis": "x6",
         "yaxis": "y6"
        },
        {
         "line": {
          "color": "rgba(128, 128, 128, 1.0)",
          "dash": "solid",
          "shape": "linear",
          "width": 1.3
         },
         "marker": {
          "size": 2,
          "symbol": "circle"
         },
         "mode": "markers",
         "name": "B",
         "text": "",
         "type": "scatter",
         "x": [
          -0.6000059072918577,
          1.3851327831240583,
          -0.8416605212960638,
          1.5154885208090547,
          0.35490000189417265,
          1.6908051929618615,
          -1.5287201794917664,
          -0.7349423678365664,
          -0.6913427780487162,
          -0.48028684240557384,
          -0.8194308330776271,
          -0.29106481926234773,
          -0.44013318857028755,
          -0.20308347702726706,
          0.35361926604476035,
          0.9088141438825913,
          -0.12621126330418034,
          0.2713276194712512,
          0.6134881669524676,
          -0.6779439897805137,
          0.24950517621334753,
          -2.2745063234013974,
          -0.7245357611636806,
          -0.6894443833026974,
          -0.1264702313571285,
          -1.7171240171463795,
          0.4649639516968302,
          0.28032078841628816,
          0.8187312513948517,
          1.8356694161971212,
          0.07111938776697482,
          0.5280542526634601,
          -0.16806824844991317,
          0.3000210389712474,
          -0.12397057872547237,
          -1.7083423879575599,
          1.00021666547896,
          -1.638137045671358,
          0.9357959636309474,
          0.05029229480271856,
          -0.07831195145744159,
          -0.23370643955925763,
          -0.5993775703744221,
          0.37675039193732496,
          0.24028123734389664,
          0.3093358333892805,
          -0.5924220763938935,
          0.7335935351551006,
          -0.44891339165705907,
          -0.35530507838316644,
          -0.4944060862732866,
          0.38313420932443837,
          1.1715219237750232,
          1.3121080758510824,
          0.809296311973692,
          0.44223568422499776,
          -1.0144546947415045,
          -2.0963256155813,
          0.8303089376644729,
          0.20727530570372368,
          0.6809398714532137,
          -0.20313700975503854,
          -0.8683297955457224,
          -0.8967516788430234,
          -2.890614614986278,
          -0.09993955098456375,
          -0.14383529393879205,
          -1.0973057711218217,
          -0.7504335408709724,
          0.9180133479107283,
          -0.5666948674783646,
          -1.9763329181438785,
          0.9938517046204264,
          0.23372817565574658,
          -0.30996996483053013,
          -0.7952300157721142,
          -0.5982382641896878,
          2.019467960329815,
          -1.2598852398508364,
          -2.3605648504641117,
          0.2688239708057861,
          0.3341326209586924,
          0.5781274307848184,
          -1.126794432746841,
          1.8186529196083057,
          -0.2257175946243995,
          -0.7327823203159495,
          -0.04215232447181377,
          0.35468065583520547,
          0.7529400572744188,
          -0.9070666616628649,
          -2.7491636513888267,
          -0.158765905268466,
          -1.5942636877571497,
          -0.034178501622841355,
          1.644502105606857,
          1.2278338376015379,
          0.22311899274343086,
          2.0926505853158326,
          0.14481317662602947
         ],
         "xaxis": "x7",
         "y": [
          0.47852473764124553,
          0.47953723587996805,
          -0.44148143458663514,
          1.7986040640014305,
          1.3887987421628392,
          1.597757985723844,
          0.5877999356373035,
          1.5808007026584723,
          -0.33360175851415325,
          -0.13122522278994106,
          0.3224781441878215,
          0.8496592084762307,
          -1.150154786050836,
          -0.03636065930498414,
          -0.5208283778493646,
          1.0938755117779735,
          0.15407640392163835,
          0.569679081793052,
          0.03260012363032162,
          0.9945392624370553,
          1.3904827907721824,
          1.775213217496774,
          -0.5429998873307663,
          0.0915471721012884,
          -0.09519693387176657,
          -1.5963958081570286,
          2.4465606576364927,
          1.5731633274545442,
          -0.08560470104480285,
          0.2580248761829393,
          1.539166024904185,
          0.5416302736813118,
          -0.6303030028201453,
          -0.20719439088977545,
          0.4791532829966961,
          0.6345908134255359,
          -1.4310301356276192,
          -1.3401692846786348,
          0.12938500637423184,
          0.8697464546388674,
          -1.233469614258414,
          2.266394093414955,
          0.4095157714369962,
          0.3129562945885272,
          0.6875159516001128,
          0.43742266506028393,
          -0.9548174472407832,
          0.07014485793751564,
          -0.20394038833768505,
          1.3440227943161343,
          -0.4211541610746663,
          1.1778831515862733,
          -0.20884700147291713,
          -0.6287794998087359,
          -0.7877323616235364,
          -1.2186019438648847,
          1.1458611752078418,
          -0.38447865902786865,
          -0.5223514043098862,
          0.8604521332601345,
          -0.29850097445053136,
          -1.0125124820836118,
          -0.13931808941227639,
          0.24397113215543434,
          1.7129575541024467,
          -0.3046189015886152,
          -2.304212940366996,
          0.9750048983151226,
          0.1917996277566565,
          1.7150797955986141,
          -0.6669591370086811,
          -0.8584067440066807,
          1.0979784717067602,
          -1.4142753213911983,
          -0.14952157401637756,
          -1.7533683614377518,
          0.12616412568399893,
          0.4011261217165389,
          -1.528023749999498,
          -2.447037347680574,
          -1.889348744499366,
          -0.9452629996802178,
          0.05039114426983621,
          1.1675519258374532,
          0.1295374021492559,
          0.3296377092381601,
          1.7544282508147742,
          -0.9871840427773075,
          -0.49209018295214213,
          -0.9434878688187036,
          1.6166091978251167,
          -0.23609503635320464,
          0.9761194029838546,
          0.7307775163820062,
          1.3621691942697398,
          0.4874710586315161,
          -2.211347382211482,
          0.24820113797038115,
          -7.074984288589023e-05,
          -0.9973009933770731
         ],
         "yaxis": "y7"
        },
        {
         "line": {
          "color": "rgba(128, 128, 128, 1.0)",
          "dash": "solid",
          "shape": "linear",
          "width": 1.3
         },
         "marker": {
          "size": 2,
          "symbol": "circle"
         },
         "mode": "markers",
         "name": "B",
         "text": "",
         "type": "scatter",
         "x": [
          -0.8082398228533931,
          -0.5150448150176067,
          -1.0877456219922552,
          -0.8048179509408832,
          0.6086999215692537,
          -0.5757069764316959,
          0.47345421556973416,
          -0.20836536589757984,
          -1.530474829093293,
          0.4219608143606672,
          -1.3598569545767323,
          0.26771371003290845,
          0.5983985813921551,
          -0.07616351426305064,
          -0.030391020270419882,
          1.001390782205427,
          0.9369229701129356,
          -0.356238064328411,
          -0.727088551183532,
          1.7896490382744903,
          -0.24431409954433136,
          0.2237147309778499,
          0.20738917270660667,
          -0.46228323064267396,
          2.0312627382663093,
          0.507205686431814,
          -1.1004206781437917,
          -0.40716791218137677,
          0.4903848006304384,
          -0.7918357006951539,
          1.9658079569926246,
          -0.6457999436135241,
          1.0614383133641743,
          0.27377992781923305,
          0.10701923381201559,
          -0.4000061087739593,
          -1.837251657679469,
          0.4880101965671579,
          0.6911914823146007,
          1.746647766580847,
          2.4730610128976025,
          0.6872374464358818,
          1.0732008846959473,
          -0.48774677137980743,
          -0.8095131203630446,
          -1.1453972995580883,
          0.6745284104776471,
          -0.7089344921988175,
          1.080404970897654,
          0.654933864788666,
          0.5993501954136305,
          0.6335112551331462,
          -0.3589185468179479,
          -1.404924418265637,
          0.013247846568394272,
          0.49121042562949946,
          -1.781961301376952,
          -0.3461391298088473,
          0.7079203769362604,
          -0.4845337136107974,
          2.2121393861141807,
          -1.2069802115680754,
          0.49389803836683593,
          -1.0011033326444534,
          0.004752979140422849,
          -0.8451778958184031,
          -0.6643597024318079,
          -0.40229732951149305,
          -0.7377438349276196,
          0.7143190164674909,
          3.2165361910584975,
          -0.2990466181868432,
          0.5983848199307756,
          -0.6547230911032215,
          -1.3508232926668085,
          -0.30203008713704566,
          0.8222645436335331,
          0.7683362411825844,
          0.20502092967846014,
          -1.3032276841045292,
          -1.9480148669781658,
          0.49509145239623104,
          0.6957201739268423,
          -0.6099904097456169,
          1.055965324015916,
          0.006084384263107051,
          1.4515849407547137,
          -0.4514929498138888,
          -0.2807620187625043,
          -0.4223488763697073,
          -1.017141859337329,
          0.6388544156437523,
          0.2593832599300954,
          -0.24507572484234003,
          -0.48759006253485254,
          -1.7667005971711343,
          -0.035067253089737994,
          -1.256620895729348,
          -0.13091364656474716,
          2.1494704847322295
         ],
         "xaxis": "x8",
         "y": [
          0.47852473764124553,
          0.47953723587996805,
          -0.44148143458663514,
          1.7986040640014305,
          1.3887987421628392,
          1.597757985723844,
          0.5877999356373035,
          1.5808007026584723,
          -0.33360175851415325,
          -0.13122522278994106,
          0.3224781441878215,
          0.8496592084762307,
          -1.150154786050836,
          -0.03636065930498414,
          -0.5208283778493646,
          1.0938755117779735,
          0.15407640392163835,
          0.569679081793052,
          0.03260012363032162,
          0.9945392624370553,
          1.3904827907721824,
          1.775213217496774,
          -0.5429998873307663,
          0.0915471721012884,
          -0.09519693387176657,
          -1.5963958081570286,
          2.4465606576364927,
          1.5731633274545442,
          -0.08560470104480285,
          0.2580248761829393,
          1.539166024904185,
          0.5416302736813118,
          -0.6303030028201453,
          -0.20719439088977545,
          0.4791532829966961,
          0.6345908134255359,
          -1.4310301356276192,
          -1.3401692846786348,
          0.12938500637423184,
          0.8697464546388674,
          -1.233469614258414,
          2.266394093414955,
          0.4095157714369962,
          0.3129562945885272,
          0.6875159516001128,
          0.43742266506028393,
          -0.9548174472407832,
          0.07014485793751564,
          -0.20394038833768505,
          1.3440227943161343,
          -0.4211541610746663,
          1.1778831515862733,
          -0.20884700147291713,
          -0.6287794998087359,
          -0.7877323616235364,
          -1.2186019438648847,
          1.1458611752078418,
          -0.38447865902786865,
          -0.5223514043098862,
          0.8604521332601345,
          -0.29850097445053136,
          -1.0125124820836118,
          -0.13931808941227639,
          0.24397113215543434,
          1.7129575541024467,
          -0.3046189015886152,
          -2.304212940366996,
          0.9750048983151226,
          0.1917996277566565,
          1.7150797955986141,
          -0.6669591370086811,
          -0.8584067440066807,
          1.0979784717067602,
          -1.4142753213911983,
          -0.14952157401637756,
          -1.7533683614377518,
          0.12616412568399893,
          0.4011261217165389,
          -1.528023749999498,
          -2.447037347680574,
          -1.889348744499366,
          -0.9452629996802178,
          0.05039114426983621,
          1.1675519258374532,
          0.1295374021492559,
          0.3296377092381601,
          1.7544282508147742,
          -0.9871840427773075,
          -0.49209018295214213,
          -0.9434878688187036,
          1.6166091978251167,
          -0.23609503635320464,
          0.9761194029838546,
          0.7307775163820062,
          1.3621691942697398,
          0.4874710586315161,
          -2.211347382211482,
          0.24820113797038115,
          -7.074984288589023e-05,
          -0.9973009933770731
         ],
         "yaxis": "y8"
        },
        {
         "line": {
          "color": "rgba(128, 128, 128, 1.0)",
          "dash": "solid",
          "shape": "linear",
          "width": 1.3
         },
         "marker": {
          "size": 2,
          "symbol": "circle"
         },
         "mode": "markers",
         "name": "C",
         "text": "",
         "type": "scatter",
         "x": [
          1.5047071858675904,
          -1.2306437730366853,
          0.605020350239587,
          -0.11730722559215549,
          -0.5094486400300653,
          -0.03247951610040798,
          0.9731351835823545,
          -1.472511340085507,
          -0.23083304464393553,
          0.5787834027566838,
          -0.3156316458899452,
          -0.37854491314669936,
          -1.578313375563011,
          -0.7431436030597717,
          0.5630177560101443,
          -1.3333242685734497,
          -0.4812889971321455,
          0.46635368545417594,
          -0.09920746060052134,
          1.0140120472191738,
          -0.9225221157990605,
          1.4196106846836412,
          0.1952712362569279,
          -0.8168745709151536,
          -0.13975493326855662,
          0.5823845164628724,
          -0.04996888900130543,
          0.013820356133013887,
          -0.06830081283978562,
          0.19215684436051617,
          1.286435464479053,
          -0.33541662466852057,
          -2.8587717658377443,
          0.006416985094558975,
          1.2961166888011706,
          -0.08942228467851332,
          1.587406402848416,
          0.25947535251631904,
          -0.8048768802234534,
          -0.8419192982284646,
          -1.6039443064270875,
          0.10466270748776571,
          0.02998318674242047,
          -0.006862251689929032,
          -0.7660788034000553,
          1.1726861103538202,
          -0.27001683146847616,
          0.020866604645267316,
          -1.5500723287323086,
          -0.1353630979441134,
          0.10043734262022548,
          0.26824564753711505,
          0.12819938986961066,
          -1.17819730023147,
          0.43825107894139315,
          -0.8922617953366131,
          -0.1304564737507755,
          -0.712627526372936,
          -0.21148412951738027,
          -0.803660466757645,
          -0.2795304432141383,
          -0.7656507457744494,
          -1.2247199589979165,
          -0.16498458992525863,
          0.923653188973336,
          0.13764563658951204,
          0.043849382884496906,
          0.607314473420084,
          0.7462893879083348,
          0.18665312051788513,
          -1.4497989583537694,
          1.528431628745062,
          0.3712893622551243,
          0.47187897031748005,
          0.8177302430660359,
          -0.09631945740607714,
          0.2046001019962186,
          1.5632968046193618,
          0.28173247195427,
          -0.4990349917914575,
          0.4880662332937979,
          -1.6313543113852154,
          0.4398737132524965,
          0.22985411660186864,
          1.2996791563457732,
          -0.0015933251060393399,
          0.48577287679867154,
          -0.7611622677031836,
          -0.9177847234627884,
          0.31360597655689065,
          0.8504935212248734,
          -0.5321453076085406,
          -0.44651013637870907,
          -0.8221181957042193,
          1.8611329510653556,
          -1.9200683591650554,
          0.2640173821523596,
          -0.012626231690431604,
          3.152977471906116,
          0.3884525520079316
         ],
         "xaxis": "x9",
         "y": [
          -0.6000059072918577,
          1.3851327831240583,
          -0.8416605212960638,
          1.5154885208090547,
          0.35490000189417265,
          1.6908051929618615,
          -1.5287201794917664,
          -0.7349423678365664,
          -0.6913427780487162,
          -0.48028684240557384,
          -0.8194308330776271,
          -0.29106481926234773,
          -0.44013318857028755,
          -0.20308347702726706,
          0.35361926604476035,
          0.9088141438825913,
          -0.12621126330418034,
          0.2713276194712512,
          0.6134881669524676,
          -0.6779439897805137,
          0.24950517621334753,
          -2.2745063234013974,
          -0.7245357611636806,
          -0.6894443833026974,
          -0.1264702313571285,
          -1.7171240171463795,
          0.4649639516968302,
          0.28032078841628816,
          0.8187312513948517,
          1.8356694161971212,
          0.07111938776697482,
          0.5280542526634601,
          -0.16806824844991317,
          0.3000210389712474,
          -0.12397057872547237,
          -1.7083423879575599,
          1.00021666547896,
          -1.638137045671358,
          0.9357959636309474,
          0.05029229480271856,
          -0.07831195145744159,
          -0.23370643955925763,
          -0.5993775703744221,
          0.37675039193732496,
          0.24028123734389664,
          0.3093358333892805,
          -0.5924220763938935,
          0.7335935351551006,
          -0.44891339165705907,
          -0.35530507838316644,
          -0.4944060862732866,
          0.38313420932443837,
          1.1715219237750232,
          1.3121080758510824,
          0.809296311973692,
          0.44223568422499776,
          -1.0144546947415045,
          -2.0963256155813,
          0.8303089376644729,
          0.20727530570372368,
          0.6809398714532137,
          -0.20313700975503854,
          -0.8683297955457224,
          -0.8967516788430234,
          -2.890614614986278,
          -0.09993955098456375,
          -0.14383529393879205,
          -1.0973057711218217,
          -0.7504335408709724,
          0.9180133479107283,
          -0.5666948674783646,
          -1.9763329181438785,
          0.9938517046204264,
          0.23372817565574658,
          -0.30996996483053013,
          -0.7952300157721142,
          -0.5982382641896878,
          2.019467960329815,
          -1.2598852398508364,
          -2.3605648504641117,
          0.2688239708057861,
          0.3341326209586924,
          0.5781274307848184,
          -1.126794432746841,
          1.8186529196083057,
          -0.2257175946243995,
          -0.7327823203159495,
          -0.04215232447181377,
          0.35468065583520547,
          0.7529400572744188,
          -0.9070666616628649,
          -2.7491636513888267,
          -0.158765905268466,
          -1.5942636877571497,
          -0.034178501622841355,
          1.644502105606857,
          1.2278338376015379,
          0.22311899274343086,
          2.0926505853158326,
          0.14481317662602947
         ],
         "yaxis": "y9"
        },
        {
         "line": {
          "color": "rgba(128, 128, 128, 1.0)",
          "dash": "solid",
          "shape": "linear",
          "width": 1.3
         },
         "marker": {
          "size": 2,
          "symbol": "circle"
         },
         "mode": "markers",
         "name": "C",
         "text": "",
         "type": "scatter",
         "x": [
          0.47852473764124553,
          0.47953723587996805,
          -0.44148143458663514,
          1.7986040640014305,
          1.3887987421628392,
          1.597757985723844,
          0.5877999356373035,
          1.5808007026584723,
          -0.33360175851415325,
          -0.13122522278994106,
          0.3224781441878215,
          0.8496592084762307,
          -1.150154786050836,
          -0.03636065930498414,
          -0.5208283778493646,
          1.0938755117779735,
          0.15407640392163835,
          0.569679081793052,
          0.03260012363032162,
          0.9945392624370553,
          1.3904827907721824,
          1.775213217496774,
          -0.5429998873307663,
          0.0915471721012884,
          -0.09519693387176657,
          -1.5963958081570286,
          2.4465606576364927,
          1.5731633274545442,
          -0.08560470104480285,
          0.2580248761829393,
          1.539166024904185,
          0.5416302736813118,
          -0.6303030028201453,
          -0.20719439088977545,
          0.4791532829966961,
          0.6345908134255359,
          -1.4310301356276192,
          -1.3401692846786348,
          0.12938500637423184,
          0.8697464546388674,
          -1.233469614258414,
          2.266394093414955,
          0.4095157714369962,
          0.3129562945885272,
          0.6875159516001128,
          0.43742266506028393,
          -0.9548174472407832,
          0.07014485793751564,
          -0.20394038833768505,
          1.3440227943161343,
          -0.4211541610746663,
          1.1778831515862733,
          -0.20884700147291713,
          -0.6287794998087359,
          -0.7877323616235364,
          -1.2186019438648847,
          1.1458611752078418,
          -0.38447865902786865,
          -0.5223514043098862,
          0.8604521332601345,
          -0.29850097445053136,
          -1.0125124820836118,
          -0.13931808941227639,
          0.24397113215543434,
          1.7129575541024467,
          -0.3046189015886152,
          -2.304212940366996,
          0.9750048983151226,
          0.1917996277566565,
          1.7150797955986141,
          -0.6669591370086811,
          -0.8584067440066807,
          1.0979784717067602,
          -1.4142753213911983,
          -0.14952157401637756,
          -1.7533683614377518,
          0.12616412568399893,
          0.4011261217165389,
          -1.528023749999498,
          -2.447037347680574,
          -1.889348744499366,
          -0.9452629996802178,
          0.05039114426983621,
          1.1675519258374532,
          0.1295374021492559,
          0.3296377092381601,
          1.7544282508147742,
          -0.9871840427773075,
          -0.49209018295214213,
          -0.9434878688187036,
          1.6166091978251167,
          -0.23609503635320464,
          0.9761194029838546,
          0.7307775163820062,
          1.3621691942697398,
          0.4874710586315161,
          -2.211347382211482,
          0.24820113797038115,
          -7.074984288589023e-05,
          -0.9973009933770731
         ],
         "xaxis": "x10",
         "y": [
          -0.6000059072918577,
          1.3851327831240583,
          -0.8416605212960638,
          1.5154885208090547,
          0.35490000189417265,
          1.6908051929618615,
          -1.5287201794917664,
          -0.7349423678365664,
          -0.6913427780487162,
          -0.48028684240557384,
          -0.8194308330776271,
          -0.29106481926234773,
          -0.44013318857028755,
          -0.20308347702726706,
          0.35361926604476035,
          0.9088141438825913,
          -0.12621126330418034,
          0.2713276194712512,
          0.6134881669524676,
          -0.6779439897805137,
          0.24950517621334753,
          -2.2745063234013974,
          -0.7245357611636806,
          -0.6894443833026974,
          -0.1264702313571285,
          -1.7171240171463795,
          0.4649639516968302,
          0.28032078841628816,
          0.8187312513948517,
          1.8356694161971212,
          0.07111938776697482,
          0.5280542526634601,
          -0.16806824844991317,
          0.3000210389712474,
          -0.12397057872547237,
          -1.7083423879575599,
          1.00021666547896,
          -1.638137045671358,
          0.9357959636309474,
          0.05029229480271856,
          -0.07831195145744159,
          -0.23370643955925763,
          -0.5993775703744221,
          0.37675039193732496,
          0.24028123734389664,
          0.3093358333892805,
          -0.5924220763938935,
          0.7335935351551006,
          -0.44891339165705907,
          -0.35530507838316644,
          -0.4944060862732866,
          0.38313420932443837,
          1.1715219237750232,
          1.3121080758510824,
          0.809296311973692,
          0.44223568422499776,
          -1.0144546947415045,
          -2.0963256155813,
          0.8303089376644729,
          0.20727530570372368,
          0.6809398714532137,
          -0.20313700975503854,
          -0.8683297955457224,
          -0.8967516788430234,
          -2.890614614986278,
          -0.09993955098456375,
          -0.14383529393879205,
          -1.0973057711218217,
          -0.7504335408709724,
          0.9180133479107283,
          -0.5666948674783646,
          -1.9763329181438785,
          0.9938517046204264,
          0.23372817565574658,
          -0.30996996483053013,
          -0.7952300157721142,
          -0.5982382641896878,
          2.019467960329815,
          -1.2598852398508364,
          -2.3605648504641117,
          0.2688239708057861,
          0.3341326209586924,
          0.5781274307848184,
          -1.126794432746841,
          1.8186529196083057,
          -0.2257175946243995,
          -0.7327823203159495,
          -0.04215232447181377,
          0.35468065583520547,
          0.7529400572744188,
          -0.9070666616628649,
          -2.7491636513888267,
          -0.158765905268466,
          -1.5942636877571497,
          -0.034178501622841355,
          1.644502105606857,
          1.2278338376015379,
          0.22311899274343086,
          2.0926505853158326,
          0.14481317662602947
         ],
         "yaxis": "y10"
        },
        {
         "histfunc": "count",
         "histnorm": "",
         "marker": {
          "color": "rgba(50, 171, 96, 1.0)",
          "line": {
           "color": "#4D5663",
           "width": 1.3
          }
         },
         "name": "C",
         "nbinsx": 10,
         "opacity": 0.8,
         "orientation": "v",
         "type": "histogram",
         "x": [
          -0.6000059072918577,
          1.3851327831240583,
          -0.8416605212960638,
          1.5154885208090547,
          0.35490000189417265,
          1.6908051929618615,
          -1.5287201794917664,
          -0.7349423678365664,
          -0.6913427780487162,
          -0.48028684240557384,
          -0.8194308330776271,
          -0.29106481926234773,
          -0.44013318857028755,
          -0.20308347702726706,
          0.35361926604476035,
          0.9088141438825913,
          -0.12621126330418034,
          0.2713276194712512,
          0.6134881669524676,
          -0.6779439897805137,
          0.24950517621334753,
          -2.2745063234013974,
          -0.7245357611636806,
          -0.6894443833026974,
          -0.1264702313571285,
          -1.7171240171463795,
          0.4649639516968302,
          0.28032078841628816,
          0.8187312513948517,
          1.8356694161971212,
          0.07111938776697482,
          0.5280542526634601,
          -0.16806824844991317,
          0.3000210389712474,
          -0.12397057872547237,
          -1.7083423879575599,
          1.00021666547896,
          -1.638137045671358,
          0.9357959636309474,
          0.05029229480271856,
          -0.07831195145744159,
          -0.23370643955925763,
          -0.5993775703744221,
          0.37675039193732496,
          0.24028123734389664,
          0.3093358333892805,
          -0.5924220763938935,
          0.7335935351551006,
          -0.44891339165705907,
          -0.35530507838316644,
          -0.4944060862732866,
          0.38313420932443837,
          1.1715219237750232,
          1.3121080758510824,
          0.809296311973692,
          0.44223568422499776,
          -1.0144546947415045,
          -2.0963256155813,
          0.8303089376644729,
          0.20727530570372368,
          0.6809398714532137,
          -0.20313700975503854,
          -0.8683297955457224,
          -0.8967516788430234,
          -2.890614614986278,
          -0.09993955098456375,
          -0.14383529393879205,
          -1.0973057711218217,
          -0.7504335408709724,
          0.9180133479107283,
          -0.5666948674783646,
          -1.9763329181438785,
          0.9938517046204264,
          0.23372817565574658,
          -0.30996996483053013,
          -0.7952300157721142,
          -0.5982382641896878,
          2.019467960329815,
          -1.2598852398508364,
          -2.3605648504641117,
          0.2688239708057861,
          0.3341326209586924,
          0.5781274307848184,
          -1.126794432746841,
          1.8186529196083057,
          -0.2257175946243995,
          -0.7327823203159495,
          -0.04215232447181377,
          0.35468065583520547,
          0.7529400572744188,
          -0.9070666616628649,
          -2.7491636513888267,
          -0.158765905268466,
          -1.5942636877571497,
          -0.034178501622841355,
          1.644502105606857,
          1.2278338376015379,
          0.22311899274343086,
          2.0926505853158326,
          0.14481317662602947
         ],
         "xaxis": "x11",
         "yaxis": "y11"
        },
        {
         "line": {
          "color": "rgba(128, 128, 128, 1.0)",
          "dash": "solid",
          "shape": "linear",
          "width": 1.3
         },
         "marker": {
          "size": 2,
          "symbol": "circle"
         },
         "mode": "markers",
         "name": "C",
         "text": "",
         "type": "scatter",
         "x": [
          -0.8082398228533931,
          -0.5150448150176067,
          -1.0877456219922552,
          -0.8048179509408832,
          0.6086999215692537,
          -0.5757069764316959,
          0.47345421556973416,
          -0.20836536589757984,
          -1.530474829093293,
          0.4219608143606672,
          -1.3598569545767323,
          0.26771371003290845,
          0.5983985813921551,
          -0.07616351426305064,
          -0.030391020270419882,
          1.001390782205427,
          0.9369229701129356,
          -0.356238064328411,
          -0.727088551183532,
          1.7896490382744903,
          -0.24431409954433136,
          0.2237147309778499,
          0.20738917270660667,
          -0.46228323064267396,
          2.0312627382663093,
          0.507205686431814,
          -1.1004206781437917,
          -0.40716791218137677,
          0.4903848006304384,
          -0.7918357006951539,
          1.9658079569926246,
          -0.6457999436135241,
          1.0614383133641743,
          0.27377992781923305,
          0.10701923381201559,
          -0.4000061087739593,
          -1.837251657679469,
          0.4880101965671579,
          0.6911914823146007,
          1.746647766580847,
          2.4730610128976025,
          0.6872374464358818,
          1.0732008846959473,
          -0.48774677137980743,
          -0.8095131203630446,
          -1.1453972995580883,
          0.6745284104776471,
          -0.7089344921988175,
          1.080404970897654,
          0.654933864788666,
          0.5993501954136305,
          0.6335112551331462,
          -0.3589185468179479,
          -1.404924418265637,
          0.013247846568394272,
          0.49121042562949946,
          -1.781961301376952,
          -0.3461391298088473,
          0.7079203769362604,
          -0.4845337136107974,
          2.2121393861141807,
          -1.2069802115680754,
          0.49389803836683593,
          -1.0011033326444534,
          0.004752979140422849,
          -0.8451778958184031,
          -0.6643597024318079,
          -0.40229732951149305,
          -0.7377438349276196,
          0.7143190164674909,
          3.2165361910584975,
          -0.2990466181868432,
          0.5983848199307756,
          -0.6547230911032215,
          -1.3508232926668085,
          -0.30203008713704566,
          0.8222645436335331,
          0.7683362411825844,
          0.20502092967846014,
          -1.3032276841045292,
          -1.9480148669781658,
          0.49509145239623104,
          0.6957201739268423,
          -0.6099904097456169,
          1.055965324015916,
          0.006084384263107051,
          1.4515849407547137,
          -0.4514929498138888,
          -0.2807620187625043,
          -0.4223488763697073,
          -1.017141859337329,
          0.6388544156437523,
          0.2593832599300954,
          -0.24507572484234003,
          -0.48759006253485254,
          -1.7667005971711343,
          -0.035067253089737994,
          -1.256620895729348,
          -0.13091364656474716,
          2.1494704847322295
         ],
         "xaxis": "x12",
         "y": [
          -0.6000059072918577,
          1.3851327831240583,
          -0.8416605212960638,
          1.5154885208090547,
          0.35490000189417265,
          1.6908051929618615,
          -1.5287201794917664,
          -0.7349423678365664,
          -0.6913427780487162,
          -0.48028684240557384,
          -0.8194308330776271,
          -0.29106481926234773,
          -0.44013318857028755,
          -0.20308347702726706,
          0.35361926604476035,
          0.9088141438825913,
          -0.12621126330418034,
          0.2713276194712512,
          0.6134881669524676,
          -0.6779439897805137,
          0.24950517621334753,
          -2.2745063234013974,
          -0.7245357611636806,
          -0.6894443833026974,
          -0.1264702313571285,
          -1.7171240171463795,
          0.4649639516968302,
          0.28032078841628816,
          0.8187312513948517,
          1.8356694161971212,
          0.07111938776697482,
          0.5280542526634601,
          -0.16806824844991317,
          0.3000210389712474,
          -0.12397057872547237,
          -1.7083423879575599,
          1.00021666547896,
          -1.638137045671358,
          0.9357959636309474,
          0.05029229480271856,
          -0.07831195145744159,
          -0.23370643955925763,
          -0.5993775703744221,
          0.37675039193732496,
          0.24028123734389664,
          0.3093358333892805,
          -0.5924220763938935,
          0.7335935351551006,
          -0.44891339165705907,
          -0.35530507838316644,
          -0.4944060862732866,
          0.38313420932443837,
          1.1715219237750232,
          1.3121080758510824,
          0.809296311973692,
          0.44223568422499776,
          -1.0144546947415045,
          -2.0963256155813,
          0.8303089376644729,
          0.20727530570372368,
          0.6809398714532137,
          -0.20313700975503854,
          -0.8683297955457224,
          -0.8967516788430234,
          -2.890614614986278,
          -0.09993955098456375,
          -0.14383529393879205,
          -1.0973057711218217,
          -0.7504335408709724,
          0.9180133479107283,
          -0.5666948674783646,
          -1.9763329181438785,
          0.9938517046204264,
          0.23372817565574658,
          -0.30996996483053013,
          -0.7952300157721142,
          -0.5982382641896878,
          2.019467960329815,
          -1.2598852398508364,
          -2.3605648504641117,
          0.2688239708057861,
          0.3341326209586924,
          0.5781274307848184,
          -1.126794432746841,
          1.8186529196083057,
          -0.2257175946243995,
          -0.7327823203159495,
          -0.04215232447181377,
          0.35468065583520547,
          0.7529400572744188,
          -0.9070666616628649,
          -2.7491636513888267,
          -0.158765905268466,
          -1.5942636877571497,
          -0.034178501622841355,
          1.644502105606857,
          1.2278338376015379,
          0.22311899274343086,
          2.0926505853158326,
          0.14481317662602947
         ],
         "yaxis": "y12"
        },
        {
         "line": {
          "color": "rgba(128, 128, 128, 1.0)",
          "dash": "solid",
          "shape": "linear",
          "width": 1.3
         },
         "marker": {
          "size": 2,
          "symbol": "circle"
         },
         "mode": "markers",
         "name": "D",
         "text": "",
         "type": "scatter",
         "x": [
          1.5047071858675904,
          -1.2306437730366853,
          0.605020350239587,
          -0.11730722559215549,
          -0.5094486400300653,
          -0.03247951610040798,
          0.9731351835823545,
          -1.472511340085507,
          -0.23083304464393553,
          0.5787834027566838,
          -0.3156316458899452,
          -0.37854491314669936,
          -1.578313375563011,
          -0.7431436030597717,
          0.5630177560101443,
          -1.3333242685734497,
          -0.4812889971321455,
          0.46635368545417594,
          -0.09920746060052134,
          1.0140120472191738,
          -0.9225221157990605,
          1.4196106846836412,
          0.1952712362569279,
          -0.8168745709151536,
          -0.13975493326855662,
          0.5823845164628724,
          -0.04996888900130543,
          0.013820356133013887,
          -0.06830081283978562,
          0.19215684436051617,
          1.286435464479053,
          -0.33541662466852057,
          -2.8587717658377443,
          0.006416985094558975,
          1.2961166888011706,
          -0.08942228467851332,
          1.587406402848416,
          0.25947535251631904,
          -0.8048768802234534,
          -0.8419192982284646,
          -1.6039443064270875,
          0.10466270748776571,
          0.02998318674242047,
          -0.006862251689929032,
          -0.7660788034000553,
          1.1726861103538202,
          -0.27001683146847616,
          0.020866604645267316,
          -1.5500723287323086,
          -0.1353630979441134,
          0.10043734262022548,
          0.26824564753711505,
          0.12819938986961066,
          -1.17819730023147,
          0.43825107894139315,
          -0.8922617953366131,
          -0.1304564737507755,
          -0.712627526372936,
          -0.21148412951738027,
          -0.803660466757645,
          -0.2795304432141383,
          -0.7656507457744494,
          -1.2247199589979165,
          -0.16498458992525863,
          0.923653188973336,
          0.13764563658951204,
          0.043849382884496906,
          0.607314473420084,
          0.7462893879083348,
          0.18665312051788513,
          -1.4497989583537694,
          1.528431628745062,
          0.3712893622551243,
          0.47187897031748005,
          0.8177302430660359,
          -0.09631945740607714,
          0.2046001019962186,
          1.5632968046193618,
          0.28173247195427,
          -0.4990349917914575,
          0.4880662332937979,
          -1.6313543113852154,
          0.4398737132524965,
          0.22985411660186864,
          1.2996791563457732,
          -0.0015933251060393399,
          0.48577287679867154,
          -0.7611622677031836,
          -0.9177847234627884,
          0.31360597655689065,
          0.8504935212248734,
          -0.5321453076085406,
          -0.44651013637870907,
          -0.8221181957042193,
          1.8611329510653556,
          -1.9200683591650554,
          0.2640173821523596,
          -0.012626231690431604,
          3.152977471906116,
          0.3884525520079316
         ],
         "xaxis": "x13",
         "y": [
          -0.8082398228533931,
          -0.5150448150176067,
          -1.0877456219922552,
          -0.8048179509408832,
          0.6086999215692537,
          -0.5757069764316959,
          0.47345421556973416,
          -0.20836536589757984,
          -1.530474829093293,
          0.4219608143606672,
          -1.3598569545767323,
          0.26771371003290845,
          0.5983985813921551,
          -0.07616351426305064,
          -0.030391020270419882,
          1.001390782205427,
          0.9369229701129356,
          -0.356238064328411,
          -0.727088551183532,
          1.7896490382744903,
          -0.24431409954433136,
          0.2237147309778499,
          0.20738917270660667,
          -0.46228323064267396,
          2.0312627382663093,
          0.507205686431814,
          -1.1004206781437917,
          -0.40716791218137677,
          0.4903848006304384,
          -0.7918357006951539,
          1.9658079569926246,
          -0.6457999436135241,
          1.0614383133641743,
          0.27377992781923305,
          0.10701923381201559,
          -0.4000061087739593,
          -1.837251657679469,
          0.4880101965671579,
          0.6911914823146007,
          1.746647766580847,
          2.4730610128976025,
          0.6872374464358818,
          1.0732008846959473,
          -0.48774677137980743,
          -0.8095131203630446,
          -1.1453972995580883,
          0.6745284104776471,
          -0.7089344921988175,
          1.080404970897654,
          0.654933864788666,
          0.5993501954136305,
          0.6335112551331462,
          -0.3589185468179479,
          -1.404924418265637,
          0.013247846568394272,
          0.49121042562949946,
          -1.781961301376952,
          -0.3461391298088473,
          0.7079203769362604,
          -0.4845337136107974,
          2.2121393861141807,
          -1.2069802115680754,
          0.49389803836683593,
          -1.0011033326444534,
          0.004752979140422849,
          -0.8451778958184031,
          -0.6643597024318079,
          -0.40229732951149305,
          -0.7377438349276196,
          0.7143190164674909,
          3.2165361910584975,
          -0.2990466181868432,
          0.5983848199307756,
          -0.6547230911032215,
          -1.3508232926668085,
          -0.30203008713704566,
          0.8222645436335331,
          0.7683362411825844,
          0.20502092967846014,
          -1.3032276841045292,
          -1.9480148669781658,
          0.49509145239623104,
          0.6957201739268423,
          -0.6099904097456169,
          1.055965324015916,
          0.006084384263107051,
          1.4515849407547137,
          -0.4514929498138888,
          -0.2807620187625043,
          -0.4223488763697073,
          -1.017141859337329,
          0.6388544156437523,
          0.2593832599300954,
          -0.24507572484234003,
          -0.48759006253485254,
          -1.7667005971711343,
          -0.035067253089737994,
          -1.256620895729348,
          -0.13091364656474716,
          2.1494704847322295
         ],
         "yaxis": "y13"
        },
        {
         "line": {
          "color": "rgba(128, 128, 128, 1.0)",
          "dash": "solid",
          "shape": "linear",
          "width": 1.3
         },
         "marker": {
          "size": 2,
          "symbol": "circle"
         },
         "mode": "markers",
         "name": "D",
         "text": "",
         "type": "scatter",
         "x": [
          0.47852473764124553,
          0.47953723587996805,
          -0.44148143458663514,
          1.7986040640014305,
          1.3887987421628392,
          1.597757985723844,
          0.5877999356373035,
          1.5808007026584723,
          -0.33360175851415325,
          -0.13122522278994106,
          0.3224781441878215,
          0.8496592084762307,
          -1.150154786050836,
          -0.03636065930498414,
          -0.5208283778493646,
          1.0938755117779735,
          0.15407640392163835,
          0.569679081793052,
          0.03260012363032162,
          0.9945392624370553,
          1.3904827907721824,
          1.775213217496774,
          -0.5429998873307663,
          0.0915471721012884,
          -0.09519693387176657,
          -1.5963958081570286,
          2.4465606576364927,
          1.5731633274545442,
          -0.08560470104480285,
          0.2580248761829393,
          1.539166024904185,
          0.5416302736813118,
          -0.6303030028201453,
          -0.20719439088977545,
          0.4791532829966961,
          0.6345908134255359,
          -1.4310301356276192,
          -1.3401692846786348,
          0.12938500637423184,
          0.8697464546388674,
          -1.233469614258414,
          2.266394093414955,
          0.4095157714369962,
          0.3129562945885272,
          0.6875159516001128,
          0.43742266506028393,
          -0.9548174472407832,
          0.07014485793751564,
          -0.20394038833768505,
          1.3440227943161343,
          -0.4211541610746663,
          1.1778831515862733,
          -0.20884700147291713,
          -0.6287794998087359,
          -0.7877323616235364,
          -1.2186019438648847,
          1.1458611752078418,
          -0.38447865902786865,
          -0.5223514043098862,
          0.8604521332601345,
          -0.29850097445053136,
          -1.0125124820836118,
          -0.13931808941227639,
          0.24397113215543434,
          1.7129575541024467,
          -0.3046189015886152,
          -2.304212940366996,
          0.9750048983151226,
          0.1917996277566565,
          1.7150797955986141,
          -0.6669591370086811,
          -0.8584067440066807,
          1.0979784717067602,
          -1.4142753213911983,
          -0.14952157401637756,
          -1.7533683614377518,
          0.12616412568399893,
          0.4011261217165389,
          -1.528023749999498,
          -2.447037347680574,
          -1.889348744499366,
          -0.9452629996802178,
          0.05039114426983621,
          1.1675519258374532,
          0.1295374021492559,
          0.3296377092381601,
          1.7544282508147742,
          -0.9871840427773075,
          -0.49209018295214213,
          -0.9434878688187036,
          1.6166091978251167,
          -0.23609503635320464,
          0.9761194029838546,
          0.7307775163820062,
          1.3621691942697398,
          0.4874710586315161,
          -2.211347382211482,
          0.24820113797038115,
          -7.074984288589023e-05,
          -0.9973009933770731
         ],
         "xaxis": "x14",
         "y": [
          -0.8082398228533931,
          -0.5150448150176067,
          -1.0877456219922552,
          -0.8048179509408832,
          0.6086999215692537,
          -0.5757069764316959,
          0.47345421556973416,
          -0.20836536589757984,
          -1.530474829093293,
          0.4219608143606672,
          -1.3598569545767323,
          0.26771371003290845,
          0.5983985813921551,
          -0.07616351426305064,
          -0.030391020270419882,
          1.001390782205427,
          0.9369229701129356,
          -0.356238064328411,
          -0.727088551183532,
          1.7896490382744903,
          -0.24431409954433136,
          0.2237147309778499,
          0.20738917270660667,
          -0.46228323064267396,
          2.0312627382663093,
          0.507205686431814,
          -1.1004206781437917,
          -0.40716791218137677,
          0.4903848006304384,
          -0.7918357006951539,
          1.9658079569926246,
          -0.6457999436135241,
          1.0614383133641743,
          0.27377992781923305,
          0.10701923381201559,
          -0.4000061087739593,
          -1.837251657679469,
          0.4880101965671579,
          0.6911914823146007,
          1.746647766580847,
          2.4730610128976025,
          0.6872374464358818,
          1.0732008846959473,
          -0.48774677137980743,
          -0.8095131203630446,
          -1.1453972995580883,
          0.6745284104776471,
          -0.7089344921988175,
          1.080404970897654,
          0.654933864788666,
          0.5993501954136305,
          0.6335112551331462,
          -0.3589185468179479,
          -1.404924418265637,
          0.013247846568394272,
          0.49121042562949946,
          -1.781961301376952,
          -0.3461391298088473,
          0.7079203769362604,
          -0.4845337136107974,
          2.2121393861141807,
          -1.2069802115680754,
          0.49389803836683593,
          -1.0011033326444534,
          0.004752979140422849,
          -0.8451778958184031,
          -0.6643597024318079,
          -0.40229732951149305,
          -0.7377438349276196,
          0.7143190164674909,
          3.2165361910584975,
          -0.2990466181868432,
          0.5983848199307756,
          -0.6547230911032215,
          -1.3508232926668085,
          -0.30203008713704566,
          0.8222645436335331,
          0.7683362411825844,
          0.20502092967846014,
          -1.3032276841045292,
          -1.9480148669781658,
          0.49509145239623104,
          0.6957201739268423,
          -0.6099904097456169,
          1.055965324015916,
          0.006084384263107051,
          1.4515849407547137,
          -0.4514929498138888,
          -0.2807620187625043,
          -0.4223488763697073,
          -1.017141859337329,
          0.6388544156437523,
          0.2593832599300954,
          -0.24507572484234003,
          -0.48759006253485254,
          -1.7667005971711343,
          -0.035067253089737994,
          -1.256620895729348,
          -0.13091364656474716,
          2.1494704847322295
         ],
         "yaxis": "y14"
        },
        {
         "line": {
          "color": "rgba(128, 128, 128, 1.0)",
          "dash": "solid",
          "shape": "linear",
          "width": 1.3
         },
         "marker": {
          "size": 2,
          "symbol": "circle"
         },
         "mode": "markers",
         "name": "D",
         "text": "",
         "type": "scatter",
         "x": [
          -0.6000059072918577,
          1.3851327831240583,
          -0.8416605212960638,
          1.5154885208090547,
          0.35490000189417265,
          1.6908051929618615,
          -1.5287201794917664,
          -0.7349423678365664,
          -0.6913427780487162,
          -0.48028684240557384,
          -0.8194308330776271,
          -0.29106481926234773,
          -0.44013318857028755,
          -0.20308347702726706,
          0.35361926604476035,
          0.9088141438825913,
          -0.12621126330418034,
          0.2713276194712512,
          0.6134881669524676,
          -0.6779439897805137,
          0.24950517621334753,
          -2.2745063234013974,
          -0.7245357611636806,
          -0.6894443833026974,
          -0.1264702313571285,
          -1.7171240171463795,
          0.4649639516968302,
          0.28032078841628816,
          0.8187312513948517,
          1.8356694161971212,
          0.07111938776697482,
          0.5280542526634601,
          -0.16806824844991317,
          0.3000210389712474,
          -0.12397057872547237,
          -1.7083423879575599,
          1.00021666547896,
          -1.638137045671358,
          0.9357959636309474,
          0.05029229480271856,
          -0.07831195145744159,
          -0.23370643955925763,
          -0.5993775703744221,
          0.37675039193732496,
          0.24028123734389664,
          0.3093358333892805,
          -0.5924220763938935,
          0.7335935351551006,
          -0.44891339165705907,
          -0.35530507838316644,
          -0.4944060862732866,
          0.38313420932443837,
          1.1715219237750232,
          1.3121080758510824,
          0.809296311973692,
          0.44223568422499776,
          -1.0144546947415045,
          -2.0963256155813,
          0.8303089376644729,
          0.20727530570372368,
          0.6809398714532137,
          -0.20313700975503854,
          -0.8683297955457224,
          -0.8967516788430234,
          -2.890614614986278,
          -0.09993955098456375,
          -0.14383529393879205,
          -1.0973057711218217,
          -0.7504335408709724,
          0.9180133479107283,
          -0.5666948674783646,
          -1.9763329181438785,
          0.9938517046204264,
          0.23372817565574658,
          -0.30996996483053013,
          -0.7952300157721142,
          -0.5982382641896878,
          2.019467960329815,
          -1.2598852398508364,
          -2.3605648504641117,
          0.2688239708057861,
          0.3341326209586924,
          0.5781274307848184,
          -1.126794432746841,
          1.8186529196083057,
          -0.2257175946243995,
          -0.7327823203159495,
          -0.04215232447181377,
          0.35468065583520547,
          0.7529400572744188,
          -0.9070666616628649,
          -2.7491636513888267,
          -0.158765905268466,
          -1.5942636877571497,
          -0.034178501622841355,
          1.644502105606857,
          1.2278338376015379,
          0.22311899274343086,
          2.0926505853158326,
          0.14481317662602947
         ],
         "xaxis": "x15",
         "y": [
          -0.8082398228533931,
          -0.5150448150176067,
          -1.0877456219922552,
          -0.8048179509408832,
          0.6086999215692537,
          -0.5757069764316959,
          0.47345421556973416,
          -0.20836536589757984,
          -1.530474829093293,
          0.4219608143606672,
          -1.3598569545767323,
          0.26771371003290845,
          0.5983985813921551,
          -0.07616351426305064,
          -0.030391020270419882,
          1.001390782205427,
          0.9369229701129356,
          -0.356238064328411,
          -0.727088551183532,
          1.7896490382744903,
          -0.24431409954433136,
          0.2237147309778499,
          0.20738917270660667,
          -0.46228323064267396,
          2.0312627382663093,
          0.507205686431814,
          -1.1004206781437917,
          -0.40716791218137677,
          0.4903848006304384,
          -0.7918357006951539,
          1.9658079569926246,
          -0.6457999436135241,
          1.0614383133641743,
          0.27377992781923305,
          0.10701923381201559,
          -0.4000061087739593,
          -1.837251657679469,
          0.4880101965671579,
          0.6911914823146007,
          1.746647766580847,
          2.4730610128976025,
          0.6872374464358818,
          1.0732008846959473,
          -0.48774677137980743,
          -0.8095131203630446,
          -1.1453972995580883,
          0.6745284104776471,
          -0.7089344921988175,
          1.080404970897654,
          0.654933864788666,
          0.5993501954136305,
          0.6335112551331462,
          -0.3589185468179479,
          -1.404924418265637,
          0.013247846568394272,
          0.49121042562949946,
          -1.781961301376952,
          -0.3461391298088473,
          0.7079203769362604,
          -0.4845337136107974,
          2.2121393861141807,
          -1.2069802115680754,
          0.49389803836683593,
          -1.0011033326444534,
          0.004752979140422849,
          -0.8451778958184031,
          -0.6643597024318079,
          -0.40229732951149305,
          -0.7377438349276196,
          0.7143190164674909,
          3.2165361910584975,
          -0.2990466181868432,
          0.5983848199307756,
          -0.6547230911032215,
          -1.3508232926668085,
          -0.30203008713704566,
          0.8222645436335331,
          0.7683362411825844,
          0.20502092967846014,
          -1.3032276841045292,
          -1.9480148669781658,
          0.49509145239623104,
          0.6957201739268423,
          -0.6099904097456169,
          1.055965324015916,
          0.006084384263107051,
          1.4515849407547137,
          -0.4514929498138888,
          -0.2807620187625043,
          -0.4223488763697073,
          -1.017141859337329,
          0.6388544156437523,
          0.2593832599300954,
          -0.24507572484234003,
          -0.48759006253485254,
          -1.7667005971711343,
          -0.035067253089737994,
          -1.256620895729348,
          -0.13091364656474716,
          2.1494704847322295
         ],
         "yaxis": "y15"
        },
        {
         "histfunc": "count",
         "histnorm": "",
         "marker": {
          "color": "rgba(128, 0, 128, 1.0)",
          "line": {
           "color": "#4D5663",
           "width": 1.3
          }
         },
         "name": "D",
         "nbinsx": 10,
         "opacity": 0.8,
         "orientation": "v",
         "type": "histogram",
         "x": [
          -0.8082398228533931,
          -0.5150448150176067,
          -1.0877456219922552,
          -0.8048179509408832,
          0.6086999215692537,
          -0.5757069764316959,
          0.47345421556973416,
          -0.20836536589757984,
          -1.530474829093293,
          0.4219608143606672,
          -1.3598569545767323,
          0.26771371003290845,
          0.5983985813921551,
          -0.07616351426305064,
          -0.030391020270419882,
          1.001390782205427,
          0.9369229701129356,
          -0.356238064328411,
          -0.727088551183532,
          1.7896490382744903,
          -0.24431409954433136,
          0.2237147309778499,
          0.20738917270660667,
          -0.46228323064267396,
          2.0312627382663093,
          0.507205686431814,
          -1.1004206781437917,
          -0.40716791218137677,
          0.4903848006304384,
          -0.7918357006951539,
          1.9658079569926246,
          -0.6457999436135241,
          1.0614383133641743,
          0.27377992781923305,
          0.10701923381201559,
          -0.4000061087739593,
          -1.837251657679469,
          0.4880101965671579,
          0.6911914823146007,
          1.746647766580847,
          2.4730610128976025,
          0.6872374464358818,
          1.0732008846959473,
          -0.48774677137980743,
          -0.8095131203630446,
          -1.1453972995580883,
          0.6745284104776471,
          -0.7089344921988175,
          1.080404970897654,
          0.654933864788666,
          0.5993501954136305,
          0.6335112551331462,
          -0.3589185468179479,
          -1.404924418265637,
          0.013247846568394272,
          0.49121042562949946,
          -1.781961301376952,
          -0.3461391298088473,
          0.7079203769362604,
          -0.4845337136107974,
          2.2121393861141807,
          -1.2069802115680754,
          0.49389803836683593,
          -1.0011033326444534,
          0.004752979140422849,
          -0.8451778958184031,
          -0.6643597024318079,
          -0.40229732951149305,
          -0.7377438349276196,
          0.7143190164674909,
          3.2165361910584975,
          -0.2990466181868432,
          0.5983848199307756,
          -0.6547230911032215,
          -1.3508232926668085,
          -0.30203008713704566,
          0.8222645436335331,
          0.7683362411825844,
          0.20502092967846014,
          -1.3032276841045292,
          -1.9480148669781658,
          0.49509145239623104,
          0.6957201739268423,
          -0.6099904097456169,
          1.055965324015916,
          0.006084384263107051,
          1.4515849407547137,
          -0.4514929498138888,
          -0.2807620187625043,
          -0.4223488763697073,
          -1.017141859337329,
          0.6388544156437523,
          0.2593832599300954,
          -0.24507572484234003,
          -0.48759006253485254,
          -1.7667005971711343,
          -0.035067253089737994,
          -1.256620895729348,
          -0.13091364656474716,
          2.1494704847322295
         ],
         "xaxis": "x16",
         "yaxis": "y16"
        }
       ],
       "layout": {
        "bargap": 0.02,
        "legend": {
         "bgcolor": "#F5F6F9",
         "font": {
          "color": "#4D5663"
         }
        },
        "paper_bgcolor": "#F5F6F9",
        "plot_bgcolor": "#F5F6F9",
        "showlegend": false,
        "template": {
         "data": {
          "bar": [
           {
            "error_x": {
             "color": "#2a3f5f"
            },
            "error_y": {
             "color": "#2a3f5f"
            },
            "marker": {
             "line": {
              "color": "#E5ECF6",
              "width": 0.5
             }
            },
            "type": "bar"
           }
          ],
          "barpolar": [
           {
            "marker": {
             "line": {
              "color": "#E5ECF6",
              "width": 0.5
             }
            },
            "type": "barpolar"
           }
          ],
          "carpet": [
           {
            "aaxis": {
             "endlinecolor": "#2a3f5f",
             "gridcolor": "white",
             "linecolor": "white",
             "minorgridcolor": "white",
             "startlinecolor": "#2a3f5f"
            },
            "baxis": {
             "endlinecolor": "#2a3f5f",
             "gridcolor": "white",
             "linecolor": "white",
             "minorgridcolor": "white",
             "startlinecolor": "#2a3f5f"
            },
            "type": "carpet"
           }
          ],
          "choropleth": [
           {
            "colorbar": {
             "outlinewidth": 0,
             "ticks": ""
            },
            "type": "choropleth"
           }
          ],
          "contour": [
           {
            "colorbar": {
             "outlinewidth": 0,
             "ticks": ""
            },
            "colorscale": [
             [
              0,
              "#0d0887"
             ],
             [
              0.1111111111111111,
              "#46039f"
             ],
             [
              0.2222222222222222,
              "#7201a8"
             ],
             [
              0.3333333333333333,
              "#9c179e"
             ],
             [
              0.4444444444444444,
              "#bd3786"
             ],
             [
              0.5555555555555556,
              "#d8576b"
             ],
             [
              0.6666666666666666,
              "#ed7953"
             ],
             [
              0.7777777777777778,
              "#fb9f3a"
             ],
             [
              0.8888888888888888,
              "#fdca26"
             ],
             [
              1,
              "#f0f921"
             ]
            ],
            "type": "contour"
           }
          ],
          "contourcarpet": [
           {
            "colorbar": {
             "outlinewidth": 0,
             "ticks": ""
            },
            "type": "contourcarpet"
           }
          ],
          "heatmap": [
           {
            "colorbar": {
             "outlinewidth": 0,
             "ticks": ""
            },
            "colorscale": [
             [
              0,
              "#0d0887"
             ],
             [
              0.1111111111111111,
              "#46039f"
             ],
             [
              0.2222222222222222,
              "#7201a8"
             ],
             [
              0.3333333333333333,
              "#9c179e"
             ],
             [
              0.4444444444444444,
              "#bd3786"
             ],
             [
              0.5555555555555556,
              "#d8576b"
             ],
             [
              0.6666666666666666,
              "#ed7953"
             ],
             [
              0.7777777777777778,
              "#fb9f3a"
             ],
             [
              0.8888888888888888,
              "#fdca26"
             ],
             [
              1,
              "#f0f921"
             ]
            ],
            "type": "heatmap"
           }
          ],
          "heatmapgl": [
           {
            "colorbar": {
             "outlinewidth": 0,
             "ticks": ""
            },
            "colorscale": [
             [
              0,
              "#0d0887"
             ],
             [
              0.1111111111111111,
              "#46039f"
             ],
             [
              0.2222222222222222,
              "#7201a8"
             ],
             [
              0.3333333333333333,
              "#9c179e"
             ],
             [
              0.4444444444444444,
              "#bd3786"
             ],
             [
              0.5555555555555556,
              "#d8576b"
             ],
             [
              0.6666666666666666,
              "#ed7953"
             ],
             [
              0.7777777777777778,
              "#fb9f3a"
             ],
             [
              0.8888888888888888,
              "#fdca26"
             ],
             [
              1,
              "#f0f921"
             ]
            ],
            "type": "heatmapgl"
           }
          ],
          "histogram": [
           {
            "marker": {
             "colorbar": {
              "outlinewidth": 0,
              "ticks": ""
             }
            },
            "type": "histogram"
           }
          ],
          "histogram2d": [
           {
            "colorbar": {
             "outlinewidth": 0,
             "ticks": ""
            },
            "colorscale": [
             [
              0,
              "#0d0887"
             ],
             [
              0.1111111111111111,
              "#46039f"
             ],
             [
              0.2222222222222222,
              "#7201a8"
             ],
             [
              0.3333333333333333,
              "#9c179e"
             ],
             [
              0.4444444444444444,
              "#bd3786"
             ],
             [
              0.5555555555555556,
              "#d8576b"
             ],
             [
              0.6666666666666666,
              "#ed7953"
             ],
             [
              0.7777777777777778,
              "#fb9f3a"
             ],
             [
              0.8888888888888888,
              "#fdca26"
             ],
             [
              1,
              "#f0f921"
             ]
            ],
            "type": "histogram2d"
           }
          ],
          "histogram2dcontour": [
           {
            "colorbar": {
             "outlinewidth": 0,
             "ticks": ""
            },
            "colorscale": [
             [
              0,
              "#0d0887"
             ],
             [
              0.1111111111111111,
              "#46039f"
             ],
             [
              0.2222222222222222,
              "#7201a8"
             ],
             [
              0.3333333333333333,
              "#9c179e"
             ],
             [
              0.4444444444444444,
              "#bd3786"
             ],
             [
              0.5555555555555556,
              "#d8576b"
             ],
             [
              0.6666666666666666,
              "#ed7953"
             ],
             [
              0.7777777777777778,
              "#fb9f3a"
             ],
             [
              0.8888888888888888,
              "#fdca26"
             ],
             [
              1,
              "#f0f921"
             ]
            ],
            "type": "histogram2dcontour"
           }
          ],
          "mesh3d": [
           {
            "colorbar": {
             "outlinewidth": 0,
             "ticks": ""
            },
            "type": "mesh3d"
           }
          ],
          "parcoords": [
           {
            "line": {
             "colorbar": {
              "outlinewidth": 0,
              "ticks": ""
             }
            },
            "type": "parcoords"
           }
          ],
          "pie": [
           {
            "automargin": true,
            "type": "pie"
           }
          ],
          "scatter": [
           {
            "marker": {
             "colorbar": {
              "outlinewidth": 0,
              "ticks": ""
             }
            },
            "type": "scatter"
           }
          ],
          "scatter3d": [
           {
            "line": {
             "colorbar": {
              "outlinewidth": 0,
              "ticks": ""
             }
            },
            "marker": {
             "colorbar": {
              "outlinewidth": 0,
              "ticks": ""
             }
            },
            "type": "scatter3d"
           }
          ],
          "scattercarpet": [
           {
            "marker": {
             "colorbar": {
              "outlinewidth": 0,
              "ticks": ""
             }
            },
            "type": "scattercarpet"
           }
          ],
          "scattergeo": [
           {
            "marker": {
             "colorbar": {
              "outlinewidth": 0,
              "ticks": ""
             }
            },
            "type": "scattergeo"
           }
          ],
          "scattergl": [
           {
            "marker": {
             "colorbar": {
              "outlinewidth": 0,
              "ticks": ""
             }
            },
            "type": "scattergl"
           }
          ],
          "scattermapbox": [
           {
            "marker": {
             "colorbar": {
              "outlinewidth": 0,
              "ticks": ""
             }
            },
            "type": "scattermapbox"
           }
          ],
          "scatterpolar": [
           {
            "marker": {
             "colorbar": {
              "outlinewidth": 0,
              "ticks": ""
             }
            },
            "type": "scatterpolar"
           }
          ],
          "scatterpolargl": [
           {
            "marker": {
             "colorbar": {
              "outlinewidth": 0,
              "ticks": ""
             }
            },
            "type": "scatterpolargl"
           }
          ],
          "scatterternary": [
           {
            "marker": {
             "colorbar": {
              "outlinewidth": 0,
              "ticks": ""
             }
            },
            "type": "scatterternary"
           }
          ],
          "surface": [
           {
            "colorbar": {
             "outlinewidth": 0,
             "ticks": ""
            },
            "colorscale": [
             [
              0,
              "#0d0887"
             ],
             [
              0.1111111111111111,
              "#46039f"
             ],
             [
              0.2222222222222222,
              "#7201a8"
             ],
             [
              0.3333333333333333,
              "#9c179e"
             ],
             [
              0.4444444444444444,
              "#bd3786"
             ],
             [
              0.5555555555555556,
              "#d8576b"
             ],
             [
              0.6666666666666666,
              "#ed7953"
             ],
             [
              0.7777777777777778,
              "#fb9f3a"
             ],
             [
              0.8888888888888888,
              "#fdca26"
             ],
             [
              1,
              "#f0f921"
             ]
            ],
            "type": "surface"
           }
          ],
          "table": [
           {
            "cells": {
             "fill": {
              "color": "#EBF0F8"
             },
             "line": {
              "color": "white"
             }
            },
            "header": {
             "fill": {
              "color": "#C8D4E3"
             },
             "line": {
              "color": "white"
             }
            },
            "type": "table"
           }
          ]
         },
         "layout": {
          "annotationdefaults": {
           "arrowcolor": "#2a3f5f",
           "arrowhead": 0,
           "arrowwidth": 1
          },
          "autotypenumbers": "strict",
          "coloraxis": {
           "colorbar": {
            "outlinewidth": 0,
            "ticks": ""
           }
          },
          "colorscale": {
           "diverging": [
            [
             0,
             "#8e0152"
            ],
            [
             0.1,
             "#c51b7d"
            ],
            [
             0.2,
             "#de77ae"
            ],
            [
             0.3,
             "#f1b6da"
            ],
            [
             0.4,
             "#fde0ef"
            ],
            [
             0.5,
             "#f7f7f7"
            ],
            [
             0.6,
             "#e6f5d0"
            ],
            [
             0.7,
             "#b8e186"
            ],
            [
             0.8,
             "#7fbc41"
            ],
            [
             0.9,
             "#4d9221"
            ],
            [
             1,
             "#276419"
            ]
           ],
           "sequential": [
            [
             0,
             "#0d0887"
            ],
            [
             0.1111111111111111,
             "#46039f"
            ],
            [
             0.2222222222222222,
             "#7201a8"
            ],
            [
             0.3333333333333333,
             "#9c179e"
            ],
            [
             0.4444444444444444,
             "#bd3786"
            ],
            [
             0.5555555555555556,
             "#d8576b"
            ],
            [
             0.6666666666666666,
             "#ed7953"
            ],
            [
             0.7777777777777778,
             "#fb9f3a"
            ],
            [
             0.8888888888888888,
             "#fdca26"
            ],
            [
             1,
             "#f0f921"
            ]
           ],
           "sequentialminus": [
            [
             0,
             "#0d0887"
            ],
            [
             0.1111111111111111,
             "#46039f"
            ],
            [
             0.2222222222222222,
             "#7201a8"
            ],
            [
             0.3333333333333333,
             "#9c179e"
            ],
            [
             0.4444444444444444,
             "#bd3786"
            ],
            [
             0.5555555555555556,
             "#d8576b"
            ],
            [
             0.6666666666666666,
             "#ed7953"
            ],
            [
             0.7777777777777778,
             "#fb9f3a"
            ],
            [
             0.8888888888888888,
             "#fdca26"
            ],
            [
             1,
             "#f0f921"
            ]
           ]
          },
          "colorway": [
           "#636efa",
           "#EF553B",
           "#00cc96",
           "#ab63fa",
           "#FFA15A",
           "#19d3f3",
           "#FF6692",
           "#B6E880",
           "#FF97FF",
           "#FECB52"
          ],
          "font": {
           "color": "#2a3f5f"
          },
          "geo": {
           "bgcolor": "white",
           "lakecolor": "white",
           "landcolor": "#E5ECF6",
           "showlakes": true,
           "showland": true,
           "subunitcolor": "white"
          },
          "hoverlabel": {
           "align": "left"
          },
          "hovermode": "closest",
          "mapbox": {
           "style": "light"
          },
          "paper_bgcolor": "white",
          "plot_bgcolor": "#E5ECF6",
          "polar": {
           "angularaxis": {
            "gridcolor": "white",
            "linecolor": "white",
            "ticks": ""
           },
           "bgcolor": "#E5ECF6",
           "radialaxis": {
            "gridcolor": "white",
            "linecolor": "white",
            "ticks": ""
           }
          },
          "scene": {
           "xaxis": {
            "backgroundcolor": "#E5ECF6",
            "gridcolor": "white",
            "gridwidth": 2,
            "linecolor": "white",
            "showbackground": true,
            "ticks": "",
            "zerolinecolor": "white"
           },
           "yaxis": {
            "backgroundcolor": "#E5ECF6",
            "gridcolor": "white",
            "gridwidth": 2,
            "linecolor": "white",
            "showbackground": true,
            "ticks": "",
            "zerolinecolor": "white"
           },
           "zaxis": {
            "backgroundcolor": "#E5ECF6",
            "gridcolor": "white",
            "gridwidth": 2,
            "linecolor": "white",
            "showbackground": true,
            "ticks": "",
            "zerolinecolor": "white"
           }
          },
          "shapedefaults": {
           "line": {
            "color": "#2a3f5f"
           }
          },
          "ternary": {
           "aaxis": {
            "gridcolor": "white",
            "linecolor": "white",
            "ticks": ""
           },
           "baxis": {
            "gridcolor": "white",
            "linecolor": "white",
            "ticks": ""
           },
           "bgcolor": "#E5ECF6",
           "caxis": {
            "gridcolor": "white",
            "linecolor": "white",
            "ticks": ""
           }
          },
          "title": {
           "x": 0.05
          },
          "xaxis": {
           "automargin": true,
           "gridcolor": "white",
           "linecolor": "white",
           "ticks": "",
           "title": {
            "standoff": 15
           },
           "zerolinecolor": "white",
           "zerolinewidth": 2
          },
          "yaxis": {
           "automargin": true,
           "gridcolor": "white",
           "linecolor": "white",
           "ticks": "",
           "title": {
            "standoff": 15
           },
           "zerolinecolor": "white",
           "zerolinewidth": 2
          }
         }
        },
        "title": {
         "font": {
          "color": "#4D5663"
         }
        },
        "xaxis": {
         "anchor": "y",
         "domain": [
          0,
          0.2125
         ],
         "gridcolor": "#E1E5ED",
         "showgrid": false,
         "tickfont": {
          "color": "#4D5663"
         },
         "title": {
          "font": {
           "color": "#4D5663"
          },
          "text": ""
         },
         "zerolinecolor": "#E1E5ED"
        },
        "xaxis10": {
         "anchor": "y10",
         "domain": [
          0.2625,
          0.475
         ],
         "gridcolor": "#E1E5ED",
         "showgrid": false,
         "tickfont": {
          "color": "#4D5663"
         },
         "title": {
          "font": {
           "color": "#4D5663"
          },
          "text": ""
         },
         "zerolinecolor": "#E1E5ED"
        },
        "xaxis11": {
         "anchor": "y11",
         "domain": [
          0.525,
          0.7375
         ],
         "gridcolor": "#E1E5ED",
         "showgrid": false,
         "tickfont": {
          "color": "#4D5663"
         },
         "title": {
          "font": {
           "color": "#4D5663"
          },
          "text": ""
         },
         "zerolinecolor": "#E1E5ED"
        },
        "xaxis12": {
         "anchor": "y12",
         "domain": [
          0.7875,
          1
         ],
         "gridcolor": "#E1E5ED",
         "showgrid": false,
         "tickfont": {
          "color": "#4D5663"
         },
         "title": {
          "font": {
           "color": "#4D5663"
          },
          "text": ""
         },
         "zerolinecolor": "#E1E5ED"
        },
        "xaxis13": {
         "anchor": "y13",
         "domain": [
          0,
          0.2125
         ],
         "gridcolor": "#E1E5ED",
         "showgrid": false,
         "tickfont": {
          "color": "#4D5663"
         },
         "title": {
          "font": {
           "color": "#4D5663"
          },
          "text": ""
         },
         "zerolinecolor": "#E1E5ED"
        },
        "xaxis14": {
         "anchor": "y14",
         "domain": [
          0.2625,
          0.475
         ],
         "gridcolor": "#E1E5ED",
         "showgrid": false,
         "tickfont": {
          "color": "#4D5663"
         },
         "title": {
          "font": {
           "color": "#4D5663"
          },
          "text": ""
         },
         "zerolinecolor": "#E1E5ED"
        },
        "xaxis15": {
         "anchor": "y15",
         "domain": [
          0.525,
          0.7375
         ],
         "gridcolor": "#E1E5ED",
         "showgrid": false,
         "tickfont": {
          "color": "#4D5663"
         },
         "title": {
          "font": {
           "color": "#4D5663"
          },
          "text": ""
         },
         "zerolinecolor": "#E1E5ED"
        },
        "xaxis16": {
         "anchor": "y16",
         "domain": [
          0.7875,
          1
         ],
         "gridcolor": "#E1E5ED",
         "showgrid": false,
         "tickfont": {
          "color": "#4D5663"
         },
         "title": {
          "font": {
           "color": "#4D5663"
          },
          "text": ""
         },
         "zerolinecolor": "#E1E5ED"
        },
        "xaxis2": {
         "anchor": "y2",
         "domain": [
          0.2625,
          0.475
         ],
         "gridcolor": "#E1E5ED",
         "showgrid": false,
         "tickfont": {
          "color": "#4D5663"
         },
         "title": {
          "font": {
           "color": "#4D5663"
          },
          "text": ""
         },
         "zerolinecolor": "#E1E5ED"
        },
        "xaxis3": {
         "anchor": "y3",
         "domain": [
          0.525,
          0.7375
         ],
         "gridcolor": "#E1E5ED",
         "showgrid": false,
         "tickfont": {
          "color": "#4D5663"
         },
         "title": {
          "font": {
           "color": "#4D5663"
          },
          "text": ""
         },
         "zerolinecolor": "#E1E5ED"
        },
        "xaxis4": {
         "anchor": "y4",
         "domain": [
          0.7875,
          1
         ],
         "gridcolor": "#E1E5ED",
         "showgrid": false,
         "tickfont": {
          "color": "#4D5663"
         },
         "title": {
          "font": {
           "color": "#4D5663"
          },
          "text": ""
         },
         "zerolinecolor": "#E1E5ED"
        },
        "xaxis5": {
         "anchor": "y5",
         "domain": [
          0,
          0.2125
         ],
         "gridcolor": "#E1E5ED",
         "showgrid": false,
         "tickfont": {
          "color": "#4D5663"
         },
         "title": {
          "font": {
           "color": "#4D5663"
          },
          "text": ""
         },
         "zerolinecolor": "#E1E5ED"
        },
        "xaxis6": {
         "anchor": "y6",
         "domain": [
          0.2625,
          0.475
         ],
         "gridcolor": "#E1E5ED",
         "showgrid": false,
         "tickfont": {
          "color": "#4D5663"
         },
         "title": {
          "font": {
           "color": "#4D5663"
          },
          "text": ""
         },
         "zerolinecolor": "#E1E5ED"
        },
        "xaxis7": {
         "anchor": "y7",
         "domain": [
          0.525,
          0.7375
         ],
         "gridcolor": "#E1E5ED",
         "showgrid": false,
         "tickfont": {
          "color": "#4D5663"
         },
         "title": {
          "font": {
           "color": "#4D5663"
          },
          "text": ""
         },
         "zerolinecolor": "#E1E5ED"
        },
        "xaxis8": {
         "anchor": "y8",
         "domain": [
          0.7875,
          1
         ],
         "gridcolor": "#E1E5ED",
         "showgrid": false,
         "tickfont": {
          "color": "#4D5663"
         },
         "title": {
          "font": {
           "color": "#4D5663"
          },
          "text": ""
         },
         "zerolinecolor": "#E1E5ED"
        },
        "xaxis9": {
         "anchor": "y9",
         "domain": [
          0,
          0.2125
         ],
         "gridcolor": "#E1E5ED",
         "showgrid": false,
         "tickfont": {
          "color": "#4D5663"
         },
         "title": {
          "font": {
           "color": "#4D5663"
          },
          "text": ""
         },
         "zerolinecolor": "#E1E5ED"
        },
        "yaxis": {
         "anchor": "x",
         "domain": [
          0.8025,
          1
         ],
         "gridcolor": "#E1E5ED",
         "showgrid": false,
         "tickfont": {
          "color": "#4D5663"
         },
         "title": {
          "font": {
           "color": "#4D5663"
          },
          "text": ""
         },
         "zerolinecolor": "#E1E5ED"
        },
        "yaxis10": {
         "anchor": "x10",
         "domain": [
          0.2675,
          0.465
         ],
         "gridcolor": "#E1E5ED",
         "showgrid": false,
         "tickfont": {
          "color": "#4D5663"
         },
         "title": {
          "font": {
           "color": "#4D5663"
          },
          "text": ""
         },
         "zerolinecolor": "#E1E5ED"
        },
        "yaxis11": {
         "anchor": "x11",
         "domain": [
          0.2675,
          0.465
         ],
         "gridcolor": "#E1E5ED",
         "showgrid": false,
         "tickfont": {
          "color": "#4D5663"
         },
         "title": {
          "font": {
           "color": "#4D5663"
          },
          "text": ""
         },
         "zerolinecolor": "#E1E5ED"
        },
        "yaxis12": {
         "anchor": "x12",
         "domain": [
          0.2675,
          0.465
         ],
         "gridcolor": "#E1E5ED",
         "showgrid": false,
         "tickfont": {
          "color": "#4D5663"
         },
         "title": {
          "font": {
           "color": "#4D5663"
          },
          "text": ""
         },
         "zerolinecolor": "#E1E5ED"
        },
        "yaxis13": {
         "anchor": "x13",
         "domain": [
          0,
          0.1975
         ],
         "gridcolor": "#E1E5ED",
         "showgrid": false,
         "tickfont": {
          "color": "#4D5663"
         },
         "title": {
          "font": {
           "color": "#4D5663"
          },
          "text": ""
         },
         "zerolinecolor": "#E1E5ED"
        },
        "yaxis14": {
         "anchor": "x14",
         "domain": [
          0,
          0.1975
         ],
         "gridcolor": "#E1E5ED",
         "showgrid": false,
         "tickfont": {
          "color": "#4D5663"
         },
         "title": {
          "font": {
           "color": "#4D5663"
          },
          "text": ""
         },
         "zerolinecolor": "#E1E5ED"
        },
        "yaxis15": {
         "anchor": "x15",
         "domain": [
          0,
          0.1975
         ],
         "gridcolor": "#E1E5ED",
         "showgrid": false,
         "tickfont": {
          "color": "#4D5663"
         },
         "title": {
          "font": {
           "color": "#4D5663"
          },
          "text": ""
         },
         "zerolinecolor": "#E1E5ED"
        },
        "yaxis16": {
         "anchor": "x16",
         "domain": [
          0,
          0.1975
         ],
         "gridcolor": "#E1E5ED",
         "showgrid": false,
         "tickfont": {
          "color": "#4D5663"
         },
         "title": {
          "font": {
           "color": "#4D5663"
          },
          "text": ""
         },
         "zerolinecolor": "#E1E5ED"
        },
        "yaxis2": {
         "anchor": "x2",
         "domain": [
          0.8025,
          1
         ],
         "gridcolor": "#E1E5ED",
         "showgrid": false,
         "tickfont": {
          "color": "#4D5663"
         },
         "title": {
          "font": {
           "color": "#4D5663"
          },
          "text": ""
         },
         "zerolinecolor": "#E1E5ED"
        },
        "yaxis3": {
         "anchor": "x3",
         "domain": [
          0.8025,
          1
         ],
         "gridcolor": "#E1E5ED",
         "showgrid": false,
         "tickfont": {
          "color": "#4D5663"
         },
         "title": {
          "font": {
           "color": "#4D5663"
          },
          "text": ""
         },
         "zerolinecolor": "#E1E5ED"
        },
        "yaxis4": {
         "anchor": "x4",
         "domain": [
          0.8025,
          1
         ],
         "gridcolor": "#E1E5ED",
         "showgrid": false,
         "tickfont": {
          "color": "#4D5663"
         },
         "title": {
          "font": {
           "color": "#4D5663"
          },
          "text": ""
         },
         "zerolinecolor": "#E1E5ED"
        },
        "yaxis5": {
         "anchor": "x5",
         "domain": [
          0.535,
          0.7325
         ],
         "gridcolor": "#E1E5ED",
         "showgrid": false,
         "tickfont": {
          "color": "#4D5663"
         },
         "title": {
          "font": {
           "color": "#4D5663"
          },
          "text": ""
         },
         "zerolinecolor": "#E1E5ED"
        },
        "yaxis6": {
         "anchor": "x6",
         "domain": [
          0.535,
          0.7325
         ],
         "gridcolor": "#E1E5ED",
         "showgrid": false,
         "tickfont": {
          "color": "#4D5663"
         },
         "title": {
          "font": {
           "color": "#4D5663"
          },
          "text": ""
         },
         "zerolinecolor": "#E1E5ED"
        },
        "yaxis7": {
         "anchor": "x7",
         "domain": [
          0.535,
          0.7325
         ],
         "gridcolor": "#E1E5ED",
         "showgrid": false,
         "tickfont": {
          "color": "#4D5663"
         },
         "title": {
          "font": {
           "color": "#4D5663"
          },
          "text": ""
         },
         "zerolinecolor": "#E1E5ED"
        },
        "yaxis8": {
         "anchor": "x8",
         "domain": [
          0.535,
          0.7325
         ],
         "gridcolor": "#E1E5ED",
         "showgrid": false,
         "tickfont": {
          "color": "#4D5663"
         },
         "title": {
          "font": {
           "color": "#4D5663"
          },
          "text": ""
         },
         "zerolinecolor": "#E1E5ED"
        },
        "yaxis9": {
         "anchor": "x9",
         "domain": [
          0.2675,
          0.465
         ],
         "gridcolor": "#E1E5ED",
         "showgrid": false,
         "tickfont": {
          "color": "#4D5663"
         },
         "title": {
          "font": {
           "color": "#4D5663"
          },
          "text": ""
         },
         "zerolinecolor": "#E1E5ED"
        }
       }
      },
      "text/html": [
       "<div>                            <div id=\"c84d37e0-26d8-4cfc-acc5-dd86c97b666c\" class=\"plotly-graph-div\" style=\"height:525px; width:100%;\"></div>            <script type=\"text/javascript\">                require([\"plotly\"], function(Plotly) {                    window.PLOTLYENV=window.PLOTLYENV || {};\n",
       "                    window.PLOTLYENV.BASE_URL='https://plot.ly';                                    if (document.getElementById(\"c84d37e0-26d8-4cfc-acc5-dd86c97b666c\")) {                    Plotly.newPlot(                        \"c84d37e0-26d8-4cfc-acc5-dd86c97b666c\",                        [{\"histfunc\": \"count\", \"histnorm\": \"\", \"marker\": {\"color\": \"rgba(255, 153, 51, 1.0)\", \"line\": {\"color\": \"#4D5663\", \"width\": 1.3}}, \"name\": \"A\", \"nbinsx\": 10, \"opacity\": 0.8, \"orientation\": \"v\", \"type\": \"histogram\", \"x\": [1.5047071858675904, -1.2306437730366853, 0.605020350239587, -0.11730722559215549, -0.5094486400300653, -0.03247951610040798, 0.9731351835823545, -1.472511340085507, -0.23083304464393553, 0.5787834027566838, -0.3156316458899452, -0.37854491314669936, -1.578313375563011, -0.7431436030597717, 0.5630177560101443, -1.3333242685734497, -0.4812889971321455, 0.46635368545417594, -0.09920746060052134, 1.0140120472191738, -0.9225221157990605, 1.4196106846836412, 0.1952712362569279, -0.8168745709151536, -0.13975493326855662, 0.5823845164628724, -0.04996888900130543, 0.013820356133013887, -0.06830081283978562, 0.19215684436051617, 1.286435464479053, -0.33541662466852057, -2.8587717658377443, 0.006416985094558975, 1.2961166888011706, -0.08942228467851332, 1.587406402848416, 0.25947535251631904, -0.8048768802234534, -0.8419192982284646, -1.6039443064270875, 0.10466270748776571, 0.02998318674242047, -0.006862251689929032, -0.7660788034000553, 1.1726861103538202, -0.27001683146847616, 0.020866604645267316, -1.5500723287323086, -0.1353630979441134, 0.10043734262022548, 0.26824564753711505, 0.12819938986961066, -1.17819730023147, 0.43825107894139315, -0.8922617953366131, -0.1304564737507755, -0.712627526372936, -0.21148412951738027, -0.803660466757645, -0.2795304432141383, -0.7656507457744494, -1.2247199589979165, -0.16498458992525863, 0.923653188973336, 0.13764563658951204, 0.043849382884496906, 0.607314473420084, 0.7462893879083348, 0.18665312051788513, -1.4497989583537694, 1.528431628745062, 0.3712893622551243, 0.47187897031748005, 0.8177302430660359, -0.09631945740607714, 0.2046001019962186, 1.5632968046193618, 0.28173247195427, -0.4990349917914575, 0.4880662332937979, -1.6313543113852154, 0.4398737132524965, 0.22985411660186864, 1.2996791563457732, -0.0015933251060393399, 0.48577287679867154, -0.7611622677031836, -0.9177847234627884, 0.31360597655689065, 0.8504935212248734, -0.5321453076085406, -0.44651013637870907, -0.8221181957042193, 1.8611329510653556, -1.9200683591650554, 0.2640173821523596, -0.012626231690431604, 3.152977471906116, 0.3884525520079316], \"xaxis\": \"x\", \"yaxis\": \"y\"}, {\"line\": {\"color\": \"rgba(128, 128, 128, 1.0)\", \"dash\": \"solid\", \"shape\": \"linear\", \"width\": 1.3}, \"marker\": {\"size\": 2, \"symbol\": \"circle\"}, \"mode\": \"markers\", \"name\": \"A\", \"text\": \"\", \"type\": \"scatter\", \"x\": [0.47852473764124553, 0.47953723587996805, -0.44148143458663514, 1.7986040640014305, 1.3887987421628392, 1.597757985723844, 0.5877999356373035, 1.5808007026584723, -0.33360175851415325, -0.13122522278994106, 0.3224781441878215, 0.8496592084762307, -1.150154786050836, -0.03636065930498414, -0.5208283778493646, 1.0938755117779735, 0.15407640392163835, 0.569679081793052, 0.03260012363032162, 0.9945392624370553, 1.3904827907721824, 1.775213217496774, -0.5429998873307663, 0.0915471721012884, -0.09519693387176657, -1.5963958081570286, 2.4465606576364927, 1.5731633274545442, -0.08560470104480285, 0.2580248761829393, 1.539166024904185, 0.5416302736813118, -0.6303030028201453, -0.20719439088977545, 0.4791532829966961, 0.6345908134255359, -1.4310301356276192, -1.3401692846786348, 0.12938500637423184, 0.8697464546388674, -1.233469614258414, 2.266394093414955, 0.4095157714369962, 0.3129562945885272, 0.6875159516001128, 0.43742266506028393, -0.9548174472407832, 0.07014485793751564, -0.20394038833768505, 1.3440227943161343, -0.4211541610746663, 1.1778831515862733, -0.20884700147291713, -0.6287794998087359, -0.7877323616235364, -1.2186019438648847, 1.1458611752078418, -0.38447865902786865, -0.5223514043098862, 0.8604521332601345, -0.29850097445053136, -1.0125124820836118, -0.13931808941227639, 0.24397113215543434, 1.7129575541024467, -0.3046189015886152, -2.304212940366996, 0.9750048983151226, 0.1917996277566565, 1.7150797955986141, -0.6669591370086811, -0.8584067440066807, 1.0979784717067602, -1.4142753213911983, -0.14952157401637756, -1.7533683614377518, 0.12616412568399893, 0.4011261217165389, -1.528023749999498, -2.447037347680574, -1.889348744499366, -0.9452629996802178, 0.05039114426983621, 1.1675519258374532, 0.1295374021492559, 0.3296377092381601, 1.7544282508147742, -0.9871840427773075, -0.49209018295214213, -0.9434878688187036, 1.6166091978251167, -0.23609503635320464, 0.9761194029838546, 0.7307775163820062, 1.3621691942697398, 0.4874710586315161, -2.211347382211482, 0.24820113797038115, -7.074984288589023e-05, -0.9973009933770731], \"xaxis\": \"x2\", \"y\": [1.5047071858675904, -1.2306437730366853, 0.605020350239587, -0.11730722559215549, -0.5094486400300653, -0.03247951610040798, 0.9731351835823545, -1.472511340085507, -0.23083304464393553, 0.5787834027566838, -0.3156316458899452, -0.37854491314669936, -1.578313375563011, -0.7431436030597717, 0.5630177560101443, -1.3333242685734497, -0.4812889971321455, 0.46635368545417594, -0.09920746060052134, 1.0140120472191738, -0.9225221157990605, 1.4196106846836412, 0.1952712362569279, -0.8168745709151536, -0.13975493326855662, 0.5823845164628724, -0.04996888900130543, 0.013820356133013887, -0.06830081283978562, 0.19215684436051617, 1.286435464479053, -0.33541662466852057, -2.8587717658377443, 0.006416985094558975, 1.2961166888011706, -0.08942228467851332, 1.587406402848416, 0.25947535251631904, -0.8048768802234534, -0.8419192982284646, -1.6039443064270875, 0.10466270748776571, 0.02998318674242047, -0.006862251689929032, -0.7660788034000553, 1.1726861103538202, -0.27001683146847616, 0.020866604645267316, -1.5500723287323086, -0.1353630979441134, 0.10043734262022548, 0.26824564753711505, 0.12819938986961066, -1.17819730023147, 0.43825107894139315, -0.8922617953366131, -0.1304564737507755, -0.712627526372936, -0.21148412951738027, -0.803660466757645, -0.2795304432141383, -0.7656507457744494, -1.2247199589979165, -0.16498458992525863, 0.923653188973336, 0.13764563658951204, 0.043849382884496906, 0.607314473420084, 0.7462893879083348, 0.18665312051788513, -1.4497989583537694, 1.528431628745062, 0.3712893622551243, 0.47187897031748005, 0.8177302430660359, -0.09631945740607714, 0.2046001019962186, 1.5632968046193618, 0.28173247195427, -0.4990349917914575, 0.4880662332937979, -1.6313543113852154, 0.4398737132524965, 0.22985411660186864, 1.2996791563457732, -0.0015933251060393399, 0.48577287679867154, -0.7611622677031836, -0.9177847234627884, 0.31360597655689065, 0.8504935212248734, -0.5321453076085406, -0.44651013637870907, -0.8221181957042193, 1.8611329510653556, -1.9200683591650554, 0.2640173821523596, -0.012626231690431604, 3.152977471906116, 0.3884525520079316], \"yaxis\": \"y2\"}, {\"line\": {\"color\": \"rgba(128, 128, 128, 1.0)\", \"dash\": \"solid\", \"shape\": \"linear\", \"width\": 1.3}, \"marker\": {\"size\": 2, \"symbol\": \"circle\"}, \"mode\": \"markers\", \"name\": \"A\", \"text\": \"\", \"type\": \"scatter\", \"x\": [-0.6000059072918577, 1.3851327831240583, -0.8416605212960638, 1.5154885208090547, 0.35490000189417265, 1.6908051929618615, -1.5287201794917664, -0.7349423678365664, -0.6913427780487162, -0.48028684240557384, -0.8194308330776271, -0.29106481926234773, -0.44013318857028755, -0.20308347702726706, 0.35361926604476035, 0.9088141438825913, -0.12621126330418034, 0.2713276194712512, 0.6134881669524676, -0.6779439897805137, 0.24950517621334753, -2.2745063234013974, -0.7245357611636806, -0.6894443833026974, -0.1264702313571285, -1.7171240171463795, 0.4649639516968302, 0.28032078841628816, 0.8187312513948517, 1.8356694161971212, 0.07111938776697482, 0.5280542526634601, -0.16806824844991317, 0.3000210389712474, -0.12397057872547237, -1.7083423879575599, 1.00021666547896, -1.638137045671358, 0.9357959636309474, 0.05029229480271856, -0.07831195145744159, -0.23370643955925763, -0.5993775703744221, 0.37675039193732496, 0.24028123734389664, 0.3093358333892805, -0.5924220763938935, 0.7335935351551006, -0.44891339165705907, -0.35530507838316644, -0.4944060862732866, 0.38313420932443837, 1.1715219237750232, 1.3121080758510824, 0.809296311973692, 0.44223568422499776, -1.0144546947415045, -2.0963256155813, 0.8303089376644729, 0.20727530570372368, 0.6809398714532137, -0.20313700975503854, -0.8683297955457224, -0.8967516788430234, -2.890614614986278, -0.09993955098456375, -0.14383529393879205, -1.0973057711218217, -0.7504335408709724, 0.9180133479107283, -0.5666948674783646, -1.9763329181438785, 0.9938517046204264, 0.23372817565574658, -0.30996996483053013, -0.7952300157721142, -0.5982382641896878, 2.019467960329815, -1.2598852398508364, -2.3605648504641117, 0.2688239708057861, 0.3341326209586924, 0.5781274307848184, -1.126794432746841, 1.8186529196083057, -0.2257175946243995, -0.7327823203159495, -0.04215232447181377, 0.35468065583520547, 0.7529400572744188, -0.9070666616628649, -2.7491636513888267, -0.158765905268466, -1.5942636877571497, -0.034178501622841355, 1.644502105606857, 1.2278338376015379, 0.22311899274343086, 2.0926505853158326, 0.14481317662602947], \"xaxis\": \"x3\", \"y\": [1.5047071858675904, -1.2306437730366853, 0.605020350239587, -0.11730722559215549, -0.5094486400300653, -0.03247951610040798, 0.9731351835823545, -1.472511340085507, -0.23083304464393553, 0.5787834027566838, -0.3156316458899452, -0.37854491314669936, -1.578313375563011, -0.7431436030597717, 0.5630177560101443, -1.3333242685734497, -0.4812889971321455, 0.46635368545417594, -0.09920746060052134, 1.0140120472191738, -0.9225221157990605, 1.4196106846836412, 0.1952712362569279, -0.8168745709151536, -0.13975493326855662, 0.5823845164628724, -0.04996888900130543, 0.013820356133013887, -0.06830081283978562, 0.19215684436051617, 1.286435464479053, -0.33541662466852057, -2.8587717658377443, 0.006416985094558975, 1.2961166888011706, -0.08942228467851332, 1.587406402848416, 0.25947535251631904, -0.8048768802234534, -0.8419192982284646, -1.6039443064270875, 0.10466270748776571, 0.02998318674242047, -0.006862251689929032, -0.7660788034000553, 1.1726861103538202, -0.27001683146847616, 0.020866604645267316, -1.5500723287323086, -0.1353630979441134, 0.10043734262022548, 0.26824564753711505, 0.12819938986961066, -1.17819730023147, 0.43825107894139315, -0.8922617953366131, -0.1304564737507755, -0.712627526372936, -0.21148412951738027, -0.803660466757645, -0.2795304432141383, -0.7656507457744494, -1.2247199589979165, -0.16498458992525863, 0.923653188973336, 0.13764563658951204, 0.043849382884496906, 0.607314473420084, 0.7462893879083348, 0.18665312051788513, -1.4497989583537694, 1.528431628745062, 0.3712893622551243, 0.47187897031748005, 0.8177302430660359, -0.09631945740607714, 0.2046001019962186, 1.5632968046193618, 0.28173247195427, -0.4990349917914575, 0.4880662332937979, -1.6313543113852154, 0.4398737132524965, 0.22985411660186864, 1.2996791563457732, -0.0015933251060393399, 0.48577287679867154, -0.7611622677031836, -0.9177847234627884, 0.31360597655689065, 0.8504935212248734, -0.5321453076085406, -0.44651013637870907, -0.8221181957042193, 1.8611329510653556, -1.9200683591650554, 0.2640173821523596, -0.012626231690431604, 3.152977471906116, 0.3884525520079316], \"yaxis\": \"y3\"}, {\"line\": {\"color\": \"rgba(128, 128, 128, 1.0)\", \"dash\": \"solid\", \"shape\": \"linear\", \"width\": 1.3}, \"marker\": {\"size\": 2, \"symbol\": \"circle\"}, \"mode\": \"markers\", \"name\": \"A\", \"text\": \"\", \"type\": \"scatter\", \"x\": [-0.8082398228533931, -0.5150448150176067, -1.0877456219922552, -0.8048179509408832, 0.6086999215692537, -0.5757069764316959, 0.47345421556973416, -0.20836536589757984, -1.530474829093293, 0.4219608143606672, -1.3598569545767323, 0.26771371003290845, 0.5983985813921551, -0.07616351426305064, -0.030391020270419882, 1.001390782205427, 0.9369229701129356, -0.356238064328411, -0.727088551183532, 1.7896490382744903, -0.24431409954433136, 0.2237147309778499, 0.20738917270660667, -0.46228323064267396, 2.0312627382663093, 0.507205686431814, -1.1004206781437917, -0.40716791218137677, 0.4903848006304384, -0.7918357006951539, 1.9658079569926246, -0.6457999436135241, 1.0614383133641743, 0.27377992781923305, 0.10701923381201559, -0.4000061087739593, -1.837251657679469, 0.4880101965671579, 0.6911914823146007, 1.746647766580847, 2.4730610128976025, 0.6872374464358818, 1.0732008846959473, -0.48774677137980743, -0.8095131203630446, -1.1453972995580883, 0.6745284104776471, -0.7089344921988175, 1.080404970897654, 0.654933864788666, 0.5993501954136305, 0.6335112551331462, -0.3589185468179479, -1.404924418265637, 0.013247846568394272, 0.49121042562949946, -1.781961301376952, -0.3461391298088473, 0.7079203769362604, -0.4845337136107974, 2.2121393861141807, -1.2069802115680754, 0.49389803836683593, -1.0011033326444534, 0.004752979140422849, -0.8451778958184031, -0.6643597024318079, -0.40229732951149305, -0.7377438349276196, 0.7143190164674909, 3.2165361910584975, -0.2990466181868432, 0.5983848199307756, -0.6547230911032215, -1.3508232926668085, -0.30203008713704566, 0.8222645436335331, 0.7683362411825844, 0.20502092967846014, -1.3032276841045292, -1.9480148669781658, 0.49509145239623104, 0.6957201739268423, -0.6099904097456169, 1.055965324015916, 0.006084384263107051, 1.4515849407547137, -0.4514929498138888, -0.2807620187625043, -0.4223488763697073, -1.017141859337329, 0.6388544156437523, 0.2593832599300954, -0.24507572484234003, -0.48759006253485254, -1.7667005971711343, -0.035067253089737994, -1.256620895729348, -0.13091364656474716, 2.1494704847322295], \"xaxis\": \"x4\", \"y\": [1.5047071858675904, -1.2306437730366853, 0.605020350239587, -0.11730722559215549, -0.5094486400300653, -0.03247951610040798, 0.9731351835823545, -1.472511340085507, -0.23083304464393553, 0.5787834027566838, -0.3156316458899452, -0.37854491314669936, -1.578313375563011, -0.7431436030597717, 0.5630177560101443, -1.3333242685734497, -0.4812889971321455, 0.46635368545417594, -0.09920746060052134, 1.0140120472191738, -0.9225221157990605, 1.4196106846836412, 0.1952712362569279, -0.8168745709151536, -0.13975493326855662, 0.5823845164628724, -0.04996888900130543, 0.013820356133013887, -0.06830081283978562, 0.19215684436051617, 1.286435464479053, -0.33541662466852057, -2.8587717658377443, 0.006416985094558975, 1.2961166888011706, -0.08942228467851332, 1.587406402848416, 0.25947535251631904, -0.8048768802234534, -0.8419192982284646, -1.6039443064270875, 0.10466270748776571, 0.02998318674242047, -0.006862251689929032, -0.7660788034000553, 1.1726861103538202, -0.27001683146847616, 0.020866604645267316, -1.5500723287323086, -0.1353630979441134, 0.10043734262022548, 0.26824564753711505, 0.12819938986961066, -1.17819730023147, 0.43825107894139315, -0.8922617953366131, -0.1304564737507755, -0.712627526372936, -0.21148412951738027, -0.803660466757645, -0.2795304432141383, -0.7656507457744494, -1.2247199589979165, -0.16498458992525863, 0.923653188973336, 0.13764563658951204, 0.043849382884496906, 0.607314473420084, 0.7462893879083348, 0.18665312051788513, -1.4497989583537694, 1.528431628745062, 0.3712893622551243, 0.47187897031748005, 0.8177302430660359, -0.09631945740607714, 0.2046001019962186, 1.5632968046193618, 0.28173247195427, -0.4990349917914575, 0.4880662332937979, -1.6313543113852154, 0.4398737132524965, 0.22985411660186864, 1.2996791563457732, -0.0015933251060393399, 0.48577287679867154, -0.7611622677031836, -0.9177847234627884, 0.31360597655689065, 0.8504935212248734, -0.5321453076085406, -0.44651013637870907, -0.8221181957042193, 1.8611329510653556, -1.9200683591650554, 0.2640173821523596, -0.012626231690431604, 3.152977471906116, 0.3884525520079316], \"yaxis\": \"y4\"}, {\"line\": {\"color\": \"rgba(128, 128, 128, 1.0)\", \"dash\": \"solid\", \"shape\": \"linear\", \"width\": 1.3}, \"marker\": {\"size\": 2, \"symbol\": \"circle\"}, \"mode\": \"markers\", \"name\": \"B\", \"text\": \"\", \"type\": \"scatter\", \"x\": [1.5047071858675904, -1.2306437730366853, 0.605020350239587, -0.11730722559215549, -0.5094486400300653, -0.03247951610040798, 0.9731351835823545, -1.472511340085507, -0.23083304464393553, 0.5787834027566838, -0.3156316458899452, -0.37854491314669936, -1.578313375563011, -0.7431436030597717, 0.5630177560101443, -1.3333242685734497, -0.4812889971321455, 0.46635368545417594, -0.09920746060052134, 1.0140120472191738, -0.9225221157990605, 1.4196106846836412, 0.1952712362569279, -0.8168745709151536, -0.13975493326855662, 0.5823845164628724, -0.04996888900130543, 0.013820356133013887, -0.06830081283978562, 0.19215684436051617, 1.286435464479053, -0.33541662466852057, -2.8587717658377443, 0.006416985094558975, 1.2961166888011706, -0.08942228467851332, 1.587406402848416, 0.25947535251631904, -0.8048768802234534, -0.8419192982284646, -1.6039443064270875, 0.10466270748776571, 0.02998318674242047, -0.006862251689929032, -0.7660788034000553, 1.1726861103538202, -0.27001683146847616, 0.020866604645267316, -1.5500723287323086, -0.1353630979441134, 0.10043734262022548, 0.26824564753711505, 0.12819938986961066, -1.17819730023147, 0.43825107894139315, -0.8922617953366131, -0.1304564737507755, -0.712627526372936, -0.21148412951738027, -0.803660466757645, -0.2795304432141383, -0.7656507457744494, -1.2247199589979165, -0.16498458992525863, 0.923653188973336, 0.13764563658951204, 0.043849382884496906, 0.607314473420084, 0.7462893879083348, 0.18665312051788513, -1.4497989583537694, 1.528431628745062, 0.3712893622551243, 0.47187897031748005, 0.8177302430660359, -0.09631945740607714, 0.2046001019962186, 1.5632968046193618, 0.28173247195427, -0.4990349917914575, 0.4880662332937979, -1.6313543113852154, 0.4398737132524965, 0.22985411660186864, 1.2996791563457732, -0.0015933251060393399, 0.48577287679867154, -0.7611622677031836, -0.9177847234627884, 0.31360597655689065, 0.8504935212248734, -0.5321453076085406, -0.44651013637870907, -0.8221181957042193, 1.8611329510653556, -1.9200683591650554, 0.2640173821523596, -0.012626231690431604, 3.152977471906116, 0.3884525520079316], \"xaxis\": \"x5\", \"y\": [0.47852473764124553, 0.47953723587996805, -0.44148143458663514, 1.7986040640014305, 1.3887987421628392, 1.597757985723844, 0.5877999356373035, 1.5808007026584723, -0.33360175851415325, -0.13122522278994106, 0.3224781441878215, 0.8496592084762307, -1.150154786050836, -0.03636065930498414, -0.5208283778493646, 1.0938755117779735, 0.15407640392163835, 0.569679081793052, 0.03260012363032162, 0.9945392624370553, 1.3904827907721824, 1.775213217496774, -0.5429998873307663, 0.0915471721012884, -0.09519693387176657, -1.5963958081570286, 2.4465606576364927, 1.5731633274545442, -0.08560470104480285, 0.2580248761829393, 1.539166024904185, 0.5416302736813118, -0.6303030028201453, -0.20719439088977545, 0.4791532829966961, 0.6345908134255359, -1.4310301356276192, -1.3401692846786348, 0.12938500637423184, 0.8697464546388674, -1.233469614258414, 2.266394093414955, 0.4095157714369962, 0.3129562945885272, 0.6875159516001128, 0.43742266506028393, -0.9548174472407832, 0.07014485793751564, -0.20394038833768505, 1.3440227943161343, -0.4211541610746663, 1.1778831515862733, -0.20884700147291713, -0.6287794998087359, -0.7877323616235364, -1.2186019438648847, 1.1458611752078418, -0.38447865902786865, -0.5223514043098862, 0.8604521332601345, -0.29850097445053136, -1.0125124820836118, -0.13931808941227639, 0.24397113215543434, 1.7129575541024467, -0.3046189015886152, -2.304212940366996, 0.9750048983151226, 0.1917996277566565, 1.7150797955986141, -0.6669591370086811, -0.8584067440066807, 1.0979784717067602, -1.4142753213911983, -0.14952157401637756, -1.7533683614377518, 0.12616412568399893, 0.4011261217165389, -1.528023749999498, -2.447037347680574, -1.889348744499366, -0.9452629996802178, 0.05039114426983621, 1.1675519258374532, 0.1295374021492559, 0.3296377092381601, 1.7544282508147742, -0.9871840427773075, -0.49209018295214213, -0.9434878688187036, 1.6166091978251167, -0.23609503635320464, 0.9761194029838546, 0.7307775163820062, 1.3621691942697398, 0.4874710586315161, -2.211347382211482, 0.24820113797038115, -7.074984288589023e-05, -0.9973009933770731], \"yaxis\": \"y5\"}, {\"histfunc\": \"count\", \"histnorm\": \"\", \"marker\": {\"color\": \"rgba(55, 128, 191, 1.0)\", \"line\": {\"color\": \"#4D5663\", \"width\": 1.3}}, \"name\": \"B\", \"nbinsx\": 10, \"opacity\": 0.8, \"orientation\": \"v\", \"type\": \"histogram\", \"x\": [0.47852473764124553, 0.47953723587996805, -0.44148143458663514, 1.7986040640014305, 1.3887987421628392, 1.597757985723844, 0.5877999356373035, 1.5808007026584723, -0.33360175851415325, -0.13122522278994106, 0.3224781441878215, 0.8496592084762307, -1.150154786050836, -0.03636065930498414, -0.5208283778493646, 1.0938755117779735, 0.15407640392163835, 0.569679081793052, 0.03260012363032162, 0.9945392624370553, 1.3904827907721824, 1.775213217496774, -0.5429998873307663, 0.0915471721012884, -0.09519693387176657, -1.5963958081570286, 2.4465606576364927, 1.5731633274545442, -0.08560470104480285, 0.2580248761829393, 1.539166024904185, 0.5416302736813118, -0.6303030028201453, -0.20719439088977545, 0.4791532829966961, 0.6345908134255359, -1.4310301356276192, -1.3401692846786348, 0.12938500637423184, 0.8697464546388674, -1.233469614258414, 2.266394093414955, 0.4095157714369962, 0.3129562945885272, 0.6875159516001128, 0.43742266506028393, -0.9548174472407832, 0.07014485793751564, -0.20394038833768505, 1.3440227943161343, -0.4211541610746663, 1.1778831515862733, -0.20884700147291713, -0.6287794998087359, -0.7877323616235364, -1.2186019438648847, 1.1458611752078418, -0.38447865902786865, -0.5223514043098862, 0.8604521332601345, -0.29850097445053136, -1.0125124820836118, -0.13931808941227639, 0.24397113215543434, 1.7129575541024467, -0.3046189015886152, -2.304212940366996, 0.9750048983151226, 0.1917996277566565, 1.7150797955986141, -0.6669591370086811, -0.8584067440066807, 1.0979784717067602, -1.4142753213911983, -0.14952157401637756, -1.7533683614377518, 0.12616412568399893, 0.4011261217165389, -1.528023749999498, -2.447037347680574, -1.889348744499366, -0.9452629996802178, 0.05039114426983621, 1.1675519258374532, 0.1295374021492559, 0.3296377092381601, 1.7544282508147742, -0.9871840427773075, -0.49209018295214213, -0.9434878688187036, 1.6166091978251167, -0.23609503635320464, 0.9761194029838546, 0.7307775163820062, 1.3621691942697398, 0.4874710586315161, -2.211347382211482, 0.24820113797038115, -7.074984288589023e-05, -0.9973009933770731], \"xaxis\": \"x6\", \"yaxis\": \"y6\"}, {\"line\": {\"color\": \"rgba(128, 128, 128, 1.0)\", \"dash\": \"solid\", \"shape\": \"linear\", \"width\": 1.3}, \"marker\": {\"size\": 2, \"symbol\": \"circle\"}, \"mode\": \"markers\", \"name\": \"B\", \"text\": \"\", \"type\": \"scatter\", \"x\": [-0.6000059072918577, 1.3851327831240583, -0.8416605212960638, 1.5154885208090547, 0.35490000189417265, 1.6908051929618615, -1.5287201794917664, -0.7349423678365664, -0.6913427780487162, -0.48028684240557384, -0.8194308330776271, -0.29106481926234773, -0.44013318857028755, -0.20308347702726706, 0.35361926604476035, 0.9088141438825913, -0.12621126330418034, 0.2713276194712512, 0.6134881669524676, -0.6779439897805137, 0.24950517621334753, -2.2745063234013974, -0.7245357611636806, -0.6894443833026974, -0.1264702313571285, -1.7171240171463795, 0.4649639516968302, 0.28032078841628816, 0.8187312513948517, 1.8356694161971212, 0.07111938776697482, 0.5280542526634601, -0.16806824844991317, 0.3000210389712474, -0.12397057872547237, -1.7083423879575599, 1.00021666547896, -1.638137045671358, 0.9357959636309474, 0.05029229480271856, -0.07831195145744159, -0.23370643955925763, -0.5993775703744221, 0.37675039193732496, 0.24028123734389664, 0.3093358333892805, -0.5924220763938935, 0.7335935351551006, -0.44891339165705907, -0.35530507838316644, -0.4944060862732866, 0.38313420932443837, 1.1715219237750232, 1.3121080758510824, 0.809296311973692, 0.44223568422499776, -1.0144546947415045, -2.0963256155813, 0.8303089376644729, 0.20727530570372368, 0.6809398714532137, -0.20313700975503854, -0.8683297955457224, -0.8967516788430234, -2.890614614986278, -0.09993955098456375, -0.14383529393879205, -1.0973057711218217, -0.7504335408709724, 0.9180133479107283, -0.5666948674783646, -1.9763329181438785, 0.9938517046204264, 0.23372817565574658, -0.30996996483053013, -0.7952300157721142, -0.5982382641896878, 2.019467960329815, -1.2598852398508364, -2.3605648504641117, 0.2688239708057861, 0.3341326209586924, 0.5781274307848184, -1.126794432746841, 1.8186529196083057, -0.2257175946243995, -0.7327823203159495, -0.04215232447181377, 0.35468065583520547, 0.7529400572744188, -0.9070666616628649, -2.7491636513888267, -0.158765905268466, -1.5942636877571497, -0.034178501622841355, 1.644502105606857, 1.2278338376015379, 0.22311899274343086, 2.0926505853158326, 0.14481317662602947], \"xaxis\": \"x7\", \"y\": [0.47852473764124553, 0.47953723587996805, -0.44148143458663514, 1.7986040640014305, 1.3887987421628392, 1.597757985723844, 0.5877999356373035, 1.5808007026584723, -0.33360175851415325, -0.13122522278994106, 0.3224781441878215, 0.8496592084762307, -1.150154786050836, -0.03636065930498414, -0.5208283778493646, 1.0938755117779735, 0.15407640392163835, 0.569679081793052, 0.03260012363032162, 0.9945392624370553, 1.3904827907721824, 1.775213217496774, -0.5429998873307663, 0.0915471721012884, -0.09519693387176657, -1.5963958081570286, 2.4465606576364927, 1.5731633274545442, -0.08560470104480285, 0.2580248761829393, 1.539166024904185, 0.5416302736813118, -0.6303030028201453, -0.20719439088977545, 0.4791532829966961, 0.6345908134255359, -1.4310301356276192, -1.3401692846786348, 0.12938500637423184, 0.8697464546388674, -1.233469614258414, 2.266394093414955, 0.4095157714369962, 0.3129562945885272, 0.6875159516001128, 0.43742266506028393, -0.9548174472407832, 0.07014485793751564, -0.20394038833768505, 1.3440227943161343, -0.4211541610746663, 1.1778831515862733, -0.20884700147291713, -0.6287794998087359, -0.7877323616235364, -1.2186019438648847, 1.1458611752078418, -0.38447865902786865, -0.5223514043098862, 0.8604521332601345, -0.29850097445053136, -1.0125124820836118, -0.13931808941227639, 0.24397113215543434, 1.7129575541024467, -0.3046189015886152, -2.304212940366996, 0.9750048983151226, 0.1917996277566565, 1.7150797955986141, -0.6669591370086811, -0.8584067440066807, 1.0979784717067602, -1.4142753213911983, -0.14952157401637756, -1.7533683614377518, 0.12616412568399893, 0.4011261217165389, -1.528023749999498, -2.447037347680574, -1.889348744499366, -0.9452629996802178, 0.05039114426983621, 1.1675519258374532, 0.1295374021492559, 0.3296377092381601, 1.7544282508147742, -0.9871840427773075, -0.49209018295214213, -0.9434878688187036, 1.6166091978251167, -0.23609503635320464, 0.9761194029838546, 0.7307775163820062, 1.3621691942697398, 0.4874710586315161, -2.211347382211482, 0.24820113797038115, -7.074984288589023e-05, -0.9973009933770731], \"yaxis\": \"y7\"}, {\"line\": {\"color\": \"rgba(128, 128, 128, 1.0)\", \"dash\": \"solid\", \"shape\": \"linear\", \"width\": 1.3}, \"marker\": {\"size\": 2, \"symbol\": \"circle\"}, \"mode\": \"markers\", \"name\": \"B\", \"text\": \"\", \"type\": \"scatter\", \"x\": [-0.8082398228533931, -0.5150448150176067, -1.0877456219922552, -0.8048179509408832, 0.6086999215692537, -0.5757069764316959, 0.47345421556973416, -0.20836536589757984, -1.530474829093293, 0.4219608143606672, -1.3598569545767323, 0.26771371003290845, 0.5983985813921551, -0.07616351426305064, -0.030391020270419882, 1.001390782205427, 0.9369229701129356, -0.356238064328411, -0.727088551183532, 1.7896490382744903, -0.24431409954433136, 0.2237147309778499, 0.20738917270660667, -0.46228323064267396, 2.0312627382663093, 0.507205686431814, -1.1004206781437917, -0.40716791218137677, 0.4903848006304384, -0.7918357006951539, 1.9658079569926246, -0.6457999436135241, 1.0614383133641743, 0.27377992781923305, 0.10701923381201559, -0.4000061087739593, -1.837251657679469, 0.4880101965671579, 0.6911914823146007, 1.746647766580847, 2.4730610128976025, 0.6872374464358818, 1.0732008846959473, -0.48774677137980743, -0.8095131203630446, -1.1453972995580883, 0.6745284104776471, -0.7089344921988175, 1.080404970897654, 0.654933864788666, 0.5993501954136305, 0.6335112551331462, -0.3589185468179479, -1.404924418265637, 0.013247846568394272, 0.49121042562949946, -1.781961301376952, -0.3461391298088473, 0.7079203769362604, -0.4845337136107974, 2.2121393861141807, -1.2069802115680754, 0.49389803836683593, -1.0011033326444534, 0.004752979140422849, -0.8451778958184031, -0.6643597024318079, -0.40229732951149305, -0.7377438349276196, 0.7143190164674909, 3.2165361910584975, -0.2990466181868432, 0.5983848199307756, -0.6547230911032215, -1.3508232926668085, -0.30203008713704566, 0.8222645436335331, 0.7683362411825844, 0.20502092967846014, -1.3032276841045292, -1.9480148669781658, 0.49509145239623104, 0.6957201739268423, -0.6099904097456169, 1.055965324015916, 0.006084384263107051, 1.4515849407547137, -0.4514929498138888, -0.2807620187625043, -0.4223488763697073, -1.017141859337329, 0.6388544156437523, 0.2593832599300954, -0.24507572484234003, -0.48759006253485254, -1.7667005971711343, -0.035067253089737994, -1.256620895729348, -0.13091364656474716, 2.1494704847322295], \"xaxis\": \"x8\", \"y\": [0.47852473764124553, 0.47953723587996805, -0.44148143458663514, 1.7986040640014305, 1.3887987421628392, 1.597757985723844, 0.5877999356373035, 1.5808007026584723, -0.33360175851415325, -0.13122522278994106, 0.3224781441878215, 0.8496592084762307, -1.150154786050836, -0.03636065930498414, -0.5208283778493646, 1.0938755117779735, 0.15407640392163835, 0.569679081793052, 0.03260012363032162, 0.9945392624370553, 1.3904827907721824, 1.775213217496774, -0.5429998873307663, 0.0915471721012884, -0.09519693387176657, -1.5963958081570286, 2.4465606576364927, 1.5731633274545442, -0.08560470104480285, 0.2580248761829393, 1.539166024904185, 0.5416302736813118, -0.6303030028201453, -0.20719439088977545, 0.4791532829966961, 0.6345908134255359, -1.4310301356276192, -1.3401692846786348, 0.12938500637423184, 0.8697464546388674, -1.233469614258414, 2.266394093414955, 0.4095157714369962, 0.3129562945885272, 0.6875159516001128, 0.43742266506028393, -0.9548174472407832, 0.07014485793751564, -0.20394038833768505, 1.3440227943161343, -0.4211541610746663, 1.1778831515862733, -0.20884700147291713, -0.6287794998087359, -0.7877323616235364, -1.2186019438648847, 1.1458611752078418, -0.38447865902786865, -0.5223514043098862, 0.8604521332601345, -0.29850097445053136, -1.0125124820836118, -0.13931808941227639, 0.24397113215543434, 1.7129575541024467, -0.3046189015886152, -2.304212940366996, 0.9750048983151226, 0.1917996277566565, 1.7150797955986141, -0.6669591370086811, -0.8584067440066807, 1.0979784717067602, -1.4142753213911983, -0.14952157401637756, -1.7533683614377518, 0.12616412568399893, 0.4011261217165389, -1.528023749999498, -2.447037347680574, -1.889348744499366, -0.9452629996802178, 0.05039114426983621, 1.1675519258374532, 0.1295374021492559, 0.3296377092381601, 1.7544282508147742, -0.9871840427773075, -0.49209018295214213, -0.9434878688187036, 1.6166091978251167, -0.23609503635320464, 0.9761194029838546, 0.7307775163820062, 1.3621691942697398, 0.4874710586315161, -2.211347382211482, 0.24820113797038115, -7.074984288589023e-05, -0.9973009933770731], \"yaxis\": \"y8\"}, {\"line\": {\"color\": \"rgba(128, 128, 128, 1.0)\", \"dash\": \"solid\", \"shape\": \"linear\", \"width\": 1.3}, \"marker\": {\"size\": 2, \"symbol\": \"circle\"}, \"mode\": \"markers\", \"name\": \"C\", \"text\": \"\", \"type\": \"scatter\", \"x\": [1.5047071858675904, -1.2306437730366853, 0.605020350239587, -0.11730722559215549, -0.5094486400300653, -0.03247951610040798, 0.9731351835823545, -1.472511340085507, -0.23083304464393553, 0.5787834027566838, -0.3156316458899452, -0.37854491314669936, -1.578313375563011, -0.7431436030597717, 0.5630177560101443, -1.3333242685734497, -0.4812889971321455, 0.46635368545417594, -0.09920746060052134, 1.0140120472191738, -0.9225221157990605, 1.4196106846836412, 0.1952712362569279, -0.8168745709151536, -0.13975493326855662, 0.5823845164628724, -0.04996888900130543, 0.013820356133013887, -0.06830081283978562, 0.19215684436051617, 1.286435464479053, -0.33541662466852057, -2.8587717658377443, 0.006416985094558975, 1.2961166888011706, -0.08942228467851332, 1.587406402848416, 0.25947535251631904, -0.8048768802234534, -0.8419192982284646, -1.6039443064270875, 0.10466270748776571, 0.02998318674242047, -0.006862251689929032, -0.7660788034000553, 1.1726861103538202, -0.27001683146847616, 0.020866604645267316, -1.5500723287323086, -0.1353630979441134, 0.10043734262022548, 0.26824564753711505, 0.12819938986961066, -1.17819730023147, 0.43825107894139315, -0.8922617953366131, -0.1304564737507755, -0.712627526372936, -0.21148412951738027, -0.803660466757645, -0.2795304432141383, -0.7656507457744494, -1.2247199589979165, -0.16498458992525863, 0.923653188973336, 0.13764563658951204, 0.043849382884496906, 0.607314473420084, 0.7462893879083348, 0.18665312051788513, -1.4497989583537694, 1.528431628745062, 0.3712893622551243, 0.47187897031748005, 0.8177302430660359, -0.09631945740607714, 0.2046001019962186, 1.5632968046193618, 0.28173247195427, -0.4990349917914575, 0.4880662332937979, -1.6313543113852154, 0.4398737132524965, 0.22985411660186864, 1.2996791563457732, -0.0015933251060393399, 0.48577287679867154, -0.7611622677031836, -0.9177847234627884, 0.31360597655689065, 0.8504935212248734, -0.5321453076085406, -0.44651013637870907, -0.8221181957042193, 1.8611329510653556, -1.9200683591650554, 0.2640173821523596, -0.012626231690431604, 3.152977471906116, 0.3884525520079316], \"xaxis\": \"x9\", \"y\": [-0.6000059072918577, 1.3851327831240583, -0.8416605212960638, 1.5154885208090547, 0.35490000189417265, 1.6908051929618615, -1.5287201794917664, -0.7349423678365664, -0.6913427780487162, -0.48028684240557384, -0.8194308330776271, -0.29106481926234773, -0.44013318857028755, -0.20308347702726706, 0.35361926604476035, 0.9088141438825913, -0.12621126330418034, 0.2713276194712512, 0.6134881669524676, -0.6779439897805137, 0.24950517621334753, -2.2745063234013974, -0.7245357611636806, -0.6894443833026974, -0.1264702313571285, -1.7171240171463795, 0.4649639516968302, 0.28032078841628816, 0.8187312513948517, 1.8356694161971212, 0.07111938776697482, 0.5280542526634601, -0.16806824844991317, 0.3000210389712474, -0.12397057872547237, -1.7083423879575599, 1.00021666547896, -1.638137045671358, 0.9357959636309474, 0.05029229480271856, -0.07831195145744159, -0.23370643955925763, -0.5993775703744221, 0.37675039193732496, 0.24028123734389664, 0.3093358333892805, -0.5924220763938935, 0.7335935351551006, -0.44891339165705907, -0.35530507838316644, -0.4944060862732866, 0.38313420932443837, 1.1715219237750232, 1.3121080758510824, 0.809296311973692, 0.44223568422499776, -1.0144546947415045, -2.0963256155813, 0.8303089376644729, 0.20727530570372368, 0.6809398714532137, -0.20313700975503854, -0.8683297955457224, -0.8967516788430234, -2.890614614986278, -0.09993955098456375, -0.14383529393879205, -1.0973057711218217, -0.7504335408709724, 0.9180133479107283, -0.5666948674783646, -1.9763329181438785, 0.9938517046204264, 0.23372817565574658, -0.30996996483053013, -0.7952300157721142, -0.5982382641896878, 2.019467960329815, -1.2598852398508364, -2.3605648504641117, 0.2688239708057861, 0.3341326209586924, 0.5781274307848184, -1.126794432746841, 1.8186529196083057, -0.2257175946243995, -0.7327823203159495, -0.04215232447181377, 0.35468065583520547, 0.7529400572744188, -0.9070666616628649, -2.7491636513888267, -0.158765905268466, -1.5942636877571497, -0.034178501622841355, 1.644502105606857, 1.2278338376015379, 0.22311899274343086, 2.0926505853158326, 0.14481317662602947], \"yaxis\": \"y9\"}, {\"line\": {\"color\": \"rgba(128, 128, 128, 1.0)\", \"dash\": \"solid\", \"shape\": \"linear\", \"width\": 1.3}, \"marker\": {\"size\": 2, \"symbol\": \"circle\"}, \"mode\": \"markers\", \"name\": \"C\", \"text\": \"\", \"type\": \"scatter\", \"x\": [0.47852473764124553, 0.47953723587996805, -0.44148143458663514, 1.7986040640014305, 1.3887987421628392, 1.597757985723844, 0.5877999356373035, 1.5808007026584723, -0.33360175851415325, -0.13122522278994106, 0.3224781441878215, 0.8496592084762307, -1.150154786050836, -0.03636065930498414, -0.5208283778493646, 1.0938755117779735, 0.15407640392163835, 0.569679081793052, 0.03260012363032162, 0.9945392624370553, 1.3904827907721824, 1.775213217496774, -0.5429998873307663, 0.0915471721012884, -0.09519693387176657, -1.5963958081570286, 2.4465606576364927, 1.5731633274545442, -0.08560470104480285, 0.2580248761829393, 1.539166024904185, 0.5416302736813118, -0.6303030028201453, -0.20719439088977545, 0.4791532829966961, 0.6345908134255359, -1.4310301356276192, -1.3401692846786348, 0.12938500637423184, 0.8697464546388674, -1.233469614258414, 2.266394093414955, 0.4095157714369962, 0.3129562945885272, 0.6875159516001128, 0.43742266506028393, -0.9548174472407832, 0.07014485793751564, -0.20394038833768505, 1.3440227943161343, -0.4211541610746663, 1.1778831515862733, -0.20884700147291713, -0.6287794998087359, -0.7877323616235364, -1.2186019438648847, 1.1458611752078418, -0.38447865902786865, -0.5223514043098862, 0.8604521332601345, -0.29850097445053136, -1.0125124820836118, -0.13931808941227639, 0.24397113215543434, 1.7129575541024467, -0.3046189015886152, -2.304212940366996, 0.9750048983151226, 0.1917996277566565, 1.7150797955986141, -0.6669591370086811, -0.8584067440066807, 1.0979784717067602, -1.4142753213911983, -0.14952157401637756, -1.7533683614377518, 0.12616412568399893, 0.4011261217165389, -1.528023749999498, -2.447037347680574, -1.889348744499366, -0.9452629996802178, 0.05039114426983621, 1.1675519258374532, 0.1295374021492559, 0.3296377092381601, 1.7544282508147742, -0.9871840427773075, -0.49209018295214213, -0.9434878688187036, 1.6166091978251167, -0.23609503635320464, 0.9761194029838546, 0.7307775163820062, 1.3621691942697398, 0.4874710586315161, -2.211347382211482, 0.24820113797038115, -7.074984288589023e-05, -0.9973009933770731], \"xaxis\": \"x10\", \"y\": [-0.6000059072918577, 1.3851327831240583, -0.8416605212960638, 1.5154885208090547, 0.35490000189417265, 1.6908051929618615, -1.5287201794917664, -0.7349423678365664, -0.6913427780487162, -0.48028684240557384, -0.8194308330776271, -0.29106481926234773, -0.44013318857028755, -0.20308347702726706, 0.35361926604476035, 0.9088141438825913, -0.12621126330418034, 0.2713276194712512, 0.6134881669524676, -0.6779439897805137, 0.24950517621334753, -2.2745063234013974, -0.7245357611636806, -0.6894443833026974, -0.1264702313571285, -1.7171240171463795, 0.4649639516968302, 0.28032078841628816, 0.8187312513948517, 1.8356694161971212, 0.07111938776697482, 0.5280542526634601, -0.16806824844991317, 0.3000210389712474, -0.12397057872547237, -1.7083423879575599, 1.00021666547896, -1.638137045671358, 0.9357959636309474, 0.05029229480271856, -0.07831195145744159, -0.23370643955925763, -0.5993775703744221, 0.37675039193732496, 0.24028123734389664, 0.3093358333892805, -0.5924220763938935, 0.7335935351551006, -0.44891339165705907, -0.35530507838316644, -0.4944060862732866, 0.38313420932443837, 1.1715219237750232, 1.3121080758510824, 0.809296311973692, 0.44223568422499776, -1.0144546947415045, -2.0963256155813, 0.8303089376644729, 0.20727530570372368, 0.6809398714532137, -0.20313700975503854, -0.8683297955457224, -0.8967516788430234, -2.890614614986278, -0.09993955098456375, -0.14383529393879205, -1.0973057711218217, -0.7504335408709724, 0.9180133479107283, -0.5666948674783646, -1.9763329181438785, 0.9938517046204264, 0.23372817565574658, -0.30996996483053013, -0.7952300157721142, -0.5982382641896878, 2.019467960329815, -1.2598852398508364, -2.3605648504641117, 0.2688239708057861, 0.3341326209586924, 0.5781274307848184, -1.126794432746841, 1.8186529196083057, -0.2257175946243995, -0.7327823203159495, -0.04215232447181377, 0.35468065583520547, 0.7529400572744188, -0.9070666616628649, -2.7491636513888267, -0.158765905268466, -1.5942636877571497, -0.034178501622841355, 1.644502105606857, 1.2278338376015379, 0.22311899274343086, 2.0926505853158326, 0.14481317662602947], \"yaxis\": \"y10\"}, {\"histfunc\": \"count\", \"histnorm\": \"\", \"marker\": {\"color\": \"rgba(50, 171, 96, 1.0)\", \"line\": {\"color\": \"#4D5663\", \"width\": 1.3}}, \"name\": \"C\", \"nbinsx\": 10, \"opacity\": 0.8, \"orientation\": \"v\", \"type\": \"histogram\", \"x\": [-0.6000059072918577, 1.3851327831240583, -0.8416605212960638, 1.5154885208090547, 0.35490000189417265, 1.6908051929618615, -1.5287201794917664, -0.7349423678365664, -0.6913427780487162, -0.48028684240557384, -0.8194308330776271, -0.29106481926234773, -0.44013318857028755, -0.20308347702726706, 0.35361926604476035, 0.9088141438825913, -0.12621126330418034, 0.2713276194712512, 0.6134881669524676, -0.6779439897805137, 0.24950517621334753, -2.2745063234013974, -0.7245357611636806, -0.6894443833026974, -0.1264702313571285, -1.7171240171463795, 0.4649639516968302, 0.28032078841628816, 0.8187312513948517, 1.8356694161971212, 0.07111938776697482, 0.5280542526634601, -0.16806824844991317, 0.3000210389712474, -0.12397057872547237, -1.7083423879575599, 1.00021666547896, -1.638137045671358, 0.9357959636309474, 0.05029229480271856, -0.07831195145744159, -0.23370643955925763, -0.5993775703744221, 0.37675039193732496, 0.24028123734389664, 0.3093358333892805, -0.5924220763938935, 0.7335935351551006, -0.44891339165705907, -0.35530507838316644, -0.4944060862732866, 0.38313420932443837, 1.1715219237750232, 1.3121080758510824, 0.809296311973692, 0.44223568422499776, -1.0144546947415045, -2.0963256155813, 0.8303089376644729, 0.20727530570372368, 0.6809398714532137, -0.20313700975503854, -0.8683297955457224, -0.8967516788430234, -2.890614614986278, -0.09993955098456375, -0.14383529393879205, -1.0973057711218217, -0.7504335408709724, 0.9180133479107283, -0.5666948674783646, -1.9763329181438785, 0.9938517046204264, 0.23372817565574658, -0.30996996483053013, -0.7952300157721142, -0.5982382641896878, 2.019467960329815, -1.2598852398508364, -2.3605648504641117, 0.2688239708057861, 0.3341326209586924, 0.5781274307848184, -1.126794432746841, 1.8186529196083057, -0.2257175946243995, -0.7327823203159495, -0.04215232447181377, 0.35468065583520547, 0.7529400572744188, -0.9070666616628649, -2.7491636513888267, -0.158765905268466, -1.5942636877571497, -0.034178501622841355, 1.644502105606857, 1.2278338376015379, 0.22311899274343086, 2.0926505853158326, 0.14481317662602947], \"xaxis\": \"x11\", \"yaxis\": \"y11\"}, {\"line\": {\"color\": \"rgba(128, 128, 128, 1.0)\", \"dash\": \"solid\", \"shape\": \"linear\", \"width\": 1.3}, \"marker\": {\"size\": 2, \"symbol\": \"circle\"}, \"mode\": \"markers\", \"name\": \"C\", \"text\": \"\", \"type\": \"scatter\", \"x\": [-0.8082398228533931, -0.5150448150176067, -1.0877456219922552, -0.8048179509408832, 0.6086999215692537, -0.5757069764316959, 0.47345421556973416, -0.20836536589757984, -1.530474829093293, 0.4219608143606672, -1.3598569545767323, 0.26771371003290845, 0.5983985813921551, -0.07616351426305064, -0.030391020270419882, 1.001390782205427, 0.9369229701129356, -0.356238064328411, -0.727088551183532, 1.7896490382744903, -0.24431409954433136, 0.2237147309778499, 0.20738917270660667, -0.46228323064267396, 2.0312627382663093, 0.507205686431814, -1.1004206781437917, -0.40716791218137677, 0.4903848006304384, -0.7918357006951539, 1.9658079569926246, -0.6457999436135241, 1.0614383133641743, 0.27377992781923305, 0.10701923381201559, -0.4000061087739593, -1.837251657679469, 0.4880101965671579, 0.6911914823146007, 1.746647766580847, 2.4730610128976025, 0.6872374464358818, 1.0732008846959473, -0.48774677137980743, -0.8095131203630446, -1.1453972995580883, 0.6745284104776471, -0.7089344921988175, 1.080404970897654, 0.654933864788666, 0.5993501954136305, 0.6335112551331462, -0.3589185468179479, -1.404924418265637, 0.013247846568394272, 0.49121042562949946, -1.781961301376952, -0.3461391298088473, 0.7079203769362604, -0.4845337136107974, 2.2121393861141807, -1.2069802115680754, 0.49389803836683593, -1.0011033326444534, 0.004752979140422849, -0.8451778958184031, -0.6643597024318079, -0.40229732951149305, -0.7377438349276196, 0.7143190164674909, 3.2165361910584975, -0.2990466181868432, 0.5983848199307756, -0.6547230911032215, -1.3508232926668085, -0.30203008713704566, 0.8222645436335331, 0.7683362411825844, 0.20502092967846014, -1.3032276841045292, -1.9480148669781658, 0.49509145239623104, 0.6957201739268423, -0.6099904097456169, 1.055965324015916, 0.006084384263107051, 1.4515849407547137, -0.4514929498138888, -0.2807620187625043, -0.4223488763697073, -1.017141859337329, 0.6388544156437523, 0.2593832599300954, -0.24507572484234003, -0.48759006253485254, -1.7667005971711343, -0.035067253089737994, -1.256620895729348, -0.13091364656474716, 2.1494704847322295], \"xaxis\": \"x12\", \"y\": [-0.6000059072918577, 1.3851327831240583, -0.8416605212960638, 1.5154885208090547, 0.35490000189417265, 1.6908051929618615, -1.5287201794917664, -0.7349423678365664, -0.6913427780487162, -0.48028684240557384, -0.8194308330776271, -0.29106481926234773, -0.44013318857028755, -0.20308347702726706, 0.35361926604476035, 0.9088141438825913, -0.12621126330418034, 0.2713276194712512, 0.6134881669524676, -0.6779439897805137, 0.24950517621334753, -2.2745063234013974, -0.7245357611636806, -0.6894443833026974, -0.1264702313571285, -1.7171240171463795, 0.4649639516968302, 0.28032078841628816, 0.8187312513948517, 1.8356694161971212, 0.07111938776697482, 0.5280542526634601, -0.16806824844991317, 0.3000210389712474, -0.12397057872547237, -1.7083423879575599, 1.00021666547896, -1.638137045671358, 0.9357959636309474, 0.05029229480271856, -0.07831195145744159, -0.23370643955925763, -0.5993775703744221, 0.37675039193732496, 0.24028123734389664, 0.3093358333892805, -0.5924220763938935, 0.7335935351551006, -0.44891339165705907, -0.35530507838316644, -0.4944060862732866, 0.38313420932443837, 1.1715219237750232, 1.3121080758510824, 0.809296311973692, 0.44223568422499776, -1.0144546947415045, -2.0963256155813, 0.8303089376644729, 0.20727530570372368, 0.6809398714532137, -0.20313700975503854, -0.8683297955457224, -0.8967516788430234, -2.890614614986278, -0.09993955098456375, -0.14383529393879205, -1.0973057711218217, -0.7504335408709724, 0.9180133479107283, -0.5666948674783646, -1.9763329181438785, 0.9938517046204264, 0.23372817565574658, -0.30996996483053013, -0.7952300157721142, -0.5982382641896878, 2.019467960329815, -1.2598852398508364, -2.3605648504641117, 0.2688239708057861, 0.3341326209586924, 0.5781274307848184, -1.126794432746841, 1.8186529196083057, -0.2257175946243995, -0.7327823203159495, -0.04215232447181377, 0.35468065583520547, 0.7529400572744188, -0.9070666616628649, -2.7491636513888267, -0.158765905268466, -1.5942636877571497, -0.034178501622841355, 1.644502105606857, 1.2278338376015379, 0.22311899274343086, 2.0926505853158326, 0.14481317662602947], \"yaxis\": \"y12\"}, {\"line\": {\"color\": \"rgba(128, 128, 128, 1.0)\", \"dash\": \"solid\", \"shape\": \"linear\", \"width\": 1.3}, \"marker\": {\"size\": 2, \"symbol\": \"circle\"}, \"mode\": \"markers\", \"name\": \"D\", \"text\": \"\", \"type\": \"scatter\", \"x\": [1.5047071858675904, -1.2306437730366853, 0.605020350239587, -0.11730722559215549, -0.5094486400300653, -0.03247951610040798, 0.9731351835823545, -1.472511340085507, -0.23083304464393553, 0.5787834027566838, -0.3156316458899452, -0.37854491314669936, -1.578313375563011, -0.7431436030597717, 0.5630177560101443, -1.3333242685734497, -0.4812889971321455, 0.46635368545417594, -0.09920746060052134, 1.0140120472191738, -0.9225221157990605, 1.4196106846836412, 0.1952712362569279, -0.8168745709151536, -0.13975493326855662, 0.5823845164628724, -0.04996888900130543, 0.013820356133013887, -0.06830081283978562, 0.19215684436051617, 1.286435464479053, -0.33541662466852057, -2.8587717658377443, 0.006416985094558975, 1.2961166888011706, -0.08942228467851332, 1.587406402848416, 0.25947535251631904, -0.8048768802234534, -0.8419192982284646, -1.6039443064270875, 0.10466270748776571, 0.02998318674242047, -0.006862251689929032, -0.7660788034000553, 1.1726861103538202, -0.27001683146847616, 0.020866604645267316, -1.5500723287323086, -0.1353630979441134, 0.10043734262022548, 0.26824564753711505, 0.12819938986961066, -1.17819730023147, 0.43825107894139315, -0.8922617953366131, -0.1304564737507755, -0.712627526372936, -0.21148412951738027, -0.803660466757645, -0.2795304432141383, -0.7656507457744494, -1.2247199589979165, -0.16498458992525863, 0.923653188973336, 0.13764563658951204, 0.043849382884496906, 0.607314473420084, 0.7462893879083348, 0.18665312051788513, -1.4497989583537694, 1.528431628745062, 0.3712893622551243, 0.47187897031748005, 0.8177302430660359, -0.09631945740607714, 0.2046001019962186, 1.5632968046193618, 0.28173247195427, -0.4990349917914575, 0.4880662332937979, -1.6313543113852154, 0.4398737132524965, 0.22985411660186864, 1.2996791563457732, -0.0015933251060393399, 0.48577287679867154, -0.7611622677031836, -0.9177847234627884, 0.31360597655689065, 0.8504935212248734, -0.5321453076085406, -0.44651013637870907, -0.8221181957042193, 1.8611329510653556, -1.9200683591650554, 0.2640173821523596, -0.012626231690431604, 3.152977471906116, 0.3884525520079316], \"xaxis\": \"x13\", \"y\": [-0.8082398228533931, -0.5150448150176067, -1.0877456219922552, -0.8048179509408832, 0.6086999215692537, -0.5757069764316959, 0.47345421556973416, -0.20836536589757984, -1.530474829093293, 0.4219608143606672, -1.3598569545767323, 0.26771371003290845, 0.5983985813921551, -0.07616351426305064, -0.030391020270419882, 1.001390782205427, 0.9369229701129356, -0.356238064328411, -0.727088551183532, 1.7896490382744903, -0.24431409954433136, 0.2237147309778499, 0.20738917270660667, -0.46228323064267396, 2.0312627382663093, 0.507205686431814, -1.1004206781437917, -0.40716791218137677, 0.4903848006304384, -0.7918357006951539, 1.9658079569926246, -0.6457999436135241, 1.0614383133641743, 0.27377992781923305, 0.10701923381201559, -0.4000061087739593, -1.837251657679469, 0.4880101965671579, 0.6911914823146007, 1.746647766580847, 2.4730610128976025, 0.6872374464358818, 1.0732008846959473, -0.48774677137980743, -0.8095131203630446, -1.1453972995580883, 0.6745284104776471, -0.7089344921988175, 1.080404970897654, 0.654933864788666, 0.5993501954136305, 0.6335112551331462, -0.3589185468179479, -1.404924418265637, 0.013247846568394272, 0.49121042562949946, -1.781961301376952, -0.3461391298088473, 0.7079203769362604, -0.4845337136107974, 2.2121393861141807, -1.2069802115680754, 0.49389803836683593, -1.0011033326444534, 0.004752979140422849, -0.8451778958184031, -0.6643597024318079, -0.40229732951149305, -0.7377438349276196, 0.7143190164674909, 3.2165361910584975, -0.2990466181868432, 0.5983848199307756, -0.6547230911032215, -1.3508232926668085, -0.30203008713704566, 0.8222645436335331, 0.7683362411825844, 0.20502092967846014, -1.3032276841045292, -1.9480148669781658, 0.49509145239623104, 0.6957201739268423, -0.6099904097456169, 1.055965324015916, 0.006084384263107051, 1.4515849407547137, -0.4514929498138888, -0.2807620187625043, -0.4223488763697073, -1.017141859337329, 0.6388544156437523, 0.2593832599300954, -0.24507572484234003, -0.48759006253485254, -1.7667005971711343, -0.035067253089737994, -1.256620895729348, -0.13091364656474716, 2.1494704847322295], \"yaxis\": \"y13\"}, {\"line\": {\"color\": \"rgba(128, 128, 128, 1.0)\", \"dash\": \"solid\", \"shape\": \"linear\", \"width\": 1.3}, \"marker\": {\"size\": 2, \"symbol\": \"circle\"}, \"mode\": \"markers\", \"name\": \"D\", \"text\": \"\", \"type\": \"scatter\", \"x\": [0.47852473764124553, 0.47953723587996805, -0.44148143458663514, 1.7986040640014305, 1.3887987421628392, 1.597757985723844, 0.5877999356373035, 1.5808007026584723, -0.33360175851415325, -0.13122522278994106, 0.3224781441878215, 0.8496592084762307, -1.150154786050836, -0.03636065930498414, -0.5208283778493646, 1.0938755117779735, 0.15407640392163835, 0.569679081793052, 0.03260012363032162, 0.9945392624370553, 1.3904827907721824, 1.775213217496774, -0.5429998873307663, 0.0915471721012884, -0.09519693387176657, -1.5963958081570286, 2.4465606576364927, 1.5731633274545442, -0.08560470104480285, 0.2580248761829393, 1.539166024904185, 0.5416302736813118, -0.6303030028201453, -0.20719439088977545, 0.4791532829966961, 0.6345908134255359, -1.4310301356276192, -1.3401692846786348, 0.12938500637423184, 0.8697464546388674, -1.233469614258414, 2.266394093414955, 0.4095157714369962, 0.3129562945885272, 0.6875159516001128, 0.43742266506028393, -0.9548174472407832, 0.07014485793751564, -0.20394038833768505, 1.3440227943161343, -0.4211541610746663, 1.1778831515862733, -0.20884700147291713, -0.6287794998087359, -0.7877323616235364, -1.2186019438648847, 1.1458611752078418, -0.38447865902786865, -0.5223514043098862, 0.8604521332601345, -0.29850097445053136, -1.0125124820836118, -0.13931808941227639, 0.24397113215543434, 1.7129575541024467, -0.3046189015886152, -2.304212940366996, 0.9750048983151226, 0.1917996277566565, 1.7150797955986141, -0.6669591370086811, -0.8584067440066807, 1.0979784717067602, -1.4142753213911983, -0.14952157401637756, -1.7533683614377518, 0.12616412568399893, 0.4011261217165389, -1.528023749999498, -2.447037347680574, -1.889348744499366, -0.9452629996802178, 0.05039114426983621, 1.1675519258374532, 0.1295374021492559, 0.3296377092381601, 1.7544282508147742, -0.9871840427773075, -0.49209018295214213, -0.9434878688187036, 1.6166091978251167, -0.23609503635320464, 0.9761194029838546, 0.7307775163820062, 1.3621691942697398, 0.4874710586315161, -2.211347382211482, 0.24820113797038115, -7.074984288589023e-05, -0.9973009933770731], \"xaxis\": \"x14\", \"y\": [-0.8082398228533931, -0.5150448150176067, -1.0877456219922552, -0.8048179509408832, 0.6086999215692537, -0.5757069764316959, 0.47345421556973416, -0.20836536589757984, -1.530474829093293, 0.4219608143606672, -1.3598569545767323, 0.26771371003290845, 0.5983985813921551, -0.07616351426305064, -0.030391020270419882, 1.001390782205427, 0.9369229701129356, -0.356238064328411, -0.727088551183532, 1.7896490382744903, -0.24431409954433136, 0.2237147309778499, 0.20738917270660667, -0.46228323064267396, 2.0312627382663093, 0.507205686431814, -1.1004206781437917, -0.40716791218137677, 0.4903848006304384, -0.7918357006951539, 1.9658079569926246, -0.6457999436135241, 1.0614383133641743, 0.27377992781923305, 0.10701923381201559, -0.4000061087739593, -1.837251657679469, 0.4880101965671579, 0.6911914823146007, 1.746647766580847, 2.4730610128976025, 0.6872374464358818, 1.0732008846959473, -0.48774677137980743, -0.8095131203630446, -1.1453972995580883, 0.6745284104776471, -0.7089344921988175, 1.080404970897654, 0.654933864788666, 0.5993501954136305, 0.6335112551331462, -0.3589185468179479, -1.404924418265637, 0.013247846568394272, 0.49121042562949946, -1.781961301376952, -0.3461391298088473, 0.7079203769362604, -0.4845337136107974, 2.2121393861141807, -1.2069802115680754, 0.49389803836683593, -1.0011033326444534, 0.004752979140422849, -0.8451778958184031, -0.6643597024318079, -0.40229732951149305, -0.7377438349276196, 0.7143190164674909, 3.2165361910584975, -0.2990466181868432, 0.5983848199307756, -0.6547230911032215, -1.3508232926668085, -0.30203008713704566, 0.8222645436335331, 0.7683362411825844, 0.20502092967846014, -1.3032276841045292, -1.9480148669781658, 0.49509145239623104, 0.6957201739268423, -0.6099904097456169, 1.055965324015916, 0.006084384263107051, 1.4515849407547137, -0.4514929498138888, -0.2807620187625043, -0.4223488763697073, -1.017141859337329, 0.6388544156437523, 0.2593832599300954, -0.24507572484234003, -0.48759006253485254, -1.7667005971711343, -0.035067253089737994, -1.256620895729348, -0.13091364656474716, 2.1494704847322295], \"yaxis\": \"y14\"}, {\"line\": {\"color\": \"rgba(128, 128, 128, 1.0)\", \"dash\": \"solid\", \"shape\": \"linear\", \"width\": 1.3}, \"marker\": {\"size\": 2, \"symbol\": \"circle\"}, \"mode\": \"markers\", \"name\": \"D\", \"text\": \"\", \"type\": \"scatter\", \"x\": [-0.6000059072918577, 1.3851327831240583, -0.8416605212960638, 1.5154885208090547, 0.35490000189417265, 1.6908051929618615, -1.5287201794917664, -0.7349423678365664, -0.6913427780487162, -0.48028684240557384, -0.8194308330776271, -0.29106481926234773, -0.44013318857028755, -0.20308347702726706, 0.35361926604476035, 0.9088141438825913, -0.12621126330418034, 0.2713276194712512, 0.6134881669524676, -0.6779439897805137, 0.24950517621334753, -2.2745063234013974, -0.7245357611636806, -0.6894443833026974, -0.1264702313571285, -1.7171240171463795, 0.4649639516968302, 0.28032078841628816, 0.8187312513948517, 1.8356694161971212, 0.07111938776697482, 0.5280542526634601, -0.16806824844991317, 0.3000210389712474, -0.12397057872547237, -1.7083423879575599, 1.00021666547896, -1.638137045671358, 0.9357959636309474, 0.05029229480271856, -0.07831195145744159, -0.23370643955925763, -0.5993775703744221, 0.37675039193732496, 0.24028123734389664, 0.3093358333892805, -0.5924220763938935, 0.7335935351551006, -0.44891339165705907, -0.35530507838316644, -0.4944060862732866, 0.38313420932443837, 1.1715219237750232, 1.3121080758510824, 0.809296311973692, 0.44223568422499776, -1.0144546947415045, -2.0963256155813, 0.8303089376644729, 0.20727530570372368, 0.6809398714532137, -0.20313700975503854, -0.8683297955457224, -0.8967516788430234, -2.890614614986278, -0.09993955098456375, -0.14383529393879205, -1.0973057711218217, -0.7504335408709724, 0.9180133479107283, -0.5666948674783646, -1.9763329181438785, 0.9938517046204264, 0.23372817565574658, -0.30996996483053013, -0.7952300157721142, -0.5982382641896878, 2.019467960329815, -1.2598852398508364, -2.3605648504641117, 0.2688239708057861, 0.3341326209586924, 0.5781274307848184, -1.126794432746841, 1.8186529196083057, -0.2257175946243995, -0.7327823203159495, -0.04215232447181377, 0.35468065583520547, 0.7529400572744188, -0.9070666616628649, -2.7491636513888267, -0.158765905268466, -1.5942636877571497, -0.034178501622841355, 1.644502105606857, 1.2278338376015379, 0.22311899274343086, 2.0926505853158326, 0.14481317662602947], \"xaxis\": \"x15\", \"y\": [-0.8082398228533931, -0.5150448150176067, -1.0877456219922552, -0.8048179509408832, 0.6086999215692537, -0.5757069764316959, 0.47345421556973416, -0.20836536589757984, -1.530474829093293, 0.4219608143606672, -1.3598569545767323, 0.26771371003290845, 0.5983985813921551, -0.07616351426305064, -0.030391020270419882, 1.001390782205427, 0.9369229701129356, -0.356238064328411, -0.727088551183532, 1.7896490382744903, -0.24431409954433136, 0.2237147309778499, 0.20738917270660667, -0.46228323064267396, 2.0312627382663093, 0.507205686431814, -1.1004206781437917, -0.40716791218137677, 0.4903848006304384, -0.7918357006951539, 1.9658079569926246, -0.6457999436135241, 1.0614383133641743, 0.27377992781923305, 0.10701923381201559, -0.4000061087739593, -1.837251657679469, 0.4880101965671579, 0.6911914823146007, 1.746647766580847, 2.4730610128976025, 0.6872374464358818, 1.0732008846959473, -0.48774677137980743, -0.8095131203630446, -1.1453972995580883, 0.6745284104776471, -0.7089344921988175, 1.080404970897654, 0.654933864788666, 0.5993501954136305, 0.6335112551331462, -0.3589185468179479, -1.404924418265637, 0.013247846568394272, 0.49121042562949946, -1.781961301376952, -0.3461391298088473, 0.7079203769362604, -0.4845337136107974, 2.2121393861141807, -1.2069802115680754, 0.49389803836683593, -1.0011033326444534, 0.004752979140422849, -0.8451778958184031, -0.6643597024318079, -0.40229732951149305, -0.7377438349276196, 0.7143190164674909, 3.2165361910584975, -0.2990466181868432, 0.5983848199307756, -0.6547230911032215, -1.3508232926668085, -0.30203008713704566, 0.8222645436335331, 0.7683362411825844, 0.20502092967846014, -1.3032276841045292, -1.9480148669781658, 0.49509145239623104, 0.6957201739268423, -0.6099904097456169, 1.055965324015916, 0.006084384263107051, 1.4515849407547137, -0.4514929498138888, -0.2807620187625043, -0.4223488763697073, -1.017141859337329, 0.6388544156437523, 0.2593832599300954, -0.24507572484234003, -0.48759006253485254, -1.7667005971711343, -0.035067253089737994, -1.256620895729348, -0.13091364656474716, 2.1494704847322295], \"yaxis\": \"y15\"}, {\"histfunc\": \"count\", \"histnorm\": \"\", \"marker\": {\"color\": \"rgba(128, 0, 128, 1.0)\", \"line\": {\"color\": \"#4D5663\", \"width\": 1.3}}, \"name\": \"D\", \"nbinsx\": 10, \"opacity\": 0.8, \"orientation\": \"v\", \"type\": \"histogram\", \"x\": [-0.8082398228533931, -0.5150448150176067, -1.0877456219922552, -0.8048179509408832, 0.6086999215692537, -0.5757069764316959, 0.47345421556973416, -0.20836536589757984, -1.530474829093293, 0.4219608143606672, -1.3598569545767323, 0.26771371003290845, 0.5983985813921551, -0.07616351426305064, -0.030391020270419882, 1.001390782205427, 0.9369229701129356, -0.356238064328411, -0.727088551183532, 1.7896490382744903, -0.24431409954433136, 0.2237147309778499, 0.20738917270660667, -0.46228323064267396, 2.0312627382663093, 0.507205686431814, -1.1004206781437917, -0.40716791218137677, 0.4903848006304384, -0.7918357006951539, 1.9658079569926246, -0.6457999436135241, 1.0614383133641743, 0.27377992781923305, 0.10701923381201559, -0.4000061087739593, -1.837251657679469, 0.4880101965671579, 0.6911914823146007, 1.746647766580847, 2.4730610128976025, 0.6872374464358818, 1.0732008846959473, -0.48774677137980743, -0.8095131203630446, -1.1453972995580883, 0.6745284104776471, -0.7089344921988175, 1.080404970897654, 0.654933864788666, 0.5993501954136305, 0.6335112551331462, -0.3589185468179479, -1.404924418265637, 0.013247846568394272, 0.49121042562949946, -1.781961301376952, -0.3461391298088473, 0.7079203769362604, -0.4845337136107974, 2.2121393861141807, -1.2069802115680754, 0.49389803836683593, -1.0011033326444534, 0.004752979140422849, -0.8451778958184031, -0.6643597024318079, -0.40229732951149305, -0.7377438349276196, 0.7143190164674909, 3.2165361910584975, -0.2990466181868432, 0.5983848199307756, -0.6547230911032215, -1.3508232926668085, -0.30203008713704566, 0.8222645436335331, 0.7683362411825844, 0.20502092967846014, -1.3032276841045292, -1.9480148669781658, 0.49509145239623104, 0.6957201739268423, -0.6099904097456169, 1.055965324015916, 0.006084384263107051, 1.4515849407547137, -0.4514929498138888, -0.2807620187625043, -0.4223488763697073, -1.017141859337329, 0.6388544156437523, 0.2593832599300954, -0.24507572484234003, -0.48759006253485254, -1.7667005971711343, -0.035067253089737994, -1.256620895729348, -0.13091364656474716, 2.1494704847322295], \"xaxis\": \"x16\", \"yaxis\": \"y16\"}],                        {\"bargap\": 0.02, \"legend\": {\"bgcolor\": \"#F5F6F9\", \"font\": {\"color\": \"#4D5663\"}}, \"paper_bgcolor\": \"#F5F6F9\", \"plot_bgcolor\": \"#F5F6F9\", \"showlegend\": false, \"template\": {\"data\": {\"bar\": [{\"error_x\": {\"color\": \"#2a3f5f\"}, \"error_y\": {\"color\": \"#2a3f5f\"}, \"marker\": {\"line\": {\"color\": \"#E5ECF6\", \"width\": 0.5}}, \"type\": \"bar\"}], \"barpolar\": [{\"marker\": {\"line\": {\"color\": \"#E5ECF6\", \"width\": 0.5}}, \"type\": \"barpolar\"}], \"carpet\": [{\"aaxis\": {\"endlinecolor\": \"#2a3f5f\", \"gridcolor\": \"white\", \"linecolor\": \"white\", \"minorgridcolor\": \"white\", \"startlinecolor\": \"#2a3f5f\"}, \"baxis\": {\"endlinecolor\": \"#2a3f5f\", \"gridcolor\": \"white\", \"linecolor\": \"white\", \"minorgridcolor\": \"white\", \"startlinecolor\": \"#2a3f5f\"}, \"type\": \"carpet\"}], \"choropleth\": [{\"colorbar\": {\"outlinewidth\": 0, \"ticks\": \"\"}, \"type\": \"choropleth\"}], \"contour\": [{\"colorbar\": {\"outlinewidth\": 0, \"ticks\": \"\"}, \"colorscale\": [[0.0, \"#0d0887\"], [0.1111111111111111, \"#46039f\"], [0.2222222222222222, \"#7201a8\"], [0.3333333333333333, \"#9c179e\"], [0.4444444444444444, \"#bd3786\"], [0.5555555555555556, \"#d8576b\"], [0.6666666666666666, \"#ed7953\"], [0.7777777777777778, \"#fb9f3a\"], [0.8888888888888888, \"#fdca26\"], [1.0, \"#f0f921\"]], \"type\": \"contour\"}], \"contourcarpet\": [{\"colorbar\": {\"outlinewidth\": 0, \"ticks\": \"\"}, \"type\": \"contourcarpet\"}], \"heatmap\": [{\"colorbar\": {\"outlinewidth\": 0, \"ticks\": \"\"}, \"colorscale\": [[0.0, \"#0d0887\"], [0.1111111111111111, \"#46039f\"], [0.2222222222222222, \"#7201a8\"], [0.3333333333333333, \"#9c179e\"], [0.4444444444444444, \"#bd3786\"], [0.5555555555555556, \"#d8576b\"], [0.6666666666666666, \"#ed7953\"], [0.7777777777777778, \"#fb9f3a\"], [0.8888888888888888, \"#fdca26\"], [1.0, \"#f0f921\"]], \"type\": \"heatmap\"}], \"heatmapgl\": [{\"colorbar\": {\"outlinewidth\": 0, \"ticks\": \"\"}, \"colorscale\": [[0.0, \"#0d0887\"], [0.1111111111111111, \"#46039f\"], [0.2222222222222222, \"#7201a8\"], [0.3333333333333333, \"#9c179e\"], [0.4444444444444444, \"#bd3786\"], [0.5555555555555556, \"#d8576b\"], [0.6666666666666666, \"#ed7953\"], [0.7777777777777778, \"#fb9f3a\"], [0.8888888888888888, \"#fdca26\"], [1.0, \"#f0f921\"]], \"type\": \"heatmapgl\"}], \"histogram\": [{\"marker\": {\"colorbar\": {\"outlinewidth\": 0, \"ticks\": \"\"}}, \"type\": \"histogram\"}], \"histogram2d\": [{\"colorbar\": {\"outlinewidth\": 0, \"ticks\": \"\"}, \"colorscale\": [[0.0, \"#0d0887\"], [0.1111111111111111, \"#46039f\"], [0.2222222222222222, \"#7201a8\"], [0.3333333333333333, \"#9c179e\"], [0.4444444444444444, \"#bd3786\"], [0.5555555555555556, \"#d8576b\"], [0.6666666666666666, \"#ed7953\"], [0.7777777777777778, \"#fb9f3a\"], [0.8888888888888888, \"#fdca26\"], [1.0, \"#f0f921\"]], \"type\": \"histogram2d\"}], \"histogram2dcontour\": [{\"colorbar\": {\"outlinewidth\": 0, \"ticks\": \"\"}, \"colorscale\": [[0.0, \"#0d0887\"], [0.1111111111111111, \"#46039f\"], [0.2222222222222222, \"#7201a8\"], [0.3333333333333333, \"#9c179e\"], [0.4444444444444444, \"#bd3786\"], [0.5555555555555556, \"#d8576b\"], [0.6666666666666666, \"#ed7953\"], [0.7777777777777778, \"#fb9f3a\"], [0.8888888888888888, \"#fdca26\"], [1.0, \"#f0f921\"]], \"type\": \"histogram2dcontour\"}], \"mesh3d\": [{\"colorbar\": {\"outlinewidth\": 0, \"ticks\": \"\"}, \"type\": \"mesh3d\"}], \"parcoords\": [{\"line\": {\"colorbar\": {\"outlinewidth\": 0, \"ticks\": \"\"}}, \"type\": \"parcoords\"}], \"pie\": [{\"automargin\": true, \"type\": \"pie\"}], \"scatter\": [{\"marker\": {\"colorbar\": {\"outlinewidth\": 0, \"ticks\": \"\"}}, \"type\": \"scatter\"}], \"scatter3d\": [{\"line\": {\"colorbar\": {\"outlinewidth\": 0, \"ticks\": \"\"}}, \"marker\": {\"colorbar\": {\"outlinewidth\": 0, \"ticks\": \"\"}}, \"type\": \"scatter3d\"}], \"scattercarpet\": [{\"marker\": {\"colorbar\": {\"outlinewidth\": 0, \"ticks\": \"\"}}, \"type\": \"scattercarpet\"}], \"scattergeo\": [{\"marker\": {\"colorbar\": {\"outlinewidth\": 0, \"ticks\": \"\"}}, \"type\": \"scattergeo\"}], \"scattergl\": [{\"marker\": {\"colorbar\": {\"outlinewidth\": 0, \"ticks\": \"\"}}, \"type\": \"scattergl\"}], \"scattermapbox\": [{\"marker\": {\"colorbar\": {\"outlinewidth\": 0, \"ticks\": \"\"}}, \"type\": \"scattermapbox\"}], \"scatterpolar\": [{\"marker\": {\"colorbar\": {\"outlinewidth\": 0, \"ticks\": \"\"}}, \"type\": \"scatterpolar\"}], \"scatterpolargl\": [{\"marker\": {\"colorbar\": {\"outlinewidth\": 0, \"ticks\": \"\"}}, \"type\": \"scatterpolargl\"}], \"scatterternary\": [{\"marker\": {\"colorbar\": {\"outlinewidth\": 0, \"ticks\": \"\"}}, \"type\": \"scatterternary\"}], \"surface\": [{\"colorbar\": {\"outlinewidth\": 0, \"ticks\": \"\"}, \"colorscale\": [[0.0, \"#0d0887\"], [0.1111111111111111, \"#46039f\"], [0.2222222222222222, \"#7201a8\"], [0.3333333333333333, \"#9c179e\"], [0.4444444444444444, \"#bd3786\"], [0.5555555555555556, \"#d8576b\"], [0.6666666666666666, \"#ed7953\"], [0.7777777777777778, \"#fb9f3a\"], [0.8888888888888888, \"#fdca26\"], [1.0, \"#f0f921\"]], \"type\": \"surface\"}], \"table\": [{\"cells\": {\"fill\": {\"color\": \"#EBF0F8\"}, \"line\": {\"color\": \"white\"}}, \"header\": {\"fill\": {\"color\": \"#C8D4E3\"}, \"line\": {\"color\": \"white\"}}, \"type\": \"table\"}]}, \"layout\": {\"annotationdefaults\": {\"arrowcolor\": \"#2a3f5f\", \"arrowhead\": 0, \"arrowwidth\": 1}, \"autotypenumbers\": \"strict\", \"coloraxis\": {\"colorbar\": {\"outlinewidth\": 0, \"ticks\": \"\"}}, \"colorscale\": {\"diverging\": [[0, \"#8e0152\"], [0.1, \"#c51b7d\"], [0.2, \"#de77ae\"], [0.3, \"#f1b6da\"], [0.4, \"#fde0ef\"], [0.5, \"#f7f7f7\"], [0.6, \"#e6f5d0\"], [0.7, \"#b8e186\"], [0.8, \"#7fbc41\"], [0.9, \"#4d9221\"], [1, \"#276419\"]], \"sequential\": [[0.0, \"#0d0887\"], [0.1111111111111111, \"#46039f\"], [0.2222222222222222, \"#7201a8\"], [0.3333333333333333, \"#9c179e\"], [0.4444444444444444, \"#bd3786\"], [0.5555555555555556, \"#d8576b\"], [0.6666666666666666, \"#ed7953\"], [0.7777777777777778, \"#fb9f3a\"], [0.8888888888888888, \"#fdca26\"], [1.0, \"#f0f921\"]], \"sequentialminus\": [[0.0, \"#0d0887\"], [0.1111111111111111, \"#46039f\"], [0.2222222222222222, \"#7201a8\"], [0.3333333333333333, \"#9c179e\"], [0.4444444444444444, \"#bd3786\"], [0.5555555555555556, \"#d8576b\"], [0.6666666666666666, \"#ed7953\"], [0.7777777777777778, \"#fb9f3a\"], [0.8888888888888888, \"#fdca26\"], [1.0, \"#f0f921\"]]}, \"colorway\": [\"#636efa\", \"#EF553B\", \"#00cc96\", \"#ab63fa\", \"#FFA15A\", \"#19d3f3\", \"#FF6692\", \"#B6E880\", \"#FF97FF\", \"#FECB52\"], \"font\": {\"color\": \"#2a3f5f\"}, \"geo\": {\"bgcolor\": \"white\", \"lakecolor\": \"white\", \"landcolor\": \"#E5ECF6\", \"showlakes\": true, \"showland\": true, \"subunitcolor\": \"white\"}, \"hoverlabel\": {\"align\": \"left\"}, \"hovermode\": \"closest\", \"mapbox\": {\"style\": \"light\"}, \"paper_bgcolor\": \"white\", \"plot_bgcolor\": \"#E5ECF6\", \"polar\": {\"angularaxis\": {\"gridcolor\": \"white\", \"linecolor\": \"white\", \"ticks\": \"\"}, \"bgcolor\": \"#E5ECF6\", \"radialaxis\": {\"gridcolor\": \"white\", \"linecolor\": \"white\", \"ticks\": \"\"}}, \"scene\": {\"xaxis\": {\"backgroundcolor\": \"#E5ECF6\", \"gridcolor\": \"white\", \"gridwidth\": 2, \"linecolor\": \"white\", \"showbackground\": true, \"ticks\": \"\", \"zerolinecolor\": \"white\"}, \"yaxis\": {\"backgroundcolor\": \"#E5ECF6\", \"gridcolor\": \"white\", \"gridwidth\": 2, \"linecolor\": \"white\", \"showbackground\": true, \"ticks\": \"\", \"zerolinecolor\": \"white\"}, \"zaxis\": {\"backgroundcolor\": \"#E5ECF6\", \"gridcolor\": \"white\", \"gridwidth\": 2, \"linecolor\": \"white\", \"showbackground\": true, \"ticks\": \"\", \"zerolinecolor\": \"white\"}}, \"shapedefaults\": {\"line\": {\"color\": \"#2a3f5f\"}}, \"ternary\": {\"aaxis\": {\"gridcolor\": \"white\", \"linecolor\": \"white\", \"ticks\": \"\"}, \"baxis\": {\"gridcolor\": \"white\", \"linecolor\": \"white\", \"ticks\": \"\"}, \"bgcolor\": \"#E5ECF6\", \"caxis\": {\"gridcolor\": \"white\", \"linecolor\": \"white\", \"ticks\": \"\"}}, \"title\": {\"x\": 0.05}, \"xaxis\": {\"automargin\": true, \"gridcolor\": \"white\", \"linecolor\": \"white\", \"ticks\": \"\", \"title\": {\"standoff\": 15}, \"zerolinecolor\": \"white\", \"zerolinewidth\": 2}, \"yaxis\": {\"automargin\": true, \"gridcolor\": \"white\", \"linecolor\": \"white\", \"ticks\": \"\", \"title\": {\"standoff\": 15}, \"zerolinecolor\": \"white\", \"zerolinewidth\": 2}}}, \"title\": {\"font\": {\"color\": \"#4D5663\"}}, \"xaxis\": {\"anchor\": \"y\", \"domain\": [0.0, 0.2125], \"gridcolor\": \"#E1E5ED\", \"showgrid\": false, \"tickfont\": {\"color\": \"#4D5663\"}, \"title\": {\"font\": {\"color\": \"#4D5663\"}, \"text\": \"\"}, \"zerolinecolor\": \"#E1E5ED\"}, \"xaxis10\": {\"anchor\": \"y10\", \"domain\": [0.2625, 0.475], \"gridcolor\": \"#E1E5ED\", \"showgrid\": false, \"tickfont\": {\"color\": \"#4D5663\"}, \"title\": {\"font\": {\"color\": \"#4D5663\"}, \"text\": \"\"}, \"zerolinecolor\": \"#E1E5ED\"}, \"xaxis11\": {\"anchor\": \"y11\", \"domain\": [0.525, 0.7375], \"gridcolor\": \"#E1E5ED\", \"showgrid\": false, \"tickfont\": {\"color\": \"#4D5663\"}, \"title\": {\"font\": {\"color\": \"#4D5663\"}, \"text\": \"\"}, \"zerolinecolor\": \"#E1E5ED\"}, \"xaxis12\": {\"anchor\": \"y12\", \"domain\": [0.7875, 1.0], \"gridcolor\": \"#E1E5ED\", \"showgrid\": false, \"tickfont\": {\"color\": \"#4D5663\"}, \"title\": {\"font\": {\"color\": \"#4D5663\"}, \"text\": \"\"}, \"zerolinecolor\": \"#E1E5ED\"}, \"xaxis13\": {\"anchor\": \"y13\", \"domain\": [0.0, 0.2125], \"gridcolor\": \"#E1E5ED\", \"showgrid\": false, \"tickfont\": {\"color\": \"#4D5663\"}, \"title\": {\"font\": {\"color\": \"#4D5663\"}, \"text\": \"\"}, \"zerolinecolor\": \"#E1E5ED\"}, \"xaxis14\": {\"anchor\": \"y14\", \"domain\": [0.2625, 0.475], \"gridcolor\": \"#E1E5ED\", \"showgrid\": false, \"tickfont\": {\"color\": \"#4D5663\"}, \"title\": {\"font\": {\"color\": \"#4D5663\"}, \"text\": \"\"}, \"zerolinecolor\": \"#E1E5ED\"}, \"xaxis15\": {\"anchor\": \"y15\", \"domain\": [0.525, 0.7375], \"gridcolor\": \"#E1E5ED\", \"showgrid\": false, \"tickfont\": {\"color\": \"#4D5663\"}, \"title\": {\"font\": {\"color\": \"#4D5663\"}, \"text\": \"\"}, \"zerolinecolor\": \"#E1E5ED\"}, \"xaxis16\": {\"anchor\": \"y16\", \"domain\": [0.7875, 1.0], \"gridcolor\": \"#E1E5ED\", \"showgrid\": false, \"tickfont\": {\"color\": \"#4D5663\"}, \"title\": {\"font\": {\"color\": \"#4D5663\"}, \"text\": \"\"}, \"zerolinecolor\": \"#E1E5ED\"}, \"xaxis2\": {\"anchor\": \"y2\", \"domain\": [0.2625, 0.475], \"gridcolor\": \"#E1E5ED\", \"showgrid\": false, \"tickfont\": {\"color\": \"#4D5663\"}, \"title\": {\"font\": {\"color\": \"#4D5663\"}, \"text\": \"\"}, \"zerolinecolor\": \"#E1E5ED\"}, \"xaxis3\": {\"anchor\": \"y3\", \"domain\": [0.525, 0.7375], \"gridcolor\": \"#E1E5ED\", \"showgrid\": false, \"tickfont\": {\"color\": \"#4D5663\"}, \"title\": {\"font\": {\"color\": \"#4D5663\"}, \"text\": \"\"}, \"zerolinecolor\": \"#E1E5ED\"}, \"xaxis4\": {\"anchor\": \"y4\", \"domain\": [0.7875, 1.0], \"gridcolor\": \"#E1E5ED\", \"showgrid\": false, \"tickfont\": {\"color\": \"#4D5663\"}, \"title\": {\"font\": {\"color\": \"#4D5663\"}, \"text\": \"\"}, \"zerolinecolor\": \"#E1E5ED\"}, \"xaxis5\": {\"anchor\": \"y5\", \"domain\": [0.0, 0.2125], \"gridcolor\": \"#E1E5ED\", \"showgrid\": false, \"tickfont\": {\"color\": \"#4D5663\"}, \"title\": {\"font\": {\"color\": \"#4D5663\"}, \"text\": \"\"}, \"zerolinecolor\": \"#E1E5ED\"}, \"xaxis6\": {\"anchor\": \"y6\", \"domain\": [0.2625, 0.475], \"gridcolor\": \"#E1E5ED\", \"showgrid\": false, \"tickfont\": {\"color\": \"#4D5663\"}, \"title\": {\"font\": {\"color\": \"#4D5663\"}, \"text\": \"\"}, \"zerolinecolor\": \"#E1E5ED\"}, \"xaxis7\": {\"anchor\": \"y7\", \"domain\": [0.525, 0.7375], \"gridcolor\": \"#E1E5ED\", \"showgrid\": false, \"tickfont\": {\"color\": \"#4D5663\"}, \"title\": {\"font\": {\"color\": \"#4D5663\"}, \"text\": \"\"}, \"zerolinecolor\": \"#E1E5ED\"}, \"xaxis8\": {\"anchor\": \"y8\", \"domain\": [0.7875, 1.0], \"gridcolor\": \"#E1E5ED\", \"showgrid\": false, \"tickfont\": {\"color\": \"#4D5663\"}, \"title\": {\"font\": {\"color\": \"#4D5663\"}, \"text\": \"\"}, \"zerolinecolor\": \"#E1E5ED\"}, \"xaxis9\": {\"anchor\": \"y9\", \"domain\": [0.0, 0.2125], \"gridcolor\": \"#E1E5ED\", \"showgrid\": false, \"tickfont\": {\"color\": \"#4D5663\"}, \"title\": {\"font\": {\"color\": \"#4D5663\"}, \"text\": \"\"}, \"zerolinecolor\": \"#E1E5ED\"}, \"yaxis\": {\"anchor\": \"x\", \"domain\": [0.8025, 1.0], \"gridcolor\": \"#E1E5ED\", \"showgrid\": false, \"tickfont\": {\"color\": \"#4D5663\"}, \"title\": {\"font\": {\"color\": \"#4D5663\"}, \"text\": \"\"}, \"zerolinecolor\": \"#E1E5ED\"}, \"yaxis10\": {\"anchor\": \"x10\", \"domain\": [0.2675, 0.465], \"gridcolor\": \"#E1E5ED\", \"showgrid\": false, \"tickfont\": {\"color\": \"#4D5663\"}, \"title\": {\"font\": {\"color\": \"#4D5663\"}, \"text\": \"\"}, \"zerolinecolor\": \"#E1E5ED\"}, \"yaxis11\": {\"anchor\": \"x11\", \"domain\": [0.2675, 0.465], \"gridcolor\": \"#E1E5ED\", \"showgrid\": false, \"tickfont\": {\"color\": \"#4D5663\"}, \"title\": {\"font\": {\"color\": \"#4D5663\"}, \"text\": \"\"}, \"zerolinecolor\": \"#E1E5ED\"}, \"yaxis12\": {\"anchor\": \"x12\", \"domain\": [0.2675, 0.465], \"gridcolor\": \"#E1E5ED\", \"showgrid\": false, \"tickfont\": {\"color\": \"#4D5663\"}, \"title\": {\"font\": {\"color\": \"#4D5663\"}, \"text\": \"\"}, \"zerolinecolor\": \"#E1E5ED\"}, \"yaxis13\": {\"anchor\": \"x13\", \"domain\": [0.0, 0.1975], \"gridcolor\": \"#E1E5ED\", \"showgrid\": false, \"tickfont\": {\"color\": \"#4D5663\"}, \"title\": {\"font\": {\"color\": \"#4D5663\"}, \"text\": \"\"}, \"zerolinecolor\": \"#E1E5ED\"}, \"yaxis14\": {\"anchor\": \"x14\", \"domain\": [0.0, 0.1975], \"gridcolor\": \"#E1E5ED\", \"showgrid\": false, \"tickfont\": {\"color\": \"#4D5663\"}, \"title\": {\"font\": {\"color\": \"#4D5663\"}, \"text\": \"\"}, \"zerolinecolor\": \"#E1E5ED\"}, \"yaxis15\": {\"anchor\": \"x15\", \"domain\": [0.0, 0.1975], \"gridcolor\": \"#E1E5ED\", \"showgrid\": false, \"tickfont\": {\"color\": \"#4D5663\"}, \"title\": {\"font\": {\"color\": \"#4D5663\"}, \"text\": \"\"}, \"zerolinecolor\": \"#E1E5ED\"}, \"yaxis16\": {\"anchor\": \"x16\", \"domain\": [0.0, 0.1975], \"gridcolor\": \"#E1E5ED\", \"showgrid\": false, \"tickfont\": {\"color\": \"#4D5663\"}, \"title\": {\"font\": {\"color\": \"#4D5663\"}, \"text\": \"\"}, \"zerolinecolor\": \"#E1E5ED\"}, \"yaxis2\": {\"anchor\": \"x2\", \"domain\": [0.8025, 1.0], \"gridcolor\": \"#E1E5ED\", \"showgrid\": false, \"tickfont\": {\"color\": \"#4D5663\"}, \"title\": {\"font\": {\"color\": \"#4D5663\"}, \"text\": \"\"}, \"zerolinecolor\": \"#E1E5ED\"}, \"yaxis3\": {\"anchor\": \"x3\", \"domain\": [0.8025, 1.0], \"gridcolor\": \"#E1E5ED\", \"showgrid\": false, \"tickfont\": {\"color\": \"#4D5663\"}, \"title\": {\"font\": {\"color\": \"#4D5663\"}, \"text\": \"\"}, \"zerolinecolor\": \"#E1E5ED\"}, \"yaxis4\": {\"anchor\": \"x4\", \"domain\": [0.8025, 1.0], \"gridcolor\": \"#E1E5ED\", \"showgrid\": false, \"tickfont\": {\"color\": \"#4D5663\"}, \"title\": {\"font\": {\"color\": \"#4D5663\"}, \"text\": \"\"}, \"zerolinecolor\": \"#E1E5ED\"}, \"yaxis5\": {\"anchor\": \"x5\", \"domain\": [0.535, 0.7325], \"gridcolor\": \"#E1E5ED\", \"showgrid\": false, \"tickfont\": {\"color\": \"#4D5663\"}, \"title\": {\"font\": {\"color\": \"#4D5663\"}, \"text\": \"\"}, \"zerolinecolor\": \"#E1E5ED\"}, \"yaxis6\": {\"anchor\": \"x6\", \"domain\": [0.535, 0.7325], \"gridcolor\": \"#E1E5ED\", \"showgrid\": false, \"tickfont\": {\"color\": \"#4D5663\"}, \"title\": {\"font\": {\"color\": \"#4D5663\"}, \"text\": \"\"}, \"zerolinecolor\": \"#E1E5ED\"}, \"yaxis7\": {\"anchor\": \"x7\", \"domain\": [0.535, 0.7325], \"gridcolor\": \"#E1E5ED\", \"showgrid\": false, \"tickfont\": {\"color\": \"#4D5663\"}, \"title\": {\"font\": {\"color\": \"#4D5663\"}, \"text\": \"\"}, \"zerolinecolor\": \"#E1E5ED\"}, \"yaxis8\": {\"anchor\": \"x8\", \"domain\": [0.535, 0.7325], \"gridcolor\": \"#E1E5ED\", \"showgrid\": false, \"tickfont\": {\"color\": \"#4D5663\"}, \"title\": {\"font\": {\"color\": \"#4D5663\"}, \"text\": \"\"}, \"zerolinecolor\": \"#E1E5ED\"}, \"yaxis9\": {\"anchor\": \"x9\", \"domain\": [0.2675, 0.465], \"gridcolor\": \"#E1E5ED\", \"showgrid\": false, \"tickfont\": {\"color\": \"#4D5663\"}, \"title\": {\"font\": {\"color\": \"#4D5663\"}, \"text\": \"\"}, \"zerolinecolor\": \"#E1E5ED\"}},                        {\"showLink\": true, \"linkText\": \"Export to plot.ly\", \"plotlyServerURL\": \"https://plot.ly\", \"responsive\": true}                    ).then(function(){\n",
       "                            \n",
       "var gd = document.getElementById('c84d37e0-26d8-4cfc-acc5-dd86c97b666c');\n",
       "var x = new MutationObserver(function (mutations, observer) {{\n",
       "        var display = window.getComputedStyle(gd).display;\n",
       "        if (!display || display === 'none') {{\n",
       "            console.log([gd, 'removed!']);\n",
       "            Plotly.purge(gd);\n",
       "            observer.disconnect();\n",
       "        }}\n",
       "}});\n",
       "\n",
       "// Listen for the removal of the full notebook cells\n",
       "var notebookContainer = gd.closest('#notebook-container');\n",
       "if (notebookContainer) {{\n",
       "    x.observe(notebookContainer, {childList: true});\n",
       "}}\n",
       "\n",
       "// Listen for the clearing of the current output cell\n",
       "var outputEl = gd.closest('.output');\n",
       "if (outputEl) {{\n",
       "    x.observe(outputEl, {childList: true});\n",
       "}}\n",
       "\n",
       "                        })                };                });            </script>        </div>"
      ]
     },
     "metadata": {},
     "output_type": "display_data"
    }
   ],
   "source": [
    "df.scatter_matrix()"
   ]
  },
  {
   "cell_type": "code",
   "execution_count": null,
   "metadata": {},
   "outputs": [],
   "source": []
  }
 ],
 "metadata": {
  "kernelspec": {
   "display_name": "Python 3",
   "language": "python",
   "name": "python3"
  },
  "language_info": {
   "codemirror_mode": {
    "name": "ipython",
    "version": 3
   },
   "file_extension": ".py",
   "mimetype": "text/x-python",
   "name": "python",
   "nbconvert_exporter": "python",
   "pygments_lexer": "ipython3",
   "version": "3.8.5"
  }
 },
 "nbformat": 4,
 "nbformat_minor": 4
}
